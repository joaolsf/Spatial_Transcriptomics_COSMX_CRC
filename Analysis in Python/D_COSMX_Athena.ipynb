{
 "cells": [
  {
   "cell_type": "markdown",
   "id": "52533f0a",
   "metadata": {},
   "source": [
    "# Import libraries and setup"
   ]
  },
  {
   "cell_type": "code",
   "execution_count": null,
   "id": "488a1bcf",
   "metadata": {},
   "outputs": [],
   "source": [
    "# Import libraries we may need\n",
    "import anndata\n",
    "import numpy as np\n",
    "import pandas as pd\n",
    "import seaborn as sb\n",
    "import scanpy as sc\n",
    "import dill\n",
    "import colorcet as cc\n",
    "import matplotlib.pyplot as plt\n",
    "from matplotlib.colors import ListedColormap, Normalize\n",
    "from pathlib import Path\n",
    "\n",
    "#My module for importing IMC data into AnnData format\n",
    "import mikeimc as mimc\n",
    "import mikeimc_v2 as mikeimc_v2\n",
    "\n",
    "#ATHENA\n",
    "from spatialOmics import SpatialOmics\n",
    "import athena as sh\n"
   ]
  },
  {
   "cell_type": "code",
   "execution_count": null,
   "id": "53f42784",
   "metadata": {},
   "outputs": [],
   "source": [
    "# Set up output figure settings\n",
    "plt.rcParams['figure.figsize']=(64,64) #rescale figures, increase sizehere\n",
    "\n",
    "# Set up scanpy settings\n",
    "sc.settings.verbosity = 3\n",
    "sc.set_figure_params(dpi=100, dpi_save=300) #Increase DPI for better resolution figures\n",
    "#sc.logging.print_versions()"
   ]
  },
  {
   "cell_type": "code",
   "execution_count": null,
   "id": "3d7adf5f",
   "metadata": {},
   "outputs": [],
   "source": [
    "#load the session\n",
    "dill.load_session('COSMX_colon_project_ATHENA.db')"
   ]
  },
  {
   "cell_type": "code",
   "execution_count": null,
   "id": "8c047a7c",
   "metadata": {},
   "outputs": [],
   "source": [
    "#save the session\n",
    "dill.dump_session('COSMX_colon_project_ATHENA.db')"
   ]
  },
  {
   "cell_type": "markdown",
   "id": "988da317",
   "metadata": {},
   "source": [
    "# Convert adata to spatialomics object ('so' object)"
   ]
  },
  {
   "cell_type": "code",
   "execution_count": null,
   "id": "43c52289",
   "metadata": {
    "scrolled": true
   },
   "outputs": [],
   "source": [
    "ad_fov01 = sc.read(\"./4_h5ad_files/ad_fov01.h5ad\")\n",
    "ad_fov02 = sc.read(\"./4_h5ad_files/ad_fov02.h5ad\")\n",
    "ad_fov03 = sc.read(\"./4_h5ad_files/ad_fov03.h5ad\")\n",
    "ad_fov04 = sc.read(\"./4_h5ad_files/ad_fov04.h5ad\")\n",
    "ad_fov05 = sc.read(\"./4_h5ad_files/ad_fov05.h5ad\")\n",
    "ad_fov06 = sc.read(\"./4_h5ad_files/ad_fov06.h5ad\")\n",
    "ad_fov07 = sc.read(\"./4_h5ad_files/ad_fov07.h5ad\")\n",
    "ad_fov08 = sc.read(\"./4_h5ad_files/ad_fov08.h5ad\")\n",
    "ad_fov09 = sc.read(\"./4_h5ad_files/ad_fov09.h5ad\")\n",
    "ad_fov10 = sc.read(\"./4_h5ad_files/ad_fov10.h5ad\")\n",
    "ad_fov11 = sc.read(\"./4_h5ad_files/ad_fov11.h5ad\")\n",
    "ad_fov12 = sc.read(\"./4_h5ad_files/ad_fov12.h5ad\")\n",
    "ad_fov13 = sc.read(\"./4_h5ad_files/ad_fov13.h5ad\")\n",
    "ad_fov14 = sc.read(\"./4_h5ad_files/ad_fov14.h5ad\")\n",
    "ad_fov15 = sc.read(\"./4_h5ad_files/ad_fov15.h5ad\")\n",
    "ad_fov16 = sc.read(\"./4_h5ad_files/ad_fov16.h5ad\")\n",
    "ad_fov17 = sc.read(\"./4_h5ad_files/ad_fov17.h5ad\")\n",
    "ad_fov18 = sc.read(\"./4_h5ad_files/ad_fov18.h5ad\")\n",
    "ad_fov19 = sc.read(\"./4_h5ad_files/ad_fov19.h5ad\")\n",
    "ad_fov20 = sc.read(\"./4_h5ad_files/ad_fov20.h5ad\")\n",
    "ad_fov21 = sc.read(\"./4_h5ad_files/ad_fov21.h5ad\")\n",
    "ad_fov22 = sc.read(\"./4_h5ad_files/ad_fov22.h5ad\")\n",
    "ad_fov23 = sc.read(\"./4_h5ad_files/ad_fov23.h5ad\")\n",
    "ad_fov24 = sc.read(\"./4_h5ad_files/ad_fov24.h5ad\")\n",
    "ad_fov25 = sc.read(\"./4_h5ad_files/ad_fov25.h5ad\")"
   ]
  },
  {
   "cell_type": "code",
   "execution_count": null,
   "id": "affa4926",
   "metadata": {},
   "outputs": [],
   "source": [
    "ad_fov_integrated = sc.read(\"./4_h5ad_files/adata_fov_integrated.h5ad\")"
   ]
  },
  {
   "cell_type": "code",
   "execution_count": null,
   "id": "4cb045d3",
   "metadata": {},
   "outputs": [],
   "source": [
    "ad_fov_integrated"
   ]
  },
  {
   "cell_type": "code",
   "execution_count": null,
   "id": "03e87127",
   "metadata": {},
   "outputs": [],
   "source": [
    "ad_fov01 = sc.read(\"./4_h5ad_files/ad_fov01.h5ad\")"
   ]
  },
  {
   "cell_type": "code",
   "execution_count": null,
   "id": "b1126307",
   "metadata": {},
   "outputs": [],
   "source": [
    "ad_fov01"
   ]
  },
  {
   "cell_type": "code",
   "execution_count": null,
   "id": "f08f38a5",
   "metadata": {
    "scrolled": true
   },
   "outputs": [],
   "source": [
    "so_fov01 = SpatialOmics.from_annData(ad_fov01)\n",
    "so_fov02 = SpatialOmics.from_annData(ad_fov02)\n",
    "so_fov03 = SpatialOmics.from_annData(ad_fov03)\n",
    "so_fov04 = SpatialOmics.from_annData(ad_fov04)\n",
    "so_fov05 = SpatialOmics.from_annData(ad_fov05)\n",
    "so_fov06 = SpatialOmics.from_annData(ad_fov06)\n",
    "so_fov07 = SpatialOmics.from_annData(ad_fov07)\n",
    "so_fov08 = SpatialOmics.from_annData(ad_fov08)\n",
    "so_fov09 = SpatialOmics.from_annData(ad_fov09)\n",
    "so_fov10 = SpatialOmics.from_annData(ad_fov10)\n",
    "so_fov11 = SpatialOmics.from_annData(ad_fov11)\n",
    "so_fov12 = SpatialOmics.from_annData(ad_fov12)\n",
    "so_fov13 = SpatialOmics.from_annData(ad_fov13)\n",
    "so_fov14 = SpatialOmics.from_annData(ad_fov14)\n",
    "so_fov15 = SpatialOmics.from_annData(ad_fov15)\n",
    "so_fov16 = SpatialOmics.from_annData(ad_fov16)\n",
    "so_fov17 = SpatialOmics.from_annData(ad_fov17)\n",
    "so_fov18 = SpatialOmics.from_annData(ad_fov18)\n",
    "so_fov19 = SpatialOmics.from_annData(ad_fov19)\n",
    "so_fov20 = SpatialOmics.from_annData(ad_fov20)\n",
    "so_fov21 = SpatialOmics.from_annData(ad_fov21)\n",
    "so_fov22 = SpatialOmics.from_annData(ad_fov22)\n",
    "so_fov23 = SpatialOmics.from_annData(ad_fov23)\n",
    "so_fov24 = SpatialOmics.from_annData(ad_fov24)\n",
    "so_fov25 = SpatialOmics.from_annData(ad_fov25)"
   ]
  },
  {
   "cell_type": "code",
   "execution_count": null,
   "id": "7dc6c696",
   "metadata": {},
   "outputs": [],
   "source": [
    "so_fov_integrated = SpatialOmics.from_annData(ad_fov_integrated)"
   ]
  },
  {
   "cell_type": "code",
   "execution_count": null,
   "id": "1d46187a",
   "metadata": {},
   "outputs": [],
   "source": [
    "# convert str data types to numeric representations \n",
    "spl = so_fov01.spl.index[0]\n",
    "so_fov01.obs[spl]['cell_type_id'] = so_fov01.obs[spl].groupby('CIPR_annotated_clusters').ngroup().astype('category')\n",
    "spl = so_fov02.spl.index[0]\n",
    "so_fov02.obs[spl]['cell_type_id'] = so_fov02.obs[spl].groupby('CIPR_annotated_clusters').ngroup().astype('category')\n",
    "spl = so_fov03.spl.index[0]\n",
    "so_fov03.obs[spl]['cell_type_id'] = so_fov03.obs[spl].groupby('CIPR_annotated_clusters').ngroup().astype('category')\n",
    "spl = so_fov04.spl.index[0]\n",
    "so_fov04.obs[spl]['cell_type_id'] = so_fov04.obs[spl].groupby('CIPR_annotated_clusters').ngroup().astype('category')\n",
    "spl = so_fov05.spl.index[0]\n",
    "so_fov05.obs[spl]['cell_type_id'] = so_fov05.obs[spl].groupby('CIPR_annotated_clusters').ngroup().astype('category')\n",
    "spl = so_fov06.spl.index[0]\n",
    "so_fov06.obs[spl]['cell_type_id'] = so_fov06.obs[spl].groupby('CIPR_annotated_clusters').ngroup().astype('category')\n",
    "spl = so_fov07.spl.index[0]\n",
    "so_fov07.obs[spl]['cell_type_id'] = so_fov07.obs[spl].groupby('CIPR_annotated_clusters').ngroup().astype('category')\n",
    "spl = so_fov08.spl.index[0]\n",
    "so_fov08.obs[spl]['cell_type_id'] = so_fov08.obs[spl].groupby('CIPR_annotated_clusters').ngroup().astype('category')\n",
    "spl = so_fov09.spl.index[0]\n",
    "so_fov09.obs[spl]['cell_type_id'] = so_fov09.obs[spl].groupby('CIPR_annotated_clusters').ngroup().astype('category')\n",
    "spl = so_fov10.spl.index[0]\n",
    "so_fov10.obs[spl]['cell_type_id'] = so_fov10.obs[spl].groupby('CIPR_annotated_clusters').ngroup().astype('category')\n",
    "spl = so_fov11.spl.index[0]\n",
    "so_fov11.obs[spl]['cell_type_id'] = so_fov11.obs[spl].groupby('CIPR_annotated_clusters').ngroup().astype('category')\n",
    "spl = so_fov12.spl.index[0]\n",
    "so_fov12.obs[spl]['cell_type_id'] = so_fov12.obs[spl].groupby('CIPR_annotated_clusters').ngroup().astype('category')\n",
    "spl = so_fov13.spl.index[0]\n",
    "so_fov13.obs[spl]['cell_type_id'] = so_fov13.obs[spl].groupby('CIPR_annotated_clusters').ngroup().astype('category')\n",
    "spl = so_fov14.spl.index[0]\n",
    "so_fov14.obs[spl]['cell_type_id'] = so_fov14.obs[spl].groupby('CIPR_annotated_clusters').ngroup().astype('category')\n",
    "spl = so_fov15.spl.index[0]\n",
    "so_fov15.obs[spl]['cell_type_id'] = so_fov15.obs[spl].groupby('CIPR_annotated_clusters').ngroup().astype('category')\n",
    "spl = so_fov16.spl.index[0]\n",
    "so_fov16.obs[spl]['cell_type_id'] = so_fov16.obs[spl].groupby('CIPR_annotated_clusters').ngroup().astype('category')\n",
    "spl = so_fov17.spl.index[0]\n",
    "so_fov17.obs[spl]['cell_type_id'] = so_fov17.obs[spl].groupby('CIPR_annotated_clusters').ngroup().astype('category')\n",
    "spl = so_fov18.spl.index[0]\n",
    "so_fov18.obs[spl]['cell_type_id'] = so_fov18.obs[spl].groupby('CIPR_annotated_clusters').ngroup().astype('category')\n",
    "spl = so_fov19.spl.index[0]\n",
    "so_fov19.obs[spl]['cell_type_id'] = so_fov19.obs[spl].groupby('CIPR_annotated_clusters').ngroup().astype('category')\n",
    "spl = so_fov20.spl.index[0]\n",
    "so_fov20.obs[spl]['cell_type_id'] = so_fov20.obs[spl].groupby('CIPR_annotated_clusters').ngroup().astype('category')\n",
    "spl = so_fov21.spl.index[0]\n",
    "so_fov21.obs[spl]['cell_type_id'] = so_fov21.obs[spl].groupby('CIPR_annotated_clusters').ngroup().astype('category')\n",
    "spl = so_fov22.spl.index[0]\n",
    "so_fov22.obs[spl]['cell_type_id'] = so_fov22.obs[spl].groupby('CIPR_annotated_clusters').ngroup().astype('category')\n",
    "spl = so_fov23.spl.index[0]\n",
    "so_fov23.obs[spl]['cell_type_id'] = so_fov23.obs[spl].groupby('CIPR_annotated_clusters').ngroup().astype('category')\n",
    "spl = so_fov24.spl.index[0]\n",
    "so_fov24.obs[spl]['cell_type_id'] = so_fov24.obs[spl].groupby('CIPR_annotated_clusters').ngroup().astype('category')\n",
    "spl = so_fov25.spl.index[0]\n",
    "so_fov25.obs[spl]['cell_type_id'] = so_fov25.obs[spl].groupby('CIPR_annotated_clusters').ngroup().astype('category')\n"
   ]
  },
  {
   "cell_type": "code",
   "execution_count": null,
   "id": "eba26f98",
   "metadata": {},
   "outputs": [],
   "source": [
    "spl = so_fov_integrated.spl.index[0]\n",
    "so_fov_integrated.obs[spl]['cell_type_id'] = so_fov_integrated.obs[spl].groupby('CIPR_annotated_clusters').ngroup().astype('category')"
   ]
  },
  {
   "cell_type": "code",
   "execution_count": null,
   "id": "525efcc8",
   "metadata": {},
   "outputs": [],
   "source": [
    "so_fov_integrated"
   ]
  },
  {
   "cell_type": "code",
   "execution_count": null,
   "id": "29d21075",
   "metadata": {},
   "outputs": [],
   "source": [
    "so_fov01.obs[spl]['cell_ID_2'] = so_fov01.obs[spl]['cell_ID_2'].astype('category') "
   ]
  },
  {
   "cell_type": "code",
   "execution_count": null,
   "id": "9ec65a9b",
   "metadata": {},
   "outputs": [],
   "source": [
    "so_fov01.obs[spl]['cell_ID_2']"
   ]
  },
  {
   "cell_type": "markdown",
   "id": "3e2facc9",
   "metadata": {},
   "source": [
    "# Colour maps"
   ]
  },
  {
   "cell_type": "markdown",
   "id": "480dfd70",
   "metadata": {},
   "source": [
    "Create colour maps dictionaries and labels"
   ]
  },
  {
   "cell_type": "markdown",
   "id": "9f0ed72f",
   "metadata": {},
   "source": [
    "This will create dictionaries that pair up the id numbers to the actual names"
   ]
  },
  {
   "cell_type": "code",
   "execution_count": null,
   "id": "69ea7e14",
   "metadata": {},
   "outputs": [],
   "source": [
    "# generate colormap\n",
    "labs = so_fov01.obs[spl].groupby(['cell_type_id']).head(1)[['cell_type_id', 'CIPR_annotated_clusters']].set_index('cell_type_id').to_dict()"
   ]
  },
  {
   "cell_type": "code",
   "execution_count": null,
   "id": "815645d7",
   "metadata": {},
   "outputs": [],
   "source": [
    "labs"
   ]
  },
  {
   "cell_type": "code",
   "execution_count": null,
   "id": "674486b2",
   "metadata": {},
   "outputs": [],
   "source": [
    "# set up colormaps for cell_type_id - following my own color coding from previous graphs\n",
    "cmap_paper = np.array([[252,205,229], #0 B cell\n",
    "                      [120,83,255], # CD4+ T cell\n",
    "                       [0,146,76]]) #16 Tumor epithelial cell"
   ]
  },
  {
   "cell_type": "code",
   "execution_count": null,
   "id": "824284bc",
   "metadata": {},
   "outputs": [],
   "source": [
    "so_fov01.uns['cmaps'].update({'cell_type_id': ListedColormap(cmap_paper / 255)})"
   ]
  },
  {
   "cell_type": "code",
   "execution_count": null,
   "id": "bb3551e1",
   "metadata": {},
   "outputs": [],
   "source": [
    "so_fov01.uns"
   ]
  },
  {
   "cell_type": "code",
   "execution_count": null,
   "id": "a6abddab",
   "metadata": {},
   "outputs": [],
   "source": [
    "# define labels for cell_cluster_id\n",
    "#cell_cluster_id follows alphabetical order - see order in the NE plot for example\n",
    "cmap_labels = {0: 'B cell',\n",
    "               1: 'CD4+ T cell',\n",
    "               2: 'CD8+ T cell',\n",
    "               3: 'ChemokinesHigh monocyte',\n",
    "               4: 'Apoptotic Fibroblast',\n",
    "               5: 'Apoptotic SARSCoV2+  Alveolar Macrophage',\n",
    "               6: 'ArginaseLowVISTALow Neutrophil',\n",
    "               7: 'B cell',\n",
    "               8: 'CD11c+ cell',\n",
    "               9: 'CD3+ cell',\n",
    "               10: 'CD4 Treg cell',\n",
    "               11: 'CD8 T cell',\n",
    "               12: 'Classical Monocyte',\n",
    "               13: 'EM CD4 T cell',\n",
    "               14: 'EM CD8 T cell',\n",
    "               15: 'Endothelial cell',\n",
    "               16: 'Tumor epithelial cell'}"
   ]
  },
  {
   "cell_type": "code",
   "execution_count": null,
   "id": "070ee107",
   "metadata": {},
   "outputs": [],
   "source": [
    "so.uns['cmap_labels'].update({'cell_type_id': cmap_labels})"
   ]
  },
  {
   "cell_type": "code",
   "execution_count": null,
   "id": "97306d7d",
   "metadata": {},
   "outputs": [],
   "source": [
    "so.uns['cmap_labels']"
   ]
  },
  {
   "cell_type": "code",
   "execution_count": null,
   "id": "df8ff016",
   "metadata": {},
   "outputs": [],
   "source": [
    "so.obs"
   ]
  },
  {
   "cell_type": "code",
   "execution_count": null,
   "id": "e5376289",
   "metadata": {},
   "outputs": [],
   "source": [
    "so.uns['cmaps'].update({'default': cm.plasma})"
   ]
  },
  {
   "cell_type": "markdown",
   "id": "61f1a00a",
   "metadata": {},
   "source": [
    "# Explore SpatialOmics object"
   ]
  },
  {
   "cell_type": "code",
   "execution_count": null,
   "id": "af8fc9dd",
   "metadata": {},
   "outputs": [],
   "source": [
    "print(so.spl.columns.values) #see all available sample annotations\n",
    "so.spl.head(3) "
   ]
  },
  {
   "cell_type": "code",
   "execution_count": null,
   "id": "06265096",
   "metadata": {},
   "outputs": [],
   "source": [
    "spl = 'MP41-ROI1' #for one specific sample\n",
    "print(so.obs[spl].columns.values) #see all available sample annotations\n",
    "so.obs[spl].head(3) "
   ]
  },
  {
   "cell_type": "code",
   "execution_count": null,
   "id": "0004566c",
   "metadata": {},
   "outputs": [],
   "source": [
    "print(so.masks[spl].keys())"
   ]
  },
  {
   "cell_type": "markdown",
   "id": "24166239",
   "metadata": {},
   "source": [
    "# Graph construction"
   ]
  },
  {
   "cell_type": "markdown",
   "id": "6d28ab47",
   "metadata": {},
   "source": [
    "This will construct the different spatial connectivity graphs, these define which cells are considered neighbours for later analyses.\n",
    "\n",
    "Use your extracted cell locations to build a {radius, knn} graph (it does not use the cellmasks)\n",
    "\n",
    "You need to define the 'r' parameter to a specific ROI, otherwise the code runs only for the last ROI in the SO object. Or the original code does not work."
   ]
  },
  {
   "cell_type": "markdown",
   "id": "2b6443bc",
   "metadata": {},
   "source": [
    "Radius graph"
   ]
  },
  {
   "cell_type": "markdown",
   "id": "12484610",
   "metadata": {},
   "source": [
    "Defines a cells neighbours using a radius (in um) from the cell. Default is 20\n",
    "The graph key will be radius_[radius]"
   ]
  },
  {
   "cell_type": "code",
   "execution_count": null,
   "id": "83c52d27",
   "metadata": {},
   "outputs": [],
   "source": [
    "# Import the default graph settings\n",
    "from athena.graph_builder.constants import GRAPH_BUILDER_DEFAULT_PARAMS\n",
    "\n",
    "from tqdm import tqdm\n",
    "radius = 60\n",
    "# radius graph without cellmasks, using my predetermined X, Y locs\n",
    "config = GRAPH_BUILDER_DEFAULT_PARAMS['radius']\n",
    "config['builder_params']['radius'] = radius\n",
    "sh.graph.build_graph(so_fov01, spl, key_added='radius_'+str(radius),  builder_type='radius', mask_key=None, coordinate_keys=('CenterX_global_px', 'CenterY_global_px'), config=config)\n",
    "sh.graph.build_graph(so_fov02, spl, key_added='radius_'+str(radius),  builder_type='radius', mask_key=None, coordinate_keys=('CenterX_global_px', 'CenterY_global_px'), config=config)\n",
    "sh.graph.build_graph(so_fov03, spl, key_added='radius_'+str(radius),  builder_type='radius', mask_key=None, coordinate_keys=('CenterX_global_px', 'CenterY_global_px'), config=config)\n",
    "sh.graph.build_graph(so_fov04, spl, key_added='radius_'+str(radius),  builder_type='radius', mask_key=None, coordinate_keys=('CenterX_global_px', 'CenterY_global_px'), config=config)\n",
    "sh.graph.build_graph(so_fov05, spl, key_added='radius_'+str(radius),  builder_type='radius', mask_key=None, coordinate_keys=('CenterX_global_px', 'CenterY_global_px'), config=config)\n",
    "sh.graph.build_graph(so_fov06, spl, key_added='radius_'+str(radius),  builder_type='radius', mask_key=None, coordinate_keys=('CenterX_global_px', 'CenterY_global_px'), config=config)\n",
    "sh.graph.build_graph(so_fov07, spl, key_added='radius_'+str(radius),  builder_type='radius', mask_key=None, coordinate_keys=('CenterX_global_px', 'CenterY_global_px'), config=config)\n",
    "sh.graph.build_graph(so_fov08, spl, key_added='radius_'+str(radius),  builder_type='radius', mask_key=None, coordinate_keys=('CenterX_global_px', 'CenterY_global_px'), config=config)\n",
    "sh.graph.build_graph(so_fov09, spl, key_added='radius_'+str(radius),  builder_type='radius', mask_key=None, coordinate_keys=('CenterX_global_px', 'CenterY_global_px'), config=config)\n",
    "sh.graph.build_graph(so_fov10, spl, key_added='radius_'+str(radius),  builder_type='radius', mask_key=None, coordinate_keys=('CenterX_global_px', 'CenterY_global_px'), config=config)\n",
    "sh.graph.build_graph(so_fov11, spl, key_added='radius_'+str(radius),  builder_type='radius', mask_key=None, coordinate_keys=('CenterX_global_px', 'CenterY_global_px'), config=config)\n",
    "sh.graph.build_graph(so_fov12, spl, key_added='radius_'+str(radius),  builder_type='radius', mask_key=None, coordinate_keys=('CenterX_global_px', 'CenterY_global_px'), config=config)\n",
    "sh.graph.build_graph(so_fov13, spl, key_added='radius_'+str(radius),  builder_type='radius', mask_key=None, coordinate_keys=('CenterX_global_px', 'CenterY_global_px'), config=config)\n",
    "sh.graph.build_graph(so_fov14, spl, key_added='radius_'+str(radius),  builder_type='radius', mask_key=None, coordinate_keys=('CenterX_global_px', 'CenterY_global_px'), config=config)\n",
    "sh.graph.build_graph(so_fov15, spl, key_added='radius_'+str(radius),  builder_type='radius', mask_key=None, coordinate_keys=('CenterX_global_px', 'CenterY_global_px'), config=config)\n",
    "sh.graph.build_graph(so_fov16, spl, key_added='radius_'+str(radius),  builder_type='radius', mask_key=None, coordinate_keys=('CenterX_global_px', 'CenterY_global_px'), config=config)\n",
    "sh.graph.build_graph(so_fov17, spl, key_added='radius_'+str(radius),  builder_type='radius', mask_key=None, coordinate_keys=('CenterX_global_px', 'CenterY_global_px'), config=config)\n",
    "sh.graph.build_graph(so_fov18, spl, key_added='radius_'+str(radius),  builder_type='radius', mask_key=None, coordinate_keys=('CenterX_global_px', 'CenterY_global_px'), config=config)\n",
    "sh.graph.build_graph(so_fov19, spl, key_added='radius_'+str(radius),  builder_type='radius', mask_key=None, coordinate_keys=('CenterX_global_px', 'CenterY_global_px'), config=config)\n",
    "sh.graph.build_graph(so_fov20, spl, key_added='radius_'+str(radius),  builder_type='radius', mask_key=None, coordinate_keys=('CenterX_global_px', 'CenterY_global_px'), config=config)\n",
    "sh.graph.build_graph(so_fov21, spl, key_added='radius_'+str(radius),  builder_type='radius', mask_key=None, coordinate_keys=('CenterX_global_px', 'CenterY_global_px'), config=config)\n",
    "sh.graph.build_graph(so_fov22, spl, key_added='radius_'+str(radius),  builder_type='radius', mask_key=None, coordinate_keys=('CenterX_global_px', 'CenterY_global_px'), config=config)\n",
    "sh.graph.build_graph(so_fov23, spl, key_added='radius_'+str(radius),  builder_type='radius', mask_key=None, coordinate_keys=('CenterX_global_px', 'CenterY_global_px'), config=config)\n",
    "sh.graph.build_graph(so_fov24, spl, key_added='radius_'+str(radius),  builder_type='radius', mask_key=None, coordinate_keys=('CenterX_global_px', 'CenterY_global_px'), config=config)\n",
    "sh.graph.build_graph(so_fov25, spl, key_added='radius_'+str(radius),  builder_type='radius', mask_key=None, coordinate_keys=('CenterX_global_px', 'CenterY_global_px'), config=config)\n",
    "                "
   ]
  },
  {
   "cell_type": "code",
   "execution_count": null,
   "id": "71664fa9",
   "metadata": {},
   "outputs": [],
   "source": [
    "so_fov01"
   ]
  },
  {
   "cell_type": "markdown",
   "id": "2d4f422c",
   "metadata": {},
   "source": [
    "# Heterogeneity quantification"
   ]
  },
  {
   "cell_type": "markdown",
   "id": "57934f7f",
   "metadata": {},
   "source": [
    "# Sample-level scores - Information-theoretic scores"
   ]
  },
  {
   "cell_type": "markdown",
   "id": "93a9cdf1",
   "metadata": {},
   "source": [
    "Sample-level scores estimate a single heterogeneity score for the whole tumor, saved in so.spl. Although they ignore the spatial topology and cell-cell interactions, they describe the heterogeneity attrbuted to the number of cell types present and their frequencies. Below we compute some of the included metrics across all samples."
   ]
  },
  {
   "cell_type": "markdown",
   "id": "cd039c2c",
   "metadata": {},
   "source": [
    "Richness: The most basic and intuitive heterogeneity score is richness S, which simply counts the number of observed cell subpopulations within a tumor sample, independently of their relative abundance. This score is equivalent to tumor clonality, commonly employed in genetic heterogeneity studies [3] to quantify the number of distinct clones in a tumor.\n",
    "\n",
    "Shannon index: Shannon index H takes into consideration not only the number of cell subpopulations S present, but also their relative proportions. In other words, how likely we are to guess the phenotype of a randomly observed cell from a tumor sample. the more even the cell proportions, the more uncertain our prediction. Shannon entropy increases with richness and evenness, and reaches its maximal value when the cell subpopulation distribution is uniform. Higher Shannon index the higher heterogeneity.\n",
    "\n",
    "Simpson index: Similarly, the Simpson index considers both richness and relative abundance. The Simpson index describes the probability of sampling the same phenotype twice from the tumor. In contrast to the Shannon index, the Simpson index decreases with increasing diversity. Furthermore, the Simpson index is sensitive to the abundance of the more dominant phenotype and can be regarded as a measure of dominance concentration.\n",
    "\n",
    "Rao’s quadratic entropy: The indices and quantiﬁcation methods discussed so far consider both richness and relative abundance of phenotypes, but ignore the similarity of these phenotypes, i.e., how close they are in phenotypic space. Rao’s quadratic entropy [22] accounts for that."
   ]
  },
  {
   "cell_type": "markdown",
   "id": "240d6cf2",
   "metadata": {},
   "source": [
    "Calculate richness, shannon and quadratic entropy (with multiprocessing)"
   ]
  },
  {
   "cell_type": "code",
   "execution_count": null,
   "id": "fbccbac4",
   "metadata": {},
   "outputs": [],
   "source": [
    "# compute metrics at a sample level for all samples - this will take some time\n",
    "sh.metrics.richness(so_fov01, spl, 'cell_type_id', local=False, graph_key='radius_60')\n",
    "sh.metrics.richness(so_fov02, spl, 'cell_type_id', local=False, graph_key='radius_60')\n",
    "sh.metrics.richness(so_fov03, spl, 'cell_type_id', local=False, graph_key='radius_60')\n",
    "sh.metrics.richness(so_fov04, spl, 'cell_type_id', local=False, graph_key='radius_60')\n",
    "sh.metrics.richness(so_fov05, spl, 'cell_type_id', local=False, graph_key='radius_60')\n",
    "sh.metrics.richness(so_fov06, spl, 'cell_type_id', local=False, graph_key='radius_60')\n",
    "sh.metrics.richness(so_fov07, spl, 'cell_type_id', local=False, graph_key='radius_60')\n",
    "sh.metrics.richness(so_fov08, spl, 'cell_type_id', local=False, graph_key='radius_60')\n",
    "sh.metrics.richness(so_fov09, spl, 'cell_type_id', local=False, graph_key='radius_60')\n",
    "sh.metrics.richness(so_fov10, spl, 'cell_type_id', local=False, graph_key='radius_60')\n",
    "sh.metrics.richness(so_fov11, spl, 'cell_type_id', local=False, graph_key='radius_60')\n",
    "sh.metrics.richness(so_fov12, spl, 'cell_type_id', local=False, graph_key='radius_60')\n",
    "sh.metrics.richness(so_fov13, spl, 'cell_type_id', local=False, graph_key='radius_60')\n",
    "sh.metrics.richness(so_fov14, spl, 'cell_type_id', local=False, graph_key='radius_60')\n",
    "sh.metrics.richness(so_fov15, spl, 'cell_type_id', local=False, graph_key='radius_60')\n",
    "sh.metrics.richness(so_fov16, spl, 'cell_type_id', local=False, graph_key='radius_60')\n",
    "sh.metrics.richness(so_fov17, spl, 'cell_type_id', local=False, graph_key='radius_60')\n",
    "sh.metrics.richness(so_fov18, spl, 'cell_type_id', local=False, graph_key='radius_60')\n",
    "sh.metrics.richness(so_fov19, spl, 'cell_type_id', local=False, graph_key='radius_60')\n",
    "sh.metrics.richness(so_fov20, spl, 'cell_type_id', local=False, graph_key='radius_60')\n",
    "sh.metrics.richness(so_fov21, spl, 'cell_type_id', local=False, graph_key='radius_60')\n",
    "sh.metrics.richness(so_fov22, spl, 'cell_type_id', local=False, graph_key='radius_60')\n",
    "sh.metrics.richness(so_fov23, spl, 'cell_type_id', local=False, graph_key='radius_60')\n",
    "sh.metrics.richness(so_fov24, spl, 'cell_type_id', local=False, graph_key='radius_60')\n",
    "sh.metrics.richness(so_fov25, spl, 'cell_type_id', local=False, graph_key='radius_60')\n",
    "\n",
    "sh.metrics.shannon(so_fov01, spl, 'cell_type_id', local=False, graph_key='radius_60')\n",
    "sh.metrics.shannon(so_fov02, spl, 'cell_type_id', local=False, graph_key='radius_60')\n",
    "sh.metrics.shannon(so_fov03, spl, 'cell_type_id', local=False, graph_key='radius_60')\n",
    "sh.metrics.shannon(so_fov04, spl, 'cell_type_id', local=False, graph_key='radius_60')\n",
    "sh.metrics.shannon(so_fov05, spl, 'cell_type_id', local=False, graph_key='radius_60')\n",
    "sh.metrics.shannon(so_fov06, spl, 'cell_type_id', local=False, graph_key='radius_60')\n",
    "sh.metrics.shannon(so_fov07, spl, 'cell_type_id', local=False, graph_key='radius_60')\n",
    "sh.metrics.shannon(so_fov08, spl, 'cell_type_id', local=False, graph_key='radius_60')\n",
    "sh.metrics.shannon(so_fov09, spl, 'cell_type_id', local=False, graph_key='radius_60')\n",
    "sh.metrics.shannon(so_fov10, spl, 'cell_type_id', local=False, graph_key='radius_60')\n",
    "sh.metrics.shannon(so_fov11, spl, 'cell_type_id', local=False, graph_key='radius_60')\n",
    "sh.metrics.shannon(so_fov12, spl, 'cell_type_id', local=False, graph_key='radius_60')\n",
    "sh.metrics.shannon(so_fov13, spl, 'cell_type_id', local=False, graph_key='radius_60')\n",
    "sh.metrics.shannon(so_fov14, spl, 'cell_type_id', local=False, graph_key='radius_60')\n",
    "sh.metrics.shannon(so_fov15, spl, 'cell_type_id', local=False, graph_key='radius_60')\n",
    "sh.metrics.shannon(so_fov16, spl, 'cell_type_id', local=False, graph_key='radius_60')\n",
    "sh.metrics.shannon(so_fov17, spl, 'cell_type_id', local=False, graph_key='radius_60')\n",
    "sh.metrics.shannon(so_fov18, spl, 'cell_type_id', local=False, graph_key='radius_60')\n",
    "sh.metrics.shannon(so_fov19, spl, 'cell_type_id', local=False, graph_key='radius_60')\n",
    "sh.metrics.shannon(so_fov20, spl, 'cell_type_id', local=False, graph_key='radius_60')\n",
    "sh.metrics.shannon(so_fov21, spl, 'cell_type_id', local=False, graph_key='radius_60')\n",
    "sh.metrics.shannon(so_fov22, spl, 'cell_type_id', local=False, graph_key='radius_60')\n",
    "sh.metrics.shannon(so_fov23, spl, 'cell_type_id', local=False, graph_key='radius_60')\n",
    "sh.metrics.shannon(so_fov24, spl, 'cell_type_id', local=False, graph_key='radius_60')\n",
    "sh.metrics.shannon(so_fov25, spl, 'cell_type_id', local=False, graph_key='radius_60')\n"
   ]
  },
  {
   "cell_type": "code",
   "execution_count": null,
   "id": "09ced378",
   "metadata": {},
   "outputs": [],
   "source": [
    "# estimated values are saved in so.obs\n",
    "so_fov25.obs[spl].columns"
   ]
  },
  {
   "cell_type": "code",
   "execution_count": null,
   "id": "8c8ed7e2",
   "metadata": {},
   "outputs": [],
   "source": [
    "so_fov25.spl"
   ]
  },
  {
   "cell_type": "code",
   "execution_count": null,
   "id": "a724cef4",
   "metadata": {},
   "outputs": [],
   "source": [
    "# estimated values are saved in so.spl    \n",
    "so_fov24.spl[['richness_cell_type_id', 'shannon_cell_type_id']]"
   ]
  },
  {
   "cell_type": "code",
   "execution_count": null,
   "id": "238227ee",
   "metadata": {},
   "outputs": [],
   "source": [
    "df1 = so_fov01.spl[['richness_cell_type_id', 'shannon_cell_type_id']]\n",
    "compression_opts = dict(method='zip', archive_name='fov01_sample_level_scores.csv') \n",
    "df1.to_csv('fov01_sample_level_scores.csv.zip', index=True, compression=compression_opts)"
   ]
  },
  {
   "cell_type": "code",
   "execution_count": null,
   "id": "ac39fdd2",
   "metadata": {},
   "outputs": [],
   "source": [
    "df = pd.read_csv('fov_sample_level_scores.csv')"
   ]
  },
  {
   "cell_type": "code",
   "execution_count": null,
   "id": "15dc86a1",
   "metadata": {},
   "outputs": [],
   "source": [
    "df"
   ]
  },
  {
   "cell_type": "code",
   "execution_count": null,
   "id": "1a734445",
   "metadata": {},
   "outputs": [],
   "source": [
    "df.plot.bar(x='Sample_ID', y='richness_cell_type_id', color = 'darkmagenta', stacked=False, figsize=(16, 8), rot=0).legend(bbox_to_anchor=(1, 1.1))\n",
    "#df.plot.bar(x='Sample_ID', y='quadratic_cell_cluster_id', color = 'darkmagenta', stacked=False, figsize=(32, 8), rot=90).legend(bbox_to_anchor=(1, 1))\n",
    "plt.savefig('fov_sample_level_richness_score.pdf')\n",
    "#figsize=(16, 4),"
   ]
  },
  {
   "cell_type": "code",
   "execution_count": null,
   "id": "66ac4ef6",
   "metadata": {},
   "outputs": [],
   "source": [
    "df.plot.bar(x='Sample_ID', y='shannon_cell_type_id', color = 'darkmagenta', stacked=False, figsize=(16, 8), rot=0).legend(bbox_to_anchor=(1, 1.1))\n",
    "plt.savefig('fov_sample_level_shannon_index.pdf')\n"
   ]
  },
  {
   "cell_type": "markdown",
   "id": "269b8efe",
   "metadata": {},
   "source": [
    "# Cell-level scores"
   ]
  },
  {
   "cell_type": "markdown",
   "id": "8c308315",
   "metadata": {},
   "source": [
    "In their original deﬁnition, all entropic scores described above do not take the spatial component into account when calculated on a whole tumor level. For this reason, ATHENA implements two ﬂavors of these scores: a global ﬂavor, in which the metrics are computed at a whole sample level using only the phenotype distribution, and a local ﬂavor, in which the scores are computed at a single-cell level, using also the graph structure. Speciﬁcally, when computing local scores, ATHENA iterates over all cells, and for each cell, computes the local entropy within its neighborhood. In this way, highly diverse regions where cells from multiple diferent phenotypes coexist can be highlighted, and, instead of computing a single entropy value as for the global ﬂavor, a distribution of entropic values is returned.\n",
    "\n",
    "Cell-level scores quantify heterogeneity in a spatial manner, accounting for local effects, and return a value per single cell, saved in so.obs. To apply these scores to the data we use again .metrics but this time with local=True. Since these scores heavily depend on the tumor topology, the graph type and occasionally additional parameters also need to be provided."
   ]
  },
  {
   "cell_type": "code",
   "execution_count": null,
   "id": "807994c2",
   "metadata": {},
   "outputs": [],
   "source": [
    "from tqdm import tqdm"
   ]
  },
  {
   "cell_type": "code",
   "execution_count": null,
   "id": "6dfd9b52",
   "metadata": {},
   "outputs": [],
   "source": [
    "# compute metrics at single-cell level for all samples - this will take some time\n",
    "sh.metrics.richness(so_fov01, spl, 'cell_type_id', local=True, graph_key='radius_60')\n",
    "sh.metrics.richness(so_fov02, spl, 'cell_type_id', local=True, graph_key='radius_60')\n",
    "sh.metrics.richness(so_fov03, spl, 'cell_type_id', local=True, graph_key='radius_60')\n",
    "sh.metrics.richness(so_fov04, spl, 'cell_type_id', local=True, graph_key='radius_60')\n",
    "sh.metrics.richness(so_fov05, spl, 'cell_type_id', local=True, graph_key='radius_60')\n",
    "sh.metrics.richness(so_fov06, spl, 'cell_type_id', local=True, graph_key='radius_60')\n",
    "sh.metrics.richness(so_fov07, spl, 'cell_type_id', local=True, graph_key='radius_60')\n",
    "sh.metrics.richness(so_fov08, spl, 'cell_type_id', local=True, graph_key='radius_60')\n",
    "sh.metrics.richness(so_fov09, spl, 'cell_type_id', local=True, graph_key='radius_60')\n",
    "sh.metrics.richness(so_fov10, spl, 'cell_type_id', local=True, graph_key='radius_60')\n",
    "sh.metrics.richness(so_fov11, spl, 'cell_type_id', local=True, graph_key='radius_60')\n",
    "sh.metrics.richness(so_fov12, spl, 'cell_type_id', local=True, graph_key='radius_60')\n",
    "sh.metrics.richness(so_fov13, spl, 'cell_type_id', local=True, graph_key='radius_60')\n",
    "sh.metrics.richness(so_fov14, spl, 'cell_type_id', local=True, graph_key='radius_60')\n",
    "sh.metrics.richness(so_fov15, spl, 'cell_type_id', local=True, graph_key='radius_60')\n",
    "sh.metrics.richness(so_fov16, spl, 'cell_type_id', local=True, graph_key='radius_60')\n",
    "sh.metrics.richness(so_fov17, spl, 'cell_type_id', local=True, graph_key='radius_60')\n",
    "sh.metrics.richness(so_fov18, spl, 'cell_type_id', local=True, graph_key='radius_60')\n",
    "sh.metrics.richness(so_fov19, spl, 'cell_type_id', local=True, graph_key='radius_60')\n",
    "sh.metrics.richness(so_fov20, spl, 'cell_type_id', local=True, graph_key='radius_60')\n",
    "sh.metrics.richness(so_fov21, spl, 'cell_type_id', local=True, graph_key='radius_60')\n",
    "sh.metrics.richness(so_fov22, spl, 'cell_type_id', local=True, graph_key='radius_60')\n",
    "sh.metrics.richness(so_fov23, spl, 'cell_type_id', local=True, graph_key='radius_60')\n",
    "sh.metrics.richness(so_fov24, spl, 'cell_type_id', local=True, graph_key='radius_60')\n",
    "sh.metrics.richness(so_fov25, spl, 'cell_type_id', local=True, graph_key='radius_60')\n"
   ]
  },
  {
   "cell_type": "code",
   "execution_count": null,
   "id": "6a890d96",
   "metadata": {},
   "outputs": [],
   "source": [
    "sh.metrics.shannon(so_fov01, spl, 'cell_type_id', local=True, graph_key='radius_60')\n",
    "sh.metrics.shannon(so_fov02, spl, 'cell_type_id', local=True, graph_key='radius_60')\n",
    "sh.metrics.shannon(so_fov03, spl, 'cell_type_id', local=True, graph_key='radius_60')\n",
    "sh.metrics.shannon(so_fov04, spl, 'cell_type_id', local=True, graph_key='radius_60')\n",
    "sh.metrics.shannon(so_fov05, spl, 'cell_type_id', local=True, graph_key='radius_60')\n",
    "sh.metrics.shannon(so_fov06, spl, 'cell_type_id', local=True, graph_key='radius_60')\n",
    "sh.metrics.shannon(so_fov07, spl, 'cell_type_id', local=True, graph_key='radius_60')\n",
    "sh.metrics.shannon(so_fov08, spl, 'cell_type_id', local=True, graph_key='radius_60')\n",
    "sh.metrics.shannon(so_fov09, spl, 'cell_type_id', local=True, graph_key='radius_60')\n",
    "sh.metrics.shannon(so_fov10, spl, 'cell_type_id', local=True, graph_key='radius_60')\n",
    "sh.metrics.shannon(so_fov11, spl, 'cell_type_id', local=True, graph_key='radius_60')\n",
    "sh.metrics.shannon(so_fov12, spl, 'cell_type_id', local=True, graph_key='radius_60')\n",
    "sh.metrics.shannon(so_fov13, spl, 'cell_type_id', local=True, graph_key='radius_60')\n",
    "sh.metrics.shannon(so_fov14, spl, 'cell_type_id', local=True, graph_key='radius_60')\n",
    "sh.metrics.shannon(so_fov15, spl, 'cell_type_id', local=True, graph_key='radius_60')\n",
    "sh.metrics.shannon(so_fov16, spl, 'cell_type_id', local=True, graph_key='radius_60')\n",
    "sh.metrics.shannon(so_fov17, spl, 'cell_type_id', local=True, graph_key='radius_60')\n",
    "sh.metrics.shannon(so_fov18, spl, 'cell_type_id', local=True, graph_key='radius_60')\n",
    "sh.metrics.shannon(so_fov19, spl, 'cell_type_id', local=True, graph_key='radius_60')\n",
    "sh.metrics.shannon(so_fov20, spl, 'cell_type_id', local=True, graph_key='radius_60')\n",
    "sh.metrics.shannon(so_fov21, spl, 'cell_type_id', local=True, graph_key='radius_60')\n",
    "sh.metrics.shannon(so_fov22, spl, 'cell_type_id', local=True, graph_key='radius_60')\n",
    "sh.metrics.shannon(so_fov23, spl, 'cell_type_id', local=True, graph_key='radius_60')\n",
    "sh.metrics.shannon(so_fov24, spl, 'cell_type_id', local=True, graph_key='radius_60')\n",
    "sh.metrics.shannon(so_fov25, spl, 'cell_type_id', local=True, graph_key='radius_60')\n"
   ]
  },
  {
   "cell_type": "code",
   "execution_count": null,
   "id": "e0b3c4a4",
   "metadata": {},
   "outputs": [],
   "source": [
    "sh.metrics.quadratic_entropy(so_fov01, spl, 'cell_type_id', local=False, graph_key='radius_60', metric='cosine')\n",
    "sh.metrics.quadratic_entropy(so_fov02, spl, 'cell_type_id', local=True, graph_key='radius_60', metric='cosine')\n",
    "sh.metrics.quadratic_entropy(so_fov03, spl, 'cell_type_id', local=True, graph_key='radius_60', metric='cosine')\n",
    "sh.metrics.quadratic_entropy(so_fov04, spl, 'cell_type_id', local=True, graph_key='radius_60', metric='cosine')\n",
    "sh.metrics.quadratic_entropy(so_fov05, spl, 'cell_type_id', local=True, graph_key='radius_60', metric='cosine')\n",
    "sh.metrics.quadratic_entropy(so_fov06, spl, 'cell_type_id', local=True, graph_key='radius_60', metric='cosine')\n",
    "sh.metrics.quadratic_entropy(so_fov07, spl, 'cell_type_id', local=True, graph_key='radius_60', metric='cosine')\n",
    "sh.metrics.quadratic_entropy(so_fov08, spl, 'cell_type_id', local=True, graph_key='radius_60', metric='cosine')\n",
    "sh.metrics.quadratic_entropy(so_fov09, spl, 'cell_type_id', local=True, graph_key='radius_60', metric='cosine')\n",
    "sh.metrics.quadratic_entropy(so_fov10, spl, 'cell_type_id', local=True, graph_key='radius_60', metric='cosine')\n",
    "sh.metrics.quadratic_entropy(so_fov11, spl, 'cell_type_id', local=True, graph_key='radius_60', metric='cosine')\n",
    "sh.metrics.quadratic_entropy(so_fov12, spl, 'cell_type_id', local=True, graph_key='radius_60', metric='cosine')\n",
    "sh.metrics.quadratic_entropy(so_fov13, spl, 'cell_type_id', local=True, graph_key='radius_60', metric='cosine')\n",
    "sh.metrics.quadratic_entropy(so_fov14, spl, 'cell_type_id', local=True, graph_key='radius_60', metric='cosine')\n",
    "sh.metrics.quadratic_entropy(so_fov15, spl, 'cell_type_id', local=True, graph_key='radius_60', metric='cosine')\n",
    "sh.metrics.quadratic_entropy(so_fov16, spl, 'cell_type_id', local=True, graph_key='radius_60', metric='cosine')\n",
    "sh.metrics.quadratic_entropy(so_fov17, spl, 'cell_type_id', local=True, graph_key='radius_60', metric='cosine')\n",
    "sh.metrics.quadratic_entropy(so_fov18, spl, 'cell_type_id', local=True, graph_key='radius_60', metric='cosine')\n",
    "sh.metrics.quadratic_entropy(so_fov19, spl, 'cell_type_id', local=True, graph_key='radius_60', metric='cosine')\n",
    "sh.metrics.quadratic_entropy(so_fov20, spl, 'cell_type_id', local=True, graph_key='radius_60', metric='cosine')\n",
    "sh.metrics.quadratic_entropy(so_fov21, spl, 'cell_type_id', local=True, graph_key='radius_60', metric='cosine')\n",
    "sh.metrics.quadratic_entropy(so_fov22, spl, 'cell_type_id', local=True, graph_key='radius_60', metric='cosine')\n",
    "sh.metrics.quadratic_entropy(so_fov23, spl, 'cell_type_id', local=True, graph_key='radius_60', metric='cosine')\n",
    "sh.metrics.quadratic_entropy(so_fov24, spl, 'cell_type_id', local=True, graph_key='radius_60', metric='cosine')\n",
    "sh.metrics.quadratic_entropy(so_fov25, spl, 'cell_type_id', local=True, graph_key='radius_60', metric='cosine')\n"
   ]
  },
  {
   "cell_type": "code",
   "execution_count": null,
   "id": "4ea291a3",
   "metadata": {},
   "outputs": [],
   "source": [
    "pd.DataFrame = so_fov01.X[spl]"
   ]
  },
  {
   "cell_type": "code",
   "execution_count": null,
   "id": "f635c758",
   "metadata": {},
   "outputs": [],
   "source": [
    "so_fov01.obs"
   ]
  },
  {
   "cell_type": "code",
   "execution_count": null,
   "id": "a13130a1",
   "metadata": {},
   "outputs": [],
   "source": [
    "pd.DataFrame"
   ]
  },
  {
   "cell_type": "code",
   "execution_count": null,
   "id": "9cbf13b1",
   "metadata": {},
   "outputs": [],
   "source": [
    "pd.DataFrame.index"
   ]
  },
  {
   "cell_type": "code",
   "execution_count": null,
   "id": "436809d6",
   "metadata": {},
   "outputs": [],
   "source": [
    "features = pd.DataFrame.merge(so_fov01.obs[spl]['cell_ID_2'], right_index=True, left_index=True)"
   ]
  },
  {
   "cell_type": "code",
   "execution_count": null,
   "id": "8db0fa20",
   "metadata": {},
   "outputs": [],
   "source": [
    "features"
   ]
  },
  {
   "cell_type": "code",
   "execution_count": null,
   "id": "e4616b6a",
   "metadata": {},
   "outputs": [],
   "source": [
    "len(features) == len(so_fov01.X[spl])"
   ]
  },
  {
   "cell_type": "code",
   "execution_count": null,
   "id": "6e63e10e",
   "metadata": {},
   "outputs": [],
   "source": [
    "len(so_fov01.X[spl])"
   ]
  },
  {
   "cell_type": "code",
   "execution_count": null,
   "id": "49429d2a",
   "metadata": {},
   "outputs": [],
   "source": []
  },
  {
   "cell_type": "code",
   "execution_count": null,
   "id": "c4585b13",
   "metadata": {
    "scrolled": true
   },
   "outputs": [],
   "source": [
    "# compute metrics at a cell level for all samples - this will take some time\n",
    "for s in tqdm(all_samples):\n",
    "    sh.metrics.richness(so, s, 'cell_cluster_id', local=True, graph_key='radius_20')\n",
    "    sh.metrics.shannon(so, s, 'cell_cluster_id', local=True, graph_key='radius_20')\n",
    "    sh.metrics.quadratic_entropy(so, s, 'cell_cluster_id', local=True, graph_key='radius_20', metric='cosine')\n",
    "\n",
    "# estimated values are saved in so.obs\n",
    "so.obs[spl].columns"
   ]
  },
  {
   "cell_type": "code",
   "execution_count": null,
   "id": "afbd4111",
   "metadata": {},
   "outputs": [],
   "source": [
    "fig = plt.figure(figsize=(60, 30))\n",
    "for i,s in enumerate(all_samples):\n",
    "    plt.subplot(4, 8, i+1)\n",
    "    g=sb.histplot(so.obs[s]['quadratic_cell_cluster_id_radius_20'], stat='probability', color = 'darkmagenta')\n",
    "    g.set_title(s + 'median quadratic entropy = ' + str(round(so.obs[s]['quadratic_cell_cluster_id_radius_20'].median(),3)))\n",
    "    plt.ylim([0,0.5])\n",
    "    plt.xlim([0,1])"
   ]
  },
  {
   "cell_type": "code",
   "execution_count": null,
   "id": "db130999",
   "metadata": {},
   "outputs": [],
   "source": [
    "# if needed, we can retrieve selected single-cell score values \n",
    "df2 = so.obs[spl].loc[:,['richness_cell_cluster_id_knn_4', 'shannon_cell_cluster_id_knn_4', 'quadratic_cell_cluster_id_knn_4', \n",
    "                  'richness_cell_cluster_id_radius_20', 'shannon_cell_cluster_id_radius_20', 'quadratic_cell_cluster_id_radius_20']].head(500)"
   ]
  },
  {
   "cell_type": "code",
   "execution_count": null,
   "id": "d381d5df",
   "metadata": {},
   "outputs": [],
   "source": [
    "compression_opts = dict(method='zip',\n",
    "                         archive_name='COVID_Malawi_Heterogeneity_Index_Cell_level_scores.csv') \n",
    "df2.to_csv('COVID_Malawi_Heterogeneity_Index_Cell_level_scores.csv.zip', index=True, compression=compression_opts)"
   ]
  },
  {
   "cell_type": "markdown",
   "id": "c42ce36a",
   "metadata": {},
   "source": [
    "The results can be plotted again using the .pl.spatial submodule and passing the attribute we want to visualize. For example, let’s observe the spatial heterogeneity of a random sample using three different metrics in the cell below. While local richness highlights tumor neighborhoods with multiple cell phenotypes present, local Shannon also takes into consideration the proportions of these phenotypes. Finally, local quadratic entropy additionally takes into consideration the similarity between these phenotypes using the single-cell proteomic data stored in .X. Notice how, in the last subplot, only regions where cell phenotypes with very different profiles (e.g., tumor - immune - stromal) are highlighted."
   ]
  },
  {
   "cell_type": "code",
   "execution_count": null,
   "id": "3cba85e5",
   "metadata": {},
   "outputs": [],
   "source": [
    "so.uns['cmaps'].update({'default': cm.plasma})\n",
    "\n",
    "r = '1507_2_C'\n",
    "fig, axs = plt.subplots(1, 3, figsize=(25, 12), dpi=300)\n",
    "for ax, obs in zip(axs.flat, ['richness_cell_cluster_id_knn_4', 'shannon_cell_cluster_id_knn_4', 'quadratic_cell_cluster_id_knn_4']): \n",
    "            sh.pl.spatial(so, r, obs, node_size=40, edges=True, graph_key='knn_4', coordinate_keys=['X_loc', 'Y_loc'], cbar_title=False, background_color='white', ax=ax)\n",
    "            ax.set_title(obs)\n",
    "fig.tight_layout()\n",
    "#fig.show()\n",
    "plt.savefig(str(r)+'_knn.png')"
   ]
  },
  {
   "cell_type": "code",
   "execution_count": null,
   "id": "392576d9",
   "metadata": {},
   "outputs": [],
   "source": [
    "so.uns['cmaps'].update({'default': cm.plasma})\n",
    "\n",
    "r = '1507_2_C'\n",
    "fig, axs = plt.subplots(1, 3, figsize=(25, 12), dpi=300)\n",
    "for ax, obs in zip(axs.flat, ['richness_cell_cluster_id_radius_20', 'shannon_cell_cluster_id_radius_20', 'quadratic_cell_cluster_id_radius_20']): \n",
    "            sh.pl.spatial(so, r, obs, node_size=40, edges=True, graph_key='radius_20', coordinate_keys=['X_loc', 'Y_loc'], cbar_title=False, background_color='white', ax=ax)\n",
    "            ax.set_title(obs)\n",
    "fig.tight_layout()\n",
    "#fig.show()\n",
    "plt.savefig(str(r)+'_radius.png')"
   ]
  },
  {
   "cell_type": "markdown",
   "id": "e8187367",
   "metadata": {},
   "source": [
    "# Cell type interactions"
   ]
  },
  {
   "cell_type": "markdown",
   "id": "56611c1f",
   "metadata": {},
   "source": [
    "mode: it can be classical, histocat or proportion\n",
    "\n",
    "Classic: In the classic ﬂavor of the neighborhood analysis score, the average number of interactions between cells of the same phenotype is computed.\n",
    "\n",
    "HistoCAT: In the histoCAT ﬂavor, the global average of interaction score is only computed across cells that actually show this interaction.\n",
    "\n",
    "Proportional: Finally, the proportional ﬂavor uses interaction frequencies instead of counts, i.e., divides the counts of pairwise interactions by all interactions a given cell has. We propose this approach as an alternative that normalizes the scores with respect to varying cell density. In contrast to the classic or the histoCAT ﬂavor, the proportional ﬂavor is not inﬂuenced by the number of cells in a sample and the score is bounded in the range of [0,1].\n",
    "\n",
    "graph_key can be knn, radius or contact\n",
    "\n",
    "prediction_type can be observation, pvalue or diff In addition to a p-value, we propose to compute the di↵erence between the observed proportion of interactions obs ij between cell type i ! j and the randomised proportion of interactions rand ij . This difference can be asymmetrical (i ! j = 6 j ! i), is bounded in the range of [-1,1], and might be more suited as input for certain machine learning models."
   ]
  },
  {
   "cell_type": "markdown",
   "id": "490c2ab4",
   "metadata": {},
   "source": [
    "Calculate all potential interaction metrics (with multiprocessing)"
   ]
  },
  {
   "cell_type": "code",
   "execution_count": null,
   "id": "9b3f4135",
   "metadata": {},
   "outputs": [],
   "source": [
    "#calculating based on radius_20 graph\n",
    "import logging\n",
    "logging.getLogger().setLevel(logging.ERROR)  # set logger to logging.INFO if you want to see more progress information\n",
    "\n",
    "# this will take some time...\n",
    "for s in tqdm(all_samples):\n",
    "    sh.neigh.interactions(so, s, 'cell_cluster_id', mode='proportion', prediction_type='diff', graph_key='radius_20')"
   ]
  },
  {
   "cell_type": "code",
   "execution_count": null,
   "id": "28c4f8b2",
   "metadata": {
    "scrolled": true
   },
   "outputs": [],
   "source": [
    "#calculating based on radius_20 graph\n",
    "import logging\n",
    "logging.getLogger().setLevel(logging.ERROR)  # set logger to logging.INFO if you want to see more progress information\n",
    "\n",
    "# this will take some time...\n",
    "for s in tqdm(all_samples):\n",
    "    sh.neigh.interactions(so, s, 'cell_type_id', mode='proportion', prediction_type='diff', graph_key='radius_20')"
   ]
  },
  {
   "cell_type": "code",
   "execution_count": null,
   "id": "8b0d88e0",
   "metadata": {},
   "outputs": [],
   "source": [
    "#calculating based on radius_20 graph\n",
    "import logging\n",
    "logging.getLogger().setLevel(logging.ERROR)  # set logger to logging.INFO if you want to see more progress information\n",
    "\n",
    "# this will take some time...\n",
    "for s in tqdm(all_samples):\n",
    "    sh.neigh.interactions(so, s, 'hierarchy_id', mode='proportion', prediction_type='diff', graph_key='radius_20')"
   ]
  },
  {
   "cell_type": "code",
   "execution_count": null,
   "id": "7f184ea7",
   "metadata": {},
   "outputs": [],
   "source": [
    "#calculating based on knn_4 graph\n",
    "import logging\n",
    "logging.getLogger().setLevel(logging.ERROR)  # set logger to logging.INFO if you want to see more progress information\n",
    "\n",
    "# this will take some time...\n",
    "for s in tqdm(all_samples):\n",
    "    sh.neigh.interactions(so, s, 'cell_cluster_id', mode='proportion', prediction_type='diff', graph_key='knn_4')"
   ]
  },
  {
   "cell_type": "code",
   "execution_count": null,
   "id": "e6e7f308",
   "metadata": {},
   "outputs": [],
   "source": [
    "#calculating based on knn_4 graph\n",
    "import logging\n",
    "logging.getLogger().setLevel(logging.ERROR)  # set logger to logging.INFO if you want to see more progress information\n",
    "\n",
    "# this will take some time...\n",
    "for s in tqdm(all_samples):\n",
    "    sh.neigh.interactions(so, s, 'cell_type_id', mode='proportion', prediction_type='diff', graph_key='knn_4')"
   ]
  },
  {
   "cell_type": "code",
   "execution_count": null,
   "id": "362fed27",
   "metadata": {},
   "outputs": [],
   "source": [
    "#calculating based on knn_4 graph\n",
    "import logging\n",
    "logging.getLogger().setLevel(logging.ERROR)  # set logger to logging.INFO if you want to see more progress information\n",
    "\n",
    "# this will take some time...\n",
    "for s in tqdm(all_samples):\n",
    "    sh.neigh.interactions(so, s, 'hierarchy_id', mode='proportion', prediction_type='diff', graph_key='knn_4')"
   ]
  },
  {
   "cell_type": "markdown",
   "id": "3c76d711",
   "metadata": {},
   "source": [
    "# Interaction graphs"
   ]
  },
  {
   "cell_type": "markdown",
   "id": "0ce3601c",
   "metadata": {},
   "source": [
    "Interaction heatmap example"
   ]
  },
  {
   "cell_type": "code",
   "execution_count": null,
   "id": "1b4aa18d",
   "metadata": {},
   "outputs": [],
   "source": [
    "so.uns"
   ]
  },
  {
   "cell_type": "code",
   "execution_count": null,
   "id": "c18db402",
   "metadata": {},
   "outputs": [],
   "source": [
    "so.spl.index"
   ]
  },
  {
   "cell_type": "code",
   "execution_count": null,
   "id": "efbc9aa5",
   "metadata": {},
   "outputs": [],
   "source": [
    "#Samples to combine for the interaction summary\n",
    "CM2 = ['MP42-ROI1','MP42-ROI2','MP42-ROI3','MP61-ROI1','MP61-ROI2','MP61-ROI3','MP69-ROI1','MP69-ROI2',\n",
    "       'MP69-ROI3','PM78-ROI1','PM78-ROI2','PM78-ROI3','PM83-ROI1','PM83-ROI2','PM83-ROI3',\n",
    "       'PM102-ROI1','PM102-ROI2','PM102-ROI3'] # the SAMPLE_NAMES must be in so.masks.keys()\n",
    "\n",
    "\n",
    "Non_CM = ['MP41-ROI1','MP41-ROI2','MP41-ROI3','MP65-ROI1','MP65-ROI2','MP65-ROI3',\n",
    "        'PM88-ROI1','PM88-ROI2','PM88-ROI3']\n",
    "\n",
    "CM2 = so.spl.index # this way you compute the graphs for all samples in your spatialOmics instance\n",
    "\n",
    "Non_CM = so.spl.index\n"
   ]
  },
  {
   "cell_type": "code",
   "execution_count": null,
   "id": "b68f7141",
   "metadata": {},
   "outputs": [],
   "source": [
    "CM2"
   ]
  },
  {
   "cell_type": "code",
   "execution_count": null,
   "id": "3b521474",
   "metadata": {},
   "outputs": [],
   "source": [
    "Non_CM"
   ]
  },
  {
   "cell_type": "code",
   "execution_count": null,
   "id": "fad0b27a",
   "metadata": {},
   "outputs": [],
   "source": [
    "mikeimc_v2.interactions_summary(so,\n",
    "                                CM2,\n",
    "                                'cell_type_id_proportion_diff_radius_20',\n",
    "                                population_dictionary=so.uns['cmap_labels']['cell_type_id'], aggregate_function='mean',\n",
    "                                calc_ttest_p_value=None, cmap='bwr')"
   ]
  },
  {
   "cell_type": "markdown",
   "id": "074fde03",
   "metadata": {},
   "source": [
    "Interaction bar graphs - Cell type broad"
   ]
  },
  {
   "cell_type": "code",
   "execution_count": null,
   "id": "ca8ae4f4",
   "metadata": {},
   "outputs": [],
   "source": [
    "so.uns['cmap_labels']['cell_cluster_id']"
   ]
  },
  {
   "cell_type": "code",
   "execution_count": null,
   "id": "995698cf",
   "metadata": {},
   "outputs": [],
   "source": [
    "samples = list(so.spl.index)\n",
    "\n",
    "all_pops=['Activated B cell', 'CD4 T cell', 'CD68+CD163+VISTA+ Macrophage',\n",
    "         'CD68+CD163+VISTA- Macrophage', 'CD8 T cell', 'Classical Monocyte','Dendritic cell', 'Effector CD4 T cell', 'Effector CD8 T cell',\n",
    "         'Endothelial cell', 'Iba1+VISTA- Macrophage', 'Intermediate Monocyte', 'Memory CD4 T cell', 'NK cell', 'Naive B cell',\n",
    "         'Neutrophil', 'Non-classical Monocyte', 'RBC', 'Smooth Muscle cell']\n",
    "\n",
    "remap_dict={'Activated B cell':'Lymphoid',\n",
    "            'CD4 T cell':'Lymphoid',\n",
    "            'CD68+CD163+VISTA+ Macrophage':'Myeloid',\n",
    "            'CD68+CD163+VISTA- Macrophage':'Myeloid',\n",
    "            'CD8 T cell':'Lymphoid',\n",
    "            'Classical Monocyte':'Myeloid',\n",
    "            'Dendritic cell':'Myeloid',\n",
    "           'Effector CD4 T cell':'Lymphoid',\n",
    "            'Effector CD8 T cell': 'Lymphoid',\n",
    "             'Endothelial cell': 'Vascular',\n",
    "            'Iba1+VISTA- Macrophage': 'Myeloid',\n",
    "            'Intermediate Monocyte': 'Myeloid',\n",
    "            'Memory CD4 T cell': 'Lymphoid',\n",
    "            'NK cell': 'Lymphoid',\n",
    "            'Naive B cell': 'Lymphoid',\n",
    "            'Neutrophil': 'Myeloid',\n",
    "            'Non-classical Monocyte':'Myeloid',\n",
    "            'RBC': 'Vascular',\n",
    "            'Smooth Muscle cell': 'Vascular'}    \n",
    "\n",
    "titles = ['KNN', 'Radius']\n",
    "\n",
    "graphs = ['cell_type_id_proportion_diff_knn_4',          \n",
    "          'cell_type_id_proportion_diff_radius_20']\n",
    "\n",
    "\n",
    "for b,k in zip(titles, graphs):    \n",
    "    \n",
    "    for t in ['diff','score']:    \n",
    "        variable=t\n",
    "\n",
    "        summary = mikeimc_v2.interactions_table(so,\n",
    "                            samples_list=samples,\n",
    "                            interaction_reference=k,\n",
    "                            var=variable,\n",
    "                            population_dictionary=so.uns['cmap_labels']['cell_type_id'],\n",
    "                            mode='individual',\n",
    "                            remap=remap_dict,\n",
    "                            remap_agg='sum')\n",
    "\n",
    "\n",
    "\n",
    "        fig, axs = plt.subplots(1, 5, figsize=(8, 3), dpi=300)\n",
    "        fig.suptitle(b, fontsize=16)\n",
    "        fig.tight_layout()\n",
    "        plt.subplots_adjust(wspace = 1)\n",
    "        \n",
    "        for count,i in enumerate(['Vascular','Lymphocytes','Myeloid']):\n",
    "\n",
    "            data = summary.loc[summary.target_label==i,:]\n",
    "            data = data.loc[np.where(data.source_label.isin(all_pops),True,False),:]\n",
    "            try:\n",
    "                data.source_label.cat.remove_unused_categories(inplace=True)\n",
    "                data.target_label.cat.remove_unused_categories(inplace=True)\n",
    "\n",
    "            except:\n",
    "                'None'\n",
    "\n",
    "\n",
    "            sb.barplot(data = data, \n",
    "                       x = \"source_label\", \n",
    "                       y = variable, \n",
    "                       ci=68,\n",
    "                       ax=axs[count],\n",
    "                       palette=cell_type_colours,\n",
    "                      order=data.groupby(['source_label','target_label']).mean().sort_values(variable).reset_index()['source_label']\n",
    "                      )\n",
    "            #axs[count].set_yscale(\"log\")\n",
    "            axs[count].set_title(i)\n",
    "            axs[count].tick_params(axis='x', labelrotation = 90, labelsize=8)\n",
    "            axs[count].tick_params(axis='y', labelsize=8)\n",
    "            plt.xticks(rotation=90)\n",
    "            axs[count].set_ylabel(t, fontsize=12)\n",
    "        \n",
    "fig.savefig(('figures/interaction_bargraphs/'+t+'_'+k+'.svg'), bbox_inches='tight')\n",
    "\n"
   ]
  },
  {
   "cell_type": "markdown",
   "id": "e5b56a8a",
   "metadata": {},
   "source": [
    "UMAP clustering of interactions - \"cell_type_broad_id_proportion_diff_contact\""
   ]
  },
  {
   "cell_type": "code",
   "execution_count": null,
   "id": "e31f20d4",
   "metadata": {},
   "outputs": [],
   "source": [
    "samples = list(so.spl.index)\n",
    "mikeimc_v2.interactions_summary_UMAP(so,samples,'cell_type_id_proportion_diff_radius_20',var='score',\n",
    "                                     category_columns=['ROI','Patient','Group'],annotate='ROI', dim_red='UMAP')"
   ]
  },
  {
   "cell_type": "code",
   "execution_count": null,
   "id": "6ce564af",
   "metadata": {
    "scrolled": true
   },
   "outputs": [],
   "source": [
    "#Let’s look at the results for each ROI\n",
    "from matplotlib.colors import ListedColormap, Normalize\n",
    "norm = Normalize(-.1, .1)\n",
    "fig = plt.subplots(figsize=(15, 6), dpi=100)\n",
    "for s in tqdm(all_samples):\n",
    "    sh.pl.interactions(so, s, 'cell_cluster_id', mode='proportion', prediction_type='diff', graph_key='radius_20',\n",
    "                   norm=norm)\n",
    "#fig.tight_layout()\n",
    "#fig.show()\n",
    "plt.savefig(str(r)+'_interactions_radius.png')"
   ]
  },
  {
   "cell_type": "code",
   "execution_count": null,
   "id": "29eaa567",
   "metadata": {},
   "outputs": [],
   "source": [
    "so.uns['cmap_labels']"
   ]
  },
  {
   "cell_type": "code",
   "execution_count": null,
   "id": "3cf17661",
   "metadata": {},
   "outputs": [],
   "source": [
    "# Update the colormap for cell_type_id - following my own color coding from previous graphs\n",
    "cmap_paper2 = np.array([[250,128,0], [15,207,192],  [165,63,2], [240,185,141],  #0, 1, 2, 3\n",
    "                       [141,213,147], [255,217,102], [163,129,239], [247,31,15],[0,0,0]]) #4 5 6 7 8\n",
    "so.uns['cmaps'].update({'cell_type_id': ListedColormap(cmap_paper2 / 255)})"
   ]
  },
  {
   "cell_type": "code",
   "execution_count": null,
   "id": "b183f8de",
   "metadata": {},
   "outputs": [],
   "source": [
    "# update colormap to show only immune and tumor cells \n",
    "cmap = ['lightgrey', 'blue', 'lightgrey', 'lightgrey', \n",
    "        'lightgrey', 'lightgrey', 'lightgrey', 'orange', 'lightgrey']\n",
    "\n",
    "cmap2 = ListedColormap(cmap)\n",
    "so.uns['cmaps'].update({'cell_type_id': cmap2})"
   ]
  },
  {
   "cell_type": "code",
   "execution_count": null,
   "id": "c1037015",
   "metadata": {},
   "outputs": [],
   "source": [
    "#use the interaction score of specific cell clusters to sort our samples by increasing attraction:\n",
    "mixing_score=[]\n",
    "for s in all_samples:\n",
    "    interaction_res = so.uns[s]['interactions']['cell_type_id_proportion_diff_radius_20'] # get interaction results\n",
    "    diff = interaction_res.loc[1].loc[7]['diff'] # interactions between source id 1 (immune), target id 4 (tumor)\n",
    "    mixing_score.append(diff)\n",
    "\n",
    "ind=np.argsort(mixing_score)"
   ]
  },
  {
   "cell_type": "code",
   "execution_count": null,
   "id": "0619d38f",
   "metadata": {},
   "outputs": [],
   "source": [
    "#order the plots of ROI accoding the force of cellular interactions between the 2 specific clusters\n",
    "fig, axs = plt.subplots(6, 4, figsize=(25, 12), dpi=300)\n",
    "for i,s in enumerate(ind):\n",
    "    sh.pl.spatial(so, all_samples[s], 'cell_type_id', node_size=0.5, edges=True, graph_key='radius_20', coordinate_keys=['X_loc', 'Y_loc'], ax=axs.flat[i])"
   ]
  },
  {
   "cell_type": "code",
   "execution_count": null,
   "id": "faa9ceea",
   "metadata": {},
   "outputs": [],
   "source": [
    "# update colormap to show only immune and tumor cells \n",
    "cmap = ['lightgrey', 'lightgrey', 'blue', 'lightgrey', \n",
    "        'lightgrey', 'lightgrey', 'lightgrey', 'orange', 'lightgrey']\n",
    "\n",
    "cmap2 = ListedColormap(cmap)\n",
    "so.uns['cmaps'].update({'cell_type_id': cmap2})\n",
    "\n",
    "\n",
    "#use the interaction score of specific cell clusters to sort our samples by increasing attraction:\n",
    "mixing_score=[]\n",
    "for s in all_samples:\n",
    "    interaction_res = so.uns[s]['interactions']['cell_type_id_proportion_diff_radius_20'] # get interaction results\n",
    "    diff = interaction_res.loc[2].loc[7]['diff'] # interactions between source id 1 (immune), target id 4 (tumor)\n",
    "    mixing_score.append(diff)\n",
    "\n",
    "ind=np.argsort(mixing_score)\n",
    "\n",
    "#order the plots of ROI accoding the force of cellular interactions between the 2 specific clusters\n",
    "fig, axs = plt.subplots(6, 4, figsize=(25, 12), dpi=300)\n",
    "for i,s in enumerate(ind):\n",
    "    sh.pl.spatial(so, all_samples[s], 'cell_type_id', node_size=0.5, edges=True, graph_key='radius_20', coordinate_keys=['X_loc', 'Y_loc'], ax=axs.flat[i])"
   ]
  },
  {
   "cell_type": "code",
   "execution_count": null,
   "id": "61bfac12",
   "metadata": {},
   "outputs": [],
   "source": [
    "# update colormap to show only immune and tumor cells \n",
    "cmap = ['lightgrey', 'lightgrey', 'lightgrey', 'blue', \n",
    "        'lightgrey', 'lightgrey', 'lightgrey', 'orange', 'lightgrey']\n",
    "\n",
    "cmap2 = ListedColormap(cmap)\n",
    "so.uns['cmaps'].update({'cell_type_id': cmap2})\n",
    "\n",
    "#use the interaction score of specific cell clusters to sort our samples by increasing attraction:\n",
    "mixing_score=[]\n",
    "for s in all_samples:\n",
    "    interaction_res = so.uns[s]['interactions']['cell_type_id_proportion_diff_radius_20'] # get interaction results\n",
    "    diff = interaction_res.loc[3].loc[7]['diff'] # interactions between source id 1 (immune), target id 4 (tumor)\n",
    "    mixing_score.append(diff)\n",
    "\n",
    "ind=np.argsort(mixing_score)\n",
    "\n",
    "#order the plots of ROI accoding the force of cellular interactions between the 2 specific clusters\n",
    "fig, axs = plt.subplots(6, 4, figsize=(25, 12), dpi=300)\n",
    "for i,s in enumerate(ind):\n",
    "    sh.pl.spatial(so, all_samples[s], 'cell_type_id', node_size=0.5, edges=True, graph_key='radius_20', coordinate_keys=['X_loc', 'Y_loc'], ax=axs.flat[i])"
   ]
  },
  {
   "cell_type": "code",
   "execution_count": null,
   "id": "4480aa80",
   "metadata": {},
   "outputs": [],
   "source": [
    "# update colormap to show only immune and tumor cells \n",
    "cmap = ['lightgrey', 'lightgrey', 'lightgrey', 'lightgrey', \n",
    "        'lightgrey', 'blue', 'lightgrey', 'orange', 'lightgrey']\n",
    "\n",
    "cmap2 = ListedColormap(cmap)\n",
    "so.uns['cmaps'].update({'cell_type_id': cmap2})\n",
    "\n",
    "#use the interaction score of specific cell clusters to sort our samples by increasing attraction:\n",
    "mixing_score=[]\n",
    "for s in all_samples:\n",
    "    interaction_res = so.uns[s]['interactions']['cell_type_id_proportion_diff_radius_20'] # get interaction results\n",
    "    diff = interaction_res.loc[5].loc[7]['diff'] # interactions between source id 1 (immune), target id 4 (tumor)\n",
    "    mixing_score.append(diff)\n",
    "\n",
    "ind=np.argsort(mixing_score)\n",
    "\n",
    "#order the plots of ROI accoding the force of cellular interactions between the 2 specific clusters\n",
    "fig, axs = plt.subplots(6, 4, figsize=(25, 12), dpi=300)\n",
    "for i,s in enumerate(ind):\n",
    "    sh.pl.spatial(so, all_samples[s], 'cell_type_id', node_size=0.5, edges=True, graph_key='radius_20', coordinate_keys=['X_loc', 'Y_loc'], ax=axs.flat[i])"
   ]
  },
  {
   "cell_type": "code",
   "execution_count": null,
   "id": "861df3ba",
   "metadata": {},
   "outputs": [],
   "source": [
    "# update colormap to show only immune and tumor cells \n",
    "cmap = ['lightgrey', 'lightgrey', 'lightgrey', 'lightgrey', \n",
    "        'lightgrey', 'lightgrey', 'blue', 'orange', 'lightgrey']\n",
    "\n",
    "cmap2 = ListedColormap(cmap)\n",
    "so.uns['cmaps'].update({'cell_type_id': cmap2})\n",
    "\n",
    "#use the interaction score of specific cell clusters to sort our samples by increasing attraction:\n",
    "mixing_score=[]\n",
    "for s in all_samples:\n",
    "    interaction_res = so.uns[s]['interactions']['cell_type_id_proportion_diff_radius_20'] # get interaction results\n",
    "    diff = interaction_res.loc[6].loc[7]['diff'] # interactions between source id 1 (immune), target id 4 (tumor)\n",
    "    mixing_score.append(diff)\n",
    "\n",
    "ind=np.argsort(mixing_score)\n",
    "\n",
    "#order the plots of ROI accoding the force of cellular interactions between the 2 specific clusters\n",
    "fig, axs = plt.subplots(6, 4, figsize=(25, 12), dpi=300)\n",
    "for i,s in enumerate(ind):\n",
    "    sh.pl.spatial(so, all_samples[s], 'cell_type_id', node_size=0.5, edges=True, graph_key='radius_20', coordinate_keys=['X_loc', 'Y_loc'], ax=axs.flat[i])"
   ]
  },
  {
   "cell_type": "code",
   "execution_count": null,
   "id": "636d2188",
   "metadata": {},
   "outputs": [],
   "source": [
    "# update colormap to show only immune and tumor cells \n",
    "cmap = ['lightgrey', 'lightgrey', 'lightgrey', 'lightgrey', \n",
    "        'lightgrey', 'lightgrey', 'lightgrey' , 'orange', 'blue']\n",
    "\n",
    "cmap2 = ListedColormap(cmap)\n",
    "so.uns['cmaps'].update({'cell_type_id': cmap2})\n",
    "\n",
    "#use the interaction score of specific cell clusters to sort our samples by increasing attraction:\n",
    "mixing_score=[]\n",
    "for s in all_samples:\n",
    "    interaction_res = so.uns[s]['interactions']['cell_type_id_proportion_diff_radius_20'] # get interaction results\n",
    "    diff = interaction_res.loc[7].loc[8]['diff'] # interactions between source id 1 (immune), target id 4 (tumor)\n",
    "    mixing_score.append(diff)\n",
    "\n",
    "ind=np.argsort(mixing_score)\n",
    "\n",
    "#order the plots of ROI accoding the force of cellular interactions between the 2 specific clusters\n",
    "fig, axs = plt.subplots(6, 4, figsize=(25, 12), dpi=300)\n",
    "for i,s in enumerate(ind):\n",
    "    sh.pl.spatial(so, all_samples[s], 'cell_type_id', node_size=0.5, edges=True, graph_key='radius_20', coordinate_keys=['X_loc', 'Y_loc'], ax=axs.flat[i])"
   ]
  },
  {
   "cell_type": "code",
   "execution_count": null,
   "id": "4822d613",
   "metadata": {},
   "outputs": [],
   "source": [
    "# update colormap to show only immune and tumor cells \n",
    "cmap = ['orange', 'blue', 'lightgrey', 'lightgrey', \n",
    "        'lightgrey', 'lightgrey', 'lightgrey' , 'lightgrey', 'lightgrey']\n",
    "\n",
    "cmap2 = ListedColormap(cmap)\n",
    "so.uns['cmaps'].update({'cell_type_id': cmap2})\n",
    "\n",
    "#use the interaction score of specific cell clusters to sort our samples by increasing attraction:\n",
    "mixing_score=[]\n",
    "for s in all_samples:\n",
    "    interaction_res = so.uns[s]['interactions']['cell_type_id_proportion_diff_radius_20'] # get interaction results\n",
    "    diff = interaction_res.loc[1].loc[0]['diff'] # interactions between source id 1 (immune), target id 4 (tumor)\n",
    "    mixing_score.append(diff)\n",
    "\n",
    "ind=np.argsort(mixing_score)\n",
    "\n",
    "#order the plots of ROI accoding the force of cellular interactions between the 2 specific clusters\n",
    "fig, axs = plt.subplots(6, 4, figsize=(25, 12), dpi=300)\n",
    "for i,s in enumerate(ind):\n",
    "    sh.pl.spatial(so, all_samples[s], 'cell_type_id', node_size=0.5, edges=True, graph_key='radius_20', coordinate_keys=['X_loc', 'Y_loc'], ax=axs.flat[i])"
   ]
  },
  {
   "cell_type": "code",
   "execution_count": null,
   "id": "d525ee05",
   "metadata": {},
   "outputs": [],
   "source": [
    "# update colormap to show only immune and tumor cells \n",
    "cmap = ['orange', 'lightgrey', 'lightgrey', 'blue', \n",
    "        'lightgrey', 'lightgrey', 'lightgrey' , 'lightgrey', 'lightgrey']\n",
    "\n",
    "cmap2 = ListedColormap(cmap)\n",
    "so.uns['cmaps'].update({'cell_type_id': cmap2})\n",
    "\n",
    "#use the interaction score of specific cell clusters to sort our samples by increasing attraction:\n",
    "mixing_score=[]\n",
    "for s in all_samples:\n",
    "    interaction_res = so.uns[s]['interactions']['cell_type_id_proportion_diff_radius_20'] # get interaction results\n",
    "    diff = interaction_res.loc[3].loc[0]['diff'] # interactions between source id 1 (immune), target id 4 (tumor)\n",
    "    mixing_score.append(diff)\n",
    "\n",
    "ind=np.argsort(mixing_score)\n",
    "\n",
    "#order the plots of ROI accoding the force of cellular interactions between the 2 specific clusters\n",
    "fig, axs = plt.subplots(6, 4, figsize=(25, 12), dpi=300)\n",
    "for i,s in enumerate(ind):\n",
    "    sh.pl.spatial(so, all_samples[s], 'cell_type_id', node_size=0.5, edges=True, graph_key='radius_20', coordinate_keys=['X_loc', 'Y_loc'], ax=axs.flat[i])"
   ]
  },
  {
   "cell_type": "markdown",
   "id": "fbe8848e",
   "metadata": {},
   "source": [
    "# Cell infiltration score - sample level"
   ]
  },
  {
   "cell_type": "markdown",
   "id": "fffc3f6b",
   "metadata": {},
   "source": [
    "More sophisticated heterogeneity scores additionally consider cell-cell interactions by exploiting the cellcell graph, where nodes encode cells, edges encode interactions, and each node is associated with a label that encodes the cell’s phenotype.\n",
    "\n",
    "The infiltration score included in the .neigh submodule quantifies the degree of tumor-immune mixing (as defined in Keren, L. et al. - paper). It quantiﬁes the degree to which a certain cell phenotype has penetrated among cells of another type. As a consequence, the implementation of the score does not explicitly limit its application to immune-to-tumor inﬁltration, but is very ﬂexible and allows the user to deﬁne any pairwise interaction, e.g., a speciﬁc immune subtype to the whole tumor, or even non-immune types of inﬁltration, should this be of interest.\n",
    "ATHENA implements two ﬂavors of inﬁltration, a global one that returns an estimate at the wholesample level, and a local one, where for each cell i the inﬁltration is computed on the sub-graph only containing all immediate neighbors of i. Let us compute it across all patients.\n",
    "This score computes a ratio between the number of interactions."
   ]
  },
  {
   "cell_type": "markdown",
   "id": "7c07ffef",
   "metadata": {},
   "source": [
    "Cell infiltration score at hierarchy level (sample analysis) - metaclusters"
   ]
  },
  {
   "cell_type": "code",
   "execution_count": null,
   "id": "c4fab741",
   "metadata": {},
   "outputs": [],
   "source": [
    "samples2 = ['MP42-ROI1','MP42-ROI2','MP42-ROI3','MP61-ROI1','MP61-ROI2','MP61-ROI3','MP69-ROI1','MP69-ROI2', 'MP69-ROI3','PM78-ROI1','PM78-ROI2','PM78-ROI3','PM83-ROI1','PM83-ROI2','PM83-ROI3','PM102-ROI1','PM102-ROI2','PM102-ROI3','MP41-ROI1','MP41-ROI2','MP41-ROI3','MP65-ROI1','MP65-ROI2','MP65-ROI3']"
   ]
  },
  {
   "cell_type": "code",
   "execution_count": null,
   "id": "3bfd5001",
   "metadata": {},
   "outputs": [],
   "source": [
    "samples2"
   ]
  },
  {
   "cell_type": "code",
   "execution_count": null,
   "id": "3ffd92f6",
   "metadata": {},
   "outputs": [],
   "source": [
    "spl = so.spl.index[1]\n",
    "obs = so.obs[spl]\n",
    "\n",
    "# make sure that the column you want to use is categorical\n",
    "assert isinstance(obs.hierarchy.dtype, pd.CategoricalDtype)\n",
    "\n",
    "# Definition of infiltration\n",
    "# infiltration = count_of_interaction1 / count_of_interaction2\n",
    "\n",
    "# compute infiltration on the sample level\n",
    "for s in tqdm(samples2):\n",
    "    sh.neigh.infiltration(so, s, 'cell_type', \n",
    "                          interaction1=('Dendritic cells', 'B cells'),\n",
    "                          interaction2=('B cells', 'B cells'),\n",
    "                          graph_key='radius_20',\n",
    "                          local=False)\n",
    "so.spl.loc[samples2, 'infiltration']"
   ]
  },
  {
   "cell_type": "code",
   "execution_count": null,
   "id": "6efdc9e3",
   "metadata": {},
   "outputs": [],
   "source": [
    "so.uns['cmap_labels']['cell_type_id']"
   ]
  },
  {
   "cell_type": "code",
   "execution_count": null,
   "id": "955e431c",
   "metadata": {},
   "outputs": [],
   "source": [
    "# sort samples by increasing infiltration\n",
    "ind1=np.argsort(so.spl.loc[all_samples].infiltration.values)\n",
    "\n",
    "# update colormap to show only immune and tumor cells \n",
    "cmap = ['white', 'white', 'white', 'blue', \n",
    "        'white', 'white', 'white', 'orange', 'white']\n",
    "\n",
    "cmap2 = ListedColormap(cmap)\n",
    "so.uns['cmaps'].update({'cell_type_id': cmap2})\n",
    "\n",
    "#cmap_labels = {0: 'B cells', 1: 'CD 4 T cells',  2: 'CD 8 T cells', 3: 'Dendritics cells', 4: 'Endothelial cells', \n",
    "               #5: 'Macrophages', 6: 'NK cells', 7: 'RBCs', 8: 'Smooth Muscle Cells'}\n",
    "#so.uns['cmap_labels'].update({'cell_type_id': cmap_labels})\n",
    "\n",
    "fig, axs = plt.subplots(6, 4, figsize=(25, 12), dpi=300)\n",
    "for i,s in enumerate(ind1):\n",
    "    sh.pl.spatial(so, samples2[s], 'cell_type_id', node_size=0.5, edges=False, graph_key='radius_20', coordinate_keys=['X_loc', 'Y_loc'], ax=axs.flat[i])"
   ]
  },
  {
   "cell_type": "markdown",
   "id": "f8d00c43",
   "metadata": {},
   "source": [
    "Cell infiltration score at cell type level (sample analysis) - metaclusters"
   ]
  },
  {
   "cell_type": "code",
   "execution_count": null,
   "id": "cec32f8c",
   "metadata": {},
   "outputs": [],
   "source": [
    "spl = so.spl.index[1]\n",
    "obs = so.obs[spl]\n",
    "\n",
    "# make sure that the column you want to use is categorical\n",
    "assert isinstance(obs.cell_type.dtype, pd.CategoricalDtype)\n",
    "\n",
    "# Definition of infiltration\n",
    "# infiltration = count_of_interaction1 / count_of_interaction2\n",
    "\n",
    "# compute infiltration on the sample level\n",
    "for s in tqdm(all_samples):\n",
    "    sh.neigh.infiltration(so, s, 'cell_type', \n",
    "                          interaction1=('Fibroblast', 'Epithelial'),\n",
    "                          interaction2=('Epithelial', 'Epithelial'),\n",
    "                          graph_key='radius_1',\n",
    "                          local=False)\n",
    "so.spl.loc[all_samples, 'infiltration']"
   ]
  },
  {
   "cell_type": "code",
   "execution_count": null,
   "id": "d816c46e",
   "metadata": {},
   "outputs": [],
   "source": [
    "# sort samples by increasing infiltration\n",
    "ind1=np.argsort(so.spl.loc[samples2].infiltration.values)\n",
    "\n",
    "# update colormap to show only immune and tumor cells\n",
    "cmap2 = ['white', 'lightgrey', 'darkgreen', 'lightgrey', 'darkred']\n",
    "#cmap_labels = {0: 'background', 1: 'Myeloid',  2: 'Lymphoid', 3: 'Vascular', 4: 'Stromal'}\n",
    "cmap = ListedColormap(cmap)\n",
    "so.uns['cmaps'].update({'cell_type_id': cmap2})\n",
    "#so.uns['cmap_labels'].update({'hierarchy_id': cmap_labels})\n",
    "\n",
    "fig, axs = plt.subplots(6, 5, figsize=(28, 14), dpi=300)\n",
    "for i,s in enumerate(ind1):\n",
    "    sh.pl.spatial(so, all_samples[s], 'hierarchy_id', mode='mask', ax=axs.flat[i])\n",
    "    d = so.spl.loc[all_samples[s]]"
   ]
  },
  {
   "cell_type": "markdown",
   "id": "be266601",
   "metadata": {},
   "source": [
    "# Cell infiltration score - single-cell level"
   ]
  },
  {
   "cell_type": "code",
   "execution_count": null,
   "id": "8417bf9c",
   "metadata": {},
   "outputs": [],
   "source": [
    "# compute infiltration on a cell-level\n",
    "spl = so.spl.index[1]\n",
    "obs = so.obs[spl]\n",
    "\n",
    "assert isinstance(obs.hierarchy.dtype, pd.CategoricalDtype)\n",
    "\n",
    "for s in tqdm(samples2):\n",
    "    sh.neigh.infiltration(so, s, 'cell_type', \n",
    "                          interaction1=('CD4 T cells', 'RBCs'),\n",
    "                          interaction2=('RBCs', 'RBCs'),\n",
    "                          graph_key='radius_20',\n",
    "                          local=True)\n",
    "    \n",
    "so.obs[spl].infiltration\n",
    "so.obs[spl].infiltration.isna().mean()"
   ]
  },
  {
   "cell_type": "code",
   "execution_count": null,
   "id": "03b89ded",
   "metadata": {},
   "outputs": [],
   "source": [
    "#it does not work\n",
    "spl = 'C07_ROI4'\n",
    "fig, axs = plt.subplots(1,3, figsize=(16,8))\n",
    "sh.pl.infiltration(so, spl, 'hierarchy_id',step_size= 10, ax=axs[1])\n",
    "sh.pl.infiltration(so, spl, 'hierarchy_id', step_size= 5, ax=axs[2])"
   ]
  },
  {
   "cell_type": "markdown",
   "id": "19b15696",
   "metadata": {},
   "source": [
    "# Modularity"
   ]
  },
  {
   "cell_type": "markdown",
   "id": "80c69563",
   "metadata": {},
   "source": [
    "Modularity captures the structure of a graph by quantifying the degree at which it can be divided into communities of the same label. In the context of tumor heterogeneity, modularity can be thought of as the degree of self-organization of the cells with the same phenotype into spatially distinct communities. A graph of high modularity represents a tumor where connections between the cells within the same community are more dense than connections between cells of different communities."
   ]
  },
  {
   "cell_type": "code",
   "execution_count": null,
   "id": "d6421ca4",
   "metadata": {},
   "outputs": [],
   "source": [
    "for spl in so.spl.index:\n",
    "    sh.graph.build_graph(so, spl, builder_type='radius', mask_key='cellmasks')\n",
    "    sh.metrics.modularity(so, spl, 'cell_cluster_id', graph_key='radius_20')\n",
    "so.spl"
   ]
  },
  {
   "cell_type": "markdown",
   "id": "b95839a6",
   "metadata": {},
   "source": [
    "# LISA Clustering"
   ]
  },
  {
   "cell_type": "markdown",
   "id": "88b6fae5",
   "metadata": {},
   "source": [
    "LISA clustering Paper: https://www.biorxiv.org/content/10.1101/2021.08.16.456469v1\n",
    "\n",
    "Web app: https://shiny.maths.usyd.edu.au/lisaClust/"
   ]
  },
  {
   "cell_type": "markdown",
   "id": "502b00e2",
   "metadata": {},
   "source": [
    "Exporting data for LISA analysis\n",
    "\n",
    "Export a simplified version of the .obs dataframe with the information we need to do the LISA analysis"
   ]
  },
  {
   "cell_type": "code",
   "execution_count": null,
   "id": "c7df11fc",
   "metadata": {},
   "outputs": [],
   "source": [
    "#Specify the cluster that has population information in the adata.obs\n",
    "\n",
    "cluster_id='pheno_cluster'\n",
    "\n",
    "adata_subset3.obs[['ROI',cluster_id,'X_loc','Y_loc']].to_csv('lisaclust_export.csv')"
   ]
  },
  {
   "cell_type": "markdown",
   "id": "11fd26d0",
   "metadata": {},
   "source": [
    "Upload the 'lisaclust_export.csv' to the web app above, and then download the results as 'LISAclust.csv' in this folder"
   ]
  },
  {
   "cell_type": "markdown",
   "id": "ffe160d1",
   "metadata": {},
   "source": [
    "Importing data from LISA analysis from web app"
   ]
  },
  {
   "cell_type": "markdown",
   "id": "912a520a",
   "metadata": {},
   "source": [
    "This will add in the LISA results to the adata.obs as a new column"
   ]
  },
  {
   "cell_type": "code",
   "execution_count": null,
   "id": "3629d1a0",
   "metadata": {},
   "outputs": [],
   "source": [
    "mikeimc_v2.lisa_import(adata_subset3,LISA_file = 'LISA_annotated_data_4regions.csv',LISA_col_title = 'LISAclust')"
   ]
  },
  {
   "cell_type": "markdown",
   "id": "1e2389e8",
   "metadata": {},
   "source": [
    "Stacked bar graphs"
   ]
  },
  {
   "cell_type": "code",
   "execution_count": null,
   "id": "8535e35c",
   "metadata": {},
   "outputs": [],
   "source": [
    "for i in ['LISAclust']: \n",
    "\n",
    "    for x in ['cell_type','hierarchy']:\n",
    "        \n",
    "        tmp = pd.crosstab(adata_subset3.obs[i],adata_subset3.obs[x], normalize='index')\n",
    "        tmp.plot.bar(stacked=True, figsize=(3, 3)).legend(bbox_to_anchor=(1.02, 1))"
   ]
  },
  {
   "cell_type": "code",
   "execution_count": null,
   "id": "858f0a0a",
   "metadata": {},
   "outputs": [],
   "source": [
    "col_df = pd.read_csv('mikeimc_approach/colours/pheno_colours.csv')\n",
    "colour_palette = col_df.set_index('pheno_cluster').to_dict()\n",
    "colour_palette['colour']"
   ]
  },
  {
   "cell_type": "code",
   "execution_count": null,
   "id": "2b7d2143",
   "metadata": {},
   "outputs": [],
   "source": [
    "for i in ['LISAclust']: \n",
    "    tmp = pd.crosstab(adata_subset3.obs[i],adata_subset3.obs['pheno_cluster'], normalize='index')\n",
    "    tmp.plot.bar(stacked=True, color=colour_palette['colour'], figsize=(3, 3)).legend(bbox_to_anchor=(1.02, 1))"
   ]
  },
  {
   "cell_type": "markdown",
   "id": "4c3d3c39",
   "metadata": {},
   "source": [
    "Heatmaps"
   ]
  },
  {
   "cell_type": "code",
   "execution_count": null,
   "id": "1a40dec4",
   "metadata": {},
   "outputs": [],
   "source": [
    "LISA_clust_obs='LISAclust'\n",
    "population_id='pheno_cluster'\n",
    "\n",
    "vmax=0.6\n",
    "vmin=0\n",
    "figsize=(30,16)\n",
    "\n",
    "fig, axs = plt.subplots(figsize=figsize)\n",
    "tmp = pd.crosstab(adata_subset3.obs[population_id], adata_subset3.obs[LISA_clust_obs], normalize='index')\n",
    "sb.heatmap(data=tmp, robust=True,linewidths=.5,square=True,cmap='viridis',vmax=vmax, vmin=vmin, ax=axs)\n",
    "fig.savefig('LISAclust_heatmap.png', bbox_inches='tight')"
   ]
  },
  {
   "cell_type": "markdown",
   "id": "80a3b53c",
   "metadata": {},
   "source": [
    "# UMAP based on cluster proportion in an ROI"
   ]
  },
  {
   "cell_type": "code",
   "execution_count": null,
   "id": "beaf58b9",
   "metadata": {},
   "outputs": [],
   "source": [
    "mikeimc_v2.cellabundance_UMAP(adata_subset3, 'ROI',population='LISAclust', colour_by='Group', normalize='index', dim_red='UMAP')"
   ]
  },
  {
   "cell_type": "markdown",
   "id": "a05e5cfa",
   "metadata": {},
   "source": [
    "Edge vs core of lisa clusters\n",
    "\n",
    "Normalising over ROI, so it becomes proportion of cells in each region"
   ]
  },
  {
   "cell_type": "code",
   "execution_count": null,
   "id": "8a9bcb11",
   "metadata": {},
   "outputs": [],
   "source": [
    "mikeimc_v2.grouped_graph(adata_subset3,\n",
    "                         ROI_id='ROI',\n",
    "                         group_by_obs='Group',\n",
    "                         x_axis='LISAclust',\n",
    "                         fig_size=(3,3),\n",
    "                         log_scale=False,\n",
    "                        display_tables=True,\n",
    "                         crosstab_norm='index'\n",
    "                        ) #If you change display_tables to True, will also do stats on the groups\n",
    "plt.show()"
   ]
  },
  {
   "cell_type": "code",
   "execution_count": null,
   "id": "63dd236a",
   "metadata": {},
   "outputs": [],
   "source": [
    "Draw all voronoi and save them"
   ]
  },
  {
   "cell_type": "code",
   "execution_count": null,
   "id": "fe96a455",
   "metadata": {},
   "outputs": [],
   "source": [
    "from mikeimc_v2 import draw_voronoi_scatter\n",
    "\n",
    "for i in adata_subset3.obs['ROI'].unique().tolist():\n",
    "\n",
    "    spot = adata_subset3.obs[adata_subset3.obs['ROI']==i]\n",
    "\n",
    "    _ = draw_voronoi_scatter(spot=spot,\n",
    "                             c=[],\n",
    "                             voronoi_palette = sc.pl.palettes.vega_20_scanpy,\n",
    "                             X='X_loc',\n",
    "                             Y='Y_loc',\n",
    "                             voronoi_hue='LISAclust')\n",
    "    #plt.savefig(str(i)+'_voronoi.svg')\n",
    "    plt.savefig(str(i)+'_voronoi.png')"
   ]
  },
  {
   "cell_type": "code",
   "execution_count": null,
   "id": "b5cef624",
   "metadata": {},
   "outputs": [],
   "source": [
    "for i in adata_subset3.obs['ROI'].unique().tolist():\n",
    "    sc.pl.spatial(adata_subset3[adata_subset3.obs[\"ROI\"] == i], color = 'LISAclust', neighbors_key=\"spatial_neighbors\", \n",
    "                  spot_size=10, edges=False, edges_width=1, edges_color='black', img_key=None, title=i,\n",
    "                  add_outline=False,return_fig=True, save=str(i)+'.png')"
   ]
  },
  {
   "cell_type": "code",
   "execution_count": null,
   "id": "4f8b9e39",
   "metadata": {},
   "outputs": [],
   "source": []
  },
  {
   "cell_type": "markdown",
   "id": "fdbcb3b5",
   "metadata": {},
   "source": [
    "Voronoi, with a specific cell population drawn ontop"
   ]
  },
  {
   "cell_type": "code",
   "execution_count": null,
   "id": "7a4711f8",
   "metadata": {},
   "outputs": [],
   "source": [
    "#Define the ROI to look at\n",
    "ROI = adata_subset3.obs[adata_subset3.obs['ROI']=='PM102-ROI1']\n",
    "\n",
    "#Specify which cell populations will be overlayed\n",
    "specific_cells=ROI[ROI.hierarchy=='Lymphoid'].copy()\n",
    "\n",
    "#Make a new column with a number per category, will be used to colour cells that are added\n",
    "specific_cells['colour']=specific_cells['pheno_cluster'].cat.codes\n",
    "\n",
    "_ = draw_voronoi_scatter(spot=ROI,\n",
    "                         c=specific_cells,\n",
    "                         voronoi_palette = sc.pl.palettes.vega_20_scanpy,\n",
    "                         X='X_loc',\n",
    "                         Y='Y_loc',\n",
    "                         voronoi_hue='LISAclust',\n",
    "                         scatter_hue='colour',\n",
    "                         scatter_palette=sc.pl.palettes.vega_20_scanpy,\n",
    "                         scatter_kwargs={'s':10},\n",
    "                         figsize=(5,5))"
   ]
  },
  {
   "cell_type": "code",
   "execution_count": null,
   "id": "49a191ad",
   "metadata": {},
   "outputs": [],
   "source": []
  }
 ],
 "metadata": {
  "kernelspec": {
   "display_name": "Python 3 (ipykernel)",
   "language": "python",
   "name": "python3"
  },
  "language_info": {
   "codemirror_mode": {
    "name": "ipython",
    "version": 3
   },
   "file_extension": ".py",
   "mimetype": "text/x-python",
   "name": "python",
   "nbconvert_exporter": "python",
   "pygments_lexer": "ipython3",
   "version": "3.9.16"
  }
 },
 "nbformat": 4,
 "nbformat_minor": 5
}
