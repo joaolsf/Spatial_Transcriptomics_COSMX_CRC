{
 "cells": [
  {
   "cell_type": "markdown",
   "id": "f23451ef",
   "metadata": {},
   "source": [
    "# Analyze Nanostring data"
   ]
  },
  {
   "cell_type": "code",
   "execution_count": 1,
   "id": "54aacc19",
   "metadata": {},
   "outputs": [
    {
     "name": "stderr",
     "output_type": "stream",
     "text": [
      "/Users/joaoluizsfilho/opt/anaconda3/envs/Squidpy/lib/python3.9/site-packages/geopandas/_compat.py:124: UserWarning: The Shapely GEOS version (3.11.1-CAPI-1.17.1) is incompatible with the GEOS version PyGEOS was compiled with (3.10.4-CAPI-1.16.2). Conversions between both will be slow.\n",
      "  warnings.warn(\n",
      "/Users/joaoluizsfilho/opt/anaconda3/envs/Squidpy/lib/python3.9/site-packages/spatialdata/__init__.py:9: UserWarning: Geopandas was set to use PyGEOS, changing to shapely 2.0 with:\n",
      "\n",
      "\tgeopandas.options.use_pygeos = True\n",
      "\n",
      "If you intended to use PyGEOS, set the option to False.\n",
      "  _check_geopandas_using_shapely()\n",
      "/Users/joaoluizsfilho/opt/anaconda3/envs/Squidpy/lib/python3.9/site-packages/umap/distances.py:1063: NumbaDeprecationWarning: \u001b[1mThe 'nopython' keyword argument was not supplied to the 'numba.jit' decorator. The implicit default value for this argument is currently False, but it will be changed to True in Numba 0.59.0. See https://numba.readthedocs.io/en/stable/reference/deprecation.html#deprecation-of-object-mode-fall-back-behaviour-when-using-jit for details.\u001b[0m\n",
      "  @numba.jit()\n",
      "/Users/joaoluizsfilho/opt/anaconda3/envs/Squidpy/lib/python3.9/site-packages/umap/distances.py:1071: NumbaDeprecationWarning: \u001b[1mThe 'nopython' keyword argument was not supplied to the 'numba.jit' decorator. The implicit default value for this argument is currently False, but it will be changed to True in Numba 0.59.0. See https://numba.readthedocs.io/en/stable/reference/deprecation.html#deprecation-of-object-mode-fall-back-behaviour-when-using-jit for details.\u001b[0m\n",
      "  @numba.jit()\n",
      "/Users/joaoluizsfilho/opt/anaconda3/envs/Squidpy/lib/python3.9/site-packages/umap/distances.py:1086: NumbaDeprecationWarning: \u001b[1mThe 'nopython' keyword argument was not supplied to the 'numba.jit' decorator. The implicit default value for this argument is currently False, but it will be changed to True in Numba 0.59.0. See https://numba.readthedocs.io/en/stable/reference/deprecation.html#deprecation-of-object-mode-fall-back-behaviour-when-using-jit for details.\u001b[0m\n",
      "  @numba.jit()\n",
      "/Users/joaoluizsfilho/opt/anaconda3/envs/Squidpy/lib/python3.9/site-packages/umap/umap_.py:660: NumbaDeprecationWarning: \u001b[1mThe 'nopython' keyword argument was not supplied to the 'numba.jit' decorator. The implicit default value for this argument is currently False, but it will be changed to True in Numba 0.59.0. See https://numba.readthedocs.io/en/stable/reference/deprecation.html#deprecation-of-object-mode-fall-back-behaviour-when-using-jit for details.\u001b[0m\n",
      "  @numba.jit()\n"
     ]
    },
    {
     "name": "stdout",
     "output_type": "stream",
     "text": [
      "scanpy==1.9.3 anndata==0.9.1 umap==0.5.3 numpy==1.23.4 scipy==1.11.1 pandas==2.0.3 scikit-learn==1.1.3 statsmodels==0.13.2 python-igraph==0.9.11 louvain==0.7.2 pynndescent==0.5.7\n"
     ]
    }
   ],
   "source": [
    "import scanpy as sc\n",
    "import squidpy as sq\n",
    "import numpy as np\n",
    "import matplotlib.pyplot as plt\n",
    "import seaborn as sns\n",
    "from pathlib import Path\n",
    "import pandas as pd\n",
    "import anndata\n",
    "\n",
    "sc.logging.print_header()"
   ]
  },
  {
   "cell_type": "code",
   "execution_count": 2,
   "id": "550727b8",
   "metadata": {},
   "outputs": [],
   "source": [
    "import os\n",
    "os.chdir('../')\n",
    "import warnings\n",
    "warnings.simplefilter(action='ignore', category=FutureWarning)\n",
    "warnings.simplefilter(action='ignore', category=UserWarning)"
   ]
  },
  {
   "cell_type": "code",
   "execution_count": 3,
   "id": "2df38d45",
   "metadata": {},
   "outputs": [],
   "source": [
    "import scanpy as sc\n",
    "import torch\n",
    "#import scarches as sca\n",
    "#from scarches.dataset.trvae.data_handling import remove_sparsity\n",
    "import matplotlib.pyplot as plt\n",
    "import numpy as np\n",
    "import gdown"
   ]
  },
  {
   "cell_type": "code",
   "execution_count": 4,
   "id": "cd4abe82",
   "metadata": {},
   "outputs": [],
   "source": [
    "import dill"
   ]
  },
  {
   "cell_type": "code",
   "execution_count": 5,
   "id": "a376c042",
   "metadata": {},
   "outputs": [],
   "source": [
    "# Set up output figure settings\n",
    "plt.rcParams['figure.figsize']=(64,64) #rescale figures, increase sizehere\n",
    "\n",
    "# Set up scanpy settings\n",
    "sc.settings.verbosity = 3\n",
    "sc.set_figure_params(dpi=300, dpi_save=300) #Increase DPI for better resolution figures"
   ]
  },
  {
   "cell_type": "code",
   "execution_count": 6,
   "id": "d51928aa",
   "metadata": {},
   "outputs": [
    {
     "name": "stdout",
     "output_type": "stream",
     "text": [
      "/Users/joaoluizsfilho/Library/CloudStorage/Dropbox/Work_Files/Matthias_Lab/Projects/COSMX_colon_dataset/COSMX_Colonrectal_cancer_project/TMA_original/Scanpy\n"
     ]
    }
   ],
   "source": [
    "cd /Users/joaoluizsfilho/Library/CloudStorage/Dropbox/Work_Files/Matthias_Lab/Projects/COSMX_colon_dataset/COSMX_Colonrectal_cancer_project/TMA_original/Scanpy"
   ]
  },
  {
   "cell_type": "code",
   "execution_count": null,
   "id": "d89f377c",
   "metadata": {},
   "outputs": [],
   "source": [
    "adata_fov_integrated = sc.read(\"./4_h5ad_files/adata_fov_integrated.h5ad\")"
   ]
  },
  {
   "cell_type": "code",
   "execution_count": null,
   "id": "12356cfc",
   "metadata": {},
   "outputs": [],
   "source": [
    "adata_fov_integrated"
   ]
  },
  {
   "cell_type": "code",
   "execution_count": null,
   "id": "3e61c814",
   "metadata": {},
   "outputs": [],
   "source": [
    "del adata_fov_integrated.obs['cell_ID']"
   ]
  },
  {
   "cell_type": "code",
   "execution_count": null,
   "id": "a2fa8653",
   "metadata": {},
   "outputs": [],
   "source": [
    "adata_fov_integrated.write('./4_h5ad_files/adata_fov_integrated.h5ad')"
   ]
  },
  {
   "cell_type": "markdown",
   "id": "fd4a7dfd",
   "metadata": {},
   "source": [
    "# Save / restore environemnt"
   ]
  },
  {
   "cell_type": "code",
   "execution_count": null,
   "id": "06f852fb",
   "metadata": {},
   "outputs": [],
   "source": [
    "#load the session\n",
    "dill.load_session('./3_DB_files/COSMX_colon_project_SQUIDPY.db')"
   ]
  },
  {
   "cell_type": "code",
   "execution_count": null,
   "id": "78f9281e",
   "metadata": {},
   "outputs": [],
   "source": [
    "#save the session\n",
    "dill.dump_session('./COSMX_colon_project_SQUIDPY.db')"
   ]
  },
  {
   "cell_type": "markdown",
   "id": "72ffb688",
   "metadata": {},
   "source": [
    "# Load dictionary color"
   ]
  },
  {
   "cell_type": "code",
   "execution_count": null,
   "id": "3f9f808c",
   "metadata": {},
   "outputs": [],
   "source": [
    "col_df = pd.read_csv('5_CSV_files/colours.csv')\n",
    "colour_palette = col_df.set_index('cluster').to_dict()\n",
    "colour_palette['colour']"
   ]
  },
  {
   "cell_type": "markdown",
   "id": "7f553784",
   "metadata": {},
   "source": [
    "# Plot segmentation masks"
   ]
  },
  {
   "cell_type": "code",
   "execution_count": null,
   "id": "e0db821b",
   "metadata": {},
   "outputs": [],
   "source": [
    "#Plot the image, with an overlay of the Leiden clusters. \n",
    "#Use squidpy.pl.spatial_segment for the same. The image is not visualized by specifying img=False.\n",
    "\n",
    "#One or multiple groups can also be used to overlay, by specifying the groups argument in squidpy.pl.spatial_segment as shown in the second subplot.\n",
    "sq.pl.spatial_segment(\n",
    "    adata_fov_integrated, shape=\"hex\",\n",
    "    color=\"CIPR_annotated_clusters\",\n",
    "    library_key=\"fov\",\n",
    "    seg_cell_id=\"cell_ID\", \n",
    "    library_id=[\"2\"],\n",
    "    seg_outline=True, seg_contourpx=20,\n",
    "    img=True, img_alpha = 1,\n",
    "    size=60, save='_CIPR_annotation_fov02.png'\n",
    ")"
   ]
  },
  {
   "cell_type": "code",
   "execution_count": null,
   "id": "33f43895",
   "metadata": {},
   "outputs": [],
   "source": [
    "sq.pl.spatial_segment(\n",
    "    adata_fov_integrated, shape=\"hex\",\n",
    "    color=\"CIPR_annotated_clusters\",\n",
    "    library_key=\"fov\",\n",
    "    seg_cell_id=\"cell_ID\", \n",
    "    library_id=[\"2\"],\n",
    "    seg_outline=True,\n",
    "    img=True,\n",
    "    size=30, save='_CIPR_annotation_fov02_v2.png'\n",
    ")"
   ]
  },
  {
   "cell_type": "code",
   "execution_count": null,
   "id": "4412cc2a",
   "metadata": {},
   "outputs": [],
   "source": [
    "sq.pl.spatial_segment(\n",
    "    adata_fov_integrated, shape=\"hex\",\n",
    "    color=\"CIPR_annotated_clusters\",\n",
    "    library_key=\"fov\",\n",
    "    seg_cell_id=\"cell_ID\",\n",
    "    library_id=[\"2\"],\n",
    "    seg_outline=True,\n",
    "    img=False,\n",
    "    size=30, save='_CIPR_annotation_fov02_v3.png'\n",
    ")"
   ]
  },
  {
   "cell_type": "markdown",
   "id": "78d6d0e3",
   "metadata": {},
   "source": [
    "# Subset anndata object per fovs"
   ]
  },
  {
   "cell_type": "code",
   "execution_count": null,
   "id": "991f7def",
   "metadata": {
    "scrolled": false
   },
   "outputs": [],
   "source": [
    "adata_fov_integrated"
   ]
  },
  {
   "cell_type": "code",
   "execution_count": null,
   "id": "f4ed67bf",
   "metadata": {},
   "outputs": [],
   "source": [
    "adata_fov_integrated.obs['fov']"
   ]
  },
  {
   "cell_type": "code",
   "execution_count": null,
   "id": "bec29650",
   "metadata": {},
   "outputs": [],
   "source": [
    "#Subset anndata object per patient case\n",
    "ad_fov01 = adata_fov_integrated[adata_fov_integrated.obs['fov'].isin(['1']),:].copy()\n",
    "ad_fov02 = adata_fov_integrated[adata_fov_integrated.obs['fov'].isin(['2']),:].copy()\n",
    "ad_fov03 = adata_fov_integrated[adata_fov_integrated.obs['fov'].isin(['3']),:].copy()\n",
    "ad_fov04 = adata_fov_integrated[adata_fov_integrated.obs['fov'].isin(['4']),:].copy()\n",
    "ad_fov05 = adata_fov_integrated[adata_fov_integrated.obs['fov'].isin(['5']),:].copy()\n",
    "ad_fov06 = adata_fov_integrated[adata_fov_integrated.obs['fov'].isin(['6']),:].copy()\n",
    "ad_fov07 = adata_fov_integrated[adata_fov_integrated.obs['fov'].isin(['7']),:].copy()\n",
    "ad_fov08 = adata_fov_integrated[adata_fov_integrated.obs['fov'].isin(['8']),:].copy()\n",
    "ad_fov09 = adata_fov_integrated[adata_fov_integrated.obs['fov'].isin(['9']),:].copy()\n",
    "ad_fov10 = adata_fov_integrated[adata_fov_integrated.obs['fov'].isin(['10']),:].copy()\n",
    "ad_fov11 = adata_fov_integrated[adata_fov_integrated.obs['fov'].isin(['11']),:].copy()\n",
    "ad_fov12 = adata_fov_integrated[adata_fov_integrated.obs['fov'].isin(['12']),:].copy()\n",
    "ad_fov13 = adata_fov_integrated[adata_fov_integrated.obs['fov'].isin(['13']),:].copy()\n",
    "ad_fov14 = adata_fov_integrated[adata_fov_integrated.obs['fov'].isin(['14']),:].copy()\n",
    "ad_fov15 = adata_fov_integrated[adata_fov_integrated.obs['fov'].isin(['15']),:].copy()\n",
    "ad_fov16 = adata_fov_integrated[adata_fov_integrated.obs['fov'].isin(['16']),:].copy()\n",
    "ad_fov17 = adata_fov_integrated[adata_fov_integrated.obs['fov'].isin(['17']),:].copy()\n",
    "ad_fov18 = adata_fov_integrated[adata_fov_integrated.obs['fov'].isin(['18']),:].copy()\n",
    "ad_fov19 = adata_fov_integrated[adata_fov_integrated.obs['fov'].isin(['19']),:].copy()\n",
    "ad_fov20 = adata_fov_integrated[adata_fov_integrated.obs['fov'].isin(['20']),:].copy()\n",
    "ad_fov21 = adata_fov_integrated[adata_fov_integrated.obs['fov'].isin(['21']),:].copy()\n",
    "ad_fov22 = adata_fov_integrated[adata_fov_integrated.obs['fov'].isin(['22']),:].copy()\n",
    "ad_fov23 = adata_fov_integrated[adata_fov_integrated.obs['fov'].isin(['23']),:].copy()\n",
    "ad_fov24 = adata_fov_integrated[adata_fov_integrated.obs['fov'].isin(['24']),:].copy()\n",
    "ad_fov25 = adata_fov_integrated[adata_fov_integrated.obs['fov'].isin(['25']),:].copy()\n"
   ]
  },
  {
   "cell_type": "code",
   "execution_count": 7,
   "id": "93c0a8d7",
   "metadata": {},
   "outputs": [],
   "source": [
    "#read adata \n",
    "ad_fov01 = sc.read(\"./4_h5ad_files/ad_fov01.h5ad\")\n",
    "ad_fov02 = sc.read(\"./4_h5ad_files/ad_fov02.h5ad\")\n",
    "ad_fov03 = sc.read(\"./4_h5ad_files/ad_fov03.h5ad\")\n",
    "ad_fov04 = sc.read(\"./4_h5ad_files/ad_fov04.h5ad\")\n",
    "ad_fov05 = sc.read(\"./4_h5ad_files/ad_fov05.h5ad\")\n",
    "ad_fov06 = sc.read(\"./4_h5ad_files/ad_fov06.h5ad\")\n",
    "ad_fov07 = sc.read(\"./4_h5ad_files/ad_fov07.h5ad\")\n",
    "ad_fov08 = sc.read(\"./4_h5ad_files/ad_fov08.h5ad\")\n",
    "ad_fov09 = sc.read(\"./4_h5ad_files/ad_fov09.h5ad\")\n",
    "ad_fov10 = sc.read(\"./4_h5ad_files/ad_fov10.h5ad\")\n",
    "ad_fov11 = sc.read(\"./4_h5ad_files/ad_fov11.h5ad\")\n",
    "ad_fov12 = sc.read(\"./4_h5ad_files/ad_fov12.h5ad\")\n",
    "ad_fov13 = sc.read(\"./4_h5ad_files/ad_fov13.h5ad\")\n",
    "ad_fov14 = sc.read(\"./4_h5ad_files/ad_fov14.h5ad\")\n",
    "ad_fov15 = sc.read(\"./4_h5ad_files/ad_fov15.h5ad\")\n",
    "ad_fov16 = sc.read(\"./4_h5ad_files/ad_fov16.h5ad\")\n",
    "ad_fov17 = sc.read(\"./4_h5ad_files/ad_fov17.h5ad\")\n",
    "ad_fov18 = sc.read(\"./4_h5ad_files/ad_fov18.h5ad\")\n",
    "ad_fov19 = sc.read(\"./4_h5ad_files/ad_fov19.h5ad\")\n",
    "ad_fov20 = sc.read(\"./4_h5ad_files/ad_fov20.h5ad\")\n",
    "ad_fov21 = sc.read(\"./4_h5ad_files/ad_fov21.h5ad\")\n",
    "ad_fov22 = sc.read(\"./4_h5ad_files/ad_fov22.h5ad\")\n",
    "ad_fov23 = sc.read(\"./4_h5ad_files/ad_fov23.h5ad\")\n",
    "ad_fov24 = sc.read(\"./4_h5ad_files/ad_fov24.h5ad\")\n",
    "ad_fov25 = sc.read(\"./4_h5ad_files/ad_fov25.h5ad\")"
   ]
  },
  {
   "cell_type": "code",
   "execution_count": null,
   "id": "ad13108f",
   "metadata": {},
   "outputs": [],
   "source": [
    "#write adata to disk\n",
    "ad_fov01.write('./4_h5ad_files/ad_fov01.h5ad')\n",
    "ad_fov02.write('./4_h5ad_files/ad_fov02.h5ad')\n",
    "ad_fov03.write('./4_h5ad_files/ad_fov03.h5ad')\n",
    "ad_fov04.write('./4_h5ad_files/ad_fov04.h5ad')\n",
    "ad_fov05.write('./4_h5ad_files/ad_fov05.h5ad')\n",
    "ad_fov06.write('./4_h5ad_files/ad_fov06.h5ad')\n",
    "ad_fov07.write('./4_h5ad_files/ad_fov07.h5ad')\n",
    "ad_fov08.write('./4_h5ad_files/ad_fov08.h5ad')\n",
    "ad_fov09.write('./4_h5ad_files/ad_fov09.h5ad')\n",
    "ad_fov10.write('./4_h5ad_files/ad_fov10.h5ad')\n",
    "ad_fov11.write('./4_h5ad_files/ad_fov11.h5ad')\n",
    "ad_fov12.write('./4_h5ad_files/ad_fov12.h5ad')\n",
    "ad_fov13.write('./4_h5ad_files/ad_fov13.h5ad')\n",
    "ad_fov14.write('./4_h5ad_files/ad_fov14.h5ad')\n",
    "ad_fov15.write('./4_h5ad_files/ad_fov15.h5ad')\n",
    "ad_fov16.write('./4_h5ad_files/ad_fov16.h5ad')\n",
    "ad_fov17.write('./4_h5ad_files/ad_fov17.h5ad')\n",
    "ad_fov18.write('./4_h5ad_files/ad_fov18.h5ad')\n",
    "ad_fov19.write('./4_h5ad_files/ad_fov19.h5ad')\n",
    "ad_fov20.write('./4_h5ad_files/ad_fov20.h5ad')\n",
    "ad_fov21.write('./4_h5ad_files/ad_fov21.h5ad')\n",
    "ad_fov22.write('./4_h5ad_files/ad_fov22.h5ad')\n",
    "ad_fov23.write('./4_h5ad_files/ad_fov23.h5ad')\n",
    "ad_fov24.write('./4_h5ad_files/ad_fov24.h5ad')\n",
    "ad_fov25.write('./4_h5ad_files/ad_fov25.h5ad')"
   ]
  },
  {
   "cell_type": "code",
   "execution_count": null,
   "id": "867baac6",
   "metadata": {},
   "outputs": [],
   "source": [
    "# Set `skip_data=False` if you also want to export the data.\n",
    "#ad_fov01.write_csvs(dirname='./5_CSV_files/ad_fov01', skip_data=False)\n",
    "ad_fov02.write_csvs(dirname='./5_CSV_files/ad_fov02', skip_data=False)\n",
    "ad_fov03.write_csvs(dirname='./5_CSV_files/ad_fov03', skip_data=False)\n",
    "ad_fov04.write_csvs(dirname='./5_CSV_files/ad_fov04', skip_data=False)\n",
    "ad_fov05.write_csvs(dirname='./5_CSV_files/ad_fov05', skip_data=False)\n",
    "ad_fov06.write_csvs(dirname='./5_CSV_files/ad_fov06', skip_data=False)\n",
    "ad_fov07.write_csvs(dirname='./5_CSV_files/ad_fov07', skip_data=False)\n",
    "ad_fov08.write_csvs(dirname='./5_CSV_files/ad_fov08', skip_data=False)\n",
    "ad_fov09.write_csvs(dirname='./5_CSV_files/ad_fov09', skip_data=False)\n",
    "ad_fov10.write_csvs(dirname='./5_CSV_files/ad_fov10', skip_data=False)\n",
    "ad_fov11.write_csvs(dirname='./5_CSV_files/ad_fov11', skip_data=False)\n",
    "ad_fov12.write_csvs(dirname='./5_CSV_files/ad_fov12', skip_data=False)\n",
    "ad_fov13.write_csvs(dirname='./5_CSV_files/ad_fov13', skip_data=False)\n",
    "ad_fov14.write_csvs(dirname='./5_CSV_files/ad_fov14', skip_data=False)\n",
    "ad_fov15.write_csvs(dirname='./5_CSV_files/ad_fov15', skip_data=False)\n",
    "ad_fov16.write_csvs(dirname='./5_CSV_files/ad_fov16', skip_data=False)\n",
    "ad_fov17.write_csvs(dirname='./5_CSV_files/ad_fov17', skip_data=False)\n",
    "ad_fov18.write_csvs(dirname='./5_CSV_files/ad_fov18', skip_data=False)\n",
    "ad_fov19.write_csvs(dirname='./5_CSV_files/ad_fov19', skip_data=False)\n",
    "ad_fov20.write_csvs(dirname='./5_CSV_files/ad_fov20', skip_data=False)\n",
    "ad_fov21.write_csvs(dirname='./5_CSV_files/ad_fov21', skip_data=False)\n",
    "ad_fov22.write_csvs(dirname='./5_CSV_files/ad_fov22', skip_data=False)\n",
    "ad_fov23.write_csvs(dirname='./5_CSV_files/ad_fov23', skip_data=False)\n",
    "ad_fov24.write_csvs(dirname='./5_CSV_files/ad_fov24', skip_data=False)\n",
    "ad_fov25.write_csvs(dirname='./5_CSV_files/ad_fov25', skip_data=False)\n"
   ]
  },
  {
   "cell_type": "code",
   "execution_count": null,
   "id": "ff0ba417",
   "metadata": {},
   "outputs": [],
   "source": [
    "# Adding cell ID 2 for analysis in ATHENA\n",
    "anno01 = pd.read_csv(filepath_or_buffer='./5_CSV_files/ad_fov01/obs.csv', index_col=0)"
   ]
  },
  {
   "cell_type": "code",
   "execution_count": null,
   "id": "0ec24a28",
   "metadata": {},
   "outputs": [],
   "source": [
    "anno01"
   ]
  },
  {
   "cell_type": "code",
   "execution_count": null,
   "id": "64341e5a",
   "metadata": {},
   "outputs": [],
   "source": [
    "ad_fov01.obs.index"
   ]
  },
  {
   "cell_type": "code",
   "execution_count": null,
   "id": "9a4f301d",
   "metadata": {},
   "outputs": [],
   "source": [
    "ad_fov01.obs['cell_ID_2'] = anno01['cell_ID_2'].values\n",
    "ad_fov02.obs['cell_ID_2'] = anno01['cell_ID_2'].values\n",
    "ad_fov03.obs['cell_ID_2'] = anno01['cell_ID_2'].values\n",
    "ad_fov04.obs['cell_ID_2'] = anno01['cell_ID_2'].values\n",
    "ad_fov05.obs['cell_ID_2'] = anno01['cell_ID_2'].values\n",
    "ad_fov06.obs['cell_ID_2'] = anno01['cell_ID_2'].values\n",
    "ad_fov07.obs['cell_ID_2'] = anno01['cell_ID_2'].values\n",
    "ad_fov08.obs['cell_ID_2'] = anno01['cell_ID_2'].values\n",
    "ad_fov09.obs['cell_ID_2'] = anno01['cell_ID_2'].values\n",
    "ad_fov10.obs['cell_ID_2'] = anno01['cell_ID_2'].values\n",
    "ad_fov11.obs['cell_ID_2'] = anno01['cell_ID_2'].values\n",
    "ad_fov12.obs['cell_ID_2'] = anno01['cell_ID_2'].values\n",
    "ad_fov13.obs['cell_ID_2'] = anno01['cell_ID_2'].values\n",
    "ad_fov14.obs['cell_ID_2'] = anno01['cell_ID_2'].values\n",
    "ad_fov15.obs['cell_ID_2'] = anno01['cell_ID_2'].values\n",
    "ad_fov16.obs['cell_ID_2'] = anno01['cell_ID_2'].values\n",
    "ad_fov17.obs['cell_ID_2'] = anno01['cell_ID_2'].values\n",
    "ad_fov18.obs['cell_ID_2'] = anno01['cell_ID_2'].values\n",
    "ad_fov19.obs['cell_ID_2'] = anno01['cell_ID_2'].values\n",
    "ad_fov20.obs['cell_ID_2'] = anno01['cell_ID_2'].values\n",
    "ad_fov21.obs['cell_ID_2'] = anno01['cell_ID_2'].values\n",
    "ad_fov22.obs['cell_ID_2'] = anno01['cell_ID_2'].values\n",
    "ad_fov23.obs['cell_ID_2'] = anno01['cell_ID_2'].values\n",
    "ad_fov24.obs['cell_ID_2'] = anno01['cell_ID_2'].values\n",
    "ad_fov25.obs['cell_ID_2'] = anno01['cell_ID_2'].values\n"
   ]
  },
  {
   "cell_type": "code",
   "execution_count": null,
   "id": "17967adf",
   "metadata": {},
   "outputs": [],
   "source": [
    "ad_fov01.obs['cell_ID_2']"
   ]
  },
  {
   "cell_type": "code",
   "execution_count": null,
   "id": "a4ccda13",
   "metadata": {},
   "outputs": [],
   "source": [
    "ad_fov01.write('./4_h5ad_files/ad_fov01.h5ad')\n",
    "ad_fov02.write('./4_h5ad_files/ad_fov02.h5ad')\n",
    "ad_fov03.write('./4_h5ad_files/ad_fov03.h5ad')\n",
    "ad_fov04.write('./4_h5ad_files/ad_fov04.h5ad')\n",
    "ad_fov05.write('./4_h5ad_files/ad_fov05.h5ad')\n",
    "ad_fov06.write('./4_h5ad_files/ad_fov06.h5ad')\n",
    "ad_fov07.write('./4_h5ad_files/ad_fov07.h5ad')\n",
    "ad_fov08.write('./4_h5ad_files/ad_fov08.h5ad')\n",
    "ad_fov09.write('./4_h5ad_files/ad_fov09.h5ad')\n",
    "ad_fov10.write('./4_h5ad_files/ad_fov10.h5ad')\n",
    "ad_fov11.write('./4_h5ad_files/ad_fov11.h5ad')\n",
    "ad_fov12.write('./4_h5ad_files/ad_fov12.h5ad')\n",
    "ad_fov13.write('./4_h5ad_files/ad_fov13.h5ad')\n",
    "ad_fov14.write('./4_h5ad_files/ad_fov14.h5ad')\n",
    "ad_fov15.write('./4_h5ad_files/ad_fov15.h5ad')\n",
    "ad_fov16.write('./4_h5ad_files/ad_fov16.h5ad')\n",
    "ad_fov17.write('./4_h5ad_files/ad_fov17.h5ad')\n",
    "ad_fov18.write('./4_h5ad_files/ad_fov18.h5ad')\n",
    "ad_fov19.write('./4_h5ad_files/ad_fov19.h5ad')\n",
    "ad_fov20.write('./4_h5ad_files/ad_fov20.h5ad')\n",
    "ad_fov21.write('./4_h5ad_files/ad_fov21.h5ad')\n",
    "ad_fov22.write('./4_h5ad_files/ad_fov22.h5ad')\n",
    "ad_fov23.write('./4_h5ad_files/ad_fov23.h5ad')\n",
    "ad_fov24.write('./4_h5ad_files/ad_fov24.h5ad')\n",
    "ad_fov25.write('./4_h5ad_files/ad_fov25.h5ad')"
   ]
  },
  {
   "cell_type": "code",
   "execution_count": null,
   "id": "fc9d5692",
   "metadata": {},
   "outputs": [],
   "source": [
    "ad_fov01"
   ]
  },
  {
   "cell_type": "markdown",
   "id": "92bc99aa",
   "metadata": {},
   "source": [
    "# Subset anndata object according to the clinical annotations"
   ]
  },
  {
   "cell_type": "code",
   "execution_count": null,
   "id": "98df043e",
   "metadata": {},
   "outputs": [],
   "source": [
    "#Epithelial cluster\n"
   ]
  },
  {
   "cell_type": "code",
   "execution_count": null,
   "id": "35c75b27",
   "metadata": {},
   "outputs": [],
   "source": [
    "#TME cluster\n"
   ]
  },
  {
   "cell_type": "code",
   "execution_count": null,
   "id": "d44e0fed",
   "metadata": {},
   "outputs": [],
   "source": [
    "#CMS\n"
   ]
  },
  {
   "cell_type": "code",
   "execution_count": null,
   "id": "a5553816",
   "metadata": {},
   "outputs": [],
   "source": [
    "#MMR Status\n"
   ]
  },
  {
   "cell_type": "code",
   "execution_count": null,
   "id": "a2266386",
   "metadata": {},
   "outputs": [],
   "source": []
  },
  {
   "cell_type": "markdown",
   "id": "48022646",
   "metadata": {},
   "source": [
    "# Spatial neighbors and neighborhood enrichment "
   ]
  },
  {
   "cell_type": "code",
   "execution_count": null,
   "id": "2a45bcf2",
   "metadata": {},
   "outputs": [],
   "source": [
    "import nhood_enrich_radius as nr\n",
    "import nhood_enrich as ne"
   ]
  },
  {
   "cell_type": "code",
   "execution_count": null,
   "id": "9a040d13",
   "metadata": {
    "scrolled": true
   },
   "outputs": [],
   "source": [
    "ad_fov04"
   ]
  },
  {
   "cell_type": "code",
   "execution_count": null,
   "id": "da9323a1",
   "metadata": {},
   "outputs": [],
   "source": [
    "# Spatial graph based on knn=4\n",
    "ne.nhood_enrichment_hyperion(ad_fov01,'CIPR_annotated_clusters','sample_ID',average_over_rois=False)\n",
    "ne.nhood_enrichment_hyperion(ad_fov02,'CIPR_annotated_clusters','sample_ID',average_over_rois=False)\n",
    "ne.nhood_enrichment_hyperion(ad_fov03,'CIPR_annotated_clusters','sample_ID',average_over_rois=False)\n",
    "ne.nhood_enrichment_hyperion(ad_fov04,'CIPR_annotated_clusters','sample_ID',average_over_rois=False)\n",
    "ne.nhood_enrichment_hyperion(ad_fov05,'CIPR_annotated_clusters','sample_ID',average_over_rois=False)\n",
    "ne.nhood_enrichment_hyperion(ad_fov06,'CIPR_annotated_clusters','sample_ID',average_over_rois=False)\n",
    "ne.nhood_enrichment_hyperion(ad_fov07,'CIPR_annotated_clusters','sample_ID',average_over_rois=False)\n",
    "ne.nhood_enrichment_hyperion(ad_fov08,'CIPR_annotated_clusters','sample_ID',average_over_rois=False)\n",
    "ne.nhood_enrichment_hyperion(ad_fov09,'CIPR_annotated_clusters','sample_ID',average_over_rois=False)\n",
    "ne.nhood_enrichment_hyperion(ad_fov10,'CIPR_annotated_clusters','sample_ID',average_over_rois=False)\n",
    "ne.nhood_enrichment_hyperion(ad_fov11,'CIPR_annotated_clusters','sample_ID',average_over_rois=False)\n",
    "ne.nhood_enrichment_hyperion(ad_fov12,'CIPR_annotated_clusters','sample_ID',average_over_rois=False)\n",
    "ne.nhood_enrichment_hyperion(ad_fov13,'CIPR_annotated_clusters','sample_ID',average_over_rois=False)\n",
    "ne.nhood_enrichment_hyperion(ad_fov14,'CIPR_annotated_clusters','sample_ID',average_over_rois=False)\n",
    "ne.nhood_enrichment_hyperion(ad_fov15,'CIPR_annotated_clusters','sample_ID',average_over_rois=False)\n",
    "ne.nhood_enrichment_hyperion(ad_fov16,'CIPR_annotated_clusters','sample_ID',average_over_rois=False)\n",
    "ne.nhood_enrichment_hyperion(ad_fov17,'CIPR_annotated_clusters','sample_ID',average_over_rois=False)\n",
    "ne.nhood_enrichment_hyperion(ad_fov18,'CIPR_annotated_clusters','sample_ID',average_over_rois=False)\n",
    "ne.nhood_enrichment_hyperion(ad_fov19,'CIPR_annotated_clusters','sample_ID',average_over_rois=False)\n",
    "ne.nhood_enrichment_hyperion(ad_fov20,'CIPR_annotated_clusters','sample_ID',average_over_rois=False)\n",
    "ne.nhood_enrichment_hyperion(ad_fov21,'CIPR_annotated_clusters','sample_ID',average_over_rois=False)\n",
    "ne.nhood_enrichment_hyperion(ad_fov22,'CIPR_annotated_clusters','sample_ID',average_over_rois=False)\n",
    "ne.nhood_enrichment_hyperion(ad_fov23,'CIPR_annotated_clusters','sample_ID',average_over_rois=False)\n",
    "ne.nhood_enrichment_hyperion(ad_fov24,'CIPR_annotated_clusters','sample_ID',average_over_rois=False)\n",
    "ne.nhood_enrichment_hyperion(ad_fov25,'CIPR_annotated_clusters','sample_ID',average_over_rois=False)\n"
   ]
  },
  {
   "cell_type": "code",
   "execution_count": null,
   "id": "5602eef8",
   "metadata": {},
   "outputs": [],
   "source": [
    "sq.pl.nhood_enrichment(ad_fov01, cluster_key=\"CIPR_annotated_clusters\", cmap='bwr', method='ward', mode='zscore', vmin=-2, vmax=2, save='fov01_knn.pdf')\n",
    "sq.pl.nhood_enrichment(ad_fov02, cluster_key=\"CIPR_annotated_clusters\", cmap='bwr', method='ward', mode='zscore', vmin=-2, vmax=2, save='fov02_knn.pdf')\n",
    "sq.pl.nhood_enrichment(ad_fov03, cluster_key=\"CIPR_annotated_clusters\", cmap='bwr', method='ward', mode='zscore', vmin=-2, vmax=2, save='fov03_knn.pdf')\n",
    "sq.pl.nhood_enrichment(ad_fov04, cluster_key=\"CIPR_annotated_clusters\", cmap='bwr', method='ward', mode='zscore', vmin=-2, vmax=2, save='fov04_knn.pdf')\n",
    "sq.pl.nhood_enrichment(ad_fov05, cluster_key=\"CIPR_annotated_clusters\", cmap='bwr', method='ward', mode='zscore', vmin=-2, vmax=2, save='fov05_knn.pdf')\n",
    "sq.pl.nhood_enrichment(ad_fov06, cluster_key=\"CIPR_annotated_clusters\", cmap='bwr', method='ward', mode='zscore', vmin=-2, vmax=2, save='fov06_knn.pdf')\n",
    "sq.pl.nhood_enrichment(ad_fov07, cluster_key=\"CIPR_annotated_clusters\", cmap='bwr', method='ward', mode='zscore', vmin=-2, vmax=2, save='fov07_knn.pdf')\n",
    "sq.pl.nhood_enrichment(ad_fov08, cluster_key=\"CIPR_annotated_clusters\", cmap='bwr', method='ward', mode='zscore', vmin=-2, vmax=2, save='fov08_knn.pdf')\n",
    "sq.pl.nhood_enrichment(ad_fov09, cluster_key=\"CIPR_annotated_clusters\", cmap='bwr', method='ward', mode='zscore', vmin=-2, vmax=2, save='fov09_knn.pdf')\n",
    "sq.pl.nhood_enrichment(ad_fov10, cluster_key=\"CIPR_annotated_clusters\", cmap='bwr', method='ward', mode='zscore', vmin=-2, vmax=2, save='fov10_knn.pdf')\n",
    "sq.pl.nhood_enrichment(ad_fov11, cluster_key=\"CIPR_annotated_clusters\", cmap='bwr', method='ward', mode='zscore', vmin=-2, vmax=2, save='fov11_knn.pdf')\n",
    "sq.pl.nhood_enrichment(ad_fov12, cluster_key=\"CIPR_annotated_clusters\", cmap='bwr', method='ward', mode='zscore', vmin=-2, vmax=2, save='fov12_knn.pdf')\n",
    "sq.pl.nhood_enrichment(ad_fov13, cluster_key=\"CIPR_annotated_clusters\", cmap='bwr', method='ward', mode='zscore', vmin=-2, vmax=2, save='fov13_knn.pdf')\n",
    "sq.pl.nhood_enrichment(ad_fov14, cluster_key=\"CIPR_annotated_clusters\", cmap='bwr', method='ward', mode='zscore', vmin=-2, vmax=2, save='fov14_knn.pdf')\n",
    "sq.pl.nhood_enrichment(ad_fov15, cluster_key=\"CIPR_annotated_clusters\", cmap='bwr', method='ward', mode='zscore', vmin=-2, vmax=2, save='fov15_knn.pdf')\n",
    "sq.pl.nhood_enrichment(ad_fov16, cluster_key=\"CIPR_annotated_clusters\", cmap='bwr', method='ward', mode='zscore', vmin=-2, vmax=2, save='fov16_knn.pdf')\n",
    "sq.pl.nhood_enrichment(ad_fov17, cluster_key=\"CIPR_annotated_clusters\", cmap='bwr', method='ward', mode='zscore', vmin=-2, vmax=2, save='fov17_knn.pdf')\n",
    "sq.pl.nhood_enrichment(ad_fov18, cluster_key=\"CIPR_annotated_clusters\", cmap='bwr', method='ward', mode='zscore', vmin=-2, vmax=2, save='fov18_knn.pdf')\n",
    "sq.pl.nhood_enrichment(ad_fov19, cluster_key=\"CIPR_annotated_clusters\", cmap='bwr', method='ward', mode='zscore', vmin=-2, vmax=2, save='fov19_knn.pdf')\n",
    "sq.pl.nhood_enrichment(ad_fov20, cluster_key=\"CIPR_annotated_clusters\", cmap='bwr', method='ward', mode='zscore', vmin=-2, vmax=2, save='fov20_knn.pdf')\n",
    "sq.pl.nhood_enrichment(ad_fov21, cluster_key=\"CIPR_annotated_clusters\", cmap='bwr', method='ward', mode='zscore', vmin=-2, vmax=2, save='fov21_knn.pdf')\n",
    "sq.pl.nhood_enrichment(ad_fov22, cluster_key=\"CIPR_annotated_clusters\", cmap='bwr', method='ward', mode='zscore', vmin=-2, vmax=2, save='fov22_knn.pdf')\n",
    "sq.pl.nhood_enrichment(ad_fov23, cluster_key=\"CIPR_annotated_clusters\", cmap='bwr', method='ward', mode='zscore', vmin=-2, vmax=2, save='fov23_knn.pdf')\n",
    "sq.pl.nhood_enrichment(ad_fov24, cluster_key=\"CIPR_annotated_clusters\", cmap='bwr', method='ward', mode='zscore', vmin=-2, vmax=2, save='fov24_knn.pdf')\n",
    "sq.pl.nhood_enrichment(ad_fov25, cluster_key=\"CIPR_annotated_clusters\", cmap='bwr', method='ward', mode='zscore', vmin=-2, vmax=2, save='fov25_knn.pdf')\n",
    "\n",
    "#method='ward', palette = colour_palette['colour'], "
   ]
  },
  {
   "cell_type": "code",
   "execution_count": null,
   "id": "c1fe8cbc",
   "metadata": {},
   "outputs": [],
   "source": [
    "# Spatial graph based on radius=1\n",
    "nr.nhood_enrichment_hyperion(ad_fov01,'CIPR_annotated_clusters','sample_ID',average_over_rois=False)\n",
    "nr.nhood_enrichment_hyperion(ad_fov02,'CIPR_annotated_clusters','sample_ID',average_over_rois=False)\n",
    "nr.nhood_enrichment_hyperion(ad_fov03,'CIPR_annotated_clusters','sample_ID',average_over_rois=False)\n",
    "nr.nhood_enrichment_hyperion(ad_fov04,'CIPR_annotated_clusters','sample_ID',average_over_rois=False)\n",
    "nr.nhood_enrichment_hyperion(ad_fov05,'CIPR_annotated_clusters','sample_ID',average_over_rois=False)\n",
    "nr.nhood_enrichment_hyperion(ad_fov06,'CIPR_annotated_clusters','sample_ID',average_over_rois=False)\n",
    "nr.nhood_enrichment_hyperion(ad_fov07,'CIPR_annotated_clusters','sample_ID',average_over_rois=False)\n",
    "nr.nhood_enrichment_hyperion(ad_fov08,'CIPR_annotated_clusters','sample_ID',average_over_rois=False)\n",
    "nr.nhood_enrichment_hyperion(ad_fov09,'CIPR_annotated_clusters','sample_ID',average_over_rois=False)\n",
    "nr.nhood_enrichment_hyperion(ad_fov10,'CIPR_annotated_clusters','sample_ID',average_over_rois=False)\n",
    "nr.nhood_enrichment_hyperion(ad_fov11,'CIPR_annotated_clusters','sample_ID',average_over_rois=False)\n",
    "nr.nhood_enrichment_hyperion(ad_fov12,'CIPR_annotated_clusters','sample_ID',average_over_rois=False)\n",
    "nr.nhood_enrichment_hyperion(ad_fov13,'CIPR_annotated_clusters','sample_ID',average_over_rois=False)\n",
    "nr.nhood_enrichment_hyperion(ad_fov14,'CIPR_annotated_clusters','sample_ID',average_over_rois=False)\n",
    "nr.nhood_enrichment_hyperion(ad_fov15,'CIPR_annotated_clusters','sample_ID',average_over_rois=False)\n",
    "nr.nhood_enrichment_hyperion(ad_fov16,'CIPR_annotated_clusters','sample_ID',average_over_rois=False)\n",
    "nr.nhood_enrichment_hyperion(ad_fov17,'CIPR_annotated_clusters','sample_ID',average_over_rois=False)\n",
    "nr.nhood_enrichment_hyperion(ad_fov18,'CIPR_annotated_clusters','sample_ID',average_over_rois=False)\n",
    "nr.nhood_enrichment_hyperion(ad_fov19,'CIPR_annotated_clusters','sample_ID',average_over_rois=False)\n",
    "nr.nhood_enrichment_hyperion(ad_fov20,'CIPR_annotated_clusters','sample_ID',average_over_rois=False)\n",
    "nr.nhood_enrichment_hyperion(ad_fov21,'CIPR_annotated_clusters','sample_ID',average_over_rois=False)\n",
    "nr.nhood_enrichment_hyperion(ad_fov22,'CIPR_annotated_clusters','sample_ID',average_over_rois=False)\n",
    "nr.nhood_enrichment_hyperion(ad_fov23,'CIPR_annotated_clusters','sample_ID',average_over_rois=False)\n",
    "nr.nhood_enrichment_hyperion(ad_fov24,'CIPR_annotated_clusters','sample_ID',average_over_rois=False)\n",
    "nr.nhood_enrichment_hyperion(ad_fov25,'CIPR_annotated_clusters','sample_ID',average_over_rois=False)"
   ]
  },
  {
   "cell_type": "code",
   "execution_count": null,
   "id": "b2978c74",
   "metadata": {},
   "outputs": [],
   "source": [
    "sq.pl.nhood_enrichment(ad_fov01, cluster_key=\"CIPR_annotated_clusters\", cmap='bwr', method='ward', mode='zscore', vmin=-2, vmax=2, save='fov01_radius.pdf')\n",
    "sq.pl.nhood_enrichment(ad_fov02, cluster_key=\"CIPR_annotated_clusters\", cmap='bwr', method='ward', mode='zscore', vmin=-2, vmax=2, save='fov02_radius.pdf')\n",
    "sq.pl.nhood_enrichment(ad_fov03, cluster_key=\"CIPR_annotated_clusters\", cmap='bwr', method='ward', mode='zscore', vmin=-2, vmax=2, save='fov03_radius.pdf')\n",
    "sq.pl.nhood_enrichment(ad_fov04, cluster_key=\"CIPR_annotated_clusters\", cmap='bwr', method='ward', mode='zscore', vmin=-2, vmax=2, save='fov04_radius.pdf')\n",
    "sq.pl.nhood_enrichment(ad_fov05, cluster_key=\"CIPR_annotated_clusters\", cmap='bwr', method='ward', mode='zscore', vmin=-2, vmax=2, save='fov05_radius.pdf')\n",
    "sq.pl.nhood_enrichment(ad_fov06, cluster_key=\"CIPR_annotated_clusters\", cmap='bwr', method='ward', mode='zscore', vmin=-2, vmax=2, save='fov06_radius.pdf')\n",
    "sq.pl.nhood_enrichment(ad_fov07, cluster_key=\"CIPR_annotated_clusters\", cmap='bwr', method='ward', mode='zscore', vmin=-2, vmax=2, save='fov07_radius.pdf')\n",
    "sq.pl.nhood_enrichment(ad_fov08, cluster_key=\"CIPR_annotated_clusters\", cmap='bwr', method='ward', mode='zscore', vmin=-2, vmax=2, save='fov08_radius.pdf')\n",
    "sq.pl.nhood_enrichment(ad_fov09, cluster_key=\"CIPR_annotated_clusters\", cmap='bwr', method='ward', mode='zscore', vmin=-2, vmax=2, save='fov09_radius.pdf')\n",
    "sq.pl.nhood_enrichment(ad_fov10, cluster_key=\"CIPR_annotated_clusters\", cmap='bwr', method='ward', mode='zscore', vmin=-2, vmax=2, save='fov10_radius.pdf')\n",
    "sq.pl.nhood_enrichment(ad_fov11, cluster_key=\"CIPR_annotated_clusters\", cmap='bwr', method='ward', mode='zscore', vmin=-2, vmax=2, save='fov11_radius.pdf')\n",
    "sq.pl.nhood_enrichment(ad_fov12, cluster_key=\"CIPR_annotated_clusters\", cmap='bwr', method='ward', mode='zscore', vmin=-2, vmax=2, save='fov12_radius.pdf')\n",
    "sq.pl.nhood_enrichment(ad_fov13, cluster_key=\"CIPR_annotated_clusters\", cmap='bwr', method='ward', mode='zscore', vmin=-2, vmax=2, save='fov13_radius.pdf')\n",
    "sq.pl.nhood_enrichment(ad_fov14, cluster_key=\"CIPR_annotated_clusters\", cmap='bwr', method='ward', mode='zscore', vmin=-2, vmax=2, save='fov14_radius.pdf')\n",
    "sq.pl.nhood_enrichment(ad_fov15, cluster_key=\"CIPR_annotated_clusters\", cmap='bwr', method='ward', mode='zscore', vmin=-2, vmax=2, save='fov15_radius.pdf')\n",
    "sq.pl.nhood_enrichment(ad_fov16, cluster_key=\"CIPR_annotated_clusters\", cmap='bwr', method='ward', mode='zscore', vmin=-2, vmax=2, save='fov16_radius.pdf')\n",
    "sq.pl.nhood_enrichment(ad_fov17, cluster_key=\"CIPR_annotated_clusters\", cmap='bwr', method='ward', mode='zscore', vmin=-2, vmax=2, save='fov17_radius.pdf')\n",
    "sq.pl.nhood_enrichment(ad_fov18, cluster_key=\"CIPR_annotated_clusters\", cmap='bwr', method='ward', mode='zscore', vmin=-2, vmax=2, save='fov18_radius.pdf')\n",
    "sq.pl.nhood_enrichment(ad_fov19, cluster_key=\"CIPR_annotated_clusters\", cmap='bwr', method='ward', mode='zscore', vmin=-2, vmax=2, save='fov19_radius.pdf')\n",
    "sq.pl.nhood_enrichment(ad_fov20, cluster_key=\"CIPR_annotated_clusters\", cmap='bwr', method='ward', mode='zscore', vmin=-2, vmax=2, save='fov20_radius.pdf')\n",
    "sq.pl.nhood_enrichment(ad_fov21, cluster_key=\"CIPR_annotated_clusters\", cmap='bwr', method='ward', mode='zscore', vmin=-2, vmax=2, save='fov21_radius.pdf')\n",
    "sq.pl.nhood_enrichment(ad_fov22, cluster_key=\"CIPR_annotated_clusters\", cmap='bwr', method='ward', mode='zscore', vmin=-2, vmax=2, save='fov22_radius.pdf')\n",
    "sq.pl.nhood_enrichment(ad_fov23, cluster_key=\"CIPR_annotated_clusters\", cmap='bwr', method='ward', mode='zscore', vmin=-2, vmax=2, save='fov23_radius.pdf')\n",
    "sq.pl.nhood_enrichment(ad_fov24, cluster_key=\"CIPR_annotated_clusters\", cmap='bwr', method='ward', mode='zscore', vmin=-2, vmax=2, save='fov24_radius.pdf')\n",
    "sq.pl.nhood_enrichment(ad_fov25, cluster_key=\"CIPR_annotated_clusters\", cmap='bwr', method='ward', mode='zscore', vmin=-2, vmax=2, save='fov25_radius.pdf')\n",
    "\n",
    "#method='ward', palette = colour_palette['colour'], "
   ]
  },
  {
   "cell_type": "code",
   "execution_count": null,
   "id": "47d95fb1",
   "metadata": {},
   "outputs": [],
   "source": [
    "sq.gr.spatial_neighbors(ad_fov01, radius=40, coord_type=\"generic\")\n",
    "sq.gr.nhood_enrichment(ad_fov01, cluster_key='CIPR_annotated_clusters')   "
   ]
  },
  {
   "cell_type": "code",
   "execution_count": null,
   "id": "fffbce2c",
   "metadata": {},
   "outputs": [],
   "source": [
    "ad_fov01"
   ]
  },
  {
   "cell_type": "code",
   "execution_count": null,
   "id": "22f27bd5",
   "metadata": {
    "scrolled": false
   },
   "outputs": [],
   "source": [
    "sc.set_figure_params(dpi=300, dpi_save=300, figsize=(15, 8))\n",
    "sc.pl.spatial(ad_fov01, color ='CIPR_annotated_clusters', neighbors_key='spatial_neighbors', spot_size=30, \n",
    "                  edges=True, edges_width=0.5, edges_color='black', img_key=None, library_id=\"1\", palette = colour_palette['colour'],\n",
    "                  add_outline=False,return_fig=True, save='fov01_radius40.pdf')\n",
    "\n",
    "sc.pl.spatial(ad_fov02, color ='CIPR_annotated_clusters', neighbors_key='spatial_neighbors', spot_size=30, \n",
    "                  edges=True, edges_width=0.5, edges_color='black', img_key=None, library_id=\"2\", palette = colour_palette['colour'],\n",
    "                  add_outline=False,return_fig=True, save='fov02_radius40.pdf')\n",
    "\n",
    "sc.pl.spatial(ad_fov03, color ='CIPR_annotated_clusters', neighbors_key='spatial_neighbors', spot_size=30, \n",
    "                  edges=True, edges_width=0.5, edges_color='black', img_key=None, library_id=\"3\", palette = colour_palette['colour'],\n",
    "                  add_outline=False,return_fig=True, save='fov03_radius40.pdf')\n",
    "\n",
    "sc.pl.spatial(ad_fov04, color ='CIPR_annotated_clusters', neighbors_key='spatial_neighbors', spot_size=30, \n",
    "                  edges=True, edges_width=0.5, edges_color='black', img_key=None, library_id=\"4\", palette = colour_palette['colour'],\n",
    "                  add_outline=False,return_fig=True, save='fov04_radius40.pdf')\n",
    "\n",
    "sc.pl.spatial(ad_fov05, color ='CIPR_annotated_clusters', neighbors_key='spatial_neighbors', spot_size=30, \n",
    "                  edges=True, edges_width=0.5, edges_color='black', img_key=None, library_id=\"5\", palette = colour_palette['colour'],\n",
    "                  add_outline=False,return_fig=True, save='fov05_radius40.pdf')\n",
    "\n",
    "sc.pl.spatial(ad_fov06, color ='CIPR_annotated_clusters', neighbors_key='spatial_neighbors', spot_size=30, \n",
    "                  edges=True, edges_width=0.5, edges_color='black', img_key=None, library_id=\"6\", palette = colour_palette['colour'],\n",
    "                  add_outline=False,return_fig=True, save='fov06_radius40.pdf')\n",
    "\n",
    "sc.pl.spatial(ad_fov07, color ='CIPR_annotated_clusters', neighbors_key='spatial_neighbors', spot_size=30, \n",
    "                  edges=True, edges_width=0.5, edges_color='black', img_key=None, library_id=\"7\", palette = colour_palette['colour'],\n",
    "                  add_outline=False,return_fig=True, save='fov07_radius40.pdf')\n",
    "\n",
    "sc.pl.spatial(ad_fov08, color ='CIPR_annotated_clusters', neighbors_key='spatial_neighbors', spot_size=30, \n",
    "                  edges=True, edges_width=0.5, edges_color='black', img_key=None, library_id=\"8\", palette = colour_palette['colour'],\n",
    "                  add_outline=False,return_fig=True, save='fov08_radius40.pdf')\n",
    "\n",
    "sc.pl.spatial(ad_fov09, color ='CIPR_annotated_clusters', neighbors_key='spatial_neighbors', spot_size=30, \n",
    "                  edges=True, edges_width=0.5, edges_color='black', img_key=None, library_id=\"9\", palette = colour_palette['colour'],\n",
    "                  add_outline=False,return_fig=True, save='fov09_radius40.pdf')\n",
    "\n",
    "sc.pl.spatial(ad_fov10, color ='CIPR_annotated_clusters', neighbors_key='spatial_neighbors', spot_size=30, \n",
    "                  edges=True, edges_width=0.5, edges_color='black', img_key=None, library_id=\"10\", palette = colour_palette['colour'],\n",
    "                  add_outline=False,return_fig=True, save='fov10_radius40.pdf')\n",
    "\n",
    "sc.pl.spatial(ad_fov11, color ='CIPR_annotated_clusters', neighbors_key='spatial_neighbors', spot_size=30, \n",
    "                  edges=True, edges_width=0.5, edges_color='black', img_key=None, library_id=\"11\", palette = colour_palette['colour'],\n",
    "                  add_outline=False,return_fig=True, save='fov11_radius40.pdf')\n",
    "\n",
    "sc.pl.spatial(ad_fov12, color ='CIPR_annotated_clusters', neighbors_key='spatial_neighbors', spot_size=30, \n",
    "                  edges=True, edges_width=0.5, edges_color='black', img_key=None, library_id=\"12\", palette = colour_palette['colour'],\n",
    "                  add_outline=False,return_fig=True, save='fov12_radius40.pdf')\n",
    "\n",
    "sc.pl.spatial(ad_fov13, color ='CIPR_annotated_clusters', neighbors_key='spatial_neighbors', spot_size=30, \n",
    "                  edges=True, edges_width=0.5, edges_color='black', img_key=None, library_id=\"13\", palette = colour_palette['colour'],\n",
    "                  add_outline=False,return_fig=True, save='fov13_radius40.pdf')\n",
    "\n",
    "sc.pl.spatial(ad_fov14, color ='CIPR_annotated_clusters', neighbors_key='spatial_neighbors', spot_size=30, \n",
    "                  edges=True, edges_width=0.5, edges_color='black', img_key=None, library_id=\"14\", palette = colour_palette['colour'],\n",
    "                  add_outline=False,return_fig=True, save='fov14_radius40.pdf')\n",
    "\n",
    "sc.pl.spatial(ad_fov15, color ='CIPR_annotated_clusters', neighbors_key='spatial_neighbors', spot_size=30, \n",
    "                  edges=True, edges_width=0.5, edges_color='black', img_key=None, library_id=\"15\", palette = colour_palette['colour'],\n",
    "                  add_outline=False,return_fig=True, save='fov15_radius40.pdf')\n",
    "\n",
    "sc.pl.spatial(ad_fov16, color ='CIPR_annotated_clusters', neighbors_key='spatial_neighbors', spot_size=30, \n",
    "                  edges=True, edges_width=0.5, edges_color='black', img_key=None, library_id=\"16\", palette = colour_palette['colour'],\n",
    "                  add_outline=False,return_fig=True, save='fov16_radius40.pdf')\n",
    "\n",
    "sc.pl.spatial(ad_fov17, color ='CIPR_annotated_clusters', neighbors_key='spatial_neighbors', spot_size=30, \n",
    "                  edges=True, edges_width=0.5, edges_color='black', img_key=None, library_id=\"17\", palette = colour_palette['colour'],\n",
    "                  add_outline=False,return_fig=True, save='fov17_radius40.pdf')\n",
    "\n",
    "sc.pl.spatial(ad_fov18, color ='CIPR_annotated_clusters', neighbors_key='spatial_neighbors', spot_size=30, \n",
    "                  edges=True, edges_width=0.5, edges_color='black', img_key=None, library_id=\"18\", palette = colour_palette['colour'],\n",
    "                  add_outline=False,return_fig=True, save='fov18_radius40.pdf')\n",
    "\n",
    "sc.pl.spatial(ad_fov19, color ='CIPR_annotated_clusters', neighbors_key='spatial_neighbors', spot_size=30, \n",
    "                  edges=True, edges_width=0.5, edges_color='black', img_key=None, library_id=\"19\", palette = colour_palette['colour'],\n",
    "                  add_outline=False,return_fig=True, save='fov19_radius40.pdf')\n",
    "\n",
    "sc.pl.spatial(ad_fov20, color ='CIPR_annotated_clusters', neighbors_key='spatial_neighbors', spot_size=30, \n",
    "                  edges=True, edges_width=0.5, edges_color='black', img_key=None, library_id=\"20\", palette = colour_palette['colour'],\n",
    "                  add_outline=False,return_fig=True, save='fov20_radius40.pdf')\n",
    "\n",
    "sc.pl.spatial(ad_fov21, color ='CIPR_annotated_clusters', neighbors_key='spatial_neighbors', spot_size=30, \n",
    "                  edges=True, edges_width=0.5, edges_color='black', img_key=None, library_id=\"21\", palette = colour_palette['colour'],\n",
    "                  add_outline=False,return_fig=True, save='fov21_radius40.pdf')\n",
    "\n",
    "sc.pl.spatial(ad_fov22, color ='CIPR_annotated_clusters', neighbors_key='spatial_neighbors', spot_size=30, \n",
    "                  edges=True, edges_width=0.5, edges_color='black', img_key=None, library_id=\"22\", palette = colour_palette['colour'],\n",
    "                  add_outline=False,return_fig=True, save='fov22_radius40.pdf')\n",
    "\n",
    "sc.pl.spatial(ad_fov23, color ='CIPR_annotated_clusters', neighbors_key='spatial_neighbors', spot_size=30, \n",
    "                  edges=True, edges_width=0.5, edges_color='black', img_key=None, library_id=\"23\", palette = colour_palette['colour'],\n",
    "                  add_outline=False,return_fig=True, save='fov23_radius40.pdf')\n",
    "\n",
    "sc.pl.spatial(ad_fov24, color ='CIPR_annotated_clusters', neighbors_key='spatial_neighbors', spot_size=30, \n",
    "                  edges=True, edges_width=0.5, edges_color='black', img_key=None, library_id=\"24\", palette = colour_palette['colour'],\n",
    "                  add_outline=False,return_fig=True, save='fov24_radius40.pdf')\n",
    "\n",
    "sc.pl.spatial(ad_fov25, color ='CIPR_annotated_clusters', neighbors_key='spatial_neighbors', spot_size=30, \n",
    "                  edges=True, edges_width=0.5, edges_color='black', img_key=None, library_id=\"25\", palette = colour_palette['colour'],\n",
    "                  add_outline=False,return_fig=True, save='fov25_radius40.pdf')"
   ]
  },
  {
   "cell_type": "code",
   "execution_count": null,
   "id": "7dbef7ff",
   "metadata": {
    "scrolled": true
   },
   "outputs": [],
   "source": [
    "sc.set_figure_params(dpi=300, dpi_save=300, figsize=(15, 8))\n",
    "sq.pl.spatial_segment(\n",
    "    ad_fov03,\n",
    "    shape=\"hex\",\n",
    "    color=\"CIPR_annotated_clusters\",\n",
    "    library_key=\"fov\", library_id=\"3\",\n",
    "    seg_cell_id=\"cell_ID\", connectivity_key='spatial_distances',\n",
    "    img=False, edges_width=0.5, edges_color='black',\n",
    "    size=1,\n",
    "    seg_outline=True, save='fov03_radius60_v2.pdf')"
   ]
  },
  {
   "cell_type": "code",
   "execution_count": null,
   "id": "0b244856",
   "metadata": {},
   "outputs": [],
   "source": [
    "sc.set_figure_params(dpi=300, dpi_save=300, figsize=(8, 4))\n",
    "#specific cell types - clustered or dispersed T cells\n",
    "sc.pl.spatial(ad_fov01, color ='CIPR_annotated_clusters', palette = colour_palette['colour'], neighbors_key=\"spatial_neighbors\", \n",
    "                  groups=[\"CD4+ T cell\", \"CD8+ T cell\", \"Treg\"], spot_size=40, edges=True, edges_width=0.5, edges_color='grey', img_key=None, library_id=\"1\", \n",
    "                  na_color='white', add_outline=False,return_fig=True, save='fov01_Tcells.pdf')\n",
    "\n",
    "sc.pl.spatial(ad_fov02, color ='CIPR_annotated_clusters', palette = colour_palette['colour'], neighbors_key=\"spatial_neighbors\", \n",
    "                  groups=[\"CD4+ T cell\", \"CD8+ T cell\", \"Treg\"], spot_size=40, edges=True, edges_width=0.5, edges_color='grey', img_key=None, library_id=\"2\", \n",
    "                  na_color='white', add_outline=False,return_fig=True, save='fov02_Tcells.pdf')\n",
    "\n",
    "sc.pl.spatial(ad_fov03, color ='CIPR_annotated_clusters', palette = colour_palette['colour'], neighbors_key=\"spatial_neighbors\", \n",
    "                  groups=[\"CD4+ T cell\", \"CD8+ T cell\", \"Treg\"], spot_size=40, edges=True, edges_width=0.5, edges_color='grey', img_key=None, library_id=\"3\", \n",
    "                  na_color='white', add_outline=False,return_fig=True, save='fov03_Tcells.pdf')\n",
    "\n",
    "sc.pl.spatial(ad_fov04, color ='CIPR_annotated_clusters', palette = colour_palette['colour'], neighbors_key=\"spatial_neighbors\", \n",
    "                  groups=[\"CD4+ T cell\", \"CD8+ T cell\", \"Treg\"], spot_size=40, edges=True, edges_width=0.5, edges_color='grey', img_key=None, library_id=\"4\", \n",
    "                  na_color='white', add_outline=False,return_fig=True, save='fov04_Tcells.pdf')\n",
    "\n",
    "sc.pl.spatial(ad_fov05, color ='CIPR_annotated_clusters', palette = colour_palette['colour'], neighbors_key=\"spatial_neighbors\", \n",
    "                  groups=[\"CD4+ T cell\", \"CD8+ T cell\", \"Treg\"], spot_size=40, edges=True, edges_width=0.5, edges_color='grey', img_key=None, library_id=\"5\", \n",
    "                  na_color='white', add_outline=False,return_fig=True, save='fov05_Tcells.pdf')\n",
    "\n",
    "sc.pl.spatial(ad_fov06, color ='CIPR_annotated_clusters', palette = colour_palette['colour'], neighbors_key=\"spatial_neighbors\", \n",
    "                  groups=[\"CD4+ T cell\", \"CD8+ T cell\", \"Treg\"], spot_size=40, edges=True, edges_width=0.5, edges_color='grey', img_key=None, library_id=\"6\", \n",
    "                  na_color='white', add_outline=False,return_fig=True, save='fov06_Tcells.pdf')\n",
    "\n",
    "sc.pl.spatial(ad_fov07, color ='CIPR_annotated_clusters', palette = colour_palette['colour'], neighbors_key=\"spatial_neighbors\", \n",
    "                  groups=[\"CD4+ T cell\", \"CD8+ T cell\", \"Treg\"], spot_size=40, edges=True, edges_width=0.5, edges_color='grey', img_key=None, library_id=\"7\", \n",
    "                  na_color='white', add_outline=False,return_fig=True, save='fov07_Tcells.pdf')\n",
    "\n",
    "sc.pl.spatial(ad_fov08, color ='CIPR_annotated_clusters', palette = colour_palette['colour'], neighbors_key=\"spatial_neighbors\", \n",
    "                  groups=[\"CD4+ T cell\", \"CD8+ T cell\", \"Treg\"], spot_size=40, edges=True, edges_width=0.5, edges_color='grey', img_key=None, library_id=\"8\", \n",
    "                  na_color='white', add_outline=False,return_fig=True, save='fov08_Tcells.pdf')\n",
    "\n",
    "sc.pl.spatial(ad_fov09, color ='CIPR_annotated_clusters', palette = colour_palette['colour'], neighbors_key=\"spatial_neighbors\", \n",
    "                  groups=[\"CD4+ T cell\", \"CD8+ T cell\", \"Treg\"], spot_size=40, edges=True, edges_width=0.5, edges_color='grey', img_key=None, library_id=\"9\", \n",
    "                  na_color='white', add_outline=False,return_fig=True, save='fov09_Tcells.pdf')\n",
    "\n",
    "sc.pl.spatial(ad_fov10, color ='CIPR_annotated_clusters', palette = colour_palette['colour'], neighbors_key=\"spatial_neighbors\", \n",
    "                  groups=[\"CD4+ T cell\", \"CD8+ T cell\", \"Treg\"], spot_size=40, edges=True, edges_width=0.5, edges_color='grey', img_key=None, library_id=\"10\", \n",
    "                  na_color='white', add_outline=False,return_fig=True, save='fov10_Tcells.pdf')\n",
    "\n",
    "sc.pl.spatial(ad_fov11, color ='CIPR_annotated_clusters', palette = colour_palette['colour'], neighbors_key=\"spatial_neighbors\", \n",
    "                  groups=[\"CD4+ T cell\", \"CD8+ T cell\", \"Treg\"], spot_size=40, edges=True, edges_width=0.5, edges_color='grey', img_key=None, library_id=\"11\", \n",
    "                  na_color='white', add_outline=False,return_fig=True, save='fov11_Tcells.pdf')\n",
    "\n",
    "sc.pl.spatial(ad_fov12, color ='CIPR_annotated_clusters', palette = colour_palette['colour'], neighbors_key=\"spatial_neighbors\", \n",
    "                  groups=[\"CD4+ T cell\", \"CD8+ T cell\", \"Treg\"], spot_size=40, edges=True, edges_width=0.5, edges_color='grey', img_key=None, library_id=\"12\", \n",
    "                  na_color='white', add_outline=False,return_fig=True, save='fov12_Tcells.pdf')\n",
    "\n",
    "sc.pl.spatial(ad_fov13, color ='CIPR_annotated_clusters', palette = colour_palette['colour'], neighbors_key=\"spatial_neighbors\", \n",
    "                  groups=[\"CD4+ T cell\", \"CD8+ T cell\", \"Treg\"], spot_size=40, edges=True, edges_width=0.5, edges_color='grey', img_key=None, library_id=\"13\", \n",
    "                  na_color='white', add_outline=False,return_fig=True, save='fov13_Tcells.pdf')\n",
    "\n",
    "sc.pl.spatial(ad_fov14, color ='CIPR_annotated_clusters', palette = colour_palette['colour'], neighbors_key=\"spatial_neighbors\", \n",
    "                  groups=[\"CD4+ T cell\", \"CD8+ T cell\", \"Treg\"], spot_size=40, edges=True, edges_width=0.5, edges_color='grey', img_key=None, library_id=\"14\", \n",
    "                  na_color='white', add_outline=False,return_fig=True, save='fov14_Tcells.pdf')\n",
    "\n",
    "sc.pl.spatial(ad_fov15, color ='CIPR_annotated_clusters', palette = colour_palette['colour'], neighbors_key=\"spatial_neighbors\", \n",
    "                  groups=[\"CD4+ T cell\", \"CD8+ T cell\", \"Treg\"], spot_size=40, edges=True, edges_width=0.5, edges_color='grey', img_key=None, library_id=\"15\", \n",
    "                  na_color='white', add_outline=False,return_fig=True, save='fov15_Tcells.pdf')\n",
    "\n",
    "sc.pl.spatial(ad_fov16, color ='CIPR_annotated_clusters', palette = colour_palette['colour'], neighbors_key=\"spatial_neighbors\", \n",
    "                  groups=[\"CD4+ T cell\", \"CD8+ T cell\", \"Treg\"], spot_size=40, edges=True, edges_width=0.5, edges_color='grey', img_key=None, library_id=\"16\", \n",
    "                  na_color='white', add_outline=False,return_fig=True, save='fov16_Tcells.pdf')\n",
    "\n",
    "sc.pl.spatial(ad_fov17, color ='CIPR_annotated_clusters', palette = colour_palette['colour'], neighbors_key=\"spatial_neighbors\", \n",
    "                  groups=[\"CD4+ T cell\", \"CD8+ T cell\", \"Treg\"], spot_size=40, edges=True, edges_width=0.5, edges_color='grey', img_key=None, library_id=\"17\", \n",
    "                  na_color='white', add_outline=False,return_fig=True, save='fov17_Tcells.pdf')\n",
    "\n",
    "sc.pl.spatial(ad_fov18, color ='CIPR_annotated_clusters', palette = colour_palette['colour'], neighbors_key=\"spatial_neighbors\", \n",
    "                  groups=[\"CD4+ T cell\", \"CD8+ T cell\", \"Treg\"], spot_size=40, edges=True, edges_width=0.5, edges_color='grey', img_key=None, library_id=\"18\", \n",
    "                  na_color='white', add_outline=False,return_fig=True, save='fov18_Tcells.pdf')\n",
    "\n",
    "sc.pl.spatial(ad_fov19, color ='CIPR_annotated_clusters', palette = colour_palette['colour'], neighbors_key=\"spatial_neighbors\", \n",
    "                  groups=[\"CD4+ T cell\", \"CD8+ T cell\", \"Treg\"], spot_size=40, edges=True, edges_width=0.5, edges_color='grey', img_key=None, library_id=\"19\", \n",
    "                  na_color='white', add_outline=False,return_fig=True, save='fov19_Tcells.pdf')\n",
    "\n",
    "sc.pl.spatial(ad_fov20, color ='CIPR_annotated_clusters', palette = colour_palette['colour'], neighbors_key=\"spatial_neighbors\", \n",
    "                  groups=[\"CD4+ T cell\", \"CD8+ T cell\", \"Treg\"], spot_size=40, edges=True, edges_width=0.5, edges_color='grey', img_key=None, library_id=\"20\", \n",
    "                  na_color='white', add_outline=False,return_fig=True, save='fov20_Tcells.pdf')\n",
    "\n",
    "sc.pl.spatial(ad_fov21, color ='CIPR_annotated_clusters', palette = colour_palette['colour'], neighbors_key=\"spatial_neighbors\", \n",
    "                  groups=[\"CD4+ T cell\", \"CD8+ T cell\", \"Treg\"], spot_size=40, edges=True, edges_width=0.5, edges_color='grey', img_key=None, library_id=\"21\", \n",
    "                  na_color='white', add_outline=False,return_fig=True, save='fov21_Tcells.pdf')\n",
    "\n",
    "sc.pl.spatial(ad_fov22, color ='CIPR_annotated_clusters', palette = colour_palette['colour'], neighbors_key=\"spatial_neighbors\", \n",
    "                  groups=[\"CD4+ T cell\", \"CD8+ T cell\", \"Treg\"], spot_size=40, edges=True, edges_width=0.5, edges_color='grey', img_key=None, library_id=\"22\", \n",
    "                  na_color='white', add_outline=False,return_fig=True, save='fov22_Tcells.pdf')\n",
    "\n",
    "sc.pl.spatial(ad_fov23, color ='CIPR_annotated_clusters', palette = colour_palette['colour'], neighbors_key=\"spatial_neighbors\", \n",
    "                  groups=[\"CD4+ T cell\", \"CD8+ T cell\", \"Treg\"], spot_size=40, edges=True, edges_width=0.5, edges_color='grey', img_key=None, library_id=\"23\", \n",
    "                  na_color='white', add_outline=False,return_fig=True, save='fov23_Tcells.pdf')\n",
    "\n",
    "sc.pl.spatial(ad_fov24, color ='CIPR_annotated_clusters', palette = colour_palette['colour'], neighbors_key=\"spatial_neighbors\", \n",
    "                  groups=[\"CD4+ T cell\", \"CD8+ T cell\", \"Treg\"], spot_size=40, edges=True, edges_width=0.5, edges_color='grey', img_key=None, library_id=\"24\", \n",
    "                  na_color='white', add_outline=False,return_fig=True, save='fov24_Tcells.pdf')\n",
    "\n",
    "sc.pl.spatial(ad_fov25, color ='CIPR_annotated_clusters', palette = colour_palette['colour'], neighbors_key=\"spatial_neighbors\", \n",
    "                  groups=[\"CD4+ T cell\", \"CD8+ T cell\", \"Treg\"], spot_size=40, edges=True, edges_width=0.5, edges_color='grey', img_key=None, library_id=\"25\", \n",
    "                  na_color='white', add_outline=False,return_fig=True, save='fov25_Tcells.pdf')"
   ]
  },
  {
   "cell_type": "code",
   "execution_count": null,
   "id": "e4f4ea95",
   "metadata": {},
   "outputs": [],
   "source": [
    "sc.set_figure_params(dpi=300, dpi_save=300, figsize=(8, 4))\n",
    "#specific cell types - clustered or dispersed T cells\n",
    "sc.pl.spatial(ad_fov01, color ='CIPR_annotated_clusters', palette = colour_palette['colour'], neighbors_key=\"spatial_neighbors\", \n",
    "                  groups=[\"SPP1+ macrophage\", \"SPP1+ monocyte\", \"ChemokinesHigh monocyte\", \"Neutrophil\"], spot_size=40, edges=True, edges_width=0.5, edges_color='grey', img_key=None, \n",
    "                  na_color='white', add_outline=False,return_fig=True, library_id=\"1\", save='fov01_myeloid.pdf')\n",
    "\n",
    "sc.pl.spatial(ad_fov02, color ='CIPR_annotated_clusters', palette = colour_palette['colour'], neighbors_key=\"spatial_neighbors\", \n",
    "                  groups=[\"SPP1+ macrophage\", \"SPP1+ monocyte\", \"ChemokinesHigh monocyte\", \"Neutrophil\"], spot_size=40, edges=True, edges_width=0.5, edges_color='grey', img_key=None, \n",
    "                  na_color='white', add_outline=False,return_fig=True, library_id=\"2\", save='fov02_myeloid.pdf')\n",
    "\n",
    "sc.pl.spatial(ad_fov03, color ='CIPR_annotated_clusters', palette = colour_palette['colour'], neighbors_key=\"spatial_neighbors\", \n",
    "                  groups=[\"SPP1+ macrophage\", \"SPP1+ monocyte\", \"ChemokinesHigh monocyte\", \"Neutrophil\"], spot_size=40, edges=True, edges_width=0.5, edges_color='grey', img_key=None, \n",
    "                  na_color='white', add_outline=False,return_fig=True, library_id=\"3\", save='fov03_myeloid.pdf')\n",
    "\n",
    "sc.pl.spatial(ad_fov04, color ='CIPR_annotated_clusters', palette = colour_palette['colour'], neighbors_key=\"spatial_neighbors\", \n",
    "                  groups=[\"SPP1+ macrophage\", \"SPP1+ monocyte\", \"ChemokinesHigh monocyte\", \"Neutrophil\"], spot_size=40, edges=True, edges_width=0.5, edges_color='grey', img_key=None, \n",
    "                  na_color='white', add_outline=False,return_fig=True, library_id=\"4\", save='fov04_myeloid.pdf')\n",
    "\n",
    "sc.pl.spatial(ad_fov05, color ='CIPR_annotated_clusters', palette = colour_palette['colour'], neighbors_key=\"spatial_neighbors\", \n",
    "                  groups=[\"SPP1+ macrophage\", \"SPP1+ monocyte\", \"ChemokinesHigh monocyte\", \"Neutrophil\"], spot_size=40, edges=True, edges_width=0.5, edges_color='grey', img_key=None, \n",
    "                  na_color='white', add_outline=False,return_fig=True, library_id=\"5\", save='fov05_myeloid.pdf')\n",
    "\n",
    "sc.pl.spatial(ad_fov06, color ='CIPR_annotated_clusters', palette = colour_palette['colour'], neighbors_key=\"spatial_neighbors\", \n",
    "                  groups=[\"SPP1+ macrophage\", \"SPP1+ monocyte\", \"ChemokinesHigh monocyte\", \"Neutrophil\"], spot_size=40, edges=True, edges_width=0.5, edges_color='grey', img_key=None, \n",
    "                  na_color='white', add_outline=False,return_fig=True, library_id=\"6\", save='fov06_myeloid.pdf')\n",
    "\n",
    "sc.pl.spatial(ad_fov07, color ='CIPR_annotated_clusters', palette = colour_palette['colour'], neighbors_key=\"spatial_neighbors\", \n",
    "                  groups=[\"SPP1+ macrophage\", \"SPP1+ monocyte\", \"ChemokinesHigh monocyte\", \"Neutrophil\"], spot_size=40, edges=True, edges_width=0.5, edges_color='grey', img_key=None, \n",
    "                  na_color='white', add_outline=False,return_fig=True, library_id=\"7\", save='fov07_myeloid.pdf')\n",
    "\n",
    "sc.pl.spatial(ad_fov08, color ='CIPR_annotated_clusters', palette = colour_palette['colour'], neighbors_key=\"spatial_neighbors\", \n",
    "                  groups=[\"SPP1+ macrophage\", \"SPP1+ monocyte\", \"ChemokinesHigh monocyte\", \"Neutrophil\"], spot_size=40, edges=True, edges_width=0.5, edges_color='grey', img_key=None, \n",
    "                  na_color='white', add_outline=False,return_fig=True, library_id=\"8\", save='fov08_myeloid.pdf')\n",
    "\n",
    "sc.pl.spatial(ad_fov09, color ='CIPR_annotated_clusters', palette = colour_palette['colour'], neighbors_key=\"spatial_neighbors\", \n",
    "                  groups=[\"SPP1+ macrophage\", \"SPP1+ monocyte\", \"ChemokinesHigh monocyte\", \"Neutrophil\"], spot_size=40, edges=True, edges_width=0.5, edges_color='grey', img_key=None, \n",
    "                  na_color='white', add_outline=False,return_fig=True, library_id=\"9\", save='fov09_myeloid.pdf')\n",
    "\n",
    "sc.pl.spatial(ad_fov10, color ='CIPR_annotated_clusters', palette = colour_palette['colour'], neighbors_key=\"spatial_neighbors\", \n",
    "                  groups=[\"SPP1+ macrophage\", \"SPP1+ monocyte\", \"ChemokinesHigh monocyte\", \"Neutrophil\"], spot_size=40, edges=True, edges_width=0.5, edges_color='grey', img_key=None, \n",
    "                  na_color='white', add_outline=False,return_fig=True, library_id=\"10\", save='fov10_myeloid.pdf')\n",
    "\n",
    "sc.pl.spatial(ad_fov01, color ='CIPR_annotated_clusters', palette = colour_palette['colour'], neighbors_key=\"spatial_neighbors\", \n",
    "                  groups=[\"SPP1+ macrophage\", \"SPP1+ monocyte\", \"ChemokinesHigh monocyte\", \"Neutrophil\"], spot_size=40, edges=True, edges_width=0.5, edges_color='grey', img_key=None, \n",
    "                  na_color='white', add_outline=False,return_fig=True, library_id=\"1\", save='fov01_myeloid.pdf')\n",
    "\n",
    "sc.pl.spatial(ad_fov11, color ='CIPR_annotated_clusters', palette = colour_palette['colour'], neighbors_key=\"spatial_neighbors\", \n",
    "                  groups=[\"SPP1+ macrophage\", \"SPP1+ monocyte\", \"ChemokinesHigh monocyte\", \"Neutrophil\"], spot_size=40, edges=True, edges_width=0.5, edges_color='grey', img_key=None, \n",
    "                  na_color='white', add_outline=False,return_fig=True, library_id=\"11\", save='fov11_myeloid.pdf')\n",
    "\n",
    "sc.pl.spatial(ad_fov12, color ='CIPR_annotated_clusters', palette = colour_palette['colour'], neighbors_key=\"spatial_neighbors\", \n",
    "                  groups=[\"SPP1+ macrophage\", \"SPP1+ monocyte\", \"ChemokinesHigh monocyte\", \"Neutrophil\"], spot_size=40, edges=True, edges_width=0.5, edges_color='grey', img_key=None, \n",
    "                  na_color='white', add_outline=False,return_fig=True, library_id=\"12\", save='fov12_myeloid.pdf')\n",
    "\n",
    "sc.pl.spatial(ad_fov13, color ='CIPR_annotated_clusters', palette = colour_palette['colour'], neighbors_key=\"spatial_neighbors\", \n",
    "                  groups=[\"SPP1+ macrophage\", \"SPP1+ monocyte\", \"ChemokinesHigh monocyte\", \"Neutrophil\"], spot_size=40, edges=True, edges_width=0.5, edges_color='grey', img_key=None, \n",
    "                  na_color='white', add_outline=False,return_fig=True, library_id=\"13\", save='fov13_myeloid.pdf')\n",
    "\n",
    "sc.pl.spatial(ad_fov14, color ='CIPR_annotated_clusters', palette = colour_palette['colour'], neighbors_key=\"spatial_neighbors\", \n",
    "                  groups=[\"SPP1+ macrophage\", \"SPP1+ monocyte\", \"ChemokinesHigh monocyte\", \"Neutrophil\"], spot_size=40, edges=True, edges_width=0.5, edges_color='grey', img_key=None, \n",
    "                  na_color='white', add_outline=False,return_fig=True, library_id=\"14\", save='fov14_myeloid.pdf')\n",
    "\n",
    "sc.pl.spatial(ad_fov15, color ='CIPR_annotated_clusters', palette = colour_palette['colour'], neighbors_key=\"spatial_neighbors\", \n",
    "                  groups=[\"SPP1+ macrophage\", \"SPP1+ monocyte\", \"ChemokinesHigh monocyte\", \"Neutrophil\"], spot_size=40, edges=True, edges_width=0.5, edges_color='grey', img_key=None, \n",
    "                  na_color='white', add_outline=False,return_fig=True, library_id=\"15\", save='fov15_myeloid.pdf')\n",
    "\n",
    "sc.pl.spatial(ad_fov16, color ='CIPR_annotated_clusters', palette = colour_palette['colour'], neighbors_key=\"spatial_neighbors\", \n",
    "                  groups=[\"SPP1+ macrophage\", \"SPP1+ monocyte\", \"ChemokinesHigh monocyte\", \"Neutrophil\"], spot_size=40, edges=True, edges_width=0.5, edges_color='grey', img_key=None, \n",
    "                  na_color='white', add_outline=False,return_fig=True, library_id=\"16\", save='fov16_myeloid.pdf')\n",
    "\n",
    "sc.pl.spatial(ad_fov17, color ='CIPR_annotated_clusters', palette = colour_palette['colour'], neighbors_key=\"spatial_neighbors\", \n",
    "                  groups=[\"SPP1+ macrophage\", \"SPP1+ monocyte\", \"ChemokinesHigh monocyte\", \"Neutrophil\"], spot_size=40, edges=True, edges_width=0.5, edges_color='grey', img_key=None, \n",
    "                  na_color='white', add_outline=False,return_fig=True, library_id=\"17\", save='fov17_myeloid.pdf')\n",
    "\n",
    "sc.pl.spatial(ad_fov18, color ='CIPR_annotated_clusters', palette = colour_palette['colour'], neighbors_key=\"spatial_neighbors\", \n",
    "                  groups=[\"SPP1+ macrophage\", \"SPP1+ monocyte\", \"ChemokinesHigh monocyte\", \"Neutrophil\"], spot_size=40, edges=True, edges_width=0.5, edges_color='grey', img_key=None, \n",
    "                  na_color='white', add_outline=False,return_fig=True, library_id=\"18\", save='fov18_myeloid.pdf')\n",
    "\n",
    "sc.pl.spatial(ad_fov19, color ='CIPR_annotated_clusters', palette = colour_palette['colour'], neighbors_key=\"spatial_neighbors\", \n",
    "                  groups=[\"SPP1+ macrophage\", \"SPP1+ monocyte\", \"ChemokinesHigh monocyte\", \"Neutrophil\"], spot_size=40, edges=True, edges_width=0.5, edges_color='grey', img_key=None, \n",
    "                  na_color='white', add_outline=False,return_fig=True, library_id=\"19\", save='fov19_myeloid.pdf')\n",
    "\n",
    "sc.pl.spatial(ad_fov20, color ='CIPR_annotated_clusters', palette = colour_palette['colour'], neighbors_key=\"spatial_neighbors\", \n",
    "                  groups=[\"SPP1+ macrophage\", \"SPP1+ monocyte\", \"ChemokinesHigh monocyte\", \"Neutrophil\"], spot_size=40, edges=True, edges_width=0.5, edges_color='grey', img_key=None, \n",
    "                  na_color='white', add_outline=False,return_fig=True, library_id=\"20\", save='fov20_myeloid.pdf')\n",
    "\n",
    "sc.pl.spatial(ad_fov21, color ='CIPR_annotated_clusters', palette = colour_palette['colour'], neighbors_key=\"spatial_neighbors\", \n",
    "                  groups=[\"SPP1+ macrophage\", \"SPP1+ monocyte\", \"ChemokinesHigh monocyte\", \"Neutrophil\"], spot_size=40, edges=True, edges_width=0.5, edges_color='grey', img_key=None, \n",
    "                  na_color='white', add_outline=False,return_fig=True, library_id=\"21\", save='fov21_myeloid.pdf')\n",
    "\n",
    "sc.pl.spatial(ad_fov22, color ='CIPR_annotated_clusters', palette = colour_palette['colour'], neighbors_key=\"spatial_neighbors\", \n",
    "                  groups=[\"SPP1+ macrophage\", \"SPP1+ monocyte\", \"ChemokinesHigh monocyte\", \"Neutrophil\"], spot_size=40, edges=True, edges_width=0.5, edges_color='grey', img_key=None, \n",
    "                  na_color='white', add_outline=False,return_fig=True, library_id=\"22\", save='fov22_myeloid.pdf')\n",
    "\n",
    "sc.pl.spatial(ad_fov23, color ='CIPR_annotated_clusters', palette = colour_palette['colour'], neighbors_key=\"spatial_neighbors\", \n",
    "                  groups=[\"SPP1+ macrophage\", \"SPP1+ monocyte\", \"ChemokinesHigh monocyte\", \"Neutrophil\"], spot_size=40, edges=True, edges_width=0.5, edges_color='grey', img_key=None, \n",
    "                  na_color='white', add_outline=False,return_fig=True, library_id=\"23\", save='fov23_myeloid.pdf')\n",
    "\n",
    "sc.pl.spatial(ad_fov24, color ='CIPR_annotated_clusters', palette = colour_palette['colour'], neighbors_key=\"spatial_neighbors\", \n",
    "                  groups=[\"SPP1+ macrophage\", \"SPP1+ monocyte\", \"ChemokinesHigh monocyte\", \"Neutrophil\"], spot_size=40, edges=True, edges_width=0.5, edges_color='grey', img_key=None, \n",
    "                  na_color='white', add_outline=False,return_fig=True, library_id=\"24\", save='fov24_myeloid.pdf')\n",
    "\n",
    "sc.pl.spatial(ad_fov25, color ='CIPR_annotated_clusters', palette = colour_palette['colour'], neighbors_key=\"spatial_neighbors\", \n",
    "                  groups=[\"SPP1+ macrophage\", \"SPP1+ monocyte\", \"ChemokinesHigh monocyte\", \"Neutrophil\"], spot_size=40, edges=True, edges_width=0.5, edges_color='grey', img_key=None, \n",
    "                  na_color='white', add_outline=False,return_fig=True, library_id=\"25\", save='fov25_myeloid.pdf')"
   ]
  },
  {
   "cell_type": "code",
   "execution_count": null,
   "id": "d071d72c",
   "metadata": {},
   "outputs": [],
   "source": [
    "ne.nhood_enrichment_hyperion(ad_HIV_NEG,'CIPR_annotated_clusters','sample_ID',average_over_rois=True)"
   ]
  },
  {
   "cell_type": "code",
   "execution_count": null,
   "id": "f27f49bc",
   "metadata": {},
   "outputs": [],
   "source": [
    "sq.pl.nhood_enrichment(ad_HIV_NEG, cluster_key=\"CIPR_annotated_clusters\", cmap='bwr', mode='zscore', vmin=-2, vmax=2, palette = colour_palette['colour'], save='NE_HIV_NEG.png')\n",
    "#method='ward',"
   ]
  },
  {
   "cell_type": "markdown",
   "id": "32b58fe4",
   "metadata": {},
   "source": [
    "Extract z-scores from Neighborhood Enrichment Analysis"
   ]
  },
  {
   "cell_type": "code",
   "execution_count": null,
   "id": "63f70cec",
   "metadata": {},
   "outputs": [],
   "source": [
    "#fov01\n",
    "cat_name = 'CIPR_annotated_clusters'\n",
    "sig_leiden = pd.DataFrame(columns=ad_fov01.var_names, index=ad_fov01.obs[cat_name].cat.categories)\n",
    "\n",
    "sig_leiden = sig_leiden.transpose()\n",
    "pheno_clusters = ['Cluster-' + str(x) for x in sig_leiden.columns.tolist()]\n",
    "\n",
    "ser_counts = ad_fov01.obs['CIPR_annotated_clusters'].value_counts()\n",
    "ser_counts.name = 'cell counts'\n",
    "meta_leiden = pd.DataFrame(ser_counts)\n",
    "\n",
    "from scipy.cluster import hierarchy as sch\n",
    "n_clusters = [4]\n",
    "df_nhood_enr = pd.DataFrame(ad_fov01.uns['CIPR_annotated_clusters_nhood_enrichment']['zscore'], columns=pheno_clusters, index=pheno_clusters)\n",
    "nhood_cluster_levels = ['Level-' + str(x) for x in n_clusters]\n",
    "linkage = sch.linkage(df_nhood_enr, method='average')\n",
    "mat_nhood_clusters = sch.cut_tree(linkage, n_clusters=n_clusters)  \n",
    "df_cluster = pd.DataFrame(mat_nhood_clusters, columns=nhood_cluster_levels,\n",
    "                                index=meta_leiden.index.tolist())\n",
    "    \n",
    "compression_opts = dict(method='zip',\n",
    "                         archive_name='NE_fov01_radius60_zscore.csv') \n",
    "df_nhood_enr.to_csv('NE_fov01_radius60_zscore.zip', index=True, compression=compression_opts)\n",
    "\n",
    "#fov02\n",
    "cat_name = 'CIPR_annotated_clusters'\n",
    "sig_leiden = pd.DataFrame(columns=ad_fov02.var_names, index=ad_fov02.obs[cat_name].cat.categories)\n",
    "\n",
    "sig_leiden = sig_leiden.transpose()\n",
    "pheno_clusters = ['Cluster-' + str(x) for x in sig_leiden.columns.tolist()]\n",
    "\n",
    "ser_counts = ad_fov02.obs['CIPR_annotated_clusters'].value_counts()\n",
    "ser_counts.name = 'cell counts'\n",
    "meta_leiden = pd.DataFrame(ser_counts)\n",
    "\n",
    "from scipy.cluster import hierarchy as sch\n",
    "n_clusters = [4]\n",
    "df_nhood_enr = pd.DataFrame(ad_fov02.uns['CIPR_annotated_clusters_nhood_enrichment']['zscore'], columns=pheno_clusters, index=pheno_clusters)\n",
    "nhood_cluster_levels = ['Level-' + str(x) for x in n_clusters]\n",
    "linkage = sch.linkage(df_nhood_enr, method='average')\n",
    "mat_nhood_clusters = sch.cut_tree(linkage, n_clusters=n_clusters)  \n",
    "df_cluster = pd.DataFrame(mat_nhood_clusters, columns=nhood_cluster_levels,\n",
    "                                index=meta_leiden.index.tolist())\n",
    "    \n",
    "compression_opts = dict(method='zip',\n",
    "                         archive_name='NE_fov02_radius60_zscore.csv') \n",
    "df_nhood_enr.to_csv('NE_fov02_radius60_zscore.zip', index=True, compression=compression_opts)\n",
    "\n",
    "#fov03\n",
    "cat_name = 'CIPR_annotated_clusters'\n",
    "sig_leiden = pd.DataFrame(columns=ad_fov03.var_names, index=ad_fov03.obs[cat_name].cat.categories)\n",
    "\n",
    "sig_leiden = sig_leiden.transpose()\n",
    "pheno_clusters = ['Cluster-' + str(x) for x in sig_leiden.columns.tolist()]\n",
    "\n",
    "ser_counts = ad_fov03.obs['CIPR_annotated_clusters'].value_counts()\n",
    "ser_counts.name = 'cell counts'\n",
    "meta_leiden = pd.DataFrame(ser_counts)\n",
    "\n",
    "from scipy.cluster import hierarchy as sch\n",
    "n_clusters = [4]\n",
    "df_nhood_enr = pd.DataFrame(ad_fov03.uns['CIPR_annotated_clusters_nhood_enrichment']['zscore'], columns=pheno_clusters, index=pheno_clusters)\n",
    "nhood_cluster_levels = ['Level-' + str(x) for x in n_clusters]\n",
    "linkage = sch.linkage(df_nhood_enr, method='average')\n",
    "mat_nhood_clusters = sch.cut_tree(linkage, n_clusters=n_clusters)  \n",
    "df_cluster = pd.DataFrame(mat_nhood_clusters, columns=nhood_cluster_levels,\n",
    "                                index=meta_leiden.index.tolist())\n",
    "    \n",
    "compression_opts = dict(method='zip',\n",
    "                         archive_name='NE_fov03_radius60_zscore.csv') \n",
    "df_nhood_enr.to_csv('NE_fov03_radius60_zscore.zip', index=True, compression=compression_opts)\n",
    "\n",
    "#fov04\n",
    "cat_name = 'CIPR_annotated_clusters'\n",
    "sig_leiden = pd.DataFrame(columns=ad_fov04.var_names, index=ad_fov04.obs[cat_name].cat.categories)\n",
    "\n",
    "sig_leiden = sig_leiden.transpose()\n",
    "pheno_clusters = ['Cluster-' + str(x) for x in sig_leiden.columns.tolist()]\n",
    "\n",
    "ser_counts = ad_fov04.obs['CIPR_annotated_clusters'].value_counts()\n",
    "ser_counts.name = 'cell counts'\n",
    "meta_leiden = pd.DataFrame(ser_counts)\n",
    "\n",
    "from scipy.cluster import hierarchy as sch\n",
    "n_clusters = [4]\n",
    "df_nhood_enr = pd.DataFrame(ad_fov04.uns['CIPR_annotated_clusters_nhood_enrichment']['zscore'], columns=pheno_clusters, index=pheno_clusters)\n",
    "nhood_cluster_levels = ['Level-' + str(x) for x in n_clusters]\n",
    "linkage = sch.linkage(df_nhood_enr, method='average')\n",
    "mat_nhood_clusters = sch.cut_tree(linkage, n_clusters=n_clusters)  \n",
    "df_cluster = pd.DataFrame(mat_nhood_clusters, columns=nhood_cluster_levels,\n",
    "                                index=meta_leiden.index.tolist())\n",
    "    \n",
    "compression_opts = dict(method='zip',\n",
    "                         archive_name='NE_fov04_radius60_zscore.csv') \n",
    "df_nhood_enr.to_csv('NE_fov04_radius60_zscore.zip', index=True, compression=compression_opts)\n",
    "\n",
    "#fov05\n",
    "cat_name = 'CIPR_annotated_clusters'\n",
    "sig_leiden = pd.DataFrame(columns=ad_fov05.var_names, index=ad_fov05.obs[cat_name].cat.categories)\n",
    "\n",
    "sig_leiden = sig_leiden.transpose()\n",
    "pheno_clusters = ['Cluster-' + str(x) for x in sig_leiden.columns.tolist()]\n",
    "\n",
    "ser_counts = ad_fov05.obs['CIPR_annotated_clusters'].value_counts()\n",
    "ser_counts.name = 'cell counts'\n",
    "meta_leiden = pd.DataFrame(ser_counts)\n",
    "\n",
    "from scipy.cluster import hierarchy as sch\n",
    "n_clusters = [4]\n",
    "df_nhood_enr = pd.DataFrame(ad_fov05.uns['CIPR_annotated_clusters_nhood_enrichment']['zscore'], columns=pheno_clusters, index=pheno_clusters)\n",
    "nhood_cluster_levels = ['Level-' + str(x) for x in n_clusters]\n",
    "linkage = sch.linkage(df_nhood_enr, method='average')\n",
    "mat_nhood_clusters = sch.cut_tree(linkage, n_clusters=n_clusters)  \n",
    "df_cluster = pd.DataFrame(mat_nhood_clusters, columns=nhood_cluster_levels,\n",
    "                                index=meta_leiden.index.tolist())\n",
    "    \n",
    "compression_opts = dict(method='zip',\n",
    "                         archive_name='NE_fov05_radius60_zscore.csv') \n",
    "df_nhood_enr.to_csv('NE_fov05_radius60_zscore.zip', index=True, compression=compression_opts)\n",
    "\n",
    "#fov06\n",
    "cat_name = 'CIPR_annotated_clusters'\n",
    "sig_leiden = pd.DataFrame(columns=ad_fov06.var_names, index=ad_fov06.obs[cat_name].cat.categories)\n",
    "\n",
    "sig_leiden = sig_leiden.transpose()\n",
    "pheno_clusters = ['Cluster-' + str(x) for x in sig_leiden.columns.tolist()]\n",
    "\n",
    "ser_counts = ad_fov06.obs['CIPR_annotated_clusters'].value_counts()\n",
    "ser_counts.name = 'cell counts'\n",
    "meta_leiden = pd.DataFrame(ser_counts)\n",
    "\n",
    "from scipy.cluster import hierarchy as sch\n",
    "n_clusters = [4]\n",
    "df_nhood_enr = pd.DataFrame(ad_fov06.uns['CIPR_annotated_clusters_nhood_enrichment']['zscore'], columns=pheno_clusters, index=pheno_clusters)\n",
    "nhood_cluster_levels = ['Level-' + str(x) for x in n_clusters]\n",
    "linkage = sch.linkage(df_nhood_enr, method='average')\n",
    "mat_nhood_clusters = sch.cut_tree(linkage, n_clusters=n_clusters)  \n",
    "df_cluster = pd.DataFrame(mat_nhood_clusters, columns=nhood_cluster_levels,\n",
    "                                index=meta_leiden.index.tolist())\n",
    "    \n",
    "compression_opts = dict(method='zip',\n",
    "                         archive_name='NE_fov06_radius60_zscore.csv') \n",
    "df_nhood_enr.to_csv('NE_fov06_radius60_zscore.zip', index=True, compression=compression_opts)\n",
    "\n",
    "#fov07\n",
    "cat_name = 'CIPR_annotated_clusters'\n",
    "sig_leiden = pd.DataFrame(columns=ad_fov07.var_names, index=ad_fov07.obs[cat_name].cat.categories)\n",
    "\n",
    "sig_leiden = sig_leiden.transpose()\n",
    "pheno_clusters = ['Cluster-' + str(x) for x in sig_leiden.columns.tolist()]\n",
    "\n",
    "ser_counts = ad_fov07.obs['CIPR_annotated_clusters'].value_counts()\n",
    "ser_counts.name = 'cell counts'\n",
    "meta_leiden = pd.DataFrame(ser_counts)\n",
    "\n",
    "from scipy.cluster import hierarchy as sch\n",
    "n_clusters = [4]\n",
    "df_nhood_enr = pd.DataFrame(ad_fov07.uns['CIPR_annotated_clusters_nhood_enrichment']['zscore'], columns=pheno_clusters, index=pheno_clusters)\n",
    "nhood_cluster_levels = ['Level-' + str(x) for x in n_clusters]\n",
    "linkage = sch.linkage(df_nhood_enr, method='average')\n",
    "mat_nhood_clusters = sch.cut_tree(linkage, n_clusters=n_clusters)  \n",
    "df_cluster = pd.DataFrame(mat_nhood_clusters, columns=nhood_cluster_levels,\n",
    "                                index=meta_leiden.index.tolist())\n",
    "    \n",
    "compression_opts = dict(method='zip',\n",
    "                         archive_name='NE_fov07_radius60_zscore.csv') \n",
    "df_nhood_enr.to_csv('NE_fov07_radius60_zscore.zip', index=True, compression=compression_opts)\n",
    "\n",
    "#fov08\n",
    "cat_name = 'CIPR_annotated_clusters'\n",
    "sig_leiden = pd.DataFrame(columns=ad_fov08.var_names, index=ad_fov08.obs[cat_name].cat.categories)\n",
    "\n",
    "sig_leiden = sig_leiden.transpose()\n",
    "pheno_clusters = ['Cluster-' + str(x) for x in sig_leiden.columns.tolist()]\n",
    "\n",
    "ser_counts = ad_fov08.obs['CIPR_annotated_clusters'].value_counts()\n",
    "ser_counts.name = 'cell counts'\n",
    "meta_leiden = pd.DataFrame(ser_counts)\n",
    "\n",
    "from scipy.cluster import hierarchy as sch\n",
    "n_clusters = [4]\n",
    "df_nhood_enr = pd.DataFrame(ad_fov08.uns['CIPR_annotated_clusters_nhood_enrichment']['zscore'], columns=pheno_clusters, index=pheno_clusters)\n",
    "nhood_cluster_levels = ['Level-' + str(x) for x in n_clusters]\n",
    "linkage = sch.linkage(df_nhood_enr, method='average')\n",
    "mat_nhood_clusters = sch.cut_tree(linkage, n_clusters=n_clusters)  \n",
    "df_cluster = pd.DataFrame(mat_nhood_clusters, columns=nhood_cluster_levels,\n",
    "                                index=meta_leiden.index.tolist())\n",
    "    \n",
    "compression_opts = dict(method='zip',\n",
    "                         archive_name='NE_fov08_radius60_zscore.csv') \n",
    "df_nhood_enr.to_csv('NE_fov08_radius60_zscore.zip', index=True, compression=compression_opts)\n",
    "\n",
    "#fov09\n",
    "cat_name = 'CIPR_annotated_clusters'\n",
    "sig_leiden = pd.DataFrame(columns=ad_fov09.var_names, index=ad_fov09.obs[cat_name].cat.categories)\n",
    "\n",
    "sig_leiden = sig_leiden.transpose()\n",
    "pheno_clusters = ['Cluster-' + str(x) for x in sig_leiden.columns.tolist()]\n",
    "\n",
    "ser_counts = ad_fov09.obs['CIPR_annotated_clusters'].value_counts()\n",
    "ser_counts.name = 'cell counts'\n",
    "meta_leiden = pd.DataFrame(ser_counts)\n",
    "\n",
    "from scipy.cluster import hierarchy as sch\n",
    "n_clusters = [4]\n",
    "df_nhood_enr = pd.DataFrame(ad_fov09.uns['CIPR_annotated_clusters_nhood_enrichment']['zscore'], columns=pheno_clusters, index=pheno_clusters)\n",
    "nhood_cluster_levels = ['Level-' + str(x) for x in n_clusters]\n",
    "linkage = sch.linkage(df_nhood_enr, method='average')\n",
    "mat_nhood_clusters = sch.cut_tree(linkage, n_clusters=n_clusters)  \n",
    "df_cluster = pd.DataFrame(mat_nhood_clusters, columns=nhood_cluster_levels,\n",
    "                                index=meta_leiden.index.tolist())\n",
    "    \n",
    "compression_opts = dict(method='zip',\n",
    "                         archive_name='NE_fov09_radius60_zscore.csv') \n",
    "df_nhood_enr.to_csv('NE_fov09_radius60_zscore.zip', index=True, compression=compression_opts)\n",
    "\n",
    "#fov10\n",
    "cat_name = 'CIPR_annotated_clusters'\n",
    "sig_leiden = pd.DataFrame(columns=ad_fov10.var_names, index=ad_fov10.obs[cat_name].cat.categories)\n",
    "\n",
    "sig_leiden = sig_leiden.transpose()\n",
    "pheno_clusters = ['Cluster-' + str(x) for x in sig_leiden.columns.tolist()]\n",
    "\n",
    "ser_counts = ad_fov10.obs['CIPR_annotated_clusters'].value_counts()\n",
    "ser_counts.name = 'cell counts'\n",
    "meta_leiden = pd.DataFrame(ser_counts)\n",
    "\n",
    "from scipy.cluster import hierarchy as sch\n",
    "n_clusters = [4]\n",
    "df_nhood_enr = pd.DataFrame(ad_fov10.uns['CIPR_annotated_clusters_nhood_enrichment']['zscore'], columns=pheno_clusters, index=pheno_clusters)\n",
    "nhood_cluster_levels = ['Level-' + str(x) for x in n_clusters]\n",
    "linkage = sch.linkage(df_nhood_enr, method='average')\n",
    "mat_nhood_clusters = sch.cut_tree(linkage, n_clusters=n_clusters)  \n",
    "df_cluster = pd.DataFrame(mat_nhood_clusters, columns=nhood_cluster_levels,\n",
    "                                index=meta_leiden.index.tolist())\n",
    "    \n",
    "compression_opts = dict(method='zip',\n",
    "                         archive_name='NE_fov10_radius60_zscore.csv') \n",
    "df_nhood_enr.to_csv('NE_fov10_radius60_zscore.zip', index=True, compression=compression_opts)\n",
    "\n",
    "#fov11\n",
    "cat_name = 'CIPR_annotated_clusters'\n",
    "sig_leiden = pd.DataFrame(columns=ad_fov11.var_names, index=ad_fov11.obs[cat_name].cat.categories)\n",
    "\n",
    "sig_leiden = sig_leiden.transpose()\n",
    "pheno_clusters = ['Cluster-' + str(x) for x in sig_leiden.columns.tolist()]\n",
    "\n",
    "ser_counts = ad_fov11.obs['CIPR_annotated_clusters'].value_counts()\n",
    "ser_counts.name = 'cell counts'\n",
    "meta_leiden = pd.DataFrame(ser_counts)\n",
    "\n",
    "from scipy.cluster import hierarchy as sch\n",
    "n_clusters = [4]\n",
    "df_nhood_enr = pd.DataFrame(ad_fov11.uns['CIPR_annotated_clusters_nhood_enrichment']['zscore'], columns=pheno_clusters, index=pheno_clusters)\n",
    "nhood_cluster_levels = ['Level-' + str(x) for x in n_clusters]\n",
    "linkage = sch.linkage(df_nhood_enr, method='average')\n",
    "mat_nhood_clusters = sch.cut_tree(linkage, n_clusters=n_clusters)  \n",
    "df_cluster = pd.DataFrame(mat_nhood_clusters, columns=nhood_cluster_levels,\n",
    "                                index=meta_leiden.index.tolist())\n",
    "    \n",
    "compression_opts = dict(method='zip',\n",
    "                         archive_name='NE_fov11_radius60_zscore.csv') \n",
    "df_nhood_enr.to_csv('NE_fov11_radius60_zscore.zip', index=True, compression=compression_opts)\n",
    "\n",
    "#fov12\n",
    "cat_name = 'CIPR_annotated_clusters'\n",
    "sig_leiden = pd.DataFrame(columns=ad_fov12.var_names, index=ad_fov12.obs[cat_name].cat.categories)\n",
    "\n",
    "sig_leiden = sig_leiden.transpose()\n",
    "pheno_clusters = ['Cluster-' + str(x) for x in sig_leiden.columns.tolist()]\n",
    "\n",
    "ser_counts = ad_fov12.obs['CIPR_annotated_clusters'].value_counts()\n",
    "ser_counts.name = 'cell counts'\n",
    "meta_leiden = pd.DataFrame(ser_counts)\n",
    "\n",
    "from scipy.cluster import hierarchy as sch\n",
    "n_clusters = [4]\n",
    "df_nhood_enr = pd.DataFrame(ad_fov12.uns['CIPR_annotated_clusters_nhood_enrichment']['zscore'], columns=pheno_clusters, index=pheno_clusters)\n",
    "nhood_cluster_levels = ['Level-' + str(x) for x in n_clusters]\n",
    "linkage = sch.linkage(df_nhood_enr, method='average')\n",
    "mat_nhood_clusters = sch.cut_tree(linkage, n_clusters=n_clusters)  \n",
    "df_cluster = pd.DataFrame(mat_nhood_clusters, columns=nhood_cluster_levels,\n",
    "                                index=meta_leiden.index.tolist())\n",
    "    \n",
    "compression_opts = dict(method='zip',\n",
    "                         archive_name='NE_fov12_radius60_zscore.csv') \n",
    "df_nhood_enr.to_csv('NE_fov12_radius60_zscore.zip', index=True, compression=compression_opts)\n",
    "\n",
    "#fov13\n",
    "cat_name = 'CIPR_annotated_clusters'\n",
    "sig_leiden = pd.DataFrame(columns=ad_fov13.var_names, index=ad_fov13.obs[cat_name].cat.categories)\n",
    "\n",
    "sig_leiden = sig_leiden.transpose()\n",
    "pheno_clusters = ['Cluster-' + str(x) for x in sig_leiden.columns.tolist()]\n",
    "\n",
    "ser_counts = ad_fov13.obs['CIPR_annotated_clusters'].value_counts()\n",
    "ser_counts.name = 'cell counts'\n",
    "meta_leiden = pd.DataFrame(ser_counts)\n",
    "\n",
    "from scipy.cluster import hierarchy as sch\n",
    "n_clusters = [4]\n",
    "df_nhood_enr = pd.DataFrame(ad_fov13.uns['CIPR_annotated_clusters_nhood_enrichment']['zscore'], columns=pheno_clusters, index=pheno_clusters)\n",
    "nhood_cluster_levels = ['Level-' + str(x) for x in n_clusters]\n",
    "linkage = sch.linkage(df_nhood_enr, method='average')\n",
    "mat_nhood_clusters = sch.cut_tree(linkage, n_clusters=n_clusters)  \n",
    "df_cluster = pd.DataFrame(mat_nhood_clusters, columns=nhood_cluster_levels,\n",
    "                                index=meta_leiden.index.tolist())\n",
    "    \n",
    "compression_opts = dict(method='zip',\n",
    "                         archive_name='NE_fov13_radius60_zscore.csv') \n",
    "df_nhood_enr.to_csv('NE_fov13_radius60_zscore.zip', index=True, compression=compression_opts)\n",
    "\n"
   ]
  },
  {
   "cell_type": "code",
   "execution_count": null,
   "id": "c0d99977",
   "metadata": {},
   "outputs": [],
   "source": [
    "#fov14\n",
    "cat_name = 'CIPR_annotated_clusters'\n",
    "sig_leiden = pd.DataFrame(columns=ad_fov14.var_names, index=ad_fov14.obs[cat_name].cat.categories)\n",
    "\n",
    "sig_leiden = sig_leiden.transpose()\n",
    "pheno_clusters = ['Cluster-' + str(x) for x in sig_leiden.columns.tolist()]\n",
    "\n",
    "ser_counts = ad_fov14.obs['CIPR_annotated_clusters'].value_counts()\n",
    "ser_counts.name = 'cell counts'\n",
    "meta_leiden = pd.DataFrame(ser_counts)\n",
    "\n",
    "from scipy.cluster import hierarchy as sch\n",
    "n_clusters = [4]\n",
    "df_nhood_enr = pd.DataFrame(ad_fov14.uns['CIPR_annotated_clusters_nhood_enrichment']['zscore'], columns=pheno_clusters, index=pheno_clusters)\n",
    "nhood_cluster_levels = ['Level-' + str(x) for x in n_clusters]\n",
    "linkage = sch.linkage(df_nhood_enr, method='average')\n",
    "mat_nhood_clusters = sch.cut_tree(linkage, n_clusters=n_clusters)  \n",
    "df_cluster = pd.DataFrame(mat_nhood_clusters, columns=nhood_cluster_levels,\n",
    "                                index=meta_leiden.index.tolist())\n",
    "    \n",
    "compression_opts = dict(method='zip',\n",
    "                         archive_name='NE_fov14_radius60_zscore.csv') \n",
    "df_nhood_enr.to_csv('NE_fov14_radius60_zscore.zip', index=True, compression=compression_opts)\n",
    "\n",
    "#fov15\n",
    "cat_name = 'CIPR_annotated_clusters'\n",
    "sig_leiden = pd.DataFrame(columns=ad_fov15.var_names, index=ad_fov15.obs[cat_name].cat.categories)\n",
    "\n",
    "sig_leiden = sig_leiden.transpose()\n",
    "pheno_clusters = ['Cluster-' + str(x) for x in sig_leiden.columns.tolist()]\n",
    "\n",
    "ser_counts = ad_fov15.obs['CIPR_annotated_clusters'].value_counts()\n",
    "ser_counts.name = 'cell counts'\n",
    "meta_leiden = pd.DataFrame(ser_counts)\n",
    "\n",
    "from scipy.cluster import hierarchy as sch\n",
    "n_clusters = [4]\n",
    "df_nhood_enr = pd.DataFrame(ad_fov15.uns['CIPR_annotated_clusters_nhood_enrichment']['zscore'], columns=pheno_clusters, index=pheno_clusters)\n",
    "nhood_cluster_levels = ['Level-' + str(x) for x in n_clusters]\n",
    "linkage = sch.linkage(df_nhood_enr, method='average')\n",
    "mat_nhood_clusters = sch.cut_tree(linkage, n_clusters=n_clusters)  \n",
    "df_cluster = pd.DataFrame(mat_nhood_clusters, columns=nhood_cluster_levels,\n",
    "                                index=meta_leiden.index.tolist())\n",
    "    \n",
    "compression_opts = dict(method='zip',\n",
    "                         archive_name='NE_fov15_radius60_zscore.csv') \n",
    "df_nhood_enr.to_csv('NE_fov15_radius60_zscore.zip', index=True, compression=compression_opts)\n",
    "\n",
    "#fov16\n",
    "cat_name = 'CIPR_annotated_clusters'\n",
    "sig_leiden = pd.DataFrame(columns=ad_fov16.var_names, index=ad_fov16.obs[cat_name].cat.categories)\n",
    "\n",
    "sig_leiden = sig_leiden.transpose()\n",
    "pheno_clusters = ['Cluster-' + str(x) for x in sig_leiden.columns.tolist()]\n",
    "\n",
    "ser_counts = ad_fov16.obs['CIPR_annotated_clusters'].value_counts()\n",
    "ser_counts.name = 'cell counts'\n",
    "meta_leiden = pd.DataFrame(ser_counts)\n",
    "\n",
    "from scipy.cluster import hierarchy as sch\n",
    "n_clusters = [4]\n",
    "df_nhood_enr = pd.DataFrame(ad_fov16.uns['CIPR_annotated_clusters_nhood_enrichment']['zscore'], columns=pheno_clusters, index=pheno_clusters)\n",
    "nhood_cluster_levels = ['Level-' + str(x) for x in n_clusters]\n",
    "linkage = sch.linkage(df_nhood_enr, method='average')\n",
    "mat_nhood_clusters = sch.cut_tree(linkage, n_clusters=n_clusters)  \n",
    "df_cluster = pd.DataFrame(mat_nhood_clusters, columns=nhood_cluster_levels,\n",
    "                                index=meta_leiden.index.tolist())\n",
    "    \n",
    "compression_opts = dict(method='zip',\n",
    "                         archive_name='NE_fov16_radius60_zscore.csv') \n",
    "df_nhood_enr.to_csv('NE_fov16_radius60_zscore.zip', index=True, compression=compression_opts)\n",
    "\n",
    "#fov17\n",
    "cat_name = 'CIPR_annotated_clusters'\n",
    "sig_leiden = pd.DataFrame(columns=ad_fov17.var_names, index=ad_fov17.obs[cat_name].cat.categories)\n",
    "\n",
    "sig_leiden = sig_leiden.transpose()\n",
    "pheno_clusters = ['Cluster-' + str(x) for x in sig_leiden.columns.tolist()]\n",
    "\n",
    "ser_counts = ad_fov17.obs['CIPR_annotated_clusters'].value_counts()\n",
    "ser_counts.name = 'cell counts'\n",
    "meta_leiden = pd.DataFrame(ser_counts)\n",
    "\n",
    "from scipy.cluster import hierarchy as sch\n",
    "n_clusters = [4]\n",
    "df_nhood_enr = pd.DataFrame(ad_fov17.uns['CIPR_annotated_clusters_nhood_enrichment']['zscore'], columns=pheno_clusters, index=pheno_clusters)\n",
    "nhood_cluster_levels = ['Level-' + str(x) for x in n_clusters]\n",
    "linkage = sch.linkage(df_nhood_enr, method='average')\n",
    "mat_nhood_clusters = sch.cut_tree(linkage, n_clusters=n_clusters)  \n",
    "df_cluster = pd.DataFrame(mat_nhood_clusters, columns=nhood_cluster_levels,\n",
    "                                index=meta_leiden.index.tolist())\n",
    "    \n",
    "compression_opts = dict(method='zip',\n",
    "                         archive_name='NE_fov17_radius60_zscore.csv') \n",
    "df_nhood_enr.to_csv('NE_fov17_radius60_zscore.zip', index=True, compression=compression_opts)\n",
    "\n",
    "#fov18\n",
    "cat_name = 'CIPR_annotated_clusters'\n",
    "sig_leiden = pd.DataFrame(columns=ad_fov18.var_names, index=ad_fov18.obs[cat_name].cat.categories)\n",
    "\n",
    "sig_leiden = sig_leiden.transpose()\n",
    "pheno_clusters = ['Cluster-' + str(x) for x in sig_leiden.columns.tolist()]\n",
    "\n",
    "ser_counts = ad_fov18.obs['CIPR_annotated_clusters'].value_counts()\n",
    "ser_counts.name = 'cell counts'\n",
    "meta_leiden = pd.DataFrame(ser_counts)\n",
    "\n",
    "from scipy.cluster import hierarchy as sch\n",
    "n_clusters = [4]\n",
    "df_nhood_enr = pd.DataFrame(ad_fov18.uns['CIPR_annotated_clusters_nhood_enrichment']['zscore'], columns=pheno_clusters, index=pheno_clusters)\n",
    "nhood_cluster_levels = ['Level-' + str(x) for x in n_clusters]\n",
    "linkage = sch.linkage(df_nhood_enr, method='average')\n",
    "mat_nhood_clusters = sch.cut_tree(linkage, n_clusters=n_clusters)  \n",
    "df_cluster = pd.DataFrame(mat_nhood_clusters, columns=nhood_cluster_levels,\n",
    "                                index=meta_leiden.index.tolist())\n",
    "    \n",
    "compression_opts = dict(method='zip',\n",
    "                         archive_name='NE_fov18_radius60_zscore.csv') \n",
    "df_nhood_enr.to_csv('NE_fov18_radius60_zscore.zip', index=True, compression=compression_opts)\n",
    "\n",
    "#fov19\n",
    "cat_name = 'CIPR_annotated_clusters'\n",
    "sig_leiden = pd.DataFrame(columns=ad_fov19.var_names, index=ad_fov19.obs[cat_name].cat.categories)\n",
    "\n",
    "sig_leiden = sig_leiden.transpose()\n",
    "pheno_clusters = ['Cluster-' + str(x) for x in sig_leiden.columns.tolist()]\n",
    "\n",
    "ser_counts = ad_fov19.obs['CIPR_annotated_clusters'].value_counts()\n",
    "ser_counts.name = 'cell counts'\n",
    "meta_leiden = pd.DataFrame(ser_counts)\n",
    "\n",
    "from scipy.cluster import hierarchy as sch\n",
    "n_clusters = [4]\n",
    "df_nhood_enr = pd.DataFrame(ad_fov19.uns['CIPR_annotated_clusters_nhood_enrichment']['zscore'], columns=pheno_clusters, index=pheno_clusters)\n",
    "nhood_cluster_levels = ['Level-' + str(x) for x in n_clusters]\n",
    "linkage = sch.linkage(df_nhood_enr, method='average')\n",
    "mat_nhood_clusters = sch.cut_tree(linkage, n_clusters=n_clusters)  \n",
    "df_cluster = pd.DataFrame(mat_nhood_clusters, columns=nhood_cluster_levels,\n",
    "                                index=meta_leiden.index.tolist())\n",
    "    \n",
    "compression_opts = dict(method='zip',\n",
    "                         archive_name='NE_fov19_radius60_zscore.csv') \n",
    "df_nhood_enr.to_csv('NE_fov19_radius60_zscore.zip', index=True, compression=compression_opts)\n",
    "\n",
    "#fov20\n",
    "cat_name = 'CIPR_annotated_clusters'\n",
    "sig_leiden = pd.DataFrame(columns=ad_fov20.var_names, index=ad_fov20.obs[cat_name].cat.categories)\n",
    "\n",
    "sig_leiden = sig_leiden.transpose()\n",
    "pheno_clusters = ['Cluster-' + str(x) for x in sig_leiden.columns.tolist()]\n",
    "\n",
    "ser_counts = ad_fov20.obs['CIPR_annotated_clusters'].value_counts()\n",
    "ser_counts.name = 'cell counts'\n",
    "meta_leiden = pd.DataFrame(ser_counts)\n",
    "\n",
    "from scipy.cluster import hierarchy as sch\n",
    "n_clusters = [4]\n",
    "df_nhood_enr = pd.DataFrame(ad_fov20.uns['CIPR_annotated_clusters_nhood_enrichment']['zscore'], columns=pheno_clusters, index=pheno_clusters)\n",
    "nhood_cluster_levels = ['Level-' + str(x) for x in n_clusters]\n",
    "linkage = sch.linkage(df_nhood_enr, method='average')\n",
    "mat_nhood_clusters = sch.cut_tree(linkage, n_clusters=n_clusters)  \n",
    "df_cluster = pd.DataFrame(mat_nhood_clusters, columns=nhood_cluster_levels,\n",
    "                                index=meta_leiden.index.tolist())\n",
    "    \n",
    "compression_opts = dict(method='zip',\n",
    "                         archive_name='NE_fov20_radius60_zscore.csv') \n",
    "df_nhood_enr.to_csv('NE_fov20_radius60_zscore.zip', index=True, compression=compression_opts)\n",
    "\n",
    "#fov21\n",
    "cat_name = 'CIPR_annotated_clusters'\n",
    "sig_leiden = pd.DataFrame(columns=ad_fov21.var_names, index=ad_fov21.obs[cat_name].cat.categories)\n",
    "\n",
    "sig_leiden = sig_leiden.transpose()\n",
    "pheno_clusters = ['Cluster-' + str(x) for x in sig_leiden.columns.tolist()]\n",
    "\n",
    "ser_counts = ad_fov21.obs['CIPR_annotated_clusters'].value_counts()\n",
    "ser_counts.name = 'cell counts'\n",
    "meta_leiden = pd.DataFrame(ser_counts)\n",
    "\n",
    "from scipy.cluster import hierarchy as sch\n",
    "n_clusters = [4]\n",
    "df_nhood_enr = pd.DataFrame(ad_fov21.uns['CIPR_annotated_clusters_nhood_enrichment']['zscore'], columns=pheno_clusters, index=pheno_clusters)\n",
    "nhood_cluster_levels = ['Level-' + str(x) for x in n_clusters]\n",
    "linkage = sch.linkage(df_nhood_enr, method='average')\n",
    "mat_nhood_clusters = sch.cut_tree(linkage, n_clusters=n_clusters)  \n",
    "df_cluster = pd.DataFrame(mat_nhood_clusters, columns=nhood_cluster_levels,\n",
    "                                index=meta_leiden.index.tolist())\n",
    "    \n",
    "compression_opts = dict(method='zip',\n",
    "                         archive_name='NE_fov21_radius60_zscore.csv') \n",
    "df_nhood_enr.to_csv('NE_fov21_radius60_zscore.zip', index=True, compression=compression_opts)\n",
    "\n",
    "#fov22\n",
    "cat_name = 'CIPR_annotated_clusters'\n",
    "sig_leiden = pd.DataFrame(columns=ad_fov22.var_names, index=ad_fov22.obs[cat_name].cat.categories)\n",
    "\n",
    "sig_leiden = sig_leiden.transpose()\n",
    "pheno_clusters = ['Cluster-' + str(x) for x in sig_leiden.columns.tolist()]\n",
    "\n",
    "ser_counts = ad_fov22.obs['CIPR_annotated_clusters'].value_counts()\n",
    "ser_counts.name = 'cell counts'\n",
    "meta_leiden = pd.DataFrame(ser_counts)\n",
    "\n",
    "from scipy.cluster import hierarchy as sch\n",
    "n_clusters = [4]\n",
    "df_nhood_enr = pd.DataFrame(ad_fov22.uns['CIPR_annotated_clusters_nhood_enrichment']['zscore'], columns=pheno_clusters, index=pheno_clusters)\n",
    "nhood_cluster_levels = ['Level-' + str(x) for x in n_clusters]\n",
    "linkage = sch.linkage(df_nhood_enr, method='average')\n",
    "mat_nhood_clusters = sch.cut_tree(linkage, n_clusters=n_clusters)  \n",
    "df_cluster = pd.DataFrame(mat_nhood_clusters, columns=nhood_cluster_levels,\n",
    "                                index=meta_leiden.index.tolist())\n",
    "    \n",
    "compression_opts = dict(method='zip',\n",
    "                         archive_name='NE_fov22_radius60_zscore.csv') \n",
    "df_nhood_enr.to_csv('NE_fov22_radius60_zscore.zip', index=True, compression=compression_opts)\n",
    "\n",
    "#fov23\n",
    "cat_name = 'CIPR_annotated_clusters'\n",
    "sig_leiden = pd.DataFrame(columns=ad_fov23.var_names, index=ad_fov23.obs[cat_name].cat.categories)\n",
    "\n",
    "sig_leiden = sig_leiden.transpose()\n",
    "pheno_clusters = ['Cluster-' + str(x) for x in sig_leiden.columns.tolist()]\n",
    "\n",
    "ser_counts = ad_fov23.obs['CIPR_annotated_clusters'].value_counts()\n",
    "ser_counts.name = 'cell counts'\n",
    "meta_leiden = pd.DataFrame(ser_counts)\n",
    "\n",
    "from scipy.cluster import hierarchy as sch\n",
    "n_clusters = [4]\n",
    "df_nhood_enr = pd.DataFrame(ad_fov23.uns['CIPR_annotated_clusters_nhood_enrichment']['zscore'], columns=pheno_clusters, index=pheno_clusters)\n",
    "nhood_cluster_levels = ['Level-' + str(x) for x in n_clusters]\n",
    "linkage = sch.linkage(df_nhood_enr, method='average')\n",
    "mat_nhood_clusters = sch.cut_tree(linkage, n_clusters=n_clusters)  \n",
    "df_cluster = pd.DataFrame(mat_nhood_clusters, columns=nhood_cluster_levels,\n",
    "                                index=meta_leiden.index.tolist())\n",
    "    \n",
    "compression_opts = dict(method='zip',\n",
    "                         archive_name='NE_fov23_radius60_zscore.csv') \n",
    "df_nhood_enr.to_csv('NE_fov23_radius60_zscore.zip', index=True, compression=compression_opts)\n",
    "\n",
    "#fov24\n",
    "cat_name = 'CIPR_annotated_clusters'\n",
    "sig_leiden = pd.DataFrame(columns=ad_fov24.var_names, index=ad_fov24.obs[cat_name].cat.categories)\n",
    "\n",
    "sig_leiden = sig_leiden.transpose()\n",
    "pheno_clusters = ['Cluster-' + str(x) for x in sig_leiden.columns.tolist()]\n",
    "\n",
    "ser_counts = ad_fov24.obs['CIPR_annotated_clusters'].value_counts()\n",
    "ser_counts.name = 'cell counts'\n",
    "meta_leiden = pd.DataFrame(ser_counts)\n",
    "\n",
    "from scipy.cluster import hierarchy as sch\n",
    "n_clusters = [4]\n",
    "df_nhood_enr = pd.DataFrame(ad_fov24.uns['CIPR_annotated_clusters_nhood_enrichment']['zscore'], columns=pheno_clusters, index=pheno_clusters)\n",
    "nhood_cluster_levels = ['Level-' + str(x) for x in n_clusters]\n",
    "linkage = sch.linkage(df_nhood_enr, method='average')\n",
    "mat_nhood_clusters = sch.cut_tree(linkage, n_clusters=n_clusters)  \n",
    "df_cluster = pd.DataFrame(mat_nhood_clusters, columns=nhood_cluster_levels,\n",
    "                                index=meta_leiden.index.tolist())\n",
    "    \n",
    "compression_opts = dict(method='zip',\n",
    "                         archive_name='NE_fov24_radius60_zscore.csv') \n",
    "df_nhood_enr.to_csv('NE_fov24_radius60_zscore.zip', index=True, compression=compression_opts)\n",
    "\n",
    "#fov25\n",
    "cat_name = 'CIPR_annotated_clusters'\n",
    "sig_leiden = pd.DataFrame(columns=ad_fov25.var_names, index=ad_fov25.obs[cat_name].cat.categories)\n",
    "\n",
    "sig_leiden = sig_leiden.transpose()\n",
    "pheno_clusters = ['Cluster-' + str(x) for x in sig_leiden.columns.tolist()]\n",
    "\n",
    "ser_counts = ad_fov25.obs['CIPR_annotated_clusters'].value_counts()\n",
    "ser_counts.name = 'cell counts'\n",
    "meta_leiden = pd.DataFrame(ser_counts)\n",
    "\n",
    "from scipy.cluster import hierarchy as sch\n",
    "n_clusters = [4]\n",
    "df_nhood_enr = pd.DataFrame(ad_fov25.uns['CIPR_annotated_clusters_nhood_enrichment']['zscore'], columns=pheno_clusters, index=pheno_clusters)\n",
    "nhood_cluster_levels = ['Level-' + str(x) for x in n_clusters]\n",
    "linkage = sch.linkage(df_nhood_enr, method='average')\n",
    "mat_nhood_clusters = sch.cut_tree(linkage, n_clusters=n_clusters)  \n",
    "df_cluster = pd.DataFrame(mat_nhood_clusters, columns=nhood_cluster_levels,\n",
    "                                index=meta_leiden.index.tolist())\n",
    "    \n",
    "compression_opts = dict(method='zip',\n",
    "                         archive_name='NE_fov25_radius60_zscore.csv') \n",
    "df_nhood_enr.to_csv('NE_fov25_radius60_zscore.zip', index=True, compression=compression_opts)\n"
   ]
  },
  {
   "cell_type": "markdown",
   "id": "f8176ade",
   "metadata": {},
   "source": [
    "# Interaction Matrix"
   ]
  },
  {
   "cell_type": "code",
   "execution_count": null,
   "id": "7480d3f1",
   "metadata": {
    "scrolled": true
   },
   "outputs": [],
   "source": [
    "#The function computes the number of shared edges in the neighbor graph between clusters.\n",
    "# depends on the spatial graph used (knn or radius)\n",
    "sq.gr.interaction_matrix(ad_fov01, cluster_key=\"CIPR_annotated_clusters\", normalized=False)\n",
    "sq.gr.interaction_matrix(ad_fov02, cluster_key=\"CIPR_annotated_clusters\", normalized=False)\n",
    "sq.gr.interaction_matrix(ad_fov03, cluster_key=\"CIPR_annotated_clusters\", normalized=False)\n",
    "sq.gr.interaction_matrix(ad_fov04, cluster_key=\"CIPR_annotated_clusters\", normalized=False)\n",
    "sq.gr.interaction_matrix(ad_fov05, cluster_key=\"CIPR_annotated_clusters\", normalized=False)\n",
    "sq.gr.interaction_matrix(ad_fov06, cluster_key=\"CIPR_annotated_clusters\", normalized=False)\n",
    "sq.gr.interaction_matrix(ad_fov07, cluster_key=\"CIPR_annotated_clusters\", normalized=False)\n",
    "sq.gr.interaction_matrix(ad_fov08, cluster_key=\"CIPR_annotated_clusters\", normalized=False)\n",
    "sq.gr.interaction_matrix(ad_fov09, cluster_key=\"CIPR_annotated_clusters\", normalized=False)\n",
    "sq.gr.interaction_matrix(ad_fov10, cluster_key=\"CIPR_annotated_clusters\", normalized=False)\n",
    "sq.gr.interaction_matrix(ad_fov11, cluster_key=\"CIPR_annotated_clusters\", normalized=False)\n",
    "sq.gr.interaction_matrix(ad_fov12, cluster_key=\"CIPR_annotated_clusters\", normalized=False)\n",
    "sq.gr.interaction_matrix(ad_fov13, cluster_key=\"CIPR_annotated_clusters\", normalized=False)\n",
    "sq.gr.interaction_matrix(ad_fov14, cluster_key=\"CIPR_annotated_clusters\", normalized=False)\n",
    "sq.gr.interaction_matrix(ad_fov15, cluster_key=\"CIPR_annotated_clusters\", normalized=False)\n",
    "sq.gr.interaction_matrix(ad_fov16, cluster_key=\"CIPR_annotated_clusters\", normalized=False)\n",
    "sq.gr.interaction_matrix(ad_fov17, cluster_key=\"CIPR_annotated_clusters\", normalized=False)\n",
    "sq.gr.interaction_matrix(ad_fov18, cluster_key=\"CIPR_annotated_clusters\", normalized=False)\n",
    "sq.gr.interaction_matrix(ad_fov19, cluster_key=\"CIPR_annotated_clusters\", normalized=False)\n",
    "sq.gr.interaction_matrix(ad_fov20, cluster_key=\"CIPR_annotated_clusters\", normalized=False)\n",
    "sq.gr.interaction_matrix(ad_fov21, cluster_key=\"CIPR_annotated_clusters\", normalized=False)\n",
    "sq.gr.interaction_matrix(ad_fov22, cluster_key=\"CIPR_annotated_clusters\", normalized=False)\n",
    "sq.gr.interaction_matrix(ad_fov23, cluster_key=\"CIPR_annotated_clusters\", normalized=False)\n",
    "sq.gr.interaction_matrix(ad_fov24, cluster_key=\"CIPR_annotated_clusters\", normalized=False)\n",
    "sq.gr.interaction_matrix(ad_fov25, cluster_key=\"CIPR_annotated_clusters\", normalized=False)\n"
   ]
  },
  {
   "cell_type": "code",
   "execution_count": null,
   "id": "11003a8a",
   "metadata": {},
   "outputs": [],
   "source": [
    "sq.pl.interaction_matrix(ad_fov01, cluster_key=\"CIPR_annotated_clusters\", method='ward', vmax=200, cmap='inferno',save='Interaction_fov01.pdf')\n",
    "sq.pl.interaction_matrix(ad_fov02, cluster_key=\"CIPR_annotated_clusters\", method='ward', vmax=200, cmap='inferno',save='Interaction_fov02.pdf')\n",
    "sq.pl.interaction_matrix(ad_fov03, cluster_key=\"CIPR_annotated_clusters\", method='ward', vmax=200, cmap='inferno',save='Interaction_fov03.pdf')\n",
    "sq.pl.interaction_matrix(ad_fov04, cluster_key=\"CIPR_annotated_clusters\", method='ward', vmax=200, cmap='inferno',save='Interaction_fov04.pdf')\n",
    "sq.pl.interaction_matrix(ad_fov05, cluster_key=\"CIPR_annotated_clusters\", method='ward', vmax=200, cmap='inferno',save='Interaction_fov05.pdf')\n",
    "sq.pl.interaction_matrix(ad_fov06, cluster_key=\"CIPR_annotated_clusters\", method='ward', vmax=200, cmap='inferno',save='Interaction_fov06.pdf')\n",
    "sq.pl.interaction_matrix(ad_fov07, cluster_key=\"CIPR_annotated_clusters\", method='ward', vmax=200, cmap='inferno',save='Interaction_fov07.pdf')\n",
    "sq.pl.interaction_matrix(ad_fov08, cluster_key=\"CIPR_annotated_clusters\", method='ward', vmax=200, cmap='inferno',save='Interaction_fov08.pdf')\n",
    "sq.pl.interaction_matrix(ad_fov09, cluster_key=\"CIPR_annotated_clusters\", method='ward', vmax=200, cmap='inferno',save='Interaction_fov09.pdf')\n",
    "sq.pl.interaction_matrix(ad_fov10, cluster_key=\"CIPR_annotated_clusters\", method='ward', vmax=200, cmap='inferno',save='Interaction_fov10.pdf')\n",
    "sq.pl.interaction_matrix(ad_fov11, cluster_key=\"CIPR_annotated_clusters\", method='ward', vmax=200, cmap='inferno',save='Interaction_fov11.pdf')\n",
    "sq.pl.interaction_matrix(ad_fov12, cluster_key=\"CIPR_annotated_clusters\", method='ward', vmax=200, cmap='inferno',save='Interaction_fov12.pdf')\n",
    "sq.pl.interaction_matrix(ad_fov13, cluster_key=\"CIPR_annotated_clusters\", method='ward', vmax=200, cmap='inferno',save='Interaction_fov13.pdf')\n",
    "sq.pl.interaction_matrix(ad_fov14, cluster_key=\"CIPR_annotated_clusters\", method='ward', vmax=200, cmap='inferno',save='Interaction_fov14.pdf')\n",
    "sq.pl.interaction_matrix(ad_fov15, cluster_key=\"CIPR_annotated_clusters\", method='ward', vmax=200, cmap='inferno',save='Interaction_fov15.pdf')\n",
    "sq.pl.interaction_matrix(ad_fov16, cluster_key=\"CIPR_annotated_clusters\", method='ward', vmax=200, cmap='inferno',save='Interaction_fov16.pdf')\n",
    "sq.pl.interaction_matrix(ad_fov17, cluster_key=\"CIPR_annotated_clusters\", method='ward', vmax=200, cmap='inferno',save='Interaction_fov17.pdf')\n",
    "sq.pl.interaction_matrix(ad_fov18, cluster_key=\"CIPR_annotated_clusters\", method='ward', vmax=200, cmap='inferno',save='Interaction_fov18.pdf')\n",
    "sq.pl.interaction_matrix(ad_fov19, cluster_key=\"CIPR_annotated_clusters\", method='ward', vmax=200, cmap='inferno',save='Interaction_fov19.pdf')\n",
    "sq.pl.interaction_matrix(ad_fov20, cluster_key=\"CIPR_annotated_clusters\", method='ward', vmax=200, cmap='inferno',save='Interaction_fov20.pdf')\n",
    "sq.pl.interaction_matrix(ad_fov21, cluster_key=\"CIPR_annotated_clusters\", method='ward', vmax=200, cmap='inferno',save='Interaction_fov21.pdf')\n",
    "sq.pl.interaction_matrix(ad_fov22, cluster_key=\"CIPR_annotated_clusters\", method='ward', vmax=200, cmap='inferno',save='Interaction_fov22.pdf')\n",
    "sq.pl.interaction_matrix(ad_fov23, cluster_key=\"CIPR_annotated_clusters\", method='ward', vmax=200, cmap='inferno',save='Interaction_fov23.pdf')\n",
    "sq.pl.interaction_matrix(ad_fov24, cluster_key=\"CIPR_annotated_clusters\", method='ward', vmax=200, cmap='inferno',save='Interaction_fov24.pdf')\n",
    "sq.pl.interaction_matrix(ad_fov25, cluster_key=\"CIPR_annotated_clusters\", method='ward', vmax=200, cmap='inferno',save='Interaction_fov25.pdf')\n"
   ]
  },
  {
   "cell_type": "markdown",
   "id": "2f6be7e1",
   "metadata": {},
   "source": [
    "# Ripley’s statistics"
   ]
  },
  {
   "cell_type": "code",
   "execution_count": null,
   "id": "77b6a5bc",
   "metadata": {
    "scrolled": true
   },
   "outputs": [],
   "source": [
    "ad_fov01"
   ]
  },
  {
   "cell_type": "code",
   "execution_count": null,
   "id": "12247dc3",
   "metadata": {},
   "outputs": [],
   "source": [
    "mode = \"L\"\n",
    "sq.gr.ripley(ad_fov01, cluster_key=\"CIPR_annotated_clusters\", mode='L', max_dist=500, copy=False, seed=1234)\n"
   ]
  },
  {
   "cell_type": "code",
   "execution_count": null,
   "id": "a372586f",
   "metadata": {},
   "outputs": [],
   "source": [
    "sq.pl.ripley(ad_fov01, cluster_key=\"CIPR_annotated_clusters\",  mode='L')\n",
    "\n",
    "#save='fov01_RipleyL.pdf'"
   ]
  },
  {
   "cell_type": "code",
   "execution_count": null,
   "id": "5b54e6e2",
   "metadata": {},
   "outputs": [],
   "source": [
    "cluster_key = 'CIPR_annotated_clusters'\n",
    "\n",
    "ripley_results_df = pd.DataFrame(columns=['bins',cluster_key,'stats'])\n",
    "sims_results_df = pd.DataFrame(columns=['bins','simulations','stats'])\n",
    "\n",
    "sq.gr.ripley(ad_fov01, cluster_key=cluster_key, mode='L', max_dist=500)\n",
    "\n",
    "ripley_results = ad_fov01.uns['CIPR_annotated_clusters_ripley_L']['L_stat']\n",
    "sims_results = ad_fov01.uns['CIPR_annotated_clusters_ripley_L']['sims_stat']\n",
    "\n",
    "ripley_results_df = pd.concat([ripley_results])\n",
    "    \n",
    "plt.rcParams['figure.figsize']=(4,4)\n",
    "\n",
    "rip_summary = ripley_results_df.groupby(['bins',cluster_key]).mean()\n",
    "\n",
    "ax = sns.lineplot(\n",
    "    y=\"stats\",\n",
    "    x=\"bins\",\n",
    "    ci=\"sd\",\n",
    "    hue=cluster_key,\n",
    "    palette = colour_palette['colour'],\n",
    "    data=rip_summary,\n",
    ")\n",
    "\n",
    "# This plots the simulated data\n",
    "#sb.lineplot(y=\"stats\", x=\"bins\", ci=\"sd\", alpha=0.1, color=\"gray\", data=sims_summary)\n",
    "\n",
    "ax.legend(bbox_to_anchor=(1, 1))\n",
    "\n",
    "#plt.savefig('fov22_RipleysL.png')\n",
    "\n",
    "#ripley_results_df.to_csv('fov25_ripley.csv') \n"
   ]
  },
  {
   "cell_type": "code",
   "execution_count": null,
   "id": "3029f321",
   "metadata": {},
   "outputs": [],
   "source": [
    "cluster_key = 'CIPR_annotated_clusters'\n",
    "\n",
    "ripley_results_df = pd.DataFrame(columns=['bins',cluster_key,'stats','ROI'])\n",
    "sims_results_df = pd.DataFrame(columns=['bins','simulations','stats','ROI'])\n",
    "\n",
    "for roi in ad_fov01.obs.fov.cat.categories:\n",
    "    a1 = ad_fov01[ad_fov01.obs.fov==roi]\n",
    "    #a2 = a1[a1.obs.hierarchy=='Myeloid'].copy() if want to calculate in a specific cell type\n",
    "    \n",
    "    sq.gr.ripley(a1, cluster_key=cluster_key, mode='L', max_dist=500)\n",
    "    #sq.pl.ripley(a2, cluster_key=\"phen_cluster\", mode='L')\n",
    "    #plt.show()\n",
    "    \n",
    "    ripley_results = a1.uns[f'{cluster_key}_ripley_L']['L_stat']\n",
    "    ripley_results['ROI'] = roi\n",
    "    \n",
    "    sims_results = a1.uns[f'{cluster_key}_ripley_L']['sims_stat']\n",
    "    sims_results['ROI'] = roi\n",
    "    \n",
    "    ripley_results_df = pd.concat([ripley_results_df, ripley_results])\n",
    "    sims_results_df = pd.concat([sims_results_df, sims_results])\n",
    "    \n",
    "plt.rcParams['figure.figsize']=(4,4)\n",
    "\n",
    "rip_summary = ripley_results_df.groupby(['bins',cluster_key]).mean()\n",
    "sims_summary = sims_results_df.groupby(['bins']).mean().reset_index()\n",
    "\n",
    "ax = sns.lineplot(\n",
    "    y=\"stats\",\n",
    "    x=\"bins\",\n",
    "    ci=\"sd\",\n",
    "    hue=cluster_key,\n",
    "    palette = colour_palette['colour'],\n",
    "    data=rip_summary,\n",
    ")\n",
    "\n",
    "# This plots the simulated data\n",
    "#sb.lineplot(y=\"stats\", x=\"bins\", ci=\"sd\", alpha=0.1, color=\"gray\", data=sims_summary)\n",
    "\n",
    "ax.legend(bbox_to_anchor=(1, 1))\n",
    "\n",
    "plt.savefig('fov01_RipleysL.pdf')\n",
    "\n",
    "#ripley_results_df.to_csv('ripley.csv') \n"
   ]
  },
  {
   "cell_type": "markdown",
   "id": "ed9174e2",
   "metadata": {},
   "source": [
    "# Centrality scores"
   ]
  },
  {
   "cell_type": "code",
   "execution_count": null,
   "id": "e34f88e8",
   "metadata": {},
   "outputs": [],
   "source": [
    "cluster_key = \"CIPR_annotated_clusters\"\n",
    "sq.gr.centrality_scores(ad_fov01, cluster_key, show_progress_bar=True)\n",
    "sq.gr.centrality_scores(ad_fov02, cluster_key, show_progress_bar=True)\n",
    "sq.gr.centrality_scores(ad_fov03, cluster_key, show_progress_bar=True)\n",
    "sq.gr.centrality_scores(ad_fov04, cluster_key, show_progress_bar=True)\n",
    "sq.gr.centrality_scores(ad_fov05, cluster_key, show_progress_bar=True)\n",
    "sq.gr.centrality_scores(ad_fov06, cluster_key, show_progress_bar=True)\n",
    "sq.gr.centrality_scores(ad_fov07, cluster_key, show_progress_bar=True)\n",
    "sq.gr.centrality_scores(ad_fov08, cluster_key, show_progress_bar=True)\n",
    "sq.gr.centrality_scores(ad_fov09, cluster_key, show_progress_bar=True)\n",
    "sq.gr.centrality_scores(ad_fov10, cluster_key, show_progress_bar=True)\n",
    "sq.gr.centrality_scores(ad_fov11, cluster_key, show_progress_bar=True)\n",
    "sq.gr.centrality_scores(ad_fov12, cluster_key, show_progress_bar=True)\n",
    "sq.gr.centrality_scores(ad_fov13, cluster_key, show_progress_bar=True)\n",
    "sq.gr.centrality_scores(ad_fov14, cluster_key, show_progress_bar=True)\n",
    "sq.gr.centrality_scores(ad_fov15, cluster_key, show_progress_bar=True)\n",
    "sq.gr.centrality_scores(ad_fov16, cluster_key, show_progress_bar=True)\n",
    "sq.gr.centrality_scores(ad_fov17, cluster_key, show_progress_bar=True)\n",
    "sq.gr.centrality_scores(ad_fov18, cluster_key, show_progress_bar=True)\n",
    "sq.gr.centrality_scores(ad_fov19, cluster_key, show_progress_bar=True)\n",
    "sq.gr.centrality_scores(ad_fov20, cluster_key, show_progress_bar=True)\n",
    "sq.gr.centrality_scores(ad_fov21, cluster_key, show_progress_bar=True)\n",
    "sq.gr.centrality_scores(ad_fov22, cluster_key, show_progress_bar=True)\n",
    "sq.gr.centrality_scores(ad_fov23, cluster_key, show_progress_bar=True)\n",
    "sq.gr.centrality_scores(ad_fov24, cluster_key, show_progress_bar=True)\n",
    "sq.gr.centrality_scores(ad_fov25, cluster_key, show_progress_bar=True)"
   ]
  },
  {
   "cell_type": "code",
   "execution_count": null,
   "id": "e4f08ade",
   "metadata": {},
   "outputs": [],
   "source": [
    "data = ad_fov01.uns[f'{cluster_key}_centrality_scores'].reset_index()\n",
    "\n",
    "fig, axs = plt.subplots(1, 3, figsize=(16, 6), dpi=300)\n",
    "fig.tight_layout()\n",
    "plt.subplots_adjust(wspace = 0.2)\n",
    "\n",
    "for count, i in enumerate(['closeness_centrality','degree_centrality','average_clustering']):\n",
    "\n",
    "    sns.barplot(data = data, x = \"index\", y = i, ci=68, ax=axs[count], palette=colour_palette['colour'], order=data.sort_values(i)['index'])\n",
    "    axs[count].set_title(i)\n",
    "    axs[count].tick_params(axis='x', labelrotation = 90)\n",
    "    axs[count].tick_params(axis='y', labelsize=10)\n",
    "    plt.xticks(rotation=90)\n",
    "    #axs[count].set_ylabel('Difference', fontsize=12)\n",
    "\n",
    "#fig.savefig('fov25_centrality_scores.png')"
   ]
  },
  {
   "cell_type": "markdown",
   "id": "f94b7ddf",
   "metadata": {},
   "source": [
    "# Co-occurrence probability"
   ]
  },
  {
   "cell_type": "code",
   "execution_count": null,
   "id": "32ccfcb4",
   "metadata": {},
   "outputs": [],
   "source": [
    "sq.gr.co_occurrence(ad_fov01, cluster_key=\"CIPR_annotated_clusters\")\n",
    "sq.gr.co_occurrence(ad_fov02, cluster_key=\"CIPR_annotated_clusters\")\n",
    "sq.gr.co_occurrence(ad_fov03, cluster_key=\"CIPR_annotated_clusters\")\n",
    "sq.gr.co_occurrence(ad_fov04, cluster_key=\"CIPR_annotated_clusters\")\n",
    "sq.gr.co_occurrence(ad_fov05, cluster_key=\"CIPR_annotated_clusters\")\n",
    "sq.gr.co_occurrence(ad_fov06, cluster_key=\"CIPR_annotated_clusters\")\n",
    "sq.gr.co_occurrence(ad_fov07, cluster_key=\"CIPR_annotated_clusters\")\n",
    "sq.gr.co_occurrence(ad_fov08, cluster_key=\"CIPR_annotated_clusters\")\n",
    "sq.gr.co_occurrence(ad_fov09, cluster_key=\"CIPR_annotated_clusters\")\n",
    "sq.gr.co_occurrence(ad_fov10, cluster_key=\"CIPR_annotated_clusters\")\n",
    "sq.gr.co_occurrence(ad_fov11, cluster_key=\"CIPR_annotated_clusters\")\n",
    "sq.gr.co_occurrence(ad_fov12, cluster_key=\"CIPR_annotated_clusters\")\n",
    "sq.gr.co_occurrence(ad_fov13, cluster_key=\"CIPR_annotated_clusters\")\n",
    "sq.gr.co_occurrence(ad_fov14, cluster_key=\"CIPR_annotated_clusters\")\n",
    "sq.gr.co_occurrence(ad_fov15, cluster_key=\"CIPR_annotated_clusters\")\n",
    "sq.gr.co_occurrence(ad_fov16, cluster_key=\"CIPR_annotated_clusters\")\n",
    "sq.gr.co_occurrence(ad_fov17, cluster_key=\"CIPR_annotated_clusters\")\n",
    "sq.gr.co_occurrence(ad_fov18, cluster_key=\"CIPR_annotated_clusters\")\n",
    "sq.gr.co_occurrence(ad_fov19, cluster_key=\"CIPR_annotated_clusters\")\n",
    "sq.gr.co_occurrence(ad_fov20, cluster_key=\"CIPR_annotated_clusters\")\n",
    "sq.gr.co_occurrence(ad_fov21, cluster_key=\"CIPR_annotated_clusters\")\n",
    "sq.gr.co_occurrence(ad_fov22, cluster_key=\"CIPR_annotated_clusters\")\n",
    "sq.gr.co_occurrence(ad_fov23, cluster_key=\"CIPR_annotated_clusters\")\n",
    "sq.gr.co_occurrence(ad_fov24, cluster_key=\"CIPR_annotated_clusters\")\n",
    "sq.gr.co_occurrence(ad_fov25, cluster_key=\"CIPR_annotated_clusters\")"
   ]
  },
  {
   "cell_type": "code",
   "execution_count": null,
   "id": "c6748fa3",
   "metadata": {},
   "outputs": [],
   "source": [
    "sq.pl.co_occurrence(ad_fov01, cluster_key=\"CIPR_annotated_clusters\", clusters=\"Tumor epithelial cell\", figsize=(12, 8))"
   ]
  },
  {
   "cell_type": "code",
   "execution_count": null,
   "id": "7b8b2456",
   "metadata": {},
   "outputs": [],
   "source": [
    "sq.pl.co_occurrence(ad_fov01, cluster_key=\"CIPR_annotated_clusters\", clusters=\"SPP1+ macrophage\", figsize=(12, 8))"
   ]
  },
  {
   "cell_type": "code",
   "execution_count": null,
   "id": "e6f206b6",
   "metadata": {},
   "outputs": [],
   "source": [
    "sq.pl.co_occurrence(ad_fov01, cluster_key=\"CIPR_annotated_clusters\", clusters=\"SPP1+ monocyte\", figsize=(12, 8))"
   ]
  },
  {
   "cell_type": "code",
   "execution_count": null,
   "id": "1d0a2871",
   "metadata": {},
   "outputs": [],
   "source": [
    "sq.pl.spatial_segment(\n",
    "    adata_subset,\n",
    "    shape=\"hex\",\n",
    "    color=\"leiden\",\n",
    "    library_id=\"1\",\n",
    "    library_key=\"fov\",\n",
    "    seg_cell_id=\"cell_ID\",\n",
    "    img=False,\n",
    "    size=60,\n",
    ")"
   ]
  },
  {
   "cell_type": "markdown",
   "id": "1b89159e",
   "metadata": {},
   "source": [
    "# Spatially Variable Genes"
   ]
  },
  {
   "cell_type": "code",
   "execution_count": null,
   "id": "b9c5cfe3",
   "metadata": {},
   "outputs": [],
   "source": [
    "#The Moran’s I global spatial auto-correlation statistics evaluates whether features (i.e. genes) shows a pattern that is clustered, dispersed or random in the tissue are under consideration.\n",
    "\n",
    "#We can visualize some of those genes with squidpy.pl.spatial_segment. \n",
    "#We could also pass mode = 'geary' to compute a closely related auto-correlation statistic, Geary’s C. \n",
    "#See squidpy.gr.spatial_autocorr for more information.\n",
    "\n",
    "sq.gr.spatial_autocorr(ad_fov01, mode=\"moran\", n_perms=100, n_jobs=1)\n",
    "sq.gr.spatial_autocorr(ad_fov02, mode=\"moran\", n_perms=100, n_jobs=1)\n",
    "sq.gr.spatial_autocorr(ad_fov03, mode=\"moran\", n_perms=100, n_jobs=1)\n",
    "sq.gr.spatial_autocorr(ad_fov04, mode=\"moran\", n_perms=100, n_jobs=1)\n",
    "sq.gr.spatial_autocorr(ad_fov05, mode=\"moran\", n_perms=100, n_jobs=1)\n",
    "sq.gr.spatial_autocorr(ad_fov06, mode=\"moran\", n_perms=100, n_jobs=1)\n",
    "sq.gr.spatial_autocorr(ad_fov07, mode=\"moran\", n_perms=100, n_jobs=1)\n",
    "sq.gr.spatial_autocorr(ad_fov08, mode=\"moran\", n_perms=100, n_jobs=1)\n",
    "sq.gr.spatial_autocorr(ad_fov09, mode=\"moran\", n_perms=100, n_jobs=1)\n",
    "sq.gr.spatial_autocorr(ad_fov10, mode=\"moran\", n_perms=100, n_jobs=1)\n",
    "sq.gr.spatial_autocorr(ad_fov11, mode=\"moran\", n_perms=100, n_jobs=1)\n",
    "sq.gr.spatial_autocorr(ad_fov12, mode=\"moran\", n_perms=100, n_jobs=1)\n",
    "sq.gr.spatial_autocorr(ad_fov13, mode=\"moran\", n_perms=100, n_jobs=1)\n",
    "sq.gr.spatial_autocorr(ad_fov14, mode=\"moran\", n_perms=100, n_jobs=1)\n",
    "sq.gr.spatial_autocorr(ad_fov15, mode=\"moran\", n_perms=100, n_jobs=1)\n",
    "sq.gr.spatial_autocorr(ad_fov16, mode=\"moran\", n_perms=100, n_jobs=1)\n",
    "sq.gr.spatial_autocorr(ad_fov17, mode=\"moran\", n_perms=100, n_jobs=1)\n",
    "sq.gr.spatial_autocorr(ad_fov18, mode=\"moran\", n_perms=100, n_jobs=1)\n",
    "sq.gr.spatial_autocorr(ad_fov19, mode=\"moran\", n_perms=100, n_jobs=1)\n",
    "sq.gr.spatial_autocorr(ad_fov20, mode=\"moran\", n_perms=100, n_jobs=1)\n",
    "sq.gr.spatial_autocorr(ad_fov21, mode=\"moran\", n_perms=100, n_jobs=1)\n",
    "sq.gr.spatial_autocorr(ad_fov22, mode=\"moran\", n_perms=100, n_jobs=1)\n",
    "sq.gr.spatial_autocorr(ad_fov23, mode=\"moran\", n_perms=100, n_jobs=1)\n",
    "sq.gr.spatial_autocorr(ad_fov24, mode=\"moran\", n_perms=100, n_jobs=1)\n",
    "sq.gr.spatial_autocorr(ad_fov25, mode=\"moran\", n_perms=100, n_jobs=1)\n"
   ]
  },
  {
   "cell_type": "code",
   "execution_count": null,
   "id": "7ad01730",
   "metadata": {
    "scrolled": true
   },
   "outputs": [],
   "source": [
    "ad_fov01.obs['metaclusters']"
   ]
  },
  {
   "cell_type": "code",
   "execution_count": 8,
   "id": "04f93f90",
   "metadata": {},
   "outputs": [],
   "source": [
    "#Subset T cells\n",
    "ad_T_fov01 = ad_fov01[ad_fov01.obs['metaclusters'].isin(['T cell']),:].copy()\n",
    "ad_T_fov02 = ad_fov02[ad_fov02.obs['metaclusters'].isin(['T cell']),:].copy()\n",
    "ad_T_fov03 = ad_fov03[ad_fov03.obs['metaclusters'].isin(['T cell']),:].copy()\n",
    "ad_T_fov04 = ad_fov04[ad_fov04.obs['metaclusters'].isin(['T cell']),:].copy()\n",
    "ad_T_fov05 = ad_fov05[ad_fov05.obs['metaclusters'].isin(['T cell']),:].copy()\n",
    "ad_T_fov06 = ad_fov06[ad_fov06.obs['metaclusters'].isin(['T cell']),:].copy()\n",
    "ad_T_fov07 = ad_fov07[ad_fov07.obs['metaclusters'].isin(['T cell']),:].copy()\n",
    "ad_T_fov08 = ad_fov08[ad_fov08.obs['metaclusters'].isin(['T cell']),:].copy()\n",
    "ad_T_fov09 = ad_fov09[ad_fov09.obs['metaclusters'].isin(['T cell']),:].copy()\n",
    "ad_T_fov10 = ad_fov10[ad_fov10.obs['metaclusters'].isin(['T cell']),:].copy()\n",
    "ad_T_fov11 = ad_fov11[ad_fov11.obs['metaclusters'].isin(['T cell']),:].copy()\n",
    "ad_T_fov12 = ad_fov12[ad_fov12.obs['metaclusters'].isin(['T cell']),:].copy()\n",
    "ad_T_fov13 = ad_fov13[ad_fov13.obs['metaclusters'].isin(['T cell']),:].copy()\n",
    "ad_T_fov14 = ad_fov14[ad_fov14.obs['metaclusters'].isin(['T cell']),:].copy()\n",
    "ad_T_fov15 = ad_fov15[ad_fov15.obs['metaclusters'].isin(['T cell']),:].copy()\n",
    "ad_T_fov16 = ad_fov16[ad_fov16.obs['metaclusters'].isin(['T cell']),:].copy()\n",
    "ad_T_fov17 = ad_fov17[ad_fov17.obs['metaclusters'].isin(['T cell']),:].copy()\n",
    "ad_T_fov18 = ad_fov18[ad_fov18.obs['metaclusters'].isin(['T cell']),:].copy()\n",
    "ad_T_fov19 = ad_fov19[ad_fov19.obs['metaclusters'].isin(['T cell']),:].copy()\n",
    "ad_T_fov20 = ad_fov20[ad_fov20.obs['metaclusters'].isin(['T cell']),:].copy()\n",
    "ad_T_fov21 = ad_fov21[ad_fov21.obs['metaclusters'].isin(['T cell']),:].copy()\n",
    "ad_T_fov22 = ad_fov22[ad_fov22.obs['metaclusters'].isin(['T cell']),:].copy()\n",
    "ad_T_fov23 = ad_fov23[ad_fov23.obs['metaclusters'].isin(['T cell']),:].copy()\n",
    "ad_T_fov24 = ad_fov24[ad_fov24.obs['metaclusters'].isin(['T cell']),:].copy()\n",
    "ad_T_fov25 = ad_fov25[ad_fov25.obs['metaclusters'].isin(['T cell']),:].copy()"
   ]
  },
  {
   "cell_type": "code",
   "execution_count": null,
   "id": "9c80dd2c",
   "metadata": {},
   "outputs": [],
   "source": [
    "ad_T_fov01"
   ]
  },
  {
   "cell_type": "code",
   "execution_count": 9,
   "id": "40d0cfd2",
   "metadata": {},
   "outputs": [
    {
     "name": "stdout",
     "output_type": "stream",
     "text": [
      "Calculating moran's statistic for `100` permutations using `1` core(s)\n"
     ]
    },
    {
     "name": "stderr",
     "output_type": "stream",
     "text": [
      "/Users/joaoluizsfilho/opt/anaconda3/envs/Squidpy/lib/python3.9/site-packages/numba/np/ufunc/parallel.py:371: NumbaWarning: \u001b[1mThe TBB threading layer requires TBB version 2021 update 6 or later i.e., TBB_INTERFACE_VERSION >= 12060. Found TBB_INTERFACE_VERSION = 12050. The TBB threading layer is disabled.\u001b[0m\n",
      "  warnings.warn(problem)\n",
      "OMP: Info #276: omp_set_nested routine deprecated, please use omp_set_max_active_levels instead.\n"
     ]
    },
    {
     "data": {
      "application/vnd.jupyter.widget-view+json": {
       "model_id": "a67761ce66ad45b794810ccf30b199cf",
       "version_major": 2,
       "version_minor": 0
      },
      "text/plain": [
       "  0%|          | 0/100 [00:00<?, ?/s]"
      ]
     },
     "metadata": {},
     "output_type": "display_data"
    },
    {
     "name": "stderr",
     "output_type": "stream",
     "text": [
      "/Users/joaoluizsfilho/opt/anaconda3/envs/Squidpy/lib/python3.9/site-packages/geopandas/_compat.py:124: UserWarning: The Shapely GEOS version (3.11.1-CAPI-1.17.1) is incompatible with the GEOS version PyGEOS was compiled with (3.10.4-CAPI-1.16.2). Conversions between both will be slow.\n",
      "  warnings.warn(\n",
      "/Users/joaoluizsfilho/opt/anaconda3/envs/Squidpy/lib/python3.9/site-packages/spatialdata/__init__.py:9: UserWarning: Geopandas was set to use PyGEOS, changing to shapely 2.0 with:\n",
      "\n",
      "\tgeopandas.options.use_pygeos = True\n",
      "\n",
      "If you intended to use PyGEOS, set the option to False.\n",
      "  _check_geopandas_using_shapely()\n"
     ]
    },
    {
     "name": "stdout",
     "output_type": "stream",
     "text": [
      "Adding `adata.uns['moranI']`\n",
      "Finish (0:00:06)\n",
      "Calculating moran's statistic for `100` permutations using `1` core(s)\n"
     ]
    },
    {
     "data": {
      "application/vnd.jupyter.widget-view+json": {
       "model_id": "a7cef54c866e4d408102db67fb5c3c33",
       "version_major": 2,
       "version_minor": 0
      },
      "text/plain": [
       "  0%|          | 0/100 [00:00<?, ?/s]"
      ]
     },
     "metadata": {},
     "output_type": "display_data"
    },
    {
     "name": "stderr",
     "output_type": "stream",
     "text": [
      "/Users/joaoluizsfilho/opt/anaconda3/envs/Squidpy/lib/python3.9/site-packages/geopandas/_compat.py:124: UserWarning: The Shapely GEOS version (3.11.1-CAPI-1.17.1) is incompatible with the GEOS version PyGEOS was compiled with (3.10.4-CAPI-1.16.2). Conversions between both will be slow.\n",
      "  warnings.warn(\n",
      "/Users/joaoluizsfilho/opt/anaconda3/envs/Squidpy/lib/python3.9/site-packages/spatialdata/__init__.py:9: UserWarning: Geopandas was set to use PyGEOS, changing to shapely 2.0 with:\n",
      "\n",
      "\tgeopandas.options.use_pygeos = True\n",
      "\n",
      "If you intended to use PyGEOS, set the option to False.\n",
      "  _check_geopandas_using_shapely()\n"
     ]
    },
    {
     "name": "stdout",
     "output_type": "stream",
     "text": [
      "Adding `adata.uns['moranI']`\n",
      "Finish (0:00:05)\n",
      "Calculating moran's statistic for `100` permutations using `1` core(s)\n"
     ]
    },
    {
     "data": {
      "application/vnd.jupyter.widget-view+json": {
       "model_id": "10a049f4c1a74bedb648c37dd69c6e2a",
       "version_major": 2,
       "version_minor": 0
      },
      "text/plain": [
       "  0%|          | 0/100 [00:00<?, ?/s]"
      ]
     },
     "metadata": {},
     "output_type": "display_data"
    },
    {
     "name": "stderr",
     "output_type": "stream",
     "text": [
      "/Users/joaoluizsfilho/opt/anaconda3/envs/Squidpy/lib/python3.9/site-packages/geopandas/_compat.py:124: UserWarning: The Shapely GEOS version (3.11.1-CAPI-1.17.1) is incompatible with the GEOS version PyGEOS was compiled with (3.10.4-CAPI-1.16.2). Conversions between both will be slow.\n",
      "  warnings.warn(\n",
      "/Users/joaoluizsfilho/opt/anaconda3/envs/Squidpy/lib/python3.9/site-packages/spatialdata/__init__.py:9: UserWarning: Geopandas was set to use PyGEOS, changing to shapely 2.0 with:\n",
      "\n",
      "\tgeopandas.options.use_pygeos = True\n",
      "\n",
      "If you intended to use PyGEOS, set the option to False.\n",
      "  _check_geopandas_using_shapely()\n"
     ]
    },
    {
     "name": "stdout",
     "output_type": "stream",
     "text": [
      "Adding `adata.uns['moranI']`\n",
      "Finish (0:00:04)\n",
      "Calculating moran's statistic for `100` permutations using `1` core(s)\n"
     ]
    },
    {
     "data": {
      "application/vnd.jupyter.widget-view+json": {
       "model_id": "e31d39ff5fdc4cbfaa7827690ce29474",
       "version_major": 2,
       "version_minor": 0
      },
      "text/plain": [
       "  0%|          | 0/100 [00:00<?, ?/s]"
      ]
     },
     "metadata": {},
     "output_type": "display_data"
    },
    {
     "name": "stderr",
     "output_type": "stream",
     "text": [
      "/Users/joaoluizsfilho/opt/anaconda3/envs/Squidpy/lib/python3.9/site-packages/geopandas/_compat.py:124: UserWarning: The Shapely GEOS version (3.11.1-CAPI-1.17.1) is incompatible with the GEOS version PyGEOS was compiled with (3.10.4-CAPI-1.16.2). Conversions between both will be slow.\n",
      "  warnings.warn(\n",
      "/Users/joaoluizsfilho/opt/anaconda3/envs/Squidpy/lib/python3.9/site-packages/spatialdata/__init__.py:9: UserWarning: Geopandas was set to use PyGEOS, changing to shapely 2.0 with:\n",
      "\n",
      "\tgeopandas.options.use_pygeos = True\n",
      "\n",
      "If you intended to use PyGEOS, set the option to False.\n",
      "  _check_geopandas_using_shapely()\n"
     ]
    },
    {
     "name": "stdout",
     "output_type": "stream",
     "text": [
      "Adding `adata.uns['moranI']`\n",
      "Finish (0:00:05)\n",
      "Calculating moran's statistic for `100` permutations using `1` core(s)\n"
     ]
    },
    {
     "data": {
      "application/vnd.jupyter.widget-view+json": {
       "model_id": "83389e68f75b4c26a2af1788f0ba4fcb",
       "version_major": 2,
       "version_minor": 0
      },
      "text/plain": [
       "  0%|          | 0/100 [00:00<?, ?/s]"
      ]
     },
     "metadata": {},
     "output_type": "display_data"
    },
    {
     "name": "stderr",
     "output_type": "stream",
     "text": [
      "/Users/joaoluizsfilho/opt/anaconda3/envs/Squidpy/lib/python3.9/site-packages/geopandas/_compat.py:124: UserWarning: The Shapely GEOS version (3.11.1-CAPI-1.17.1) is incompatible with the GEOS version PyGEOS was compiled with (3.10.4-CAPI-1.16.2). Conversions between both will be slow.\n",
      "  warnings.warn(\n",
      "/Users/joaoluizsfilho/opt/anaconda3/envs/Squidpy/lib/python3.9/site-packages/spatialdata/__init__.py:9: UserWarning: Geopandas was set to use PyGEOS, changing to shapely 2.0 with:\n",
      "\n",
      "\tgeopandas.options.use_pygeos = True\n",
      "\n",
      "If you intended to use PyGEOS, set the option to False.\n",
      "  _check_geopandas_using_shapely()\n"
     ]
    },
    {
     "name": "stdout",
     "output_type": "stream",
     "text": [
      "Adding `adata.uns['moranI']`\n",
      "Finish (0:00:04)\n",
      "Calculating moran's statistic for `100` permutations using `1` core(s)\n"
     ]
    },
    {
     "data": {
      "application/vnd.jupyter.widget-view+json": {
       "model_id": "40850053dd5d467f8576b19c5468ff2d",
       "version_major": 2,
       "version_minor": 0
      },
      "text/plain": [
       "  0%|          | 0/100 [00:00<?, ?/s]"
      ]
     },
     "metadata": {},
     "output_type": "display_data"
    },
    {
     "name": "stderr",
     "output_type": "stream",
     "text": [
      "/Users/joaoluizsfilho/opt/anaconda3/envs/Squidpy/lib/python3.9/site-packages/geopandas/_compat.py:124: UserWarning: The Shapely GEOS version (3.11.1-CAPI-1.17.1) is incompatible with the GEOS version PyGEOS was compiled with (3.10.4-CAPI-1.16.2). Conversions between both will be slow.\n",
      "  warnings.warn(\n",
      "/Users/joaoluizsfilho/opt/anaconda3/envs/Squidpy/lib/python3.9/site-packages/spatialdata/__init__.py:9: UserWarning: Geopandas was set to use PyGEOS, changing to shapely 2.0 with:\n",
      "\n",
      "\tgeopandas.options.use_pygeos = True\n",
      "\n",
      "If you intended to use PyGEOS, set the option to False.\n",
      "  _check_geopandas_using_shapely()\n"
     ]
    },
    {
     "name": "stdout",
     "output_type": "stream",
     "text": [
      "Adding `adata.uns['moranI']`\n",
      "Finish (0:00:05)\n",
      "Calculating moran's statistic for `100` permutations using `1` core(s)\n"
     ]
    },
    {
     "data": {
      "application/vnd.jupyter.widget-view+json": {
       "model_id": "a010fd0c38834b269c6a691562397981",
       "version_major": 2,
       "version_minor": 0
      },
      "text/plain": [
       "  0%|          | 0/100 [00:00<?, ?/s]"
      ]
     },
     "metadata": {},
     "output_type": "display_data"
    },
    {
     "name": "stderr",
     "output_type": "stream",
     "text": [
      "/Users/joaoluizsfilho/opt/anaconda3/envs/Squidpy/lib/python3.9/site-packages/geopandas/_compat.py:124: UserWarning: The Shapely GEOS version (3.11.1-CAPI-1.17.1) is incompatible with the GEOS version PyGEOS was compiled with (3.10.4-CAPI-1.16.2). Conversions between both will be slow.\n",
      "  warnings.warn(\n",
      "/Users/joaoluizsfilho/opt/anaconda3/envs/Squidpy/lib/python3.9/site-packages/spatialdata/__init__.py:9: UserWarning: Geopandas was set to use PyGEOS, changing to shapely 2.0 with:\n",
      "\n",
      "\tgeopandas.options.use_pygeos = True\n",
      "\n",
      "If you intended to use PyGEOS, set the option to False.\n",
      "  _check_geopandas_using_shapely()\n"
     ]
    },
    {
     "name": "stdout",
     "output_type": "stream",
     "text": [
      "Adding `adata.uns['moranI']`\n",
      "Finish (0:00:04)\n",
      "Calculating moran's statistic for `100` permutations using `1` core(s)\n"
     ]
    },
    {
     "data": {
      "application/vnd.jupyter.widget-view+json": {
       "model_id": "43cebf84ab2847b380692134d9d19720",
       "version_major": 2,
       "version_minor": 0
      },
      "text/plain": [
       "  0%|          | 0/100 [00:00<?, ?/s]"
      ]
     },
     "metadata": {},
     "output_type": "display_data"
    },
    {
     "name": "stderr",
     "output_type": "stream",
     "text": [
      "/Users/joaoluizsfilho/opt/anaconda3/envs/Squidpy/lib/python3.9/site-packages/geopandas/_compat.py:124: UserWarning: The Shapely GEOS version (3.11.1-CAPI-1.17.1) is incompatible with the GEOS version PyGEOS was compiled with (3.10.4-CAPI-1.16.2). Conversions between both will be slow.\n",
      "  warnings.warn(\n",
      "/Users/joaoluizsfilho/opt/anaconda3/envs/Squidpy/lib/python3.9/site-packages/spatialdata/__init__.py:9: UserWarning: Geopandas was set to use PyGEOS, changing to shapely 2.0 with:\n",
      "\n",
      "\tgeopandas.options.use_pygeos = True\n",
      "\n",
      "If you intended to use PyGEOS, set the option to False.\n",
      "  _check_geopandas_using_shapely()\n"
     ]
    },
    {
     "name": "stdout",
     "output_type": "stream",
     "text": [
      "Adding `adata.uns['moranI']`\n",
      "Finish (0:00:05)\n",
      "Calculating moran's statistic for `100` permutations using `1` core(s)\n"
     ]
    },
    {
     "data": {
      "application/vnd.jupyter.widget-view+json": {
       "model_id": "d7b71bb08bd34dec99363fd96467b9aa",
       "version_major": 2,
       "version_minor": 0
      },
      "text/plain": [
       "  0%|          | 0/100 [00:00<?, ?/s]"
      ]
     },
     "metadata": {},
     "output_type": "display_data"
    },
    {
     "name": "stderr",
     "output_type": "stream",
     "text": [
      "/Users/joaoluizsfilho/opt/anaconda3/envs/Squidpy/lib/python3.9/site-packages/geopandas/_compat.py:124: UserWarning: The Shapely GEOS version (3.11.1-CAPI-1.17.1) is incompatible with the GEOS version PyGEOS was compiled with (3.10.4-CAPI-1.16.2). Conversions between both will be slow.\n",
      "  warnings.warn(\n",
      "/Users/joaoluizsfilho/opt/anaconda3/envs/Squidpy/lib/python3.9/site-packages/spatialdata/__init__.py:9: UserWarning: Geopandas was set to use PyGEOS, changing to shapely 2.0 with:\n",
      "\n",
      "\tgeopandas.options.use_pygeos = True\n",
      "\n",
      "If you intended to use PyGEOS, set the option to False.\n",
      "  _check_geopandas_using_shapely()\n"
     ]
    },
    {
     "name": "stdout",
     "output_type": "stream",
     "text": [
      "Adding `adata.uns['moranI']`\n",
      "Finish (0:00:04)\n",
      "Calculating moran's statistic for `100` permutations using `1` core(s)\n"
     ]
    },
    {
     "data": {
      "application/vnd.jupyter.widget-view+json": {
       "model_id": "5280d8b9f5bd4fe7a860cc5552801d38",
       "version_major": 2,
       "version_minor": 0
      },
      "text/plain": [
       "  0%|          | 0/100 [00:00<?, ?/s]"
      ]
     },
     "metadata": {},
     "output_type": "display_data"
    },
    {
     "name": "stderr",
     "output_type": "stream",
     "text": [
      "/Users/joaoluizsfilho/opt/anaconda3/envs/Squidpy/lib/python3.9/site-packages/geopandas/_compat.py:124: UserWarning: The Shapely GEOS version (3.11.1-CAPI-1.17.1) is incompatible with the GEOS version PyGEOS was compiled with (3.10.4-CAPI-1.16.2). Conversions between both will be slow.\n",
      "  warnings.warn(\n",
      "/Users/joaoluizsfilho/opt/anaconda3/envs/Squidpy/lib/python3.9/site-packages/spatialdata/__init__.py:9: UserWarning: Geopandas was set to use PyGEOS, changing to shapely 2.0 with:\n",
      "\n",
      "\tgeopandas.options.use_pygeos = True\n",
      "\n",
      "If you intended to use PyGEOS, set the option to False.\n",
      "  _check_geopandas_using_shapely()\n"
     ]
    },
    {
     "name": "stdout",
     "output_type": "stream",
     "text": [
      "Adding `adata.uns['moranI']`\n",
      "Finish (0:00:04)\n",
      "Calculating moran's statistic for `100` permutations using `1` core(s)\n"
     ]
    },
    {
     "data": {
      "application/vnd.jupyter.widget-view+json": {
       "model_id": "bab9554b6c5c46ab868d8032583b7b34",
       "version_major": 2,
       "version_minor": 0
      },
      "text/plain": [
       "  0%|          | 0/100 [00:00<?, ?/s]"
      ]
     },
     "metadata": {},
     "output_type": "display_data"
    },
    {
     "name": "stderr",
     "output_type": "stream",
     "text": [
      "/Users/joaoluizsfilho/opt/anaconda3/envs/Squidpy/lib/python3.9/site-packages/geopandas/_compat.py:124: UserWarning: The Shapely GEOS version (3.11.1-CAPI-1.17.1) is incompatible with the GEOS version PyGEOS was compiled with (3.10.4-CAPI-1.16.2). Conversions between both will be slow.\n",
      "  warnings.warn(\n",
      "/Users/joaoluizsfilho/opt/anaconda3/envs/Squidpy/lib/python3.9/site-packages/spatialdata/__init__.py:9: UserWarning: Geopandas was set to use PyGEOS, changing to shapely 2.0 with:\n",
      "\n",
      "\tgeopandas.options.use_pygeos = True\n",
      "\n",
      "If you intended to use PyGEOS, set the option to False.\n",
      "  _check_geopandas_using_shapely()\n"
     ]
    },
    {
     "name": "stdout",
     "output_type": "stream",
     "text": [
      "Adding `adata.uns['moranI']`\n",
      "Finish (0:00:05)\n",
      "Calculating moran's statistic for `100` permutations using `1` core(s)\n"
     ]
    },
    {
     "data": {
      "application/vnd.jupyter.widget-view+json": {
       "model_id": "dbdaeac332014a18b4d8c633a732791c",
       "version_major": 2,
       "version_minor": 0
      },
      "text/plain": [
       "  0%|          | 0/100 [00:00<?, ?/s]"
      ]
     },
     "metadata": {},
     "output_type": "display_data"
    },
    {
     "name": "stderr",
     "output_type": "stream",
     "text": [
      "/Users/joaoluizsfilho/opt/anaconda3/envs/Squidpy/lib/python3.9/site-packages/geopandas/_compat.py:124: UserWarning: The Shapely GEOS version (3.11.1-CAPI-1.17.1) is incompatible with the GEOS version PyGEOS was compiled with (3.10.4-CAPI-1.16.2). Conversions between both will be slow.\n",
      "  warnings.warn(\n",
      "/Users/joaoluizsfilho/opt/anaconda3/envs/Squidpy/lib/python3.9/site-packages/spatialdata/__init__.py:9: UserWarning: Geopandas was set to use PyGEOS, changing to shapely 2.0 with:\n",
      "\n",
      "\tgeopandas.options.use_pygeos = True\n",
      "\n",
      "If you intended to use PyGEOS, set the option to False.\n",
      "  _check_geopandas_using_shapely()\n"
     ]
    },
    {
     "name": "stdout",
     "output_type": "stream",
     "text": [
      "Adding `adata.uns['moranI']`\n",
      "Finish (0:00:04)\n",
      "Calculating moran's statistic for `100` permutations using `1` core(s)\n"
     ]
    },
    {
     "data": {
      "application/vnd.jupyter.widget-view+json": {
       "model_id": "ba570b17963049eeb33bdfd82caaa5a2",
       "version_major": 2,
       "version_minor": 0
      },
      "text/plain": [
       "  0%|          | 0/100 [00:00<?, ?/s]"
      ]
     },
     "metadata": {},
     "output_type": "display_data"
    },
    {
     "name": "stderr",
     "output_type": "stream",
     "text": [
      "/Users/joaoluizsfilho/opt/anaconda3/envs/Squidpy/lib/python3.9/site-packages/geopandas/_compat.py:124: UserWarning: The Shapely GEOS version (3.11.1-CAPI-1.17.1) is incompatible with the GEOS version PyGEOS was compiled with (3.10.4-CAPI-1.16.2). Conversions between both will be slow.\n",
      "  warnings.warn(\n",
      "/Users/joaoluizsfilho/opt/anaconda3/envs/Squidpy/lib/python3.9/site-packages/spatialdata/__init__.py:9: UserWarning: Geopandas was set to use PyGEOS, changing to shapely 2.0 with:\n",
      "\n",
      "\tgeopandas.options.use_pygeos = True\n",
      "\n",
      "If you intended to use PyGEOS, set the option to False.\n",
      "  _check_geopandas_using_shapely()\n"
     ]
    },
    {
     "name": "stdout",
     "output_type": "stream",
     "text": [
      "Adding `adata.uns['moranI']`\n",
      "Finish (0:00:04)\n",
      "Calculating moran's statistic for `100` permutations using `1` core(s)\n"
     ]
    },
    {
     "data": {
      "application/vnd.jupyter.widget-view+json": {
       "model_id": "1dac2c0451814678bc23837b5a87dc1e",
       "version_major": 2,
       "version_minor": 0
      },
      "text/plain": [
       "  0%|          | 0/100 [00:00<?, ?/s]"
      ]
     },
     "metadata": {},
     "output_type": "display_data"
    },
    {
     "name": "stderr",
     "output_type": "stream",
     "text": [
      "/Users/joaoluizsfilho/opt/anaconda3/envs/Squidpy/lib/python3.9/site-packages/geopandas/_compat.py:124: UserWarning: The Shapely GEOS version (3.11.1-CAPI-1.17.1) is incompatible with the GEOS version PyGEOS was compiled with (3.10.4-CAPI-1.16.2). Conversions between both will be slow.\n",
      "  warnings.warn(\n",
      "/Users/joaoluizsfilho/opt/anaconda3/envs/Squidpy/lib/python3.9/site-packages/spatialdata/__init__.py:9: UserWarning: Geopandas was set to use PyGEOS, changing to shapely 2.0 with:\n",
      "\n",
      "\tgeopandas.options.use_pygeos = True\n",
      "\n",
      "If you intended to use PyGEOS, set the option to False.\n",
      "  _check_geopandas_using_shapely()\n"
     ]
    },
    {
     "name": "stdout",
     "output_type": "stream",
     "text": [
      "Adding `adata.uns['moranI']`\n",
      "Finish (0:00:05)\n",
      "Calculating moran's statistic for `100` permutations using `1` core(s)\n"
     ]
    },
    {
     "data": {
      "application/vnd.jupyter.widget-view+json": {
       "model_id": "b42879e16ea24806a19c1e98ca79fa31",
       "version_major": 2,
       "version_minor": 0
      },
      "text/plain": [
       "  0%|          | 0/100 [00:00<?, ?/s]"
      ]
     },
     "metadata": {},
     "output_type": "display_data"
    },
    {
     "name": "stderr",
     "output_type": "stream",
     "text": [
      "/Users/joaoluizsfilho/opt/anaconda3/envs/Squidpy/lib/python3.9/site-packages/geopandas/_compat.py:124: UserWarning: The Shapely GEOS version (3.11.1-CAPI-1.17.1) is incompatible with the GEOS version PyGEOS was compiled with (3.10.4-CAPI-1.16.2). Conversions between both will be slow.\n",
      "  warnings.warn(\n",
      "/Users/joaoluizsfilho/opt/anaconda3/envs/Squidpy/lib/python3.9/site-packages/spatialdata/__init__.py:9: UserWarning: Geopandas was set to use PyGEOS, changing to shapely 2.0 with:\n",
      "\n",
      "\tgeopandas.options.use_pygeos = True\n",
      "\n",
      "If you intended to use PyGEOS, set the option to False.\n",
      "  _check_geopandas_using_shapely()\n"
     ]
    },
    {
     "name": "stdout",
     "output_type": "stream",
     "text": [
      "Adding `adata.uns['moranI']`\n",
      "Finish (0:00:05)\n",
      "Calculating moran's statistic for `100` permutations using `1` core(s)\n"
     ]
    },
    {
     "data": {
      "application/vnd.jupyter.widget-view+json": {
       "model_id": "e1d270d8898543ebb3d88b40d4d8f9f4",
       "version_major": 2,
       "version_minor": 0
      },
      "text/plain": [
       "  0%|          | 0/100 [00:00<?, ?/s]"
      ]
     },
     "metadata": {},
     "output_type": "display_data"
    },
    {
     "name": "stderr",
     "output_type": "stream",
     "text": [
      "/Users/joaoluizsfilho/opt/anaconda3/envs/Squidpy/lib/python3.9/site-packages/geopandas/_compat.py:124: UserWarning: The Shapely GEOS version (3.11.1-CAPI-1.17.1) is incompatible with the GEOS version PyGEOS was compiled with (3.10.4-CAPI-1.16.2). Conversions between both will be slow.\n",
      "  warnings.warn(\n",
      "/Users/joaoluizsfilho/opt/anaconda3/envs/Squidpy/lib/python3.9/site-packages/spatialdata/__init__.py:9: UserWarning: Geopandas was set to use PyGEOS, changing to shapely 2.0 with:\n",
      "\n",
      "\tgeopandas.options.use_pygeos = True\n",
      "\n",
      "If you intended to use PyGEOS, set the option to False.\n",
      "  _check_geopandas_using_shapely()\n"
     ]
    },
    {
     "name": "stdout",
     "output_type": "stream",
     "text": [
      "Adding `adata.uns['moranI']`\n",
      "Finish (0:00:04)\n",
      "Calculating moran's statistic for `100` permutations using `1` core(s)\n"
     ]
    },
    {
     "data": {
      "application/vnd.jupyter.widget-view+json": {
       "model_id": "a3f3feaa1158425988c34da01d792e5e",
       "version_major": 2,
       "version_minor": 0
      },
      "text/plain": [
       "  0%|          | 0/100 [00:00<?, ?/s]"
      ]
     },
     "metadata": {},
     "output_type": "display_data"
    },
    {
     "name": "stderr",
     "output_type": "stream",
     "text": [
      "/Users/joaoluizsfilho/opt/anaconda3/envs/Squidpy/lib/python3.9/site-packages/geopandas/_compat.py:124: UserWarning: The Shapely GEOS version (3.11.1-CAPI-1.17.1) is incompatible with the GEOS version PyGEOS was compiled with (3.10.4-CAPI-1.16.2). Conversions between both will be slow.\n",
      "  warnings.warn(\n",
      "/Users/joaoluizsfilho/opt/anaconda3/envs/Squidpy/lib/python3.9/site-packages/spatialdata/__init__.py:9: UserWarning: Geopandas was set to use PyGEOS, changing to shapely 2.0 with:\n",
      "\n",
      "\tgeopandas.options.use_pygeos = True\n",
      "\n",
      "If you intended to use PyGEOS, set the option to False.\n",
      "  _check_geopandas_using_shapely()\n"
     ]
    },
    {
     "name": "stdout",
     "output_type": "stream",
     "text": [
      "Adding `adata.uns['moranI']`\n",
      "Finish (0:00:05)\n",
      "Calculating moran's statistic for `100` permutations using `1` core(s)\n"
     ]
    },
    {
     "data": {
      "application/vnd.jupyter.widget-view+json": {
       "model_id": "0777880dc8424b1f95364940825f9ae3",
       "version_major": 2,
       "version_minor": 0
      },
      "text/plain": [
       "  0%|          | 0/100 [00:00<?, ?/s]"
      ]
     },
     "metadata": {},
     "output_type": "display_data"
    },
    {
     "name": "stderr",
     "output_type": "stream",
     "text": [
      "/Users/joaoluizsfilho/opt/anaconda3/envs/Squidpy/lib/python3.9/site-packages/geopandas/_compat.py:124: UserWarning: The Shapely GEOS version (3.11.1-CAPI-1.17.1) is incompatible with the GEOS version PyGEOS was compiled with (3.10.4-CAPI-1.16.2). Conversions between both will be slow.\n",
      "  warnings.warn(\n",
      "/Users/joaoluizsfilho/opt/anaconda3/envs/Squidpy/lib/python3.9/site-packages/spatialdata/__init__.py:9: UserWarning: Geopandas was set to use PyGEOS, changing to shapely 2.0 with:\n",
      "\n",
      "\tgeopandas.options.use_pygeos = True\n",
      "\n",
      "If you intended to use PyGEOS, set the option to False.\n",
      "  _check_geopandas_using_shapely()\n"
     ]
    },
    {
     "name": "stdout",
     "output_type": "stream",
     "text": [
      "Adding `adata.uns['moranI']`\n",
      "Finish (0:00:04)\n",
      "Calculating moran's statistic for `100` permutations using `1` core(s)\n"
     ]
    },
    {
     "data": {
      "application/vnd.jupyter.widget-view+json": {
       "model_id": "5eecd1688ca14fa1ada2c35b0d30abc8",
       "version_major": 2,
       "version_minor": 0
      },
      "text/plain": [
       "  0%|          | 0/100 [00:00<?, ?/s]"
      ]
     },
     "metadata": {},
     "output_type": "display_data"
    },
    {
     "name": "stderr",
     "output_type": "stream",
     "text": [
      "/Users/joaoluizsfilho/opt/anaconda3/envs/Squidpy/lib/python3.9/site-packages/geopandas/_compat.py:124: UserWarning: The Shapely GEOS version (3.11.1-CAPI-1.17.1) is incompatible with the GEOS version PyGEOS was compiled with (3.10.4-CAPI-1.16.2). Conversions between both will be slow.\n",
      "  warnings.warn(\n",
      "/Users/joaoluizsfilho/opt/anaconda3/envs/Squidpy/lib/python3.9/site-packages/spatialdata/__init__.py:9: UserWarning: Geopandas was set to use PyGEOS, changing to shapely 2.0 with:\n",
      "\n",
      "\tgeopandas.options.use_pygeos = True\n",
      "\n",
      "If you intended to use PyGEOS, set the option to False.\n",
      "  _check_geopandas_using_shapely()\n"
     ]
    },
    {
     "name": "stdout",
     "output_type": "stream",
     "text": [
      "Adding `adata.uns['moranI']`\n",
      "Finish (0:00:04)\n",
      "Calculating moran's statistic for `100` permutations using `1` core(s)\n"
     ]
    },
    {
     "data": {
      "application/vnd.jupyter.widget-view+json": {
       "model_id": "7ef1234ced0a4d798c47811f752ad8d5",
       "version_major": 2,
       "version_minor": 0
      },
      "text/plain": [
       "  0%|          | 0/100 [00:00<?, ?/s]"
      ]
     },
     "metadata": {},
     "output_type": "display_data"
    },
    {
     "name": "stderr",
     "output_type": "stream",
     "text": [
      "/Users/joaoluizsfilho/opt/anaconda3/envs/Squidpy/lib/python3.9/site-packages/geopandas/_compat.py:124: UserWarning: The Shapely GEOS version (3.11.1-CAPI-1.17.1) is incompatible with the GEOS version PyGEOS was compiled with (3.10.4-CAPI-1.16.2). Conversions between both will be slow.\n",
      "  warnings.warn(\n",
      "/Users/joaoluizsfilho/opt/anaconda3/envs/Squidpy/lib/python3.9/site-packages/spatialdata/__init__.py:9: UserWarning: Geopandas was set to use PyGEOS, changing to shapely 2.0 with:\n",
      "\n",
      "\tgeopandas.options.use_pygeos = True\n",
      "\n",
      "If you intended to use PyGEOS, set the option to False.\n",
      "  _check_geopandas_using_shapely()\n"
     ]
    },
    {
     "name": "stdout",
     "output_type": "stream",
     "text": [
      "Adding `adata.uns['moranI']`\n",
      "Finish (0:00:05)\n",
      "Calculating moran's statistic for `100` permutations using `1` core(s)\n"
     ]
    },
    {
     "data": {
      "application/vnd.jupyter.widget-view+json": {
       "model_id": "aa237eb000454bccad8a6073b9f2fe8e",
       "version_major": 2,
       "version_minor": 0
      },
      "text/plain": [
       "  0%|          | 0/100 [00:00<?, ?/s]"
      ]
     },
     "metadata": {},
     "output_type": "display_data"
    },
    {
     "name": "stderr",
     "output_type": "stream",
     "text": [
      "/Users/joaoluizsfilho/opt/anaconda3/envs/Squidpy/lib/python3.9/site-packages/geopandas/_compat.py:124: UserWarning: The Shapely GEOS version (3.11.1-CAPI-1.17.1) is incompatible with the GEOS version PyGEOS was compiled with (3.10.4-CAPI-1.16.2). Conversions between both will be slow.\n",
      "  warnings.warn(\n",
      "/Users/joaoluizsfilho/opt/anaconda3/envs/Squidpy/lib/python3.9/site-packages/spatialdata/__init__.py:9: UserWarning: Geopandas was set to use PyGEOS, changing to shapely 2.0 with:\n",
      "\n",
      "\tgeopandas.options.use_pygeos = True\n",
      "\n",
      "If you intended to use PyGEOS, set the option to False.\n",
      "  _check_geopandas_using_shapely()\n"
     ]
    },
    {
     "name": "stdout",
     "output_type": "stream",
     "text": [
      "Adding `adata.uns['moranI']`\n",
      "Finish (0:00:04)\n",
      "Calculating moran's statistic for `100` permutations using `1` core(s)\n"
     ]
    },
    {
     "data": {
      "application/vnd.jupyter.widget-view+json": {
       "model_id": "be8fb71c40354aed8d3da62633ba5f5a",
       "version_major": 2,
       "version_minor": 0
      },
      "text/plain": [
       "  0%|          | 0/100 [00:00<?, ?/s]"
      ]
     },
     "metadata": {},
     "output_type": "display_data"
    },
    {
     "name": "stderr",
     "output_type": "stream",
     "text": [
      "/Users/joaoluizsfilho/opt/anaconda3/envs/Squidpy/lib/python3.9/site-packages/geopandas/_compat.py:124: UserWarning: The Shapely GEOS version (3.11.1-CAPI-1.17.1) is incompatible with the GEOS version PyGEOS was compiled with (3.10.4-CAPI-1.16.2). Conversions between both will be slow.\n",
      "  warnings.warn(\n",
      "/Users/joaoluizsfilho/opt/anaconda3/envs/Squidpy/lib/python3.9/site-packages/spatialdata/__init__.py:9: UserWarning: Geopandas was set to use PyGEOS, changing to shapely 2.0 with:\n",
      "\n",
      "\tgeopandas.options.use_pygeos = True\n",
      "\n",
      "If you intended to use PyGEOS, set the option to False.\n",
      "  _check_geopandas_using_shapely()\n"
     ]
    },
    {
     "name": "stdout",
     "output_type": "stream",
     "text": [
      "Adding `adata.uns['moranI']`\n",
      "Finish (0:00:04)\n",
      "Calculating moran's statistic for `100` permutations using `1` core(s)\n"
     ]
    },
    {
     "data": {
      "application/vnd.jupyter.widget-view+json": {
       "model_id": "4336dafd8eb146f8a88e755f9b6b1345",
       "version_major": 2,
       "version_minor": 0
      },
      "text/plain": [
       "  0%|          | 0/100 [00:00<?, ?/s]"
      ]
     },
     "metadata": {},
     "output_type": "display_data"
    },
    {
     "name": "stderr",
     "output_type": "stream",
     "text": [
      "/Users/joaoluizsfilho/opt/anaconda3/envs/Squidpy/lib/python3.9/site-packages/geopandas/_compat.py:124: UserWarning: The Shapely GEOS version (3.11.1-CAPI-1.17.1) is incompatible with the GEOS version PyGEOS was compiled with (3.10.4-CAPI-1.16.2). Conversions between both will be slow.\n",
      "  warnings.warn(\n",
      "/Users/joaoluizsfilho/opt/anaconda3/envs/Squidpy/lib/python3.9/site-packages/spatialdata/__init__.py:9: UserWarning: Geopandas was set to use PyGEOS, changing to shapely 2.0 with:\n",
      "\n",
      "\tgeopandas.options.use_pygeos = True\n",
      "\n",
      "If you intended to use PyGEOS, set the option to False.\n",
      "  _check_geopandas_using_shapely()\n"
     ]
    },
    {
     "name": "stdout",
     "output_type": "stream",
     "text": [
      "Adding `adata.uns['moranI']`\n",
      "Finish (0:00:05)\n",
      "Calculating moran's statistic for `100` permutations using `1` core(s)\n"
     ]
    },
    {
     "data": {
      "application/vnd.jupyter.widget-view+json": {
       "model_id": "bacb93beb6844ab9b935f952cd6c3042",
       "version_major": 2,
       "version_minor": 0
      },
      "text/plain": [
       "  0%|          | 0/100 [00:00<?, ?/s]"
      ]
     },
     "metadata": {},
     "output_type": "display_data"
    },
    {
     "name": "stderr",
     "output_type": "stream",
     "text": [
      "/Users/joaoluizsfilho/opt/anaconda3/envs/Squidpy/lib/python3.9/site-packages/geopandas/_compat.py:124: UserWarning: The Shapely GEOS version (3.11.1-CAPI-1.17.1) is incompatible with the GEOS version PyGEOS was compiled with (3.10.4-CAPI-1.16.2). Conversions between both will be slow.\n",
      "  warnings.warn(\n",
      "/Users/joaoluizsfilho/opt/anaconda3/envs/Squidpy/lib/python3.9/site-packages/spatialdata/__init__.py:9: UserWarning: Geopandas was set to use PyGEOS, changing to shapely 2.0 with:\n",
      "\n",
      "\tgeopandas.options.use_pygeos = True\n",
      "\n",
      "If you intended to use PyGEOS, set the option to False.\n",
      "  _check_geopandas_using_shapely()\n"
     ]
    },
    {
     "name": "stdout",
     "output_type": "stream",
     "text": [
      "Adding `adata.uns['moranI']`\n",
      "Finish (0:00:04)\n"
     ]
    }
   ],
   "source": [
    "#sq.gr.spatial_autocorr(ad_T_fov01, mode=\"moran\", n_perms=100, n_jobs=1)\n",
    "sq.gr.spatial_autocorr(ad_T_fov02, mode=\"moran\", n_perms=100, n_jobs=1)\n",
    "sq.gr.spatial_autocorr(ad_T_fov03, mode=\"moran\", n_perms=100, n_jobs=1)\n",
    "sq.gr.spatial_autocorr(ad_T_fov04, mode=\"moran\", n_perms=100, n_jobs=1)\n",
    "sq.gr.spatial_autocorr(ad_T_fov05, mode=\"moran\", n_perms=100, n_jobs=1)\n",
    "sq.gr.spatial_autocorr(ad_T_fov06, mode=\"moran\", n_perms=100, n_jobs=1)\n",
    "sq.gr.spatial_autocorr(ad_T_fov07, mode=\"moran\", n_perms=100, n_jobs=1)\n",
    "sq.gr.spatial_autocorr(ad_T_fov08, mode=\"moran\", n_perms=100, n_jobs=1)\n",
    "sq.gr.spatial_autocorr(ad_T_fov09, mode=\"moran\", n_perms=100, n_jobs=1)\n",
    "sq.gr.spatial_autocorr(ad_T_fov10, mode=\"moran\", n_perms=100, n_jobs=1)\n",
    "sq.gr.spatial_autocorr(ad_T_fov11, mode=\"moran\", n_perms=100, n_jobs=1)\n",
    "sq.gr.spatial_autocorr(ad_T_fov12, mode=\"moran\", n_perms=100, n_jobs=1)\n",
    "sq.gr.spatial_autocorr(ad_T_fov13, mode=\"moran\", n_perms=100, n_jobs=1)\n",
    "sq.gr.spatial_autocorr(ad_T_fov14, mode=\"moran\", n_perms=100, n_jobs=1)\n",
    "sq.gr.spatial_autocorr(ad_T_fov15, mode=\"moran\", n_perms=100, n_jobs=1)\n",
    "sq.gr.spatial_autocorr(ad_T_fov16, mode=\"moran\", n_perms=100, n_jobs=1)\n",
    "sq.gr.spatial_autocorr(ad_T_fov17, mode=\"moran\", n_perms=100, n_jobs=1)\n",
    "sq.gr.spatial_autocorr(ad_T_fov18, mode=\"moran\", n_perms=100, n_jobs=1)\n",
    "sq.gr.spatial_autocorr(ad_T_fov19, mode=\"moran\", n_perms=100, n_jobs=1)\n",
    "sq.gr.spatial_autocorr(ad_T_fov20, mode=\"moran\", n_perms=100, n_jobs=1)\n",
    "sq.gr.spatial_autocorr(ad_T_fov21, mode=\"moran\", n_perms=100, n_jobs=1)\n",
    "sq.gr.spatial_autocorr(ad_T_fov22, mode=\"moran\", n_perms=100, n_jobs=1)\n",
    "sq.gr.spatial_autocorr(ad_T_fov23, mode=\"moran\", n_perms=100, n_jobs=1)\n",
    "sq.gr.spatial_autocorr(ad_T_fov24, mode=\"moran\", n_perms=100, n_jobs=1)\n",
    "sq.gr.spatial_autocorr(ad_T_fov25, mode=\"moran\", n_perms=100, n_jobs=1)\n"
   ]
  },
  {
   "cell_type": "code",
   "execution_count": null,
   "id": "70beb1b9",
   "metadata": {},
   "outputs": [],
   "source": [
    "sq.pl.spatial_scatter(ad_T_fov01, color=top_autocorr, library_id=\"1\", size=40, cmap='Reds', img=False, figsize=(5,5))"
   ]
  },
  {
   "cell_type": "code",
   "execution_count": null,
   "id": "50f07330",
   "metadata": {
    "scrolled": true
   },
   "outputs": [],
   "source": [
    "sq.pl.spatial_scatter(ad_T_fov01, color=bot_autocorr, size=40, library_id=\"1\", cmap='Reds', img=False, figsize=(5,5))"
   ]
  },
  {
   "cell_type": "code",
   "execution_count": null,
   "id": "dc2fd6ba",
   "metadata": {},
   "outputs": [],
   "source": [
    "fields=[ad_T_fov02, ad_T_fov03]\n",
    "fields2 = [top_autocorr2, top_autocorr3]\n",
    "fields3 = [\"2\", \"3\"]\n",
    "fields4 = [\"fov2\", \"fov3\"]\n",
    "for i in fields:\n",
    "    for j in fields2:\n",
    "        for z in fields3:\n",
    "            for y in fields4:\n",
    "                sq.pl.spatial_scatter(i, color=j, library_id=z, size=40, cmap='Reds', img=False, figsize=(5,5), save=str(y)+'Tcell_topautocorr.pdf')"
   ]
  },
  {
   "cell_type": "code",
   "execution_count": null,
   "id": "5cce529c",
   "metadata": {},
   "outputs": [],
   "source": [
    "num_view = 16\n",
    "top_autocorr = ad_T_fov01.uns['moranI']['I'].sort_values(ascending=False).head(num_view).index.tolist()\n",
    "bot_autocorr = ad_T_fov01.uns['moranI']['I'].sort_values(ascending=True).head(num_view).index.tolist()\n",
    "\n",
    "top_autocorr2 = ad_T_fov02.uns['moranI']['I'].sort_values(ascending=False).head(num_view).index.tolist()\n",
    "bot_autocorr2 = ad_T_fov02.uns['moranI']['I'].sort_values(ascending=True).head(num_view).index.tolist()\n",
    "\n",
    "top_autocorr3 = ad_T_fov03.uns['moranI']['I'].sort_values(ascending=False).head(num_view).index.tolist()\n",
    "bot_autocorr3 = ad_T_fov03.uns['moranI']['I'].sort_values(ascending=True).head(num_view).index.tolist()\n",
    "\n",
    "top_autocorr4 = ad_T_fov04.uns['moranI']['I'].sort_values(ascending=False).head(num_view).index.tolist()\n",
    "bot_autocorr4 = ad_T_fov04.uns['moranI']['I'].sort_values(ascending=True).head(num_view).index.tolist()\n",
    "\n",
    "top_autocorr5 = ad_T_fov05.uns['moranI']['I'].sort_values(ascending=False).head(num_view).index.tolist()\n",
    "bot_autocorr5 = ad_T_fov05.uns['moranI']['I'].sort_values(ascending=True).head(num_view).index.tolist()\n",
    "\n",
    "top_autocorr6 = ad_T_fov06.uns['moranI']['I'].sort_values(ascending=False).head(num_view).index.tolist()\n",
    "bot_autocorr6 = ad_T_fov06.uns['moranI']['I'].sort_values(ascending=True).head(num_view).index.tolist()\n",
    "\n",
    "top_autocorr7 = ad_T_fov07.uns['moranI']['I'].sort_values(ascending=False).head(num_view).index.tolist()\n",
    "bot_autocorr7 = ad_T_fov07.uns['moranI']['I'].sort_values(ascending=True).head(num_view).index.tolist()\n",
    "\n",
    "top_autocorr8 = ad_T_fov08.uns['moranI']['I'].sort_values(ascending=False).head(num_view).index.tolist()\n",
    "bot_autocorr8 = ad_T_fov08.uns['moranI']['I'].sort_values(ascending=True).head(num_view).index.tolist()\n",
    "\n",
    "top_autocorr9 = ad_T_fov09.uns['moranI']['I'].sort_values(ascending=False).head(num_view).index.tolist()\n",
    "bot_autocorr9 = ad_T_fov09.uns['moranI']['I'].sort_values(ascending=True).head(num_view).index.tolist()\n",
    "\n",
    "top_autocorr10 = ad_T_fov10.uns['moranI']['I'].sort_values(ascending=False).head(num_view).index.tolist()\n",
    "bot_autocorr10 = ad_T_fov10.uns['moranI']['I'].sort_values(ascending=True).head(num_view).index.tolist()\n",
    "\n",
    "top_autocorr11 = ad_T_fov11.uns['moranI']['I'].sort_values(ascending=False).head(num_view).index.tolist()\n",
    "bot_autocorr11 = ad_T_fov11.uns['moranI']['I'].sort_values(ascending=True).head(num_view).index.tolist()\n",
    "\n",
    "top_autocorr12 = ad_T_fov12.uns['moranI']['I'].sort_values(ascending=False).head(num_view).index.tolist()\n",
    "bot_autocorr12 = ad_T_fov12.uns['moranI']['I'].sort_values(ascending=True).head(num_view).index.tolist()\n",
    "\n",
    "top_autocorr13 = ad_T_fov13.uns['moranI']['I'].sort_values(ascending=False).head(num_view).index.tolist()\n",
    "bot_autocorr13 = ad_T_fov13.uns['moranI']['I'].sort_values(ascending=True).head(num_view).index.tolist()\n",
    "\n",
    "top_autocorr14 = ad_T_fov14.uns['moranI']['I'].sort_values(ascending=False).head(num_view).index.tolist()\n",
    "bot_autocorr14 = ad_T_fov14.uns['moranI']['I'].sort_values(ascending=True).head(num_view).index.tolist()\n",
    "\n",
    "top_autocorr15 = ad_T_fov15.uns['moranI']['I'].sort_values(ascending=False).head(num_view).index.tolist()\n",
    "bot_autocorr15 = ad_T_fov15.uns['moranI']['I'].sort_values(ascending=True).head(num_view).index.tolist()\n",
    "\n",
    "top_autocorr16 = ad_T_fov16.uns['moranI']['I'].sort_values(ascending=False).head(num_view).index.tolist()\n",
    "bot_autocorr16 = ad_T_fov16.uns['moranI']['I'].sort_values(ascending=True).head(num_view).index.tolist()\n",
    "\n",
    "top_autocorr17 = ad_T_fov17.uns['moranI']['I'].sort_values(ascending=False).head(num_view).index.tolist()\n",
    "bot_autocorr17 = ad_T_fov17.uns['moranI']['I'].sort_values(ascending=True).head(num_view).index.tolist()\n",
    "\n",
    "top_autocorr18 = ad_T_fov18.uns['moranI']['I'].sort_values(ascending=False).head(num_view).index.tolist()\n",
    "bot_autocorr18 = ad_T_fov18.uns['moranI']['I'].sort_values(ascending=True).head(num_view).index.tolist()\n",
    "\n",
    "top_autocorr19 = ad_T_fov19.uns['moranI']['I'].sort_values(ascending=False).head(num_view).index.tolist()\n",
    "bot_autocorr19 = ad_T_fov19.uns['moranI']['I'].sort_values(ascending=True).head(num_view).index.tolist()\n",
    "\n",
    "top_autocorr20 = ad_T_fov20.uns['moranI']['I'].sort_values(ascending=False).head(num_view).index.tolist()\n",
    "bot_autocorr20 = ad_T_fov20.uns['moranI']['I'].sort_values(ascending=True).head(num_view).index.tolist()\n",
    "\n",
    "top_autocorr21 = ad_T_fov21.uns['moranI']['I'].sort_values(ascending=False).head(num_view).index.tolist()\n",
    "bot_autocorr21 = ad_T_fov21.uns['moranI']['I'].sort_values(ascending=True).head(num_view).index.tolist()\n",
    "\n",
    "top_autocorr22 = ad_T_fov22.uns['moranI']['I'].sort_values(ascending=False).head(num_view).index.tolist()\n",
    "bot_autocorr22 = ad_T_fov22.uns['moranI']['I'].sort_values(ascending=True).head(num_view).index.tolist()\n",
    "\n",
    "top_autocorr23 = ad_T_fov23.uns['moranI']['I'].sort_values(ascending=False).head(num_view).index.tolist()\n",
    "bot_autocorr23 = ad_T_fov23.uns['moranI']['I'].sort_values(ascending=True).head(num_view).index.tolist()\n",
    "\n",
    "top_autocorr24 = ad_T_fov24.uns['moranI']['I'].sort_values(ascending=False).head(num_view).index.tolist()\n",
    "bot_autocorr24 = ad_T_fov24.uns['moranI']['I'].sort_values(ascending=True).head(num_view).index.tolist()\n",
    "\n",
    "top_autocorr25 = ad_T_fov25.uns['moranI']['I'].sort_values(ascending=False).head(num_view).index.tolist()\n",
    "bot_autocorr25 = ad_T_fov25.uns['moranI']['I'].sort_values(ascending=True).head(num_view).index.tolist()\n",
    "\n"
   ]
  },
  {
   "cell_type": "code",
   "execution_count": null,
   "id": "edb99192",
   "metadata": {},
   "outputs": [],
   "source": [
    "#sq.pl.spatial_segment( ad_T_fov01, shape=\"hex\", cmap='Reds', color=top_autocorr, library_id=\"1\", library_key=\"fov\", \n",
    "                      #seg_cell_id=\"cell_ID\", img=False, size=60, save=\"fov01_top_autocorr_Tcells.pdf\")\n",
    "\n",
    "sq.pl.spatial_segment(ad_T_fov02, shape=\"hex\", cmap='Reds', color=top_autocorr2, library_id=\"2\", library_key=\"fov\", \n",
    "                      seg_cell_id=\"cell_ID\", img=False, size=60, save=\"fov02_top_autocorr_Tcells.pdf\")\n",
    "\n",
    "sq.pl.spatial_segment(ad_T_fov03, shape=\"hex\", cmap='Reds', color=top_autocorr3, library_id=\"3\", library_key=\"fov\", \n",
    "                      seg_cell_id=\"cell_ID\", img=False, size=60, save=\"fov03_top_autocorr_Tcells.pdf\")\n",
    "\n",
    "sq.pl.spatial_segment(ad_T_fov04, shape=\"hex\", cmap='Reds', color=top_autocorr4, library_id=\"4\", library_key=\"fov\", \n",
    "                      seg_cell_id=\"cell_ID\", img=False, size=60, save=\"fov04_top_autocorr_Tcells.pdf\")\n",
    "\n",
    "sq.pl.spatial_segment(ad_T_fov05, shape=\"hex\", cmap='Reds', color=top_autocorr5, library_id=\"5\", library_key=\"fov\", \n",
    "                      seg_cell_id=\"cell_ID\", img=False, size=60, save=\"fov05_top_autocorr_Tcells.pdf\")\n",
    "\n",
    "sq.pl.spatial_segment(ad_T_fov06, shape=\"hex\", cmap='Reds', color=top_autocorr6, library_id=\"6\", library_key=\"fov\", \n",
    "                      seg_cell_id=\"cell_ID\", img=False, size=60, save=\"fov06_top_autocorr_Tcells.pdf\")\n",
    "\n",
    "sq.pl.spatial_segment(ad_T_fov07, shape=\"hex\", cmap='Reds', color=top_autocorr7, library_id=\"7\", library_key=\"fov\", \n",
    "                      seg_cell_id=\"cell_ID\", img=False, size=60, save=\"fov07_top_autocorr_Tcells.pdf\")\n",
    "\n",
    "sq.pl.spatial_segment( ad_T_fov08, shape=\"hex\", cmap='Reds', color=top_autocorr8, library_id=\"8\", library_key=\"fov\", \n",
    "                      seg_cell_id=\"cell_ID\", img=False, size=60, save=\"fov08_top_autocorr_Tcells.pdf\")\n",
    "\n",
    "sq.pl.spatial_segment( ad_T_fov09, shape=\"hex\", cmap='Reds', color=top_autocorr9, library_id=\"9\", library_key=\"fov\", \n",
    "                      seg_cell_id=\"cell_ID\", img=False, size=60, save=\"fov09_top_autocorr_Tcells.pdf\")\n",
    "\n",
    "sq.pl.spatial_segment(ad_T_fov10, shape=\"hex\", cmap='Reds', color=top_autocorr10, library_id=\"10\", library_key=\"fov\", \n",
    "                      seg_cell_id=\"cell_ID\", img=False, size=60, save=\"fov10_top_autocorr_Tcells.pdf\")\n",
    "\n",
    "sq.pl.spatial_segment(ad_T_fov11, shape=\"hex\", cmap='Reds', color=top_autocorr11, library_id=\"11\", library_key=\"fov\", \n",
    "                      seg_cell_id=\"cell_ID\", img=False, size=60, save=\"fov11_top_autocorr_Tcells.pdf\")\n",
    "\n",
    "sq.pl.spatial_segment(ad_T_fov12, shape=\"hex\", cmap='Reds', color=top_autocorr12, library_id=\"12\", library_key=\"fov\", \n",
    "                      seg_cell_id=\"cell_ID\", img=False, size=60, save=\"fov12_top_autocorr_Tcells.pdf\")\n",
    "\n",
    "sq.pl.spatial_segment(ad_T_fov13, shape=\"hex\", cmap='Reds', color=top_autocorr13, library_id=\"13\", library_key=\"fov\", \n",
    "                      seg_cell_id=\"cell_ID\", img=False, size=60, save=\"fov13_top_autocorr_Tcells.pdf\")\n",
    "\n",
    "sq.pl.spatial_segment(ad_T_fov14, shape=\"hex\", cmap='Reds', color=top_autocorr14, library_id=\"14\", library_key=\"fov\", \n",
    "                      seg_cell_id=\"cell_ID\", img=False, size=60, save=\"fov14_top_autocorr_Tcells.pdf\")\n",
    "\n",
    "sq.pl.spatial_segment(ad_T_fov15, shape=\"hex\", cmap='Reds', color=top_autocorr15, library_id=\"15\", library_key=\"fov\", \n",
    "                      seg_cell_id=\"cell_ID\", img=False, size=60, save=\"fov15_top_autocorr_Tcells.pdf\")\n",
    "\n",
    "sq.pl.spatial_segment(ad_T_fov16, shape=\"hex\", cmap='Reds', color=top_autocorr16, library_id=\"16\", library_key=\"fov\", \n",
    "                      seg_cell_id=\"cell_ID\", img=False, size=60, save=\"fov16_top_autocorr_Tcells.pdf\")\n",
    "\n",
    "sq.pl.spatial_segment(ad_T_fov17, shape=\"hex\", cmap='Reds', color=top_autocorr17, library_id=\"17\", library_key=\"fov\", \n",
    "                      seg_cell_id=\"cell_ID\", img=False, size=60, save=\"fov17_top_autocorr_Tcells.pdf\")\n",
    "\n",
    "sq.pl.spatial_segment(ad_T_fov18, shape=\"hex\", cmap='Reds', color=top_autocorr18, library_id=\"18\", library_key=\"fov\", \n",
    "                      seg_cell_id=\"cell_ID\", img=False, size=60, save=\"fov18_top_autocorr_Tcells.pdf\")\n",
    "\n",
    "sq.pl.spatial_segment(ad_T_fov19, shape=\"hex\", cmap='Reds', color=top_autocorr19, library_id=\"19\", library_key=\"fov\", \n",
    "                      seg_cell_id=\"cell_ID\", img=False, size=60, save=\"fov19_top_autocorr_Tcells.pdf\")\n",
    "\n",
    "sq.pl.spatial_segment(ad_T_fov20, shape=\"hex\", cmap='Reds', color=top_autocorr20, library_id=\"20\", library_key=\"fov\", \n",
    "                      seg_cell_id=\"cell_ID\", img=False, size=60, save=\"fov20_top_autocorr_Tcells.pdf\")\n",
    "\n",
    "sq.pl.spatial_segment(ad_T_fov21, shape=\"hex\", cmap='Reds', color=top_autocorr21, library_id=\"21\", library_key=\"fov\", \n",
    "                      seg_cell_id=\"cell_ID\", img=False, size=60, save=\"fov21_top_autocorr_Tcells.pdf\")\n",
    "\n",
    "sq.pl.spatial_segment(ad_T_fov22, shape=\"hex\", cmap='Reds', color=top_autocorr22, library_id=\"22\", library_key=\"fov\", \n",
    "                      seg_cell_id=\"cell_ID\", img=False, size=60, save=\"fov22_top_autocorr_Tcells.pdf\")\n",
    "\n",
    "sq.pl.spatial_segment(ad_T_fov23, shape=\"hex\", cmap='Reds', color=top_autocorr23, library_id=\"23\", library_key=\"fov\", \n",
    "                      seg_cell_id=\"cell_ID\", img=False, size=60, save=\"fov23_top_autocorr_Tcells.pdf\")\n",
    "\n",
    "sq.pl.spatial_segment(ad_T_fov24, shape=\"hex\", cmap='Reds', color=top_autocorr24, library_id=\"24\", library_key=\"fov\", \n",
    "                      seg_cell_id=\"cell_ID\", img=False, size=60, save=\"fov24_top_autocorr_Tcells.pdf\")\n",
    "\n",
    "sq.pl.spatial_segment(ad_T_fov25, shape=\"hex\", cmap='Reds', color=top_autocorr25, library_id=\"25\", library_key=\"fov\", \n",
    "                      seg_cell_id=\"cell_ID\", img=False, size=60, save=\"fov25_top_autocorr_Tcells.pdf\")"
   ]
  },
  {
   "cell_type": "code",
   "execution_count": null,
   "id": "2527b2ef",
   "metadata": {},
   "outputs": [],
   "source": [
    "#sq.pl.spatial_segment(ad_T_fov01, shape=\"hex\", cmap='Reds', color=bot_autocorr, library_id=\"1\", library_key=\"fov\",\n",
    "    #seg_cell_id=\"cell_ID\", img=False, size=60, save=\"fov01_bottom_autocorr_Tcells.pdf\")\n",
    "\n",
    "sq.pl.spatial_segment(ad_T_fov02, shape=\"hex\", cmap='Reds', color=bot_autocorr2, library_id=\"2\", library_key=\"fov\", \n",
    "                      seg_cell_id=\"cell_ID\", img=False, size=60, save=\"fov02_bottom_autocorr_Tcells.pdf\")\n",
    "\n",
    "sq.pl.spatial_segment(ad_T_fov03, shape=\"hex\", cmap='Reds', color=bot_autocorr3, library_id=\"3\", library_key=\"fov\", \n",
    "                      seg_cell_id=\"cell_ID\", img=False, size=60, save=\"fov03_bottom_autocorr_Tcells.pdf\")\n",
    "\n",
    "sq.pl.spatial_segment(ad_T_fov04, shape=\"hex\", cmap='Reds', color=bot_autocorr4, library_id=\"4\", library_key=\"fov\", \n",
    "                      seg_cell_id=\"cell_ID\", img=False, size=60, save=\"fov04_bot_autocorr_Tcells.pdf\")\n",
    "\n",
    "sq.pl.spatial_segment(ad_T_fov05, shape=\"hex\", cmap='Reds', color=bot_autocorr5, library_id=\"5\", library_key=\"fov\", \n",
    "                      seg_cell_id=\"cell_ID\", img=False, size=60, save=\"fov05_bottom_autocorr_Tcells.pdf\")\n",
    "\n",
    "sq.pl.spatial_segment(ad_T_fov06, shape=\"hex\", cmap='Reds', color=bot_autocorr6, library_id=\"6\", library_key=\"fov\", \n",
    "                      seg_cell_id=\"cell_ID\", img=False, size=60, save=\"fov06_bottom_autocorr_Tcells.pdf\")\n",
    "\n",
    "sq.pl.spatial_segment(ad_T_fov07, shape=\"hex\", cmap='Reds', color=bot_autocorr7, library_id=\"7\", library_key=\"fov\", \n",
    "                      seg_cell_id=\"cell_ID\", img=False, size=60, save=\"fov07_bottom_autocorr_Tcells.pdf\")\n",
    "\n",
    "sq.pl.spatial_segment( ad_T_fov08, shape=\"hex\", cmap='Reds', color=bot_autocorr8, library_id=\"8\", library_key=\"fov\", \n",
    "                      seg_cell_id=\"cell_ID\", img=False, size=60, save=\"fov08_bottom_autocorr_Tcells.pdf\")\n",
    "\n",
    "sq.pl.spatial_segment( ad_T_fov09, shape=\"hex\", cmap='Reds', color=bot_autocorr9, library_id=\"9\", library_key=\"fov\", \n",
    "                      seg_cell_id=\"cell_ID\", img=False, size=60, save=\"fov09_bottom_autocorr_Tcells.pdf\")\n",
    "\n",
    "sq.pl.spatial_segment(ad_T_fov10, shape=\"hex\", cmap='Reds', color=bot_autocorr10, library_id=\"10\", library_key=\"fov\", \n",
    "                      seg_cell_id=\"cell_ID\", img=False, size=60, save=\"fov10_bottom_autocorr_Tcells.pdf\")\n",
    "\n",
    "sq.pl.spatial_segment(ad_T_fov11, shape=\"hex\", cmap='Reds', color=bot_autocorr11, library_id=\"11\", library_key=\"fov\", \n",
    "                      seg_cell_id=\"cell_ID\", img=False, size=60, save=\"fov11_bottom_autocorr_Tcells.pdf\")\n",
    "\n",
    "sq.pl.spatial_segment(ad_T_fov12, shape=\"hex\", cmap='Reds', color=bot_autocorr12, library_id=\"12\", library_key=\"fov\", \n",
    "                      seg_cell_id=\"cell_ID\", img=False, size=60, save=\"fov12_bottom_autocorr_Tcells.pdf\")\n",
    "\n",
    "sq.pl.spatial_segment(ad_T_fov13, shape=\"hex\", cmap='Reds', color=bot_autocorr13, library_id=\"13\", library_key=\"fov\", \n",
    "                      seg_cell_id=\"cell_ID\", img=False, size=60, save=\"fov13_bottom_autocorr_Tcells.pdf\")\n",
    "\n",
    "sq.pl.spatial_segment(ad_T_fov14, shape=\"hex\", cmap='Reds', color=bot_autocorr14, library_id=\"14\", library_key=\"fov\", \n",
    "                      seg_cell_id=\"cell_ID\", img=False, size=60, save=\"fov14_bottom_autocorr_Tcells.pdf\")\n",
    "\n",
    "sq.pl.spatial_segment(ad_T_fov15, shape=\"hex\", cmap='Reds', color=bot_autocorr15, library_id=\"15\", library_key=\"fov\", \n",
    "                      seg_cell_id=\"cell_ID\", img=False, size=60, save=\"fov15_bottom_autocorr_Tcells.pdf\")\n",
    "\n",
    "sq.pl.spatial_segment(ad_T_fov16, shape=\"hex\", cmap='Reds', color=bot_autocorr16, library_id=\"16\", library_key=\"fov\", \n",
    "                      seg_cell_id=\"cell_ID\", img=False, size=60, save=\"fov16_bottom_autocorr_Tcells.pdf\")\n",
    "\n",
    "sq.pl.spatial_segment(ad_T_fov17, shape=\"hex\", cmap='Reds', color=bot_autocorr17, library_id=\"17\", library_key=\"fov\", \n",
    "                      seg_cell_id=\"cell_ID\", img=False, size=60, save=\"fov17_bottom_autocorr_Tcells.pdf\")\n",
    "\n",
    "sq.pl.spatial_segment(ad_T_fov18, shape=\"hex\", cmap='Reds', color=bot_autocorr18, library_id=\"18\", library_key=\"fov\", \n",
    "                      seg_cell_id=\"cell_ID\", img=False, size=60, save=\"fov18_bottom_autocorr_Tcells.pdf\")\n",
    "\n",
    "sq.pl.spatial_segment(ad_T_fov19, shape=\"hex\", cmap='Reds', color=bot_autocorr19, library_id=\"19\", library_key=\"fov\", \n",
    "                      seg_cell_id=\"cell_ID\", img=False, size=60, save=\"fov19_bottom_autocorr_Tcells.pdf\")\n",
    "\n",
    "sq.pl.spatial_segment(ad_T_fov20, shape=\"hex\", cmap='Reds', color=bot_autocorr20, library_id=\"20\", library_key=\"fov\", \n",
    "                      seg_cell_id=\"cell_ID\", img=False, size=60, save=\"fov20_bottom_autocorr_Tcells.pdf\")\n",
    "\n",
    "sq.pl.spatial_segment(ad_T_fov21, shape=\"hex\", cmap='Reds', color=bot_autocorr21, library_id=\"21\", library_key=\"fov\", \n",
    "                      seg_cell_id=\"cell_ID\", img=False, size=60, save=\"fov21_bottom_autocorr_Tcells.pdf\")\n",
    "\n",
    "sq.pl.spatial_segment(ad_T_fov22, shape=\"hex\", cmap='Reds', color=bot_autocorr22, library_id=\"22\", library_key=\"fov\", \n",
    "                      seg_cell_id=\"cell_ID\", img=False, size=60, save=\"fov22_bottom_autocorr_Tcells.pdf\")\n",
    "\n",
    "sq.pl.spatial_segment(ad_T_fov23, shape=\"hex\", cmap='Reds', color=bot_autocorr23, library_id=\"23\", library_key=\"fov\", \n",
    "                      seg_cell_id=\"cell_ID\", img=False, size=60, save=\"fov23_bottom_autocorr_Tcells.pdf\")\n",
    "\n",
    "sq.pl.spatial_segment(ad_T_fov24, shape=\"hex\", cmap='Reds', color=bot_autocorr24, library_id=\"24\", library_key=\"fov\", \n",
    "                      seg_cell_id=\"cell_ID\", img=False, size=60, save=\"fov24_bottom_autocorr_Tcells.pdf\")\n",
    "\n",
    "sq.pl.spatial_segment(ad_T_fov25, shape=\"hex\", cmap='Reds', color=bot_autocorr25, library_id=\"25\", library_key=\"fov\", \n",
    "                      seg_cell_id=\"cell_ID\", img=False, size=60, save=\"fov25_bottom_autocorr_Tcells.pdf\")"
   ]
  },
  {
   "cell_type": "code",
   "execution_count": null,
   "id": "8ad94813",
   "metadata": {},
   "outputs": [],
   "source": [
    "ad_T_fov01.uns[\"moranI\"].head(10)"
   ]
  },
  {
   "cell_type": "code",
   "execution_count": 13,
   "id": "51f6add7",
   "metadata": {},
   "outputs": [],
   "source": [
    "#Get a table with the scores and groups. see p-values\n",
    "df = ad_T_fov01.uns[\"moranI\"]\n",
    "df2 = ad_T_fov02.uns[\"moranI\"]\n",
    "df3 = ad_T_fov03.uns[\"moranI\"]\n",
    "df4 = ad_T_fov04.uns[\"moranI\"]\n",
    "df5 = ad_T_fov05.uns[\"moranI\"]\n",
    "df6 = ad_T_fov06.uns[\"moranI\"]\n",
    "df7 = ad_T_fov07.uns[\"moranI\"]\n",
    "df8 = ad_T_fov08.uns[\"moranI\"]\n",
    "df9 = ad_T_fov09.uns[\"moranI\"]\n",
    "df10 = ad_T_fov10.uns[\"moranI\"]\n",
    "df11 = ad_T_fov11.uns[\"moranI\"]\n",
    "df12 = ad_T_fov12.uns[\"moranI\"]\n",
    "df13 = ad_T_fov13.uns[\"moranI\"]\n",
    "df14 = ad_T_fov14.uns[\"moranI\"]\n",
    "df15 = ad_T_fov15.uns[\"moranI\"]\n",
    "df16 = ad_T_fov16.uns[\"moranI\"]\n",
    "df17 = ad_T_fov17.uns[\"moranI\"]\n",
    "df18 = ad_T_fov18.uns[\"moranI\"]\n",
    "df19 = ad_T_fov19.uns[\"moranI\"]\n",
    "df20 = ad_T_fov20.uns[\"moranI\"]\n",
    "df21 = ad_T_fov21.uns[\"moranI\"]\n",
    "df22 = ad_T_fov22.uns[\"moranI\"]\n",
    "df23 = ad_T_fov23.uns[\"moranI\"]\n",
    "df24 = ad_T_fov24.uns[\"moranI\"]\n",
    "df25 = ad_T_fov25.uns[\"moranI\"]\n"
   ]
  },
  {
   "cell_type": "code",
   "execution_count": 11,
   "id": "4047a71c",
   "metadata": {},
   "outputs": [
    {
     "data": {
      "text/html": [
       "<div>\n",
       "<style scoped>\n",
       "    .dataframe tbody tr th:only-of-type {\n",
       "        vertical-align: middle;\n",
       "    }\n",
       "\n",
       "    .dataframe tbody tr th {\n",
       "        vertical-align: top;\n",
       "    }\n",
       "\n",
       "    .dataframe thead th {\n",
       "        text-align: right;\n",
       "    }\n",
       "</style>\n",
       "<table border=\"1\" class=\"dataframe\">\n",
       "  <thead>\n",
       "    <tr style=\"text-align: right;\">\n",
       "      <th></th>\n",
       "      <th>I</th>\n",
       "      <th>pval_norm</th>\n",
       "      <th>var_norm</th>\n",
       "      <th>pval_z_sim</th>\n",
       "      <th>pval_sim</th>\n",
       "      <th>var_sim</th>\n",
       "      <th>pval_norm_fdr_bh</th>\n",
       "      <th>pval_z_sim_fdr_bh</th>\n",
       "      <th>pval_sim_fdr_bh</th>\n",
       "    </tr>\n",
       "  </thead>\n",
       "  <tbody>\n",
       "    <tr>\n",
       "      <th>IGHG1</th>\n",
       "      <td>0.462063</td>\n",
       "      <td>0.000000</td>\n",
       "      <td>0.000168</td>\n",
       "      <td>0.000000</td>\n",
       "      <td>0.009901</td>\n",
       "      <td>0.000190</td>\n",
       "      <td>0.000000</td>\n",
       "      <td>0.000000</td>\n",
       "      <td>0.038874</td>\n",
       "    </tr>\n",
       "    <tr>\n",
       "      <th>IGF2</th>\n",
       "      <td>0.431973</td>\n",
       "      <td>0.000000</td>\n",
       "      <td>0.000168</td>\n",
       "      <td>0.000000</td>\n",
       "      <td>0.009901</td>\n",
       "      <td>0.000164</td>\n",
       "      <td>0.000000</td>\n",
       "      <td>0.000000</td>\n",
       "      <td>0.038874</td>\n",
       "    </tr>\n",
       "    <tr>\n",
       "      <th>COL1A1</th>\n",
       "      <td>0.424521</td>\n",
       "      <td>0.000000</td>\n",
       "      <td>0.000168</td>\n",
       "      <td>0.000000</td>\n",
       "      <td>0.009901</td>\n",
       "      <td>0.000164</td>\n",
       "      <td>0.000000</td>\n",
       "      <td>0.000000</td>\n",
       "      <td>0.038874</td>\n",
       "    </tr>\n",
       "    <tr>\n",
       "      <th>IGHG2</th>\n",
       "      <td>0.402724</td>\n",
       "      <td>0.000000</td>\n",
       "      <td>0.000168</td>\n",
       "      <td>0.000000</td>\n",
       "      <td>0.009901</td>\n",
       "      <td>0.000143</td>\n",
       "      <td>0.000000</td>\n",
       "      <td>0.000000</td>\n",
       "      <td>0.038874</td>\n",
       "    </tr>\n",
       "    <tr>\n",
       "      <th>IGKC</th>\n",
       "      <td>0.402404</td>\n",
       "      <td>0.000000</td>\n",
       "      <td>0.000168</td>\n",
       "      <td>0.000000</td>\n",
       "      <td>0.009901</td>\n",
       "      <td>0.000127</td>\n",
       "      <td>0.000000</td>\n",
       "      <td>0.000000</td>\n",
       "      <td>0.038874</td>\n",
       "    </tr>\n",
       "    <tr>\n",
       "      <th>...</th>\n",
       "      <td>...</td>\n",
       "      <td>...</td>\n",
       "      <td>...</td>\n",
       "      <td>...</td>\n",
       "      <td>...</td>\n",
       "      <td>...</td>\n",
       "      <td>...</td>\n",
       "      <td>...</td>\n",
       "      <td>...</td>\n",
       "    </tr>\n",
       "    <tr>\n",
       "      <th>INHA</th>\n",
       "      <td>-0.023174</td>\n",
       "      <td>0.038554</td>\n",
       "      <td>0.000168</td>\n",
       "      <td>0.011671</td>\n",
       "      <td>0.009901</td>\n",
       "      <td>0.000104</td>\n",
       "      <td>0.131714</td>\n",
       "      <td>0.038021</td>\n",
       "      <td>0.038874</td>\n",
       "    </tr>\n",
       "    <tr>\n",
       "      <th>UPK3A</th>\n",
       "      <td>-0.023228</td>\n",
       "      <td>0.038210</td>\n",
       "      <td>0.000168</td>\n",
       "      <td>0.005071</td>\n",
       "      <td>0.009901</td>\n",
       "      <td>0.000075</td>\n",
       "      <td>0.131545</td>\n",
       "      <td>0.018829</td>\n",
       "      <td>0.038874</td>\n",
       "    </tr>\n",
       "    <tr>\n",
       "      <th>APOB</th>\n",
       "      <td>-0.026324</td>\n",
       "      <td>0.022187</td>\n",
       "      <td>0.000168</td>\n",
       "      <td>0.001552</td>\n",
       "      <td>0.009901</td>\n",
       "      <td>0.000078</td>\n",
       "      <td>0.089684</td>\n",
       "      <td>0.007148</td>\n",
       "      <td>0.038874</td>\n",
       "    </tr>\n",
       "    <tr>\n",
       "      <th>RAMP1</th>\n",
       "      <td>-0.026514</td>\n",
       "      <td>0.021424</td>\n",
       "      <td>0.000168</td>\n",
       "      <td>0.000860</td>\n",
       "      <td>0.009901</td>\n",
       "      <td>0.000071</td>\n",
       "      <td>0.088086</td>\n",
       "      <td>0.004270</td>\n",
       "      <td>0.038874</td>\n",
       "    </tr>\n",
       "    <tr>\n",
       "      <th>FLT3LG</th>\n",
       "      <td>-0.029014</td>\n",
       "      <td>0.013279</td>\n",
       "      <td>0.000168</td>\n",
       "      <td>0.003550</td>\n",
       "      <td>0.009901</td>\n",
       "      <td>0.000110</td>\n",
       "      <td>0.061161</td>\n",
       "      <td>0.014228</td>\n",
       "      <td>0.038874</td>\n",
       "    </tr>\n",
       "  </tbody>\n",
       "</table>\n",
       "<p>958 rows × 9 columns</p>\n",
       "</div>"
      ],
      "text/plain": [
       "               I  pval_norm  var_norm  pval_z_sim  pval_sim   var_sim  \\\n",
       "IGHG1   0.462063   0.000000  0.000168    0.000000  0.009901  0.000190   \n",
       "IGF2    0.431973   0.000000  0.000168    0.000000  0.009901  0.000164   \n",
       "COL1A1  0.424521   0.000000  0.000168    0.000000  0.009901  0.000164   \n",
       "IGHG2   0.402724   0.000000  0.000168    0.000000  0.009901  0.000143   \n",
       "IGKC    0.402404   0.000000  0.000168    0.000000  0.009901  0.000127   \n",
       "...          ...        ...       ...         ...       ...       ...   \n",
       "INHA   -0.023174   0.038554  0.000168    0.011671  0.009901  0.000104   \n",
       "UPK3A  -0.023228   0.038210  0.000168    0.005071  0.009901  0.000075   \n",
       "APOB   -0.026324   0.022187  0.000168    0.001552  0.009901  0.000078   \n",
       "RAMP1  -0.026514   0.021424  0.000168    0.000860  0.009901  0.000071   \n",
       "FLT3LG -0.029014   0.013279  0.000168    0.003550  0.009901  0.000110   \n",
       "\n",
       "        pval_norm_fdr_bh  pval_z_sim_fdr_bh  pval_sim_fdr_bh  \n",
       "IGHG1           0.000000           0.000000         0.038874  \n",
       "IGF2            0.000000           0.000000         0.038874  \n",
       "COL1A1          0.000000           0.000000         0.038874  \n",
       "IGHG2           0.000000           0.000000         0.038874  \n",
       "IGKC            0.000000           0.000000         0.038874  \n",
       "...                  ...                ...              ...  \n",
       "INHA            0.131714           0.038021         0.038874  \n",
       "UPK3A           0.131545           0.018829         0.038874  \n",
       "APOB            0.089684           0.007148         0.038874  \n",
       "RAMP1           0.088086           0.004270         0.038874  \n",
       "FLT3LG          0.061161           0.014228         0.038874  \n",
       "\n",
       "[958 rows x 9 columns]"
      ]
     },
     "execution_count": 11,
     "metadata": {},
     "output_type": "execute_result"
    }
   ],
   "source": [
    "df"
   ]
  },
  {
   "cell_type": "code",
   "execution_count": null,
   "id": "245e0380",
   "metadata": {},
   "outputs": [],
   "source": [
    "compression_opts = dict(method='zip', archive_name='fov01_spatially_variable_genes_Tcells.csv') \n",
    "df.to_csv('fov01.zip', index=True, compression=compression_opts)\n",
    "\n",
    "compression_opts = dict(method='zip', archive_name='fov02_spatially_variable_genes_Tcells.csv') \n",
    "df2.to_csv('fov02.zip', index=True, compression=compression_opts)\n",
    "\n",
    "compression_opts = dict(method='zip', archive_name='fov03_spatially_variable_genes_Tcells.csv') \n",
    "df3.to_csv('fov03.zip', index=True, compression=compression_opts)\n",
    "\n",
    "compression_opts = dict(method='zip', archive_name='fov04_spatially_variable_genes_Tcells.csv') \n",
    "df4.to_csv('fov04.zip', index=True, compression=compression_opts)\n",
    "\n",
    "compression_opts = dict(method='zip', archive_name='fov05_spatially_variable_genes_Tcells.csv') \n",
    "df5.to_csv('fov05.zip', index=True, compression=compression_opts)\n",
    "\n",
    "compression_opts = dict(method='zip', archive_name='fov06_spatially_variable_genes_Tcells.csv') \n",
    "df6.to_csv('fov06.zip', index=True, compression=compression_opts)\n",
    "\n",
    "compression_opts = dict(method='zip', archive_name='fov07_spatially_variable_genes_Tcells.csv') \n",
    "df7.to_csv('fov07.zip', index=True, compression=compression_opts)\n",
    "\n",
    "compression_opts = dict(method='zip', archive_name='fov08_spatially_variable_genes_Tcells.csv') \n",
    "df8.to_csv('fov08.zip', index=True, compression=compression_opts)\n",
    "\n",
    "compression_opts = dict(method='zip', archive_name='fov09_spatially_variable_genes_Tcells.csv') \n",
    "df9.to_csv('fov09.zip', index=True, compression=compression_opts)\n",
    "\n",
    "compression_opts = dict(method='zip', archive_name='fov10_spatially_variable_genes_Tcells.csv') \n",
    "df10.to_csv('fov10.zip', index=True, compression=compression_opts)\n",
    "\n",
    "compression_opts = dict(method='zip', archive_name='fov11_spatially_variable_genes_Tcells.csv') \n",
    "df11.to_csv('fov11.zip', index=True, compression=compression_opts)\n",
    "\n",
    "compression_opts = dict(method='zip', archive_name='fov12_spatially_variable_genes_Tcells.csv') \n",
    "df12.to_csv('fov12.zip', index=True, compression=compression_opts)\n",
    "\n",
    "compression_opts = dict(method='zip', archive_name='fov13_spatially_variable_genes_Tcells.csv') \n",
    "df13.to_csv('fov13.zip', index=True, compression=compression_opts)\n",
    "\n",
    "compression_opts = dict(method='zip', archive_name='fov14_spatially_variable_genes_Tcells.csv') \n",
    "df14.to_csv('fov14.zip', index=True, compression=compression_opts)\n",
    "\n",
    "compression_opts = dict(method='zip', archive_name='fov15_spatially_variable_genes_Tcells.csv') \n",
    "df15.to_csv('fov15.zip', index=True, compression=compression_opts)\n",
    "\n",
    "compression_opts = dict(method='zip', archive_name='fov16_spatially_variable_genes_Tcells.csv') \n",
    "df16.to_csv('fov16.zip', index=True, compression=compression_opts)\n",
    "\n",
    "compression_opts = dict(method='zip', archive_name='fov17_spatially_variable_genes_Tcells.csv') \n",
    "df17.to_csv('fov17.zip', index=True, compression=compression_opts)\n",
    "\n",
    "compression_opts = dict(method='zip', archive_name='fov18_spatially_variable_genes_Tcells.csv') \n",
    "df18.to_csv('fov18.zip', index=True, compression=compression_opts)\n",
    "\n",
    "compression_opts = dict(method='zip', archive_name='fov19_spatially_variable_genes_Tcells.csv') \n",
    "df19.to_csv('fov19.zip', index=True, compression=compression_opts)\n",
    "\n",
    "compression_opts = dict(method='zip', archive_name='fov20_spatially_variable_genes_Tcells.csv') \n",
    "df20.to_csv('fov20.zip', index=True, compression=compression_opts)\n",
    "\n",
    "compression_opts = dict(method='zip', archive_name='fov21_spatially_variable_genes_Tcells.csv') \n",
    "df21.to_csv('fov21.zip', index=True, compression=compression_opts)\n",
    "\n",
    "compression_opts = dict(method='zip', archive_name='fov22_spatially_variable_genes_Tcells.csv') \n",
    "df22.to_csv('fov22.zip', index=True, compression=compression_opts)\n",
    "\n",
    "compression_opts = dict(method='zip', archive_name='fov23_spatially_variable_genes_Tcells.csv') \n",
    "df23.to_csv('fov23.zip', index=True, compression=compression_opts)\n",
    "\n",
    "compression_opts = dict(method='zip', archive_name='fov24_spatially_variable_genes_Tcells.csv') \n",
    "df24.to_csv('fov24.zip', index=True, compression=compression_opts)\n",
    "\n",
    "compression_opts = dict(method='zip', archive_name='fov25_spatially_variable_genes_Tcells.csv') \n",
    "df25.to_csv('fov25.zip', index=True, compression=compression_opts)"
   ]
  },
  {
   "cell_type": "code",
   "execution_count": null,
   "id": "ce2d2302",
   "metadata": {},
   "outputs": [],
   "source": [
    "sq.pl.spatial_segment(\n",
    "    ad_fov01,\n",
    "    library_id=\"1\",\n",
    "    seg_cell_id=\"cell_ID\",\n",
    "    library_key=\"fov\",\n",
    "    color=[\"KRT19\", \"ANXA2\", \"COL1A1\"],\n",
    "    size=60,\n",
    "    img=False,\n",
    ")\n"
   ]
  },
  {
   "cell_type": "code",
   "execution_count": null,
   "id": "f6ec2d31",
   "metadata": {},
   "outputs": [],
   "source": [
    "# top cell types based on average expression of top_autocorr genes\n",
    "sig_leiden.loc[top_autocorr].mean(axis=0).sort_values(ascending=False).index.tolist()[:5]"
   ]
  },
  {
   "cell_type": "code",
   "execution_count": null,
   "id": "c3168dd9",
   "metadata": {},
   "outputs": [],
   "source": [
    "# top cell types based on average expression of bot_autocorr genes\n",
    "all_clusters = [x for x in meta_leiden.index.tolist() if 'Hepatocyte' in x]\n",
    "sig_leiden.columns = meta_leiden.index.tolist()\n",
    "sig_leiden.loc[bot_autocorr].mean(axis=0).sort_values(ascending=False).index.tolist()[:5]"
   ]
  },
  {
   "cell_type": "markdown",
   "id": "d7212b8d",
   "metadata": {},
   "source": [
    "# Ligand-receptor interaction analysis"
   ]
  },
  {
   "cell_type": "code",
   "execution_count": null,
   "id": "915b3188",
   "metadata": {},
   "outputs": [],
   "source": [
    "sq.gr.ligrec(ad_fov01, n_perms=100, cluster_key=\"CIPR_annotated_clusters\", use_raw=False)"
   ]
  },
  {
   "cell_type": "code",
   "execution_count": null,
   "id": "913f2d1e",
   "metadata": {},
   "outputs": [],
   "source": [
    "sq.gr.ligrec(ad_fov02, n_perms=100, cluster_key=\"CIPR_annotated_clusters\", use_raw=False)\n",
    "sq.gr.ligrec(ad_fov03, n_perms=100, cluster_key=\"CIPR_annotated_clusters\", use_raw=False)\n",
    "sq.gr.ligrec(ad_fov04, n_perms=100, cluster_key=\"CIPR_annotated_clusters\", use_raw=False)\n",
    "sq.gr.ligrec(ad_fov05, n_perms=100, cluster_key=\"CIPR_annotated_clusters\", use_raw=False)\n",
    "sq.gr.ligrec(ad_fov06, n_perms=100, cluster_key=\"CIPR_annotated_clusters\", use_raw=False)\n",
    "sq.gr.ligrec(ad_fov07, n_perms=100, cluster_key=\"CIPR_annotated_clusters\", use_raw=False)\n",
    "sq.gr.ligrec(ad_fov08, n_perms=100, cluster_key=\"CIPR_annotated_clusters\", use_raw=False)\n",
    "sq.gr.ligrec(ad_fov09, n_perms=100, cluster_key=\"CIPR_annotated_clusters\", use_raw=False)\n",
    "sq.gr.ligrec(ad_fov10, n_perms=100, cluster_key=\"CIPR_annotated_clusters\", use_raw=False)\n",
    "sq.gr.ligrec(ad_fov11, n_perms=100, cluster_key=\"CIPR_annotated_clusters\", use_raw=False)\n",
    "sq.gr.ligrec(ad_fov12, n_perms=100, cluster_key=\"CIPR_annotated_clusters\", use_raw=False)\n",
    "sq.gr.ligrec(ad_fov13, n_perms=100, cluster_key=\"CIPR_annotated_clusters\", use_raw=False)\n",
    "sq.gr.ligrec(ad_fov14, n_perms=100, cluster_key=\"CIPR_annotated_clusters\", use_raw=False)\n",
    "sq.gr.ligrec(ad_fov15, n_perms=100, cluster_key=\"CIPR_annotated_clusters\", use_raw=False)\n",
    "sq.gr.ligrec(ad_fov16, n_perms=100, cluster_key=\"CIPR_annotated_clusters\", use_raw=False)\n",
    "sq.gr.ligrec(ad_fov17, n_perms=100, cluster_key=\"CIPR_annotated_clusters\", use_raw=False)\n",
    "sq.gr.ligrec(ad_fov18, n_perms=100, cluster_key=\"CIPR_annotated_clusters\", use_raw=False)\n",
    "sq.gr.ligrec(ad_fov19, n_perms=100, cluster_key=\"CIPR_annotated_clusters\", use_raw=False)\n",
    "sq.gr.ligrec(ad_fov20, n_perms=100, cluster_key=\"CIPR_annotated_clusters\", use_raw=False)\n",
    "sq.gr.ligrec(ad_fov21, n_perms=100, cluster_key=\"CIPR_annotated_clusters\", use_raw=False)\n",
    "sq.gr.ligrec(ad_fov22, n_perms=100, cluster_key=\"CIPR_annotated_clusters\", use_raw=False)\n",
    "sq.gr.ligrec(ad_fov23, n_perms=100, cluster_key=\"CIPR_annotated_clusters\", use_raw=False)\n",
    "sq.gr.ligrec(ad_fov24, n_perms=100, cluster_key=\"CIPR_annotated_clusters\", use_raw=False)\n",
    "sq.gr.ligrec(ad_fov25, n_perms=100, cluster_key=\"CIPR_annotated_clusters\", use_raw=False)\n"
   ]
  },
  {
   "cell_type": "code",
   "execution_count": null,
   "id": "5adc26f8",
   "metadata": {},
   "outputs": [],
   "source": [
    "sq.pl.ligrec(ad_fov02, cluster_key=\"CIPR_annotated_clusters\", source_groups=\"Tumor epithelial cell\", target_groups=[\"SPP1+ macrophage\"],\n",
    "    means_range=(0.3, np.inf), alpha=1e-2, swap_axes=True)"
   ]
  },
  {
   "cell_type": "code",
   "execution_count": null,
   "id": "9bfe4ee8",
   "metadata": {},
   "outputs": [],
   "source": []
  }
 ],
 "metadata": {
  "kernelspec": {
   "display_name": "Python 3 (ipykernel)",
   "language": "python",
   "name": "python3"
  },
  "language_info": {
   "codemirror_mode": {
    "name": "ipython",
    "version": 3
   },
   "file_extension": ".py",
   "mimetype": "text/x-python",
   "name": "python",
   "nbconvert_exporter": "python",
   "pygments_lexer": "ipython3",
   "version": "3.9.16"
  }
 },
 "nbformat": 4,
 "nbformat_minor": 5
}
