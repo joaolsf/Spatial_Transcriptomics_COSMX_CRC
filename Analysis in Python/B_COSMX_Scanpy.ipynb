{
 "cells": [
  {
   "cell_type": "markdown",
   "id": "17a0eb85",
   "metadata": {},
   "source": [
    "# Analyze Nanostring data"
   ]
  },
  {
   "cell_type": "markdown",
   "id": "b85a66c9",
   "metadata": {},
   "source": [
    "In this tutorial we show how we can use Squidpy and Scanpy for the analysis of Nanostring data."
   ]
  },
  {
   "cell_type": "code",
   "execution_count": 1,
   "id": "3ea09131",
   "metadata": {
    "scrolled": false
   },
   "outputs": [
    {
     "name": "stderr",
     "output_type": "stream",
     "text": [
      "/Users/joaoluizsfilho/opt/anaconda3/envs/Squidpy/lib/python3.9/site-packages/geopandas/_compat.py:124: UserWarning: The Shapely GEOS version (3.11.1-CAPI-1.17.1) is incompatible with the GEOS version PyGEOS was compiled with (3.10.4-CAPI-1.16.2). Conversions between both will be slow.\n",
      "  warnings.warn(\n",
      "/Users/joaoluizsfilho/opt/anaconda3/envs/Squidpy/lib/python3.9/site-packages/spatialdata/__init__.py:9: UserWarning: Geopandas was set to use PyGEOS, changing to shapely 2.0 with:\n",
      "\n",
      "\tgeopandas.options.use_pygeos = True\n",
      "\n",
      "If you intended to use PyGEOS, set the option to False.\n",
      "  _check_geopandas_using_shapely()\n",
      "/Users/joaoluizsfilho/opt/anaconda3/envs/Squidpy/lib/python3.9/site-packages/umap/distances.py:1063: NumbaDeprecationWarning: \u001b[1mThe 'nopython' keyword argument was not supplied to the 'numba.jit' decorator. The implicit default value for this argument is currently False, but it will be changed to True in Numba 0.59.0. See https://numba.readthedocs.io/en/stable/reference/deprecation.html#deprecation-of-object-mode-fall-back-behaviour-when-using-jit for details.\u001b[0m\n",
      "  @numba.jit()\n",
      "/Users/joaoluizsfilho/opt/anaconda3/envs/Squidpy/lib/python3.9/site-packages/umap/distances.py:1071: NumbaDeprecationWarning: \u001b[1mThe 'nopython' keyword argument was not supplied to the 'numba.jit' decorator. The implicit default value for this argument is currently False, but it will be changed to True in Numba 0.59.0. See https://numba.readthedocs.io/en/stable/reference/deprecation.html#deprecation-of-object-mode-fall-back-behaviour-when-using-jit for details.\u001b[0m\n",
      "  @numba.jit()\n",
      "/Users/joaoluizsfilho/opt/anaconda3/envs/Squidpy/lib/python3.9/site-packages/umap/distances.py:1086: NumbaDeprecationWarning: \u001b[1mThe 'nopython' keyword argument was not supplied to the 'numba.jit' decorator. The implicit default value for this argument is currently False, but it will be changed to True in Numba 0.59.0. See https://numba.readthedocs.io/en/stable/reference/deprecation.html#deprecation-of-object-mode-fall-back-behaviour-when-using-jit for details.\u001b[0m\n",
      "  @numba.jit()\n",
      "/Users/joaoluizsfilho/opt/anaconda3/envs/Squidpy/lib/python3.9/site-packages/umap/umap_.py:660: NumbaDeprecationWarning: \u001b[1mThe 'nopython' keyword argument was not supplied to the 'numba.jit' decorator. The implicit default value for this argument is currently False, but it will be changed to True in Numba 0.59.0. See https://numba.readthedocs.io/en/stable/reference/deprecation.html#deprecation-of-object-mode-fall-back-behaviour-when-using-jit for details.\u001b[0m\n",
      "  @numba.jit()\n"
     ]
    },
    {
     "name": "stdout",
     "output_type": "stream",
     "text": [
      "scanpy==1.9.3 anndata==0.9.2 umap==0.5.3 numpy==1.24.4 scipy==1.10.1 pandas==2.1.1 scikit-learn==1.1.3 statsmodels==0.14.0 python-igraph==0.10.8 louvain==0.7.2 pynndescent==0.5.7\n"
     ]
    }
   ],
   "source": [
    "import scanpy as sc\n",
    "import squidpy as sq\n",
    "import numpy as np\n",
    "import matplotlib.pyplot as plt\n",
    "import seaborn as sns\n",
    "from pathlib import Path\n",
    "import pandas as pd\n",
    "import anndata\n",
    "\n",
    "sc.logging.print_header()"
   ]
  },
  {
   "cell_type": "code",
   "execution_count": 2,
   "id": "6950bd76",
   "metadata": {
    "scrolled": true
   },
   "outputs": [],
   "source": [
    "import os\n",
    "os.chdir('../')\n",
    "import warnings\n",
    "warnings.simplefilter(action='ignore', category=FutureWarning)\n",
    "warnings.simplefilter(action='ignore', category=UserWarning)"
   ]
  },
  {
   "cell_type": "code",
   "execution_count": 3,
   "id": "36d0399b",
   "metadata": {
    "scrolled": true
   },
   "outputs": [],
   "source": [
    "import scanpy as sc\n",
    "import torch\n",
    "#import scarches as sca\n",
    "#from scarches.dataset.trvae.data_handling import remove_sparsity\n",
    "import matplotlib.pyplot as plt\n",
    "import numpy as np\n",
    "import gdown"
   ]
  },
  {
   "cell_type": "code",
   "execution_count": 4,
   "id": "978fea39",
   "metadata": {
    "scrolled": true
   },
   "outputs": [],
   "source": [
    "import dill"
   ]
  },
  {
   "cell_type": "code",
   "execution_count": 5,
   "id": "8c47c417",
   "metadata": {
    "scrolled": true
   },
   "outputs": [],
   "source": [
    "# Set up output figure settings\n",
    "plt.rcParams['figure.figsize']=(64,64) #rescale figures, increase sizehere\n",
    "\n",
    "# Set up scanpy settings\n",
    "sc.settings.verbosity = 3\n",
    "sc.set_figure_params(dpi=100, dpi_save=300) #Increase DPI for better resolution figures"
   ]
  },
  {
   "cell_type": "code",
   "execution_count": 6,
   "id": "dd1c925a",
   "metadata": {
    "scrolled": false
   },
   "outputs": [
    {
     "data": {
      "text/plain": [
       "'/Users/joaoluizsfilho/Dropbox/Work_Files/Matthias_Lab/Projects/COSMX_colon_dataset/COSMX_Colonrectal_cancer_project/TMA_original'"
      ]
     },
     "execution_count": 6,
     "metadata": {},
     "output_type": "execute_result"
    }
   ],
   "source": [
    "pwd"
   ]
  },
  {
   "cell_type": "code",
   "execution_count": 13,
   "id": "21377540",
   "metadata": {},
   "outputs": [
    {
     "name": "stdout",
     "output_type": "stream",
     "text": [
      "[Errno 2] No such file or directory: '/Users/joaoluizsfilho/Dropbox/Work_Files/Matthias_Lab/Projects/COSMX_colon_dataset/COSMX_Colonrectal_cancer_project/TMA_original/Scanpy/Seurat_Scanpy'\n",
      "/Users/joaoluizsfilho/Dropbox/Work_Files/Matthias_Lab/Projects/COSMX_colon_dataset/COSMX_Colonrectal_cancer_project/TMA_original/Scanpy\n"
     ]
    }
   ],
   "source": [
    "cd /Users/joaoluizsfilho/Dropbox/Work_Files/Matthias_Lab/Projects/COSMX_colon_dataset/COSMX_Colonrectal_cancer_project/TMA_original/Scanpy/\n"
   ]
  },
  {
   "cell_type": "code",
   "execution_count": null,
   "id": "724eff13",
   "metadata": {},
   "outputs": [],
   "source": [
    "adata_fov_integrated = sc.read(\"./4_h5ad_files/adata_fov_integrated.h5ad\")"
   ]
  },
  {
   "cell_type": "code",
   "execution_count": null,
   "id": "864a50ac",
   "metadata": {},
   "outputs": [],
   "source": [
    "adata_fov_integrated"
   ]
  },
  {
   "cell_type": "code",
   "execution_count": null,
   "id": "61db55fa",
   "metadata": {},
   "outputs": [],
   "source": [
    "adata_fov_integrated.obs.rename(columns={\"cell_ID\": \"object_number\"}, inplace=True)"
   ]
  },
  {
   "cell_type": "code",
   "execution_count": null,
   "id": "e7e45057",
   "metadata": {},
   "outputs": [],
   "source": [
    "adata_fov_integrated.obs = adata_fov_integrated.obs.drop(columns=[\"object_number\"])"
   ]
  },
  {
   "cell_type": "code",
   "execution_count": null,
   "id": "0743daaf",
   "metadata": {},
   "outputs": [],
   "source": [
    "adata_fov_integrated"
   ]
  },
  {
   "cell_type": "code",
   "execution_count": null,
   "id": "fb52f9eb",
   "metadata": {},
   "outputs": [],
   "source": [
    "adata_fov_integrated.write('./4_h5ad_files/adata_fov_integrated.h5ad')"
   ]
  },
  {
   "cell_type": "markdown",
   "id": "19d06bf5",
   "metadata": {},
   "source": [
    "# Save / restore environemnt"
   ]
  },
  {
   "cell_type": "markdown",
   "id": "ce5c0ee6",
   "metadata": {},
   "source": [
    "Use these functions to either save or load the environmental variables, otherwise you will lose all the objects between opening/closing Jupyter sessions!"
   ]
  },
  {
   "cell_type": "code",
   "execution_count": 12,
   "id": "4f3034a2",
   "metadata": {
    "scrolled": true
   },
   "outputs": [
    {
     "ename": "NameError",
     "evalue": "name 'cd' is not defined",
     "output_type": "error",
     "traceback": [
      "\u001b[0;31m---------------------------------------------------------------------------\u001b[0m",
      "\u001b[0;31mNameError\u001b[0m                                 Traceback (most recent call last)",
      "Cell \u001b[0;32mIn [12], line 4\u001b[0m\n\u001b[1;32m      1\u001b[0m \u001b[38;5;66;03m#nanostring_dir = Path().resolve() / \"COSMX_Lung_Dataset\" / \"nanostring_data\"\u001b[39;00m\n\u001b[1;32m      2\u001b[0m \u001b[38;5;66;03m#sample_dir = './Seurat_Scanpy/'\u001b[39;00m\n\u001b[0;32m----> 4\u001b[0m \u001b[43mcd\u001b[49m \u001b[38;5;241m/\u001b[39mUsers\u001b[38;5;241m/\u001b[39mjoaoluizsfilho\u001b[38;5;241m/\u001b[39mDropbox\u001b[38;5;241m/\u001b[39mWork_Files\u001b[38;5;241m/\u001b[39mMatthias_Lab\u001b[38;5;241m/\u001b[39mProjects\u001b[38;5;241m/\u001b[39mCOSMX_colon_dataset\u001b[38;5;241m/\u001b[39mCOSMX_Colonrectal_cancer_project\u001b[38;5;241m/\u001b[39mTMA_original\u001b[38;5;241m/\u001b[39mScanpy\u001b[38;5;241m/\u001b[39mSeurat_Scanpy\n",
      "\u001b[0;31mNameError\u001b[0m: name 'cd' is not defined"
     ]
    }
   ],
   "source": [
    "#nanostring_dir = Path().resolve() / \"COSMX_Lung_Dataset\" / \"nanostring_data\"\n",
    "sample_dir = './Seurat_Scanpy/'\n"
   ]
  },
  {
   "cell_type": "code",
   "execution_count": 8,
   "id": "93b99c96",
   "metadata": {
    "scrolled": true
   },
   "outputs": [
    {
     "data": {
      "text/plain": [
       "'/Users/joaoluizsfilho/Dropbox/Work_Files/Matthias_Lab/Projects/COSMX_colon_dataset/COSMX_Colonrectal_cancer_project/TMA_original'"
      ]
     },
     "execution_count": 8,
     "metadata": {},
     "output_type": "execute_result"
    }
   ],
   "source": [
    "pwd"
   ]
  },
  {
   "cell_type": "code",
   "execution_count": 17,
   "id": "11460446",
   "metadata": {},
   "outputs": [
    {
     "name": "stderr",
     "output_type": "stream",
     "text": [
      "/Users/joaoluizsfilho/opt/anaconda3/envs/Squidpy/lib/python3.9/site-packages/squidpy/read/_read.py:223: DtypeWarning: Columns (22) have mixed types. Specify dtype option on import or set low_memory=False.\n",
      "  obs = pd.read_csv(path / meta_file, header=0, index_col=cell_id_key)\n"
     ]
    }
   ],
   "source": [
    "adata = sq.read.nanostring(\n",
    "    path=\"./\",\n",
    "    counts_file=\"S1_TMA_exprMat_file.csv\",\n",
    "    meta_file=\"S1_TMA_metadata_file.csv\",\n",
    "    fov_file=\"S1_TMA_fov_positions_file.csv\",\n",
    ")"
   ]
  },
  {
   "cell_type": "code",
   "execution_count": 23,
   "id": "3f610554",
   "metadata": {},
   "outputs": [
    {
     "data": {
      "text/plain": [
       "array([[1708, 3619],\n",
       "       [1960, 3612],\n",
       "       [2576, 3622],\n",
       "       ...,\n",
       "       [ 884, 3220],\n",
       "       [1281, 3215],\n",
       "       [1326, 3206]])"
      ]
     },
     "execution_count": 23,
     "metadata": {},
     "output_type": "execute_result"
    }
   ],
   "source": [
    "adata.obsm['spatial']"
   ]
  },
  {
   "cell_type": "code",
   "execution_count": 21,
   "id": "00d515be",
   "metadata": {},
   "outputs": [
    {
     "data": {
      "text/plain": [
       "AnnData object with n_obs × n_vars = 59436 × 958\n",
       "    obs: 'fov', 'Area', 'AspectRatio', 'CenterX_global_px', 'CenterY_global_px', 'Width', 'Height', 'nCount_RNA', 'nFeature_RNA', 'nCount_Protein', 'nFeature_Protein', 'IF_marker', 'IF_type', 'sample_ID', 'CMS', 'Tumor_Stroma_Percent', 'KM_Score', 'mGPS', 'MMR_Status_Jen', 'Recurrence_location', 'Recurrence_code', 'percent.mt', 'UMI', 'Genes', 'percent.neg', 'percent.ribo', 'percent.hb', 'nCount_SCT', 'nFeature_SCT', 'harmony_clusters', 'seurat_clusters', 'IF_type2', 'metaclusters', 'CIPR_annotated_clusters', 'CIPR_ordered_clusters', 'Epithelial_cluster', 'TME_cluster', 'aSMA_cluster', 'TSP_score', 'KM_score', 'metaclusters_ordered', 'Recurrence', 'T_stage', 'N_stage', 'cell_ID'\n",
       "    uns: 'spatial'\n",
       "    obsm: 'spatial', 'spatial_fov'"
      ]
     },
     "execution_count": 21,
     "metadata": {},
     "output_type": "execute_result"
    }
   ],
   "source": [
    "adata"
   ]
  },
  {
   "cell_type": "code",
   "execution_count": null,
   "id": "703241dd",
   "metadata": {},
   "outputs": [],
   "source": [
    "adata.write('adata_fov_integrated.h5ad')"
   ]
  },
  {
   "cell_type": "code",
   "execution_count": null,
   "id": "5de934cd",
   "metadata": {
    "scrolled": true
   },
   "outputs": [],
   "source": [
    "#save the session\n",
    "dill.dump_session('./COSMX_colon_project.db')"
   ]
  },
  {
   "cell_type": "code",
   "execution_count": null,
   "id": "d57cf6d5",
   "metadata": {
    "scrolled": false
   },
   "outputs": [],
   "source": [
    "#load the session\n",
    "dill.load_session('./COSMX_colon_project.db')"
   ]
  },
  {
   "cell_type": "code",
   "execution_count": null,
   "id": "d87a690f",
   "metadata": {
    "scrolled": true
   },
   "outputs": [],
   "source": [
    "#1- Make the variable names unique\n",
    "#2- Obtain the mitochondrial genes using their names prefixed with “mt-”. \n",
    "#3- Calculate the quality control metrics"
   ]
  },
  {
   "cell_type": "code",
   "execution_count": null,
   "id": "ed56e204",
   "metadata": {
    "scrolled": true
   },
   "outputs": [],
   "source": [
    "adata.var_names_make_unique()\n",
    "adata.var[\"MT\"] = adata.var_names.str.startswith(\"MT-\")\n",
    "sc.pp.calculate_qc_metrics(adata, qc_vars=[\"MT\"], inplace=True)"
   ]
  },
  {
   "cell_type": "markdown",
   "id": "f132ada3",
   "metadata": {},
   "source": [
    "# 1- Calculate quality control metrics"
   ]
  },
  {
   "cell_type": "code",
   "execution_count": null,
   "id": "e3d7386c",
   "metadata": {
    "scrolled": true
   },
   "outputs": [],
   "source": [
    "#Plot the “total_counts” and “n_genes_by_counts” \n",
    "\n",
    "fig, axs = plt.subplots(1, 4, figsize=(15, 4))\n",
    "sns.distplot(\n",
    "    adata.obs[\"total_counts\"],\n",
    "    kde=False,\n",
    "    ax=axs[0],\n",
    ")\n",
    "sns.distplot(\n",
    "    adata.obs[\"total_counts\"][adata.obs[\"total_counts\"] < 10000],\n",
    "    kde=False,\n",
    "    bins=40,\n",
    "    ax=axs[1],\n",
    ")\n",
    "sns.distplot(\n",
    "    adata.obs[\"n_genes_by_counts\"],\n",
    "    kde=False,\n",
    "    bins=60,\n",
    "    ax=axs[2],\n",
    ")\n",
    "sns.distplot(\n",
    "    adata.obs[\"n_genes_by_counts\"][adata.obs[\"n_genes_by_counts\"] < 4000],\n",
    "    kde=False,\n",
    "    bins=60,\n",
    "    ax=axs[3],\n",
    ")"
   ]
  },
  {
   "cell_type": "markdown",
   "id": "1458302c",
   "metadata": {},
   "source": [
    "# 2- Analysis using Scanpy"
   ]
  },
  {
   "cell_type": "code",
   "execution_count": null,
   "id": "df61bcf0",
   "metadata": {
    "scrolled": true
   },
   "outputs": [],
   "source": [
    "#Filter the cells based on the minimum number of counts required using scanpy.pp.filter_cells. \n",
    "#Filter the genes based on the minimum number of cells required with scanpy.pp.filter_genes. \n",
    "#The parameters for both were specified based on the plots above.\n",
    "#They were set to filter out nearly 10% of the cells and genes with minimum counts and minimum cells respectively.\n",
    "#It’s a conservative filtering, more relaxed ones could be also useful.\n",
    "\n",
    "sc.pp.filter_cells(adata, min_counts=5)"
   ]
  },
  {
   "cell_type": "code",
   "execution_count": null,
   "id": "a7392ee2",
   "metadata": {
    "scrolled": true
   },
   "outputs": [],
   "source": [
    "#pip install scikit-misc"
   ]
  },
  {
   "cell_type": "code",
   "execution_count": null,
   "id": "c965c2e1",
   "metadata": {
    "scrolled": false
   },
   "outputs": [],
   "source": [
    "#Annotate the highly variable genes based on the count data \n",
    "\n",
    "#adata.layers[\"counts\"] = adata.X.copy() #skip this\n",
    "sc.pp.highly_variable_genes(adata, flavor=\"seurat_v3\", n_top_genes=100)"
   ]
  },
  {
   "cell_type": "code",
   "execution_count": null,
   "id": "9156a855",
   "metadata": {
    "scrolled": false
   },
   "outputs": [],
   "source": [
    "#Normalize counts per cell\n",
    "sc.pp.normalize_total(adata, inplace=True)"
   ]
  },
  {
   "cell_type": "code",
   "execution_count": null,
   "id": "2a398ba9",
   "metadata": {
    "scrolled": true
   },
   "outputs": [],
   "source": [
    "#Logarithmize, do principal component analysis, compute a neighborhood graph of the observations \n",
    "sc.pp.log1p(adata)\n"
   ]
  },
  {
   "cell_type": "code",
   "execution_count": null,
   "id": "e6dc48c0",
   "metadata": {},
   "outputs": [],
   "source": [
    "sc.pp.pca(adata)\n",
    "sc.pp.neighbors(adata)"
   ]
  },
  {
   "cell_type": "code",
   "execution_count": null,
   "id": "2d6c18bd",
   "metadata": {
    "scrolled": true
   },
   "outputs": [],
   "source": [
    "#Calculate UMAP\n",
    "sc.tl.umap(adata)"
   ]
  },
  {
   "cell_type": "code",
   "execution_count": null,
   "id": "f510a624",
   "metadata": {
    "scrolled": true
   },
   "outputs": [],
   "source": [
    "#Define a list of .obs to colour the UMAP by\n",
    "UMAP_groups = [\"fov\"] \n",
    "\n",
    "# Plot UMAPs coloured by list above\n",
    "sc.pl.umap(adata, color=UMAP_groups, ncols=1, size=10, save='_unbatched.png')"
   ]
  },
  {
   "cell_type": "markdown",
   "id": "a7b39b7f",
   "metadata": {},
   "source": [
    "Batch correction"
   ]
  },
  {
   "cell_type": "code",
   "execution_count": null,
   "id": "ef402a13",
   "metadata": {},
   "outputs": [],
   "source": [
    "seed = 123\n",
    "np.random.seed(seed)\n",
    "a = np.random.rand(100, 100)\n",
    "b = np.random.rand(100, 100)\n",
    "print(np.sum(a), np.sum(b))\n",
    "\n",
    "# Define the number of PCA dimensions to work with - one less than number of markers. Without this, it usually defaults to 50, which we don't have enough markers for.\n",
    "n_for_pca = len(adata.var_names)-1\n",
    "\n",
    "# Define the 'obs' which defines the different cases\n",
    "batch_correction_obs = 'fov'\n",
    "\n",
    "# Calculate PCA, this must be done before BBKNN\n",
    "sc.tl.pca(adata, n_comps=n_for_pca)\n",
    "\n",
    "# BBKNN - it is used in place of the scanpy 'neighbors' command that calculates nearest neighbours in the feature space\n",
    "sc.external.pp.bbknn(adata, batch_key='fov', n_pcs=n_for_pca)\n",
    "\n",
    "#Calculate UMAP\n",
    "sc.tl.umap(adata)"
   ]
  },
  {
   "cell_type": "code",
   "execution_count": null,
   "id": "de47f54e",
   "metadata": {},
   "outputs": [],
   "source": [
    "adata"
   ]
  },
  {
   "cell_type": "code",
   "execution_count": null,
   "id": "6f22d758",
   "metadata": {
    "scrolled": true
   },
   "outputs": [],
   "source": [
    "sc.pl.umap(adata, color='fov', ncols=1, size=10, save='_batch_corrected.png')"
   ]
  },
  {
   "cell_type": "code",
   "execution_count": null,
   "id": "fda703f2",
   "metadata": {
    "scrolled": true
   },
   "outputs": [],
   "source": [
    "#Density plot - it can be calculated for different columns in adata.obs\n",
    "sc.tl.embedding_density(adata3, groupby='fov')\n",
    "\n",
    "sc.pl.embedding_density(adata3, groupby='fov', save='_density_plot.png')"
   ]
  },
  {
   "cell_type": "code",
   "execution_count": null,
   "id": "1c87498f",
   "metadata": {},
   "outputs": [],
   "source": [
    "#remove MALAT1 from anndata\n",
    "genes_list = [name for name in adata.var_names if not name.startswith('MALAT1')]\n",
    "adata2 = adata[:, genes_list].copy()"
   ]
  },
  {
   "cell_type": "code",
   "execution_count": null,
   "id": "9df2aa77",
   "metadata": {},
   "outputs": [],
   "source": [
    "#remove negative probes from anndata\n",
    "genes_list2 = [name for name in adata2.var_names if not name.startswith('NegPrb')]\n",
    "adata3 = adata2[:, genes_list2].copy()"
   ]
  },
  {
   "cell_type": "code",
   "execution_count": null,
   "id": "0e8ead66",
   "metadata": {},
   "outputs": [],
   "source": [
    "adata3.var_names"
   ]
  },
  {
   "cell_type": "code",
   "execution_count": null,
   "id": "ce2b1ad7",
   "metadata": {},
   "outputs": [],
   "source": [
    "adata3"
   ]
  },
  {
   "cell_type": "code",
   "execution_count": null,
   "id": "783cfb9b",
   "metadata": {},
   "outputs": [],
   "source": [
    "adata3.write('adata3.h5ad')"
   ]
  },
  {
   "cell_type": "code",
   "execution_count": null,
   "id": "1a1dff7c",
   "metadata": {},
   "outputs": [],
   "source": [
    "#Cluster the cells into subgroups\n",
    "sc.tl.leiden(adata3, resolution = 1)"
   ]
  },
  {
   "cell_type": "code",
   "execution_count": null,
   "id": "64a6b61c",
   "metadata": {
    "scrolled": true
   },
   "outputs": [],
   "source": [
    "sc.pl.umap(adata3, color='leiden', ncols=1, size=10, save='_batch_corrected_resolution1.png')"
   ]
  },
  {
   "cell_type": "code",
   "execution_count": null,
   "id": "9fec463a",
   "metadata": {},
   "outputs": [],
   "source": [
    "#stack bar code and extracting number of cells, distribution of each cluster per case or the cluster composition per case\n",
    "#for number of cells - don't use normalize\n",
    "#for distribution of each case per cluster - use normalize = \"index\"\n",
    "#for cluster composition per case - use normalize = \"columns\"\n",
    "tmp = pd.crosstab(adata2.obs['leiden'], adata2.obs['fov'], margins=False, normalize = \"columns\")"
   ]
  },
  {
   "cell_type": "code",
   "execution_count": null,
   "id": "1c3992c5",
   "metadata": {},
   "outputs": [],
   "source": [
    "tmp2 = pd.DataFrame.transpose(tmp)"
   ]
  },
  {
   "cell_type": "code",
   "execution_count": null,
   "id": "eb154598",
   "metadata": {},
   "outputs": [],
   "source": [
    "#color for stack bars for the disease groups matching the other bar graphs\n",
    "#F08080 - light coral\n",
    "#87CEFA - lightskyblue\n",
    "#D3D3D3 - lightgrey\n",
    "\n",
    "pretty_colors = ['#F08080','#87CEFA','#D3D3D3']\n",
    "color_pal = sns.color_palette('Paired')\n",
    "\n",
    "\n",
    "#colour_palette['colour']\n",
    "\n",
    "\n",
    "tmp2.plot.bar(stacked=True, color=adata.uns['leiden_colors'], figsize=(8, 4)).legend(bbox_to_anchor=(1, 1))\n",
    "plt.ylabel('Frequency', fontsize=16);  \n",
    "plt.xticks(rotation=0)"
   ]
  },
  {
   "cell_type": "markdown",
   "id": "ad4c072c",
   "metadata": {
    "scrolled": true
   },
   "source": [
    "# 3- Plot segmentation masks "
   ]
  },
  {
   "cell_type": "code",
   "execution_count": null,
   "id": "a6e89e50",
   "metadata": {},
   "outputs": [],
   "source": [
    "adata_fov_integrated"
   ]
  },
  {
   "cell_type": "code",
   "execution_count": null,
   "id": "573b6f98",
   "metadata": {},
   "outputs": [],
   "source": [
    "col_df = pd.read_csv('5_CSV_files/colours.csv')\n",
    "colour_palette = col_df.set_index('cluster').to_dict()\n",
    "colour_palette['colour']"
   ]
  },
  {
   "cell_type": "code",
   "execution_count": null,
   "id": "97ac4989",
   "metadata": {},
   "outputs": [],
   "source": [
    "from matplotlib.colors import ListedColormap, Normalize\n",
    "\n",
    "palette={ \"CD4 T cells\": \"red\", \"CD8 T cells\": \"orange\", \"B cells\": \"green\", \"NK cells\": \"blue\", }\n",
    "\n",
    "\n",
    "# set up colormaps for cell clusters\n",
    "colour_palette = np.array([[214,188,192], #Tumor epithelial cell\n",
    "                           [0,112,192],  #ChemokinesHigh Tumor epithelial cell\n",
    "                           [163,129,239], #IGF2+AREG+ Tumor epithelial cell\n",
    "                           [133,149,225],    # Stem cell\n",
    "                           [255,125,168], #IGF2+AREG+ stem cell\n",
    "                           [255,217,102], # Goblet cell\n",
    "                           [156,222,214], # Tuft cell\n",
    "                           [0,0,0], # ChemokinesHigh tuft cell\n",
    "                           [181,187,227], # Plasma cell\n",
    "                           [217,210,233],  #B cell\n",
    "                           [166,77,121], # CD8+ T cell\n",
    "                           [111,168,220], # CD4+ T cell\n",
    "                           [184,108,185],  # Treg\n",
    "                           [255,70,161], # Fibroblast\n",
    "                           [77,113,145], # Pericyte\n",
    "                           [224,123,145],  #13 #14 #15\n",
    "                           [240,185,141], \n",
    "                           [184,108,185], \n",
    "                           [89,89,89], #16 #17 #18\n",
    "                           [141,213,147], \n",
    "                           [15,207,192], \n",
    "                           [74,111,227],  #19 #20 #21\n",
    "                           [73,0,239], \n",
    "                           [255,230,242], \n",
    "                           [143,170,194], #22 #23 #24\n",
    "                           [252,229,205], \n",
    "                           [244,204,204], \n",
    "                           [211,63,106], #25 #26 #27  \n",
    "                           [247,31,15], \n",
    "                           [165,63,2], \n",
    "                           [51,102,0], #28 #29 #30  \n",
    "                           [185,135,12], \n",
    "                           [0,176,240], \n",
    "                           [250,128,0]]) #31, #32, #33"
   ]
  },
  {
   "cell_type": "code",
   "execution_count": null,
   "id": "76d8c032",
   "metadata": {},
   "outputs": [],
   "source": [
    "sc.pl.spatial(adata_fov_integrated, color ='CIPR_annotated_clusters', palette = colour_palette['colour'], spot_size=50, \n",
    "                  edges=False, edges_width=5, edges_color='black', img_key=None, library_id=\"1\",\n",
    "                  add_outline=False,return_fig=True)"
   ]
  },
  {
   "cell_type": "code",
   "execution_count": null,
   "id": "a598d5b8",
   "metadata": {
    "scrolled": true
   },
   "outputs": [],
   "source": [
    "#There are several parameters that can be controlled. \n",
    "#For instance, it is possible to plot segmentation masks as “contours”, in order to visualize the underlying image. \n",
    "#The co-ordinates of the FOV can be specified using the argument crop_coord, to get the view of required section.\n",
    "\n",
    "sq.pl.spatial_segment(\n",
    "    adata_fov_integrated,\n",
    "    color=\"Area\",\n",
    "    library_key=\"fov\", seg_outline=False,\n",
    "    seg_cell_id=\"cell_ID\",\n",
    "    seg_contourpx=10, save='IF_images_fov.png'\n",
    ")\n",
    "\n",
    "#crop_coord=[(0, 0, 700, 700)\n",
    "#title=\"12\""
   ]
  },
  {
   "cell_type": "code",
   "execution_count": null,
   "id": "2f2ca31b",
   "metadata": {},
   "outputs": [],
   "source": [
    "sq.pl.spatial_segment(\n",
    "    adata_fov_integrated, shape=\"hex\",\n",
    "    color=\"IF_marker\",\n",
    "    library_key=\"fov\",\n",
    "    seg_cell_id=\"cell_ID\",\n",
    "    seg_outline=False, seg_contourpx=10,\n",
    "    img=True,\n",
    "    size=60, save='_IF_marker_segment_image_fov.png'\n",
    ")"
   ]
  },
  {
   "cell_type": "code",
   "execution_count": null,
   "id": "752ca003",
   "metadata": {
    "scrolled": true
   },
   "outputs": [],
   "source": [
    "#Plot the image, with an overlay of the Leiden clusters. \n",
    "#Use squidpy.pl.spatial_segment for the same. The image is not visualized by specifying img=False.\n",
    "\n",
    "#One or multiple groups can also be used to overlay, by specifying the groups argument in squidpy.pl.spatial_segment as shown in the second subplot.\n",
    "sq.pl.spatial_segment(\n",
    "    adata_fov_integrated, shape=\"hex\",\n",
    "    color=\"CIPR_annotated_clusters\",\n",
    "    library_key=\"fov\",\n",
    "    seg_cell_id=\"cell_ID\", \n",
    "    library_id=[\"2\"],\n",
    "    seg_outline=True, seg_contourpx=20,\n",
    "    img=True, img_alpha = 1,\n",
    "    size=60, save='_CIPR_annotation_fov02.png'\n",
    ")"
   ]
  },
  {
   "cell_type": "code",
   "execution_count": null,
   "id": "ae518c73",
   "metadata": {},
   "outputs": [],
   "source": [
    "sq.pl.spatial_segment(\n",
    "    adata_fov_integrated, shape=\"hex\", color=\"CIPR_annotated_clusters\",\n",
    "    library_key=\"fov\",\n",
    "    seg_cell_id=\"cell_ID\", \n",
    "    library_id=[\"2\"],\n",
    "    seg_outline=True,\n",
    "    img=True,\n",
    "    size=30, save='_CIPR_annotation_fov02_v2.png'\n",
    ")"
   ]
  },
  {
   "cell_type": "code",
   "execution_count": null,
   "id": "905007cf",
   "metadata": {
    "scrolled": true
   },
   "outputs": [],
   "source": [
    "sq.pl.spatial_segment(\n",
    "    adata_fov_integrated, shape=\"hex\",\n",
    "    color=\"CIPR_annotated_clusters\",\n",
    "    library_key=\"fov\",\n",
    "    seg_cell_id=\"cell_ID\",\n",
    "    library_id=[\"2\"],\n",
    "    seg_outline=True,\n",
    "    img=False,\n",
    "    size=30, save='_CIPR_annotation_fov02_v3.png'\n",
    ")"
   ]
  },
  {
   "cell_type": "code",
   "execution_count": null,
   "id": "a30dda91",
   "metadata": {},
   "outputs": [],
   "source": [
    "sq.pl.spatial_segment(\n",
    "    adata_fov_integrated, shape=\"hex\",\n",
    "    color=\"CIPR_annotated_clusters\",\n",
    "    library_key=\"fov\", ncols = 1,\n",
    "    seg_cell_id=\"cell_ID\",\n",
    "    seg_outline=True, frameon = False,\n",
    "    img=False,\n",
    "    size=30, save='_fovs_CIPR_annotation.png'\n",
    ")"
   ]
  },
  {
   "cell_type": "code",
   "execution_count": null,
   "id": "8a366b4e",
   "metadata": {},
   "outputs": [],
   "source": [
    "# it does not work properly\n",
    "sq.pl.spatial_segment(\n",
    "    adata_fov_integrated, shape=\"hex\",\n",
    "    color=\"CIPR_annotated_clusters\",\n",
    "    library_key=\"fov\",\n",
    "    seg_cell_id=\"cell_ID\", \n",
    "    library_id=[\"2\"],groups = ['Goblet cell', 'Tumor epithelial cell'], na_color = 'grey',\n",
    "    seg_outline=True,\n",
    "    img=True,\n",
    "    size=30, save='_CIPR_annotation_fov02_v4.png'\n",
    ")"
   ]
  },
  {
   "cell_type": "code",
   "execution_count": null,
   "id": "862be286",
   "metadata": {},
   "outputs": [],
   "source": [
    "sq.pl.spatial_segment(\n",
    "    adata_fov_integrated, shape=\"hex\",\n",
    "    color=\"CIPR_annotated_clusters\",\n",
    "    library_key=\"fov\",\n",
    "    seg_cell_id=\"cell_ID\", \n",
    "    library_id=[\"2\"],groups = ['B cell', 'Tumor epithelial cell'],\n",
    "    seg_outline=True,\n",
    "    img=True,\n",
    "    size=30, save='_CIPR_annotation_fov02_v2.png'\n",
    ")"
   ]
  },
  {
   "cell_type": "code",
   "execution_count": null,
   "id": "dbb81c9d",
   "metadata": {},
   "outputs": [],
   "source": [
    "sq.pl.spatial_segment(\n",
    "    adata_fov_integrated, shape=\"hex\",\n",
    "    color=\"CIPR_annotated_clusters\",\n",
    "    library_key=\"fov\",\n",
    "    seg_cell_id=\"cell_ID\", \n",
    "    library_id=['23'],\n",
    "    seg_outline=True, seg_contourpx=20,\n",
    "    img=True,\n",
    "    size=60, save='_CIPR_annotation_fov23.png'\n",
    ")"
   ]
  },
  {
   "cell_type": "code",
   "execution_count": null,
   "id": "d499a6b1",
   "metadata": {},
   "outputs": [],
   "source": [
    "sq.pl.spatial_segment(\n",
    "    adata_fov_integrated, shape=\"hex\",\n",
    "    color=\"CIPR_annotated_clusters\",\n",
    "    library_key=\"fov\",\n",
    "    seg_cell_id=\"cell_ID\", \n",
    "    library_id=[\"23\"],\n",
    "    seg_outline=True,\n",
    "    img=True,\n",
    "    size=30, save='_CIPR_annotation_fov23_v2.png'\n",
    ")"
   ]
  },
  {
   "cell_type": "code",
   "execution_count": null,
   "id": "442f6fb1",
   "metadata": {},
   "outputs": [],
   "source": [
    "sq.pl.spatial_segment(\n",
    "    adata_fov_integrated, shape=\"hex\",\n",
    "    color=\"CIPR_annotated_clusters\",\n",
    "    library_key=\"fov\",\n",
    "    seg_cell_id=\"cell_ID\", \n",
    "    library_id=[\"2\", '23'],\n",
    "    seg_outline=False, seg_contourpx=30,\n",
    "    img=True,\n",
    "    size=60, save='_CIPR_annotation_fov02_23.png'\n",
    ")"
   ]
  },
  {
   "cell_type": "code",
   "execution_count": null,
   "id": "59295275",
   "metadata": {
    "scrolled": true
   },
   "outputs": [],
   "source": [
    "sc.pl.spatial(adata_fov_integrated, color ='Max.PanCK', spot_size=15, library_id=[\"1\", \"22\"], img_key=\"hires\", \n",
    "                  add_outline=False,return_fig=True)"
   ]
  },
  {
   "cell_type": "markdown",
   "id": "9f42cdb7",
   "metadata": {},
   "source": [
    "# 4- BBKNN integration in the anndata originated from the seurat object fov_integrated"
   ]
  },
  {
   "cell_type": "code",
   "execution_count": null,
   "id": "f48004f4",
   "metadata": {},
   "outputs": [],
   "source": [
    "adata_fov_integrated = sc.read(\"./Scanpy/adata_fov_integrated.h5ad\")"
   ]
  },
  {
   "cell_type": "code",
   "execution_count": null,
   "id": "c087b326",
   "metadata": {},
   "outputs": [],
   "source": [
    "adata_fov_integrated"
   ]
  },
  {
   "cell_type": "code",
   "execution_count": null,
   "id": "f38cec4c",
   "metadata": {},
   "outputs": [],
   "source": [
    "seed = 123\n",
    "np.random.seed(seed)\n",
    "a = np.random.rand(100, 100)\n",
    "b = np.random.rand(100, 100)\n",
    "print(np.sum(a), np.sum(b))\n",
    "\n",
    "# Define the number of PCA dimensions to work with - one less than number of markers. Without this, it usually defaults to 50, which we don't have enough markers for.\n",
    "n_for_pca = len(adata_fov_integrated.var_names)-1\n",
    "\n",
    "# Define the 'obs' which defines the different cases\n",
    "batch_correction_obs = 'sample_ID'\n",
    "\n",
    "# Calculate PCA, this must be done before BBKNN\n",
    "sc.tl.pca(adata_fov_integrated, n_comps=n_for_pca)\n",
    "\n",
    "# BBKNN - it is used in place of the scanpy 'neighbors' command that calculates nearest neighbours in the feature space\n",
    "sc.external.pp.bbknn(adata_fov_integrated, batch_key='sample_ID', n_pcs=n_for_pca)\n",
    "\n",
    "#Calculate UMAP\n",
    "sc.tl.umap(adata_fov_integrated)"
   ]
  },
  {
   "cell_type": "code",
   "execution_count": null,
   "id": "46a8b4d3",
   "metadata": {},
   "outputs": [],
   "source": [
    "adata_fov_integrated"
   ]
  },
  {
   "cell_type": "code",
   "execution_count": null,
   "id": "256e17a6",
   "metadata": {
    "scrolled": true
   },
   "outputs": [],
   "source": [
    "sc.pl.umap(adata_fov_integrated, color='sample_ID', ncols=1, size=10, save='_batch_corrected.png')"
   ]
  },
  {
   "cell_type": "code",
   "execution_count": null,
   "id": "9e20682d",
   "metadata": {
    "scrolled": true
   },
   "outputs": [],
   "source": [
    "sc.pl.umap(adata_fov_integrated, color='IF_type', ncols=1, size=10, save='_IF_type_batch_corrected.png')"
   ]
  },
  {
   "cell_type": "code",
   "execution_count": null,
   "id": "810a7f99",
   "metadata": {},
   "outputs": [],
   "source": [
    "adata_fov_integrated.write('adata_fov_integrated.h5ad')"
   ]
  },
  {
   "cell_type": "markdown",
   "id": "a9273a1f",
   "metadata": {},
   "source": [
    "### 5- Semi-supervised cell type identification using Astir\n",
    "\n",
    "This uses Astir (https://github.com/camlab-bioml/astir) to do 'semi-supervised' cell identification using a neural network. You specify the populations and markers in hte 'markers.yml' file - see the Astir documentation for full details\n",
    "Import markers file and data file"
   ]
  },
  {
   "cell_type": "code",
   "execution_count": null,
   "id": "15848836",
   "metadata": {},
   "outputs": [],
   "source": [
    "import os\n",
    "import warnings\n",
    "from typing import Any\n",
    "\n",
    "import anndata\n",
    "import loompy\n",
    "import matplotlib.cbook\n",
    "import numpy as np\n",
    "import pandas as pd\n",
    "import torch\n",
    "import yaml\n",
    "from sklearn.preprocessing import OneHotEncoder\n",
    "import astir"
   ]
  },
  {
   "cell_type": "code",
   "execution_count": null,
   "id": "bac2397f",
   "metadata": {},
   "outputs": [],
   "source": [
    "with open('markers.yml', \"r\") as stream:\n",
    "    marker_dict = yaml.safe_load(stream)\n",
    "print(marker_dict)"
   ]
  },
  {
   "cell_type": "code",
   "execution_count": null,
   "id": "06ab7592",
   "metadata": {},
   "outputs": [],
   "source": [
    "#Using the csv method to generate the ast object for training.\n",
    "df_expr = pd.read_csv('Lung5_Rep2_exprMat_ASTIR.csv', index_col=0)\n",
    "df_expr.head()"
   ]
  },
  {
   "cell_type": "code",
   "execution_count": null,
   "id": "3fa5bd05",
   "metadata": {},
   "outputs": [],
   "source": [
    "import astir\n",
    "ast = astir.Astir(input_expr=df_expr, marker_dict=marker_dict)\n",
    "print(ast)"
   ]
  },
  {
   "cell_type": "code",
   "execution_count": null,
   "id": "eb07e913",
   "metadata": {
    "scrolled": true
   },
   "outputs": [],
   "source": [
    "#Using the adata object to generate the ast object\n",
    "adata.write(filename='adata') "
   ]
  },
  {
   "cell_type": "code",
   "execution_count": null,
   "id": "a6c337d8",
   "metadata": {},
   "outputs": [],
   "source": [
    "# Read in the YAML file with a list of the expected marker pairs - make sure the yaml file contains only markers present in the COSMX panel\n",
    "# I used the annotation version 1 of marker genes as shown in the Human Lung Cell Atlas version 1\n",
    "# Then I matched their list wth the COSMX panel to retain only the matched markers.\n",
    "with open(r'markers.yml') as file:\n",
    "  cell_types = yaml.load(file, Loader=yaml.FullLoader)\n",
    "\n",
    "#View the contents of the YML file\n",
    "!head markers.yml\n",
    "print(cell_types['cell_types'])"
   ]
  },
  {
   "cell_type": "code",
   "execution_count": null,
   "id": "854f360b",
   "metadata": {},
   "outputs": [],
   "source": [
    "from astir.data import from_anndata_yaml\n",
    "#the name of the anndata file below has to be as saved above!!\n",
    "\n",
    "ast = from_anndata_yaml(\"adata\", \"markers.yml\", batch_name=None)\n",
    "ast"
   ]
  },
  {
   "cell_type": "code",
   "execution_count": null,
   "id": "5e40231b",
   "metadata": {},
   "outputs": [],
   "source": [
    "# Create batch size proportional to the number of cells\n",
    "N = ast.get_type_dataset().get_exprs_df().shape[0]\n",
    "batch_size = int(N/100)\n",
    "\n",
    "# Number of training epochs\n",
    "max_epochs = 1000\n",
    "\n",
    "# Set learning rate\n",
    "learning_rate = 2e-3\n",
    "\n",
    "# Set initial epochs\n",
    "initial_epochs = 3"
   ]
  },
  {
   "cell_type": "code",
   "execution_count": null,
   "id": "7f560f73",
   "metadata": {},
   "outputs": [],
   "source": [
    "#Run the cell type identification\n",
    "ast.fit_type(max_epochs = max_epochs,\n",
    "             batch_size = batch_size,\n",
    "             learning_rate = learning_rate,\n",
    "             n_init_epochs = initial_epochs,\n",
    "             delta_loss=0.001)"
   ]
  },
  {
   "cell_type": "code",
   "execution_count": null,
   "id": "b554763a",
   "metadata": {},
   "outputs": [],
   "source": [
    "ast.get_celltypes().value_counts()"
   ]
  },
  {
   "cell_type": "code",
   "execution_count": null,
   "id": "7d2f45de",
   "metadata": {},
   "outputs": [],
   "source": [
    "df = ast.diagnostics_celltype().head(n=20)\n",
    "df"
   ]
  },
  {
   "cell_type": "code",
   "execution_count": null,
   "id": "fbd37f8b",
   "metadata": {},
   "outputs": [],
   "source": [
    "#plot the losses to assess convergence\n",
    "plt.figure(figsize=(5,4))\n",
    "plt.plot(np.arange(len(ast.get_type_losses())), ast.get_type_losses())\n",
    "plt.ylabel(\"Loss\")\n",
    "plt.xlabel(\"Epoch\")"
   ]
  },
  {
   "cell_type": "code",
   "execution_count": null,
   "id": "30d40088",
   "metadata": {},
   "outputs": [],
   "source": [
    "#get cell type assignment probabilities\n",
    "assignments = ast.get_celltype_probabilities()\n",
    "assignments"
   ]
  },
  {
   "cell_type": "code",
   "execution_count": null,
   "id": "a144f4b9",
   "metadata": {},
   "outputs": [],
   "source": [
    "assignments.to_csv(\"../assignments_probabilities.csv\")"
   ]
  },
  {
   "cell_type": "code",
   "execution_count": null,
   "id": "c42bda39",
   "metadata": {},
   "outputs": [],
   "source": [
    "sns.heatmap(assignments, annot=False, xticklabels=1, yticklabels=False)"
   ]
  },
  {
   "cell_type": "code",
   "execution_count": null,
   "id": "befa09c3",
   "metadata": {},
   "outputs": [],
   "source": [
    "ast.get_celltypes()\n",
    "ast.type_to_csv(\"../cell-types.csv\")"
   ]
  },
  {
   "cell_type": "markdown",
   "id": "4a9f5deb",
   "metadata": {},
   "source": [
    "Add hierarchy and cell type data to original Adata"
   ]
  },
  {
   "cell_type": "code",
   "execution_count": null,
   "id": "063ae72f",
   "metadata": {},
   "outputs": [],
   "source": [
    "# Check that the hierarchy dictionary have been loaded correctly\n",
    "ast.get_hierarchy_dict()"
   ]
  },
  {
   "cell_type": "code",
   "execution_count": null,
   "id": "612beda6",
   "metadata": {},
   "outputs": [],
   "source": [
    "#Retrieve the table of probabilites\n",
    "hierarchy_table =  ast.assign_celltype_hierarchy(depth = 1)\n",
    "\n",
    "cell_types = hierarchy_table.columns.tolist()\n",
    "\n",
    "#This is  the threshold as above - probably best to keep the same!\n",
    "threshold_for_classification = 0.5\n",
    "\n",
    "#Start a new list that will store the hierarchy data\n",
    "hierarchy = []\n",
    "\n",
    "#This will work down each row and figure out which hierarchy type have the highest probability\n",
    "for index, row in hierarchy_table.iterrows():\n",
    "    row_values = row.values\n",
    "    max_prob = np.max(row_values)\n",
    "    \n",
    "    if max_prob < threshold_for_classification:\n",
    "        #If the cell doesn't fit into any category, return Unknown\n",
    "        hierarchy.append('Other')\n",
    "    else:\n",
    "        #Add to the list the \n",
    "        hierarchy.append(cell_types[np.argmax(row_values)])\n",
    "\n",
    "adata.obs[\"cell_type\"] = ast.get_celltypes(threshold=threshold_for_classification)['cell_type']\n",
    "adata.obs[\"hierarchy\"] = hierarchy"
   ]
  },
  {
   "cell_type": "code",
   "execution_count": null,
   "id": "b3fdbeb8",
   "metadata": {},
   "outputs": [],
   "source": [
    "adata"
   ]
  },
  {
   "cell_type": "code",
   "execution_count": null,
   "id": "1b3f867f",
   "metadata": {},
   "outputs": [],
   "source": [
    "#Calculate UMAP\n",
    "sc.tl.umap(adata)"
   ]
  },
  {
   "cell_type": "code",
   "execution_count": null,
   "id": "876fffc0",
   "metadata": {},
   "outputs": [],
   "source": [
    "#Plot PhenoGraph on UMAP\n",
    "sc.pl.umap(adata, color = \"hierarchy\", s = 2, legend_loc='right margin', legend_fontweight='normal', title='', legend_fontsize = 8, size=2, save='_hierarchy.png')"
   ]
  },
  {
   "cell_type": "code",
   "execution_count": null,
   "id": "22cc3fbf",
   "metadata": {
    "scrolled": true
   },
   "outputs": [],
   "source": [
    "#Plot PhenoGraph on UMAP\n",
    "sc.pl.umap(adata, color = \"cell_type\", s = 2, legend_loc='right margin', legend_fontweight='normal', title='', legend_fontsize = 8, size=2, save='_cell_type.png')"
   ]
  },
  {
   "cell_type": "code",
   "execution_count": null,
   "id": "83813eb1",
   "metadata": {},
   "outputs": [],
   "source": [
    "sq.pl.spatial_segment(\n",
    "    adata,\n",
    "    color=\"cell_type\",\n",
    "    library_key=\"fov\",\n",
    "    seg_cell_id=\"cell_ID\",\n",
    "    seg_outline=True,\n",
    "    seg_contourpx=10,\n",
    "    img=True\n",
    ")"
   ]
  },
  {
   "cell_type": "code",
   "execution_count": null,
   "id": "15ed7e44",
   "metadata": {},
   "outputs": [],
   "source": [
    "#Plot the image, with an overlay of the Leiden clusters. \n",
    "#Use squidpy.pl.spatial_segment for the same. The image is not visualized by specifying img=False.\n",
    "\n",
    "#One or multiple groups can also be used to overlay, by specifying the groups argument in squidpy.pl.spatial_segment as shown in the second subplot.\n",
    "\n",
    "fig, ax = plt.subplots(2, 1, figsize=(15, 7))\n",
    "sq.pl.spatial_segment(\n",
    "    adata,\n",
    "    shape=\"hex\",\n",
    "    color=\"cell_type\",\n",
    "    library_key=\"fov\",\n",
    "    library_id=\"12\",\n",
    "    seg_cell_id=\"cell_ID\", title = 'fov12',\n",
    "    seg_outline=True,\n",
    "    img=True, legend_fontsize = 'xx-small',\n",
    "    size=60,\n",
    "    ax=ax[0],\n",
    ")\n",
    "\n",
    "sq.pl.spatial_segment(\n",
    "    adata,\n",
    "    color=\"cell_type\",\n",
    "    seg_cell_id=\"cell_ID\",\n",
    "    library_key=\"fov\",\n",
    "    library_id=\"16\", title = 'fov16',\n",
    "    seg_outline=True, legend_fontsize = 'xx-small',\n",
    "    img=True,\n",
    "    size=60,\n",
    "    ax=ax[1],\n",
    ")"
   ]
  },
  {
   "cell_type": "markdown",
   "id": "944727dc",
   "metadata": {},
   "source": [
    "# 6- Abundance graphs"
   ]
  },
  {
   "cell_type": "code",
   "execution_count": null,
   "id": "edfb252c",
   "metadata": {},
   "outputs": [],
   "source": [
    "#stack bar code and extracting number of cells, distribution of each cluster per case or the cluster composition per case\n",
    "#for number of cells - don't use normalize\n",
    "#for distribution of each case per cluster - use normalize = \"index\"\n",
    "#for cluster composition per case - use normalize = \"columns\"\n",
    "tmp = pd.crosstab(adata.obs['cell_type'], adata.obs['fov'], margins=False, normalize = \"columns\")"
   ]
  },
  {
   "cell_type": "code",
   "execution_count": null,
   "id": "553d43ed",
   "metadata": {},
   "outputs": [],
   "source": [
    "tmp"
   ]
  },
  {
   "cell_type": "code",
   "execution_count": null,
   "id": "ad8f7609",
   "metadata": {},
   "outputs": [],
   "source": [
    "tmp2 = pd.DataFrame.transpose(tmp)"
   ]
  },
  {
   "cell_type": "code",
   "execution_count": null,
   "id": "aba35444",
   "metadata": {},
   "outputs": [],
   "source": [
    "tmp2"
   ]
  },
  {
   "cell_type": "code",
   "execution_count": null,
   "id": "6e1775fc",
   "metadata": {},
   "outputs": [],
   "source": [
    "sns.set_style(\"white\", {'axes.grid' : True})\n",
    "\n",
    "#color for stack bars for the disease groups matching the other bar graphs\n",
    "#F08080 - light coral\n",
    "#87CEFA - lightskyblue\n",
    "#D3D3D3 - lightgrey\n",
    "\n",
    "pretty_colors = ['#F08080','#87CEFA','#D3D3D3']\n",
    "color_pal = sns.color_palette('Paired')\n",
    "\n",
    "#colour_palette['colour']\n",
    "tmp2.plot.bar(stacked=True, color=color_pal, figsize=(32, 16), edgecolor='none').legend(bbox_to_anchor=(1, 1), fontsize=24)\n",
    "plt.xlabel('fov', fontsize=24);\n",
    "plt.ylabel('Frequency', fontsize=24);  \n",
    "plt.xticks(rotation=0)"
   ]
  },
  {
   "cell_type": "markdown",
   "id": "11f04284",
   "metadata": {},
   "source": [
    "# 7- Spatial statistics"
   ]
  },
  {
   "cell_type": "markdown",
   "id": "f55ecc56",
   "metadata": {},
   "source": [
    "Building the spatial neighbors graphs"
   ]
  },
  {
   "cell_type": "code",
   "execution_count": null,
   "id": "70aa6374",
   "metadata": {
    "scrolled": true
   },
   "outputs": [],
   "source": [
    "sq.gr.spatial_neighbors(\n",
    "    adata,\n",
    "    radius=30,\n",
    "    coord_type=\"generic\",\n",
    ")"
   ]
  },
  {
   "cell_type": "markdown",
   "id": "e46b882d",
   "metadata": {},
   "source": [
    "Centrality scores"
   ]
  },
  {
   "cell_type": "code",
   "execution_count": null,
   "id": "e97158b0",
   "metadata": {
    "scrolled": true
   },
   "outputs": [],
   "source": [
    "sq.gr.centrality_scores(adata, cluster_key=\"leiden\")"
   ]
  },
  {
   "cell_type": "code",
   "execution_count": null,
   "id": "d269296a",
   "metadata": {
    "scrolled": true
   },
   "outputs": [],
   "source": [
    "sq.pl.centrality_scores(adata, cluster_key=\"leiden\", figsize=(10, 6))"
   ]
  },
  {
   "cell_type": "code",
   "execution_count": null,
   "id": "f24856c6",
   "metadata": {
    "scrolled": true
   },
   "outputs": [],
   "source": [
    "cluster_key = \"leiden\"\n",
    "\n",
    "data = adata.uns[f'{cluster_key}_centrality_scores'].reset_index()\n",
    "\n",
    "fig, axs = plt.subplots(1, 3, figsize=(16, 6), dpi=300)\n",
    "fig.tight_layout()\n",
    "plt.subplots_adjust(wspace = 0.2)\n",
    "\n",
    "for count, i in enumerate(['closeness_centrality','degree_centrality','average_clustering']):\n",
    "\n",
    "    sns.barplot(data = data, \n",
    "               x = \"index\", \n",
    "               y = i, \n",
    "               ci=68,\n",
    "               ax=axs[count],\n",
    "              order=data.sort_values(i)['index']\n",
    "              )\n",
    "    \n",
    "    #if i=='average_clustering':\n",
    "        #axs[count].set(ylim=(0.48, 0.52))\n",
    "    \n",
    "    axs[count].set_title(i)\n",
    "    axs[count].tick_params(axis='x', labelrotation = 90)\n",
    "    axs[count].tick_params(axis='y', labelsize=10)\n",
    "    plt.xticks(rotation=90)\n",
    "    #axs[count].set_ylabel('Difference', fontsize=12)\n",
    "\n",
    "#fig.savefig('Pneumonia_network_centrality_scores.png')"
   ]
  },
  {
   "cell_type": "markdown",
   "id": "78ea16fb",
   "metadata": {},
   "source": [
    "Co-occurrence probability"
   ]
  },
  {
   "cell_type": "code",
   "execution_count": null,
   "id": "2c43f306",
   "metadata": {
    "scrolled": true
   },
   "outputs": [],
   "source": [
    "adata_subset = adata[adata.obs.fov == \"16\"].copy()"
   ]
  },
  {
   "cell_type": "code",
   "execution_count": null,
   "id": "8d3951b8",
   "metadata": {
    "scrolled": true
   },
   "outputs": [],
   "source": [
    "sq.gr.co_occurrence(\n",
    "    adata_subset,\n",
    "    cluster_key=\"leiden\",\n",
    ")"
   ]
  },
  {
   "cell_type": "code",
   "execution_count": null,
   "id": "1675c626",
   "metadata": {
    "scrolled": true
   },
   "outputs": [],
   "source": [
    "sq.pl.co_occurrence(\n",
    "    adata_subset,\n",
    "    cluster_key=\"leiden\",\n",
    "    clusters=\"3\",\n",
    ")\n",
    "\n",
    "\n",
    "sq.pl.spatial_segment(\n",
    "    adata_subset,\n",
    "    shape=\"hex\",\n",
    "    color=\"leiden\",\n",
    "    library_id=\"16\",\n",
    "    library_key=\"fov\",\n",
    "    seg_cell_id=\"cell_ID\",\n",
    "    img=False,\n",
    "    size=60,\n",
    ")"
   ]
  },
  {
   "cell_type": "code",
   "execution_count": null,
   "id": "9926b6e8",
   "metadata": {
    "scrolled": true
   },
   "outputs": [],
   "source": [
    "adata"
   ]
  },
  {
   "cell_type": "markdown",
   "id": "d9696957",
   "metadata": {},
   "source": [
    "Neighbors enrichment analysis"
   ]
  },
  {
   "cell_type": "code",
   "execution_count": null,
   "id": "cfa3b293",
   "metadata": {
    "scrolled": true
   },
   "outputs": [],
   "source": [
    "sq.gr.nhood_enrichment(adata, cluster_key=\"leiden\")"
   ]
  },
  {
   "cell_type": "code",
   "execution_count": null,
   "id": "3ce3ef5a",
   "metadata": {
    "scrolled": true
   },
   "outputs": [],
   "source": [
    "sq.gr.nhood_enrichment(adata_subset, cluster_key=\"leiden\")"
   ]
  },
  {
   "cell_type": "code",
   "execution_count": null,
   "id": "c6d1c76c",
   "metadata": {
    "scrolled": true
   },
   "outputs": [],
   "source": [
    "fig, ax = plt.subplots(1, 3, figsize=(22, 22))\n",
    "sq.pl.nhood_enrichment(\n",
    "    adata,\n",
    "    cluster_key=\"leiden\",\n",
    "    figsize=(3, 3),\n",
    "    ax=ax[0],\n",
    "    title=\"Neighborhood enrichment adata\",\n",
    ")\n",
    "sq.pl.nhood_enrichment(\n",
    "    adata_subset,\n",
    "    cluster_key=\"leiden\",\n",
    "    figsize=(3, 3),\n",
    "    ax=ax[1],\n",
    "    title=\"Neighborhood enrichment adata_subset\",\n",
    ")\n",
    "sq.pl.spatial_segment(\n",
    "    adata_subset,\n",
    "    shape=\"hex\",\n",
    "    color=\"leiden\",\n",
    "    library_id=\"16\",\n",
    "    library_key=\"fov\",\n",
    "    seg_cell_id=\"cell_ID\",\n",
    "    img=False,\n",
    "    size=60,\n",
    "    ax=ax[2],\n",
    ")"
   ]
  },
  {
   "cell_type": "code",
   "execution_count": null,
   "id": "95828efd",
   "metadata": {
    "scrolled": true
   },
   "outputs": [],
   "source": [
    "mode = \"L\"\n",
    "fig, ax = plt.subplots(1, 2, figsize=(20, 6))\n",
    "\n",
    "sq.gr.ripley(adata_subset, cluster_key=\"leiden\", mode=mode)\n",
    "sq.pl.ripley(\n",
    "    adata_subset,\n",
    "    cluster_key=\"leiden\",\n",
    "    mode=mode,\n",
    "    ax=ax[0],\n",
    ")\n",
    "\n",
    "sq.pl.spatial_segment(\n",
    "    adata_subset,\n",
    "    shape=\"hex\",\n",
    "    color=\"leiden\",\n",
    "    library_id=\"16\",\n",
    "    library_key=\"fov\",\n",
    "    seg_cell_id=\"cell_ID\",\n",
    "    img=False,\n",
    "    size=60,\n",
    "    ax=ax[1],\n",
    ")"
   ]
  },
  {
   "cell_type": "markdown",
   "id": "f2387bfd",
   "metadata": {},
   "source": [
    "Spatially Variable Genes"
   ]
  },
  {
   "cell_type": "code",
   "execution_count": null,
   "id": "a8c7d95e",
   "metadata": {
    "scrolled": true
   },
   "outputs": [],
   "source": [
    "#The Moran’s I global spatial auto-correlation statistics evaluates whether features (i.e. genes) shows a pattern that is clustered, dispersed or random in the tissue are under consideration.\n",
    "\n",
    "#We can visualize some of those genes with squidpy.pl.spatial_segment. \n",
    "#We could also pass mode = 'geary' to compute a closely related auto-correlation statistic, Geary’s C. \n",
    "#See squidpy.gr.spatial_autocorr for more information.\n",
    "\n",
    "sq.gr.spatial_autocorr(\n",
    "    adata_subset,\n",
    "    mode=\"moran\",\n",
    "    n_perms=100,\n",
    "    n_jobs=1,\n",
    ")\n",
    "adata_subset.uns[\"moranI\"].head(10)"
   ]
  },
  {
   "cell_type": "code",
   "execution_count": null,
   "id": "451d64a9",
   "metadata": {
    "scrolled": true
   },
   "outputs": [],
   "source": [
    "sq.pl.spatial_segment(\n",
    "    adata_subset,\n",
    "    library_id=\"16\",\n",
    "    seg_cell_id=\"cell_ID\",\n",
    "    library_key=\"fov\",\n",
    "    color=[\"KRT19\", \"ANXA2\", \"COL1A1\"],\n",
    "    size=60,\n",
    "    img=False,\n",
    ")\n"
   ]
  },
  {
   "cell_type": "code",
   "execution_count": null,
   "id": "8e6737c1",
   "metadata": {
    "scrolled": true
   },
   "outputs": [],
   "source": [
    "adata_subset"
   ]
  },
  {
   "cell_type": "code",
   "execution_count": null,
   "id": "e2c41112",
   "metadata": {
    "scrolled": true
   },
   "outputs": [],
   "source": [
    "num_view = 12\n",
    "top_autocorr = adata_subset.uns['moranI']['I'].sort_values(ascending=False).head(num_view).index.tolist()\n",
    "bot_autocorr = adata_subset.uns['moranI']['I'].sort_values(ascending=True).head(num_view).index.tolist()"
   ]
  },
  {
   "cell_type": "code",
   "execution_count": null,
   "id": "1e289c17",
   "metadata": {
    "scrolled": true
   },
   "outputs": [],
   "source": [
    "sq.pl.spatial_scatter(\n",
    "    adata_subset,\n",
    "    color=top_autocorr,\n",
    "    library_id=\"16\",\n",
    "    size=40,\n",
    "    cmap='Reds',\n",
    "    img=False,\n",
    "    figsize=(5,5)\n",
    ")"
   ]
  },
  {
   "cell_type": "code",
   "execution_count": null,
   "id": "355e5abc",
   "metadata": {
    "scrolled": true
   },
   "outputs": [],
   "source": [
    "sq.pl.spatial_scatter(\n",
    "    adata_subset,\n",
    "    color=bot_autocorr,\n",
    "    size=40,\n",
    "    library_id=\"16\",\n",
    "    cmap='Reds',\n",
    "    img=False,\n",
    "    figsize=(5,5)\n",
    ")"
   ]
  },
  {
   "cell_type": "code",
   "execution_count": null,
   "id": "ffa79b2b",
   "metadata": {
    "scrolled": true
   },
   "outputs": [],
   "source": [
    "# top cell types based on average expression of top_autocorr genes\n",
    "sig_leiden.loc[top_autocorr].mean(axis=0).sort_values(ascending=False).index.tolist()[:5]"
   ]
  },
  {
   "cell_type": "code",
   "execution_count": null,
   "id": "7a318559",
   "metadata": {
    "scrolled": true
   },
   "outputs": [],
   "source": [
    "# top cell types based on average expression of bot_autocorr genes\n",
    "all_clusters = [x for x in meta_leiden.index.tolist() if 'Hepatocyte' in x]\n",
    "sig_leiden.columns = meta_leiden.index.tolist()\n",
    "sig_leiden.loc[bot_autocorr].mean(axis=0).sort_values(ascending=False).index.tolist()[:5]"
   ]
  },
  {
   "cell_type": "markdown",
   "id": "40fb4f89",
   "metadata": {},
   "source": [
    "Ligand-receptor interaction analysis"
   ]
  },
  {
   "cell_type": "code",
   "execution_count": null,
   "id": "83e758ed",
   "metadata": {
    "scrolled": true
   },
   "outputs": [],
   "source": [
    "sq.gr.ligrec(\n",
    "    adata,\n",
    "    n_perms=100,\n",
    "    cluster_key=\"leiden\",\n",
    "    use_raw=False\n",
    ")"
   ]
  },
  {
   "cell_type": "code",
   "execution_count": null,
   "id": "493ad4ee",
   "metadata": {
    "scrolled": true
   },
   "outputs": [],
   "source": [
    "sq.gr.ligrec(\n",
    "    adata_subset,\n",
    "    n_perms=100,\n",
    "    cluster_key=\"leiden\",\n",
    "    use_raw=False\n",
    ")"
   ]
  },
  {
   "cell_type": "code",
   "execution_count": null,
   "id": "f405afe9",
   "metadata": {
    "scrolled": true
   },
   "outputs": [],
   "source": [
    "sq.pl.ligrec(\n",
    "    adata_subset,\n",
    "    cluster_key=\"leiden\",\n",
    "    source_groups=\"1\",\n",
    "    target_groups=[\"2\", \"11\"],\n",
    "    means_range=(0.3, np.inf),\n",
    "    alpha=1e-4,\n",
    "    swap_axes=True,\n",
    ")"
   ]
  },
  {
   "cell_type": "code",
   "execution_count": null,
   "id": "31441a04",
   "metadata": {
    "scrolled": true
   },
   "outputs": [],
   "source": []
  }
 ],
 "metadata": {
  "kernelspec": {
   "display_name": "Python 3 (ipykernel)",
   "language": "python",
   "name": "python3"
  },
  "language_info": {
   "codemirror_mode": {
    "name": "ipython",
    "version": 3
   },
   "file_extension": ".py",
   "mimetype": "text/x-python",
   "name": "python",
   "nbconvert_exporter": "python",
   "pygments_lexer": "ipython3",
   "version": "3.9.12"
  },
  "nbproject": {
   "id": "7WInxDEsPemT",
   "parent": null,
   "pypackage": null,
   "time_init": "2023-01-18T10:21:12.001709+00:00",
   "user_handle": null,
   "user_id": null,
   "user_name": null,
   "version": "0"
  }
 },
 "nbformat": 4,
 "nbformat_minor": 5
}
