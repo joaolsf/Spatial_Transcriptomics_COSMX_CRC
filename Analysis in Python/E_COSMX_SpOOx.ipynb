{
 "cells": [
  {
   "cell_type": "markdown",
   "id": "553d9732",
   "metadata": {},
   "source": [
    "# Imports"
   ]
  },
  {
   "cell_type": "code",
   "execution_count": 1,
   "id": "b55ec9f7",
   "metadata": {},
   "outputs": [],
   "source": [
    "import spatial2\n",
    "import utils\n",
    "import anndata as ad\n",
    "import pandas as pd\n",
    "import os"
   ]
  },
  {
   "cell_type": "markdown",
   "id": "40a3914a",
   "metadata": {},
   "source": [
    "# Load AnnData"
   ]
  },
  {
   "cell_type": "code",
   "execution_count": 2,
   "id": "0e7e075c",
   "metadata": {},
   "outputs": [
    {
     "name": "stderr",
     "output_type": "stream",
     "text": [
      "/Users/joaoluizsfilho/opt/anaconda3/envs/Squidpy/lib/python3.9/site-packages/anndata/_core/anndata.py:121: ImplicitModificationWarning: Transforming to str index.\n",
      "  warnings.warn(\"Transforming to str index.\", ImplicitModificationWarning)\n"
     ]
    }
   ],
   "source": [
    "# load main adata\n",
    "adata = ad.read_h5ad('./4_h5ad_files/adata_fov_integrated_spoox.h5ad')"
   ]
  },
  {
   "cell_type": "code",
   "execution_count": null,
   "id": "a32ab013",
   "metadata": {},
   "outputs": [],
   "source": [
    "adata.obs"
   ]
  },
  {
   "cell_type": "code",
   "execution_count": null,
   "id": "a2e2c17a",
   "metadata": {},
   "outputs": [],
   "source": [
    "adata.obs['sample_ID']"
   ]
  },
  {
   "cell_type": "code",
   "execution_count": null,
   "id": "fc40d11f",
   "metadata": {},
   "outputs": [],
   "source": [
    "# Adding HIV status \n",
    "anno = pd.read_csv(filepath_or_buffer='./cellID.csv', index_col=0)"
   ]
  },
  {
   "cell_type": "code",
   "execution_count": null,
   "id": "f40b844e",
   "metadata": {},
   "outputs": [],
   "source": [
    "anno.index"
   ]
  },
  {
   "cell_type": "code",
   "execution_count": null,
   "id": "9afe1db8",
   "metadata": {
    "scrolled": true
   },
   "outputs": [],
   "source": [
    "adata.obs.index"
   ]
  },
  {
   "cell_type": "code",
   "execution_count": null,
   "id": "558164d8",
   "metadata": {},
   "outputs": [],
   "source": [
    "adata.obs['Master_Index'] = anno.index"
   ]
  },
  {
   "cell_type": "code",
   "execution_count": null,
   "id": "c480485b",
   "metadata": {},
   "outputs": [],
   "source": [
    "adata.obs.index = adata.obs['Master_Index']"
   ]
  },
  {
   "cell_type": "code",
   "execution_count": null,
   "id": "395684ca",
   "metadata": {},
   "outputs": [],
   "source": [
    "adata.obs"
   ]
  },
  {
   "cell_type": "code",
   "execution_count": null,
   "id": "b0919005",
   "metadata": {},
   "outputs": [],
   "source": [
    "adata.write('./4_h5ad_files/adata_fov_integrated_spoox.h5ad')"
   ]
  },
  {
   "cell_type": "code",
   "execution_count": null,
   "id": "fb671c86",
   "metadata": {},
   "outputs": [],
   "source": []
  },
  {
   "cell_type": "markdown",
   "id": "89bf8264",
   "metadata": {},
   "source": [
    "# <font color=blue>SpOOx pipeline</font>\n",
    "\n",
    "This will run the 'spatial statistics' component of the SpOOx analysis pipeline on an AnnData object. You can find more information here: https://github.com/Taylor-CCB-Group/SpOOx/tree/main/src/spatialstats\n",
    "\n",
    "This can take quite a while to run, depending on the number of ROIs\n",
    "\n",
    "Any errors in running functions will be saved in _errors.csv_\n",
    "\n",
    "There several extra parameters - run _spatial.run_spoox?_ to see the function help\n",
    "\n",
    "## Parameters\n",
    "\n",
    "##### adata\n",
    "    AnnData object, or path (string) to a saved h5ad file.\n",
    "##### population_obs\n",
    "    The .obs that defines the population for each cell    \n",
    "##### groupby\n",
    "    If specifed, should be a .obs that identifies different groups in the data.\n",
    "    In the summary step, it will then summarise the analyses at the levels of the different groups.     \n",
    "##### samples\n",
    "    Specify a list of samples, by default will process all samples    \n",
    "##### specify_functions\n",
    "    By default will run the follow functions from the Spoox pipeline: \n",
    "    paircorrelationfunction morueta-holme networkstatistics \n",
    "    \n",
    "    This is a complete list that will be run if 'all' is used: \n",
    "        paircorrelationfunction\n",
    "        localclusteringheatmaps\n",
    "        celllocationmap\n",
    "        contourplots\n",
    "        quadratcounts\n",
    "        quadratcelldistributions\n",
    "        morueta-holme\n",
    "        networkstatistics        \n",
    "##### run_analysis\n",
    "    Whether or not to run the analyis, or just create the spatialstats file    \n",
    "##### analyse_samples_together\n",
    "    Whether to analyse all samples together    \n",
    "##### summary\n",
    "    Whether to run summary script\n",
    "\n",
    "## Returns\n",
    "Creates two folders with outputs of SpOOx pipeline - **spooxout** and **spooxout_summary** by default\n",
    "        \n"
   ]
  },
  {
   "cell_type": "code",
   "execution_count": null,
   "id": "fe84bdf3",
   "metadata": {
    "scrolled": true
   },
   "outputs": [],
   "source": [
    "# edit function\n",
    "# create spooxout and spooxout_summary directories\n",
    "spatial2.run_spoox(adata, \n",
    "                  population_obs='CIPR_ordered_clusters', #Define which population to use from adata.obs\n",
    "                  groupby = 'Epithelial_cluster', #Which column in the adata.obs that defines the groups\n",
    "                  specify_functions = 'paircorrelationfunction morueta-holme' , masks_source_directory=None)"
   ]
  },
  {
   "cell_type": "markdown",
   "id": "1deb859d",
   "metadata": {},
   "source": [
    "# Load in SpOOx summary data"
   ]
  },
  {
   "cell_type": "code",
   "execution_count": null,
   "id": "38203f3a",
   "metadata": {},
   "outputs": [],
   "source": [
    "data = pd.read_csv('spooxout_summary/summary.tsv', sep='\\t') #Location to the 'summary.tsv' that Spoox makes"
   ]
  },
  {
   "cell_type": "markdown",
   "id": "04239168",
   "metadata": {},
   "source": [
    "# Heatmaps of SpOOx outputs"
   ]
  },
  {
   "cell_type": "code",
   "execution_count": null,
   "id": "e0f1cf19",
   "metadata": {},
   "outputs": [],
   "source": [
    "spatial2.create_spoox_heatmaps?"
   ]
  },
  {
   "cell_type": "code",
   "execution_count": null,
   "id": "228268e8",
   "metadata": {},
   "outputs": [],
   "source": [
    "import os\n",
    "spatial2.create_spoox_heatmaps(data)"
   ]
  },
  {
   "cell_type": "markdown",
   "id": "e32ab817",
   "metadata": {},
   "source": [
    "# Adjacency cell networks"
   ]
  },
  {
   "cell_type": "code",
   "execution_count": null,
   "id": "b101a7a8",
   "metadata": {},
   "outputs": [],
   "source": [
    "spatial.create_network_graphs?"
   ]
  },
  {
   "cell_type": "code",
   "execution_count": null,
   "id": "e808c6ab",
   "metadata": {},
   "outputs": [],
   "source": [
    "spatial2.create_network_graphs(data, fig_size=(10,10), layout_type='circular')"
   ]
  },
  {
   "cell_type": "markdown",
   "id": "11059d23",
   "metadata": {},
   "source": [
    "## Plot specifc pop of interest"
   ]
  },
  {
   "cell_type": "code",
   "execution_count": null,
   "id": "22ef8395",
   "metadata": {},
   "outputs": [],
   "source": [
    "spatial2.create_network_graphs(\n",
    "    data, \n",
    "    fig_size=(3,3), \n",
    "    edge_scale=2, \n",
    "    draw_labels=True,\n",
    "    figure_box=False, filters={'MH_FDR_less': 0.05},\n",
    "    add_legend=False, edge_color_column='MH_SES',\n",
    "    center_cell_population='Activated Endothelial cell',\n",
    "    layout_type='kamada_kawai',\n",
    ")"
   ]
  },
  {
   "cell_type": "markdown",
   "id": "12b3d4c2",
   "metadata": {},
   "source": [
    "## Plot avoidance and enrichment\n",
    "This doesn't add a lot extra over the MH data alone, as the GR / PCF data is not used to filter the data"
   ]
  },
  {
   "cell_type": "code",
   "execution_count": null,
   "id": "68c2c2b3",
   "metadata": {
    "scrolled": true
   },
   "outputs": [],
   "source": [
    "spatial2.create_network_graphs(data, fig_size=(10,10),\n",
    "                             filters={'MH_FDR_less': 0.05},\n",
    "                             edge_color_column='MH_SES',\n",
    "                             edge_color_map='coolwarm', layout_type='circular')   "
   ]
  },
  {
   "cell_type": "code",
   "execution_count": null,
   "id": "170db693",
   "metadata": {},
   "outputs": [],
   "source": []
  }
 ],
 "metadata": {
  "kernelspec": {
   "display_name": "Python 3 (ipykernel)",
   "language": "python",
   "name": "python3"
  },
  "language_info": {
   "codemirror_mode": {
    "name": "ipython",
    "version": 3
   },
   "file_extension": ".py",
   "mimetype": "text/x-python",
   "name": "python",
   "nbconvert_exporter": "python",
   "pygments_lexer": "ipython3",
   "version": "3.9.13"
  }
 },
 "nbformat": 4,
 "nbformat_minor": 5
}
